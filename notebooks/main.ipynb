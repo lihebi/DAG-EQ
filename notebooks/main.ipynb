{
 "cells": [
  {
   "cell_type": "code",
   "execution_count": null,
   "metadata": {},
   "outputs": [],
   "source": [
    "versioninfo()"
   ]
  },
  {
   "cell_type": "code",
   "execution_count": null,
   "metadata": {},
   "outputs": [],
   "source": [
    "g=6.0\n",
    "ENV[\"JULIA_CUDA_MEMORY_LIMIT\"] = convert(Int, round(g * 1024 * 1024 * 1024))"
   ]
  },
  {
   "cell_type": "code",
   "execution_count": null,
   "metadata": {},
   "outputs": [],
   "source": [
    "ENV[\"JULIA_DEBUG\"]=\"all\""
   ]
  },
  {
   "cell_type": "markdown",
   "metadata": {},
   "source": [
    "# New version of main\n",
    "\n",
    "- [X] refactor the code of main1\n",
    "- [X] use seeding\n",
    "- [X] pre-gen graphs and splitting\n",
    "- [X] use cloud GPU for training\n",
    "- [X] I don't need correlation experiments anymore"
   ]
  },
  {
   "cell_type": "code",
   "execution_count": null,
   "metadata": {},
   "outputs": [],
   "source": [
    "1+2"
   ]
  },
  {
   "cell_type": "code",
   "execution_count": null,
   "metadata": {},
   "outputs": [],
   "source": [
    "include(\"../src/main.jl\")"
   ]
  },
  {
   "cell_type": "code",
   "execution_count": null,
   "metadata": {
    "scrolled": true,
    "tags": []
   },
   "outputs": [],
   "source": [
    "main_data()"
   ]
  },
  {
   "cell_type": "code",
   "execution_count": null,
   "metadata": {},
   "outputs": [],
   "source": [
    "main_ngraph()"
   ]
  },
  {
   "cell_type": "code",
   "execution_count": null,
   "metadata": {},
   "outputs": [],
   "source": [
    "main_ersf124()"
   ]
  },
  {
   "cell_type": "code",
   "execution_count": null,
   "metadata": {},
   "outputs": [],
   "source": [
    "main_ch3()"
   ]
  },
  {
   "cell_type": "code",
   "execution_count": null,
   "metadata": {},
   "outputs": [],
   "source": [
    "function main_cnn()\n",
    "    for d in [10,20,50],\n",
    "        (prefix, model_fn,nsteps) in [\n",
    "#             (\"CNN\", ()->cnn_model(2), 3e4),\n",
    "            (\"CNN2-$(now())\", ()->cnn_model(2, 128, (5,5), (2,2)), 3e4),\n",
    "#             (\"CNN2\", ()->cnn_model(2, 128, (3,3), (1,1)), 3e4)\n",
    "        ]\n",
    "        \n",
    "        specs = []\n",
    "        for gtype in [:ER, :SF],\n",
    "            k in [1]\n",
    "            push!(specs, DataSpec(d=d, k=k, gtype=gtype,\n",
    "                    noise=:Gaussian, mat=:CH3,\n",
    "                    ng=10000, N=1))\n",
    "        end\n",
    "        specs = Array{DataSpec}(specs)\n",
    "        \n",
    "        # print more frequently for CNN and FC to get more data to print\n",
    "        test_throttle = if prefix == \"EQ2\" 10 else 1 end\n",
    "\n",
    "        @info \"training ..\" prefix d\n",
    "        expID = exp_train(specs, model_fn,\n",
    "                          # TODO I'll need to increase the training steps here\n",
    "                          # CAUTION feed in the gtype in the model prefix\n",
    "                          prefix=\"$prefix-ERSF-k1-d=$d\", train_steps=nsteps,\n",
    "                          test_throttle = test_throttle,\n",
    "                          merge=true)\n",
    "    end\n",
    "end"
   ]
  },
  {
   "cell_type": "code",
   "execution_count": null,
   "metadata": {},
   "outputs": [],
   "source": [
    "main_cnn()"
   ]
  },
  {
   "cell_type": "code",
   "execution_count": null,
   "metadata": {},
   "outputs": [],
   "source": [
    "main_mat()"
   ]
  },
  {
   "cell_type": "code",
   "execution_count": null,
   "metadata": {},
   "outputs": [],
   "source": [
    "main_ensemble_d()"
   ]
  },
  {
   "cell_type": "markdown",
   "metadata": {},
   "source": [
    "# DEBUG"
   ]
  },
  {
   "cell_type": "code",
   "execution_count": null,
   "metadata": {},
   "outputs": [],
   "source": [
    "main()"
   ]
  },
  {
   "cell_type": "markdown",
   "metadata": {},
   "source": [
    "Ensemble\n",
    "\n",
    "- [ ] I actually probably want to merge the datasets with the same d.\n",
    "  This is because, I can merge the data to be more evenly distributed to fit the model.\n",
    "- [ ] I probably want to adjust batch size to speed it up"
   ]
  },
  {
   "cell_type": "code",
   "execution_count": null,
   "metadata": {},
   "outputs": [],
   "source": [
    "model = eq_model_fn() |> gpu"
   ]
  },
  {
   "cell_type": "code",
   "execution_count": null,
   "metadata": {},
   "outputs": [],
   "source": [
    "ds, test_ds = spec2ds(DataSpec(d=20, k=1, gtype=:ER,\n",
    "                    noise=:Gaussian, mat=:COV))"
   ]
  },
  {
   "cell_type": "code",
   "execution_count": null,
   "metadata": {},
   "outputs": [],
   "source": [
    "x, y = next_batch!(test_ds) |> gpu\n",
    "\n",
    "@show size(x)\n",
    "@show size(y)"
   ]
  },
  {
   "cell_type": "code",
   "execution_count": null,
   "metadata": {},
   "outputs": [],
   "source": [
    "model(x)"
   ]
  },
  {
   "cell_type": "markdown",
   "metadata": {},
   "source": [
    "# model params"
   ]
  },
  {
   "cell_type": "code",
   "execution_count": null,
   "metadata": {},
   "outputs": [],
   "source": [
    "include(\"main.jl\")"
   ]
  },
  {
   "cell_type": "code",
   "execution_count": null,
   "metadata": {},
   "outputs": [],
   "source": [
    "import Printf"
   ]
  },
  {
   "cell_type": "code",
   "execution_count": null,
   "metadata": {},
   "outputs": [],
   "source": [
    "function test_size()\n",
    "    # model size\n",
    "    @info \"FC model\"\n",
    "    for d in [10,20,50,100]\n",
    "        Printf.@printf \"%.2f\\n\" param_count(fc_model_fn(d)) / 1e6\n",
    "    end\n",
    "    @info \"FC deep model\"\n",
    "    for d in [7, 10,15,20,25,30]\n",
    "        Printf.@printf \"%.2f\\n\" param_count(deep_fc_model_fn(d)) / 1e6\n",
    "    end\n",
    "    # EQ models is independent of input size\n",
    "    @info \"EQ model\"\n",
    "    Printf.@printf \"%.2f\\n\" param_count(eq_model_fn(10)) / 1e6\n",
    "    Printf.@printf \"%.2f\\n\" param_count(deep_eq_model_fn(10)) / 1e6\n",
    "end"
   ]
  },
  {
   "cell_type": "code",
   "execution_count": null,
   "metadata": {},
   "outputs": [],
   "source": [
    "            (\"EQ2\", eq2_model_fn, 3e4),\n",
    "            (\"FC\", ()->fc_model(d=d, ch=2, z=1024, nlayer=6), 3e4),\n",
    "            (\"FCreg\", ()->fc_model(d=d, ch=2, z=1024, nlayer=6, reg=true), 3e4),\n",
    "            (\"CNN\", ()->cnn_model(2), 3e4)"
   ]
  },
  {
   "cell_type": "code",
   "execution_count": null,
   "metadata": {},
   "outputs": [],
   "source": [
    "for d in [10,20,50,100]\n",
    "    Printf.@printf \"%.2f\\n\" param_count(fc_model(d=d, ch=2, z=1024, nlayer=6)) / 1e6\n",
    "end"
   ]
  },
  {
   "cell_type": "code",
   "execution_count": null,
   "metadata": {},
   "outputs": [],
   "source": [
    "Printf.@printf \"%.2f\\n\" param_count(eq2_model_fn()) / 1e6"
   ]
  },
  {
   "cell_type": "code",
   "execution_count": null,
   "metadata": {},
   "outputs": [],
   "source": [
    "Printf.@printf \"%.2f\\n\" param_count(eq_model_fn()) / 1e6"
   ]
  },
  {
   "cell_type": "code",
   "execution_count": null,
   "metadata": {},
   "outputs": [],
   "source": [
    "Printf.@printf \"%.2f\\n\" param_count(cnn_model(2)) / 1e6"
   ]
  },
  {
   "cell_type": "code",
   "execution_count": null,
   "metadata": {},
   "outputs": [],
   "source": []
  },
  {
   "cell_type": "code",
   "execution_count": null,
   "metadata": {},
   "outputs": [],
   "source": [
    "Printf.@printf \"%.2f\\n\" param_count(cnn_model(1, 32)) / 1e6"
   ]
  },
  {
   "cell_type": "code",
   "execution_count": null,
   "metadata": {},
   "outputs": [],
   "source": [
    "Printf.@printf \"%.2f\\n\" param_count(cnn_model(2, 32)) / 1e6"
   ]
  },
  {
   "cell_type": "code",
   "execution_count": null,
   "metadata": {},
   "outputs": [],
   "source": [
    "Printf.@printf \"%.2f\\n\" param_count(cnn_model(2, 64)) / 1e6"
   ]
  },
  {
   "cell_type": "code",
   "execution_count": null,
   "metadata": {},
   "outputs": [],
   "source": [
    "Printf.@printf \"%.2f\\n\" param_count(cnn_model(2, 128)) / 1e6"
   ]
  },
  {
   "cell_type": "code",
   "execution_count": null,
   "metadata": {},
   "outputs": [],
   "source": [
    "Printf.@printf \"%.2f\\n\" param_count(cnn_model(2, 32, (5,5), (2,2))) / 1e6"
   ]
  },
  {
   "cell_type": "code",
   "execution_count": null,
   "metadata": {},
   "outputs": [],
   "source": [
    "Printf.@printf \"%.2f\\n\" param_count(cnn_model(2, 64, (5,5), (2,2))) / 1e6"
   ]
  },
  {
   "cell_type": "code",
   "execution_count": null,
   "metadata": {},
   "outputs": [],
   "source": [
    "Printf.@printf \"%.2f\\n\" param_count(cnn_model(2, 128, (5,5), (2,2))) / 1e6"
   ]
  },
  {
   "cell_type": "markdown",
   "metadata": {},
   "source": [
    "# Test ERSF124 on individual types"
   ]
  },
  {
   "cell_type": "code",
   "execution_count": null,
   "metadata": {},
   "outputs": [],
   "source": []
  },
  {
   "cell_type": "code",
   "execution_count": null,
   "metadata": {},
   "outputs": [],
   "source": [
    "function test_ersf124()\n",
    "    for d in [10, 20],\n",
    "        types in [(:ER, :SF), (:ER2, :SF2), (:ER4, :SF4)]\n",
    "        \n",
    "        ID = \"EQ2-ERSF124-d=$d-ensemble\"\n",
    "\n",
    "        specs = []\n",
    "\n",
    "        for gtype in types,\n",
    "            k in [1]\n",
    "            push!(specs, DataSpec(d=d, k=k, gtype=gtype,\n",
    "                                  noise=:Gaussian, mat=:CH3))\n",
    "        end\n",
    "        specs = Array{DataSpec}(specs)\n",
    "\n",
    "        exp_test(ID, specs, \"TEST-types=$types\")\n",
    "    end\n",
    "end"
   ]
  },
  {
   "cell_type": "code",
   "execution_count": null,
   "metadata": {},
   "outputs": [],
   "source": [
    "test_ersf124()"
   ]
  },
  {
   "cell_type": "markdown",
   "metadata": {},
   "source": [
    "# Test d=100 model on d=100,200,300,400"
   ]
  },
  {
   "cell_type": "code",
   "execution_count": null,
   "metadata": {},
   "outputs": [],
   "source": [
    "include(\"../src/main.jl\")"
   ]
  },
  {
   "cell_type": "code",
   "execution_count": null,
   "metadata": {},
   "outputs": [],
   "source": [
    "exp_test"
   ]
  },
  {
   "cell_type": "code",
   "execution_count": null,
   "metadata": {},
   "outputs": [],
   "source": [
    "function test_large_d()\n",
    "    for (ID,bsize) in [(\"EQ2-ERSF-k1-d=100-ensemble\", 4),\n",
    "                       (\"EQ2-ERSF-k1-d=200-ng=1000-N=1-ensemble\", 4),\n",
    "                       (\"EQ2-ERSF-k1-d=400-ng=1000-N=1-ensemble\", 4)],\n",
    "        d in [200, 400]\n",
    "\n",
    "        specs = []\n",
    "\n",
    "        for gtype in [:ER, :SF],\n",
    "            k in [1]\n",
    "            push!(specs, DataSpec(d=d, k=k, gtype=gtype,\n",
    "                                  noise=:Gaussian, mat=:CH3,\n",
    "            bsize=bsize))\n",
    "        end\n",
    "        specs = Array{DataSpec}(specs)\n",
    "\n",
    "        exp_test(ID, specs, \"TEST-d=$d\")\n",
    "    end\n",
    "end"
   ]
  },
  {
   "cell_type": "code",
   "execution_count": null,
   "metadata": {},
   "outputs": [],
   "source": [
    "test_large_d()"
   ]
  },
  {
   "cell_type": "markdown",
   "metadata": {},
   "source": [
    "# Test the ensemble model on unseen d"
   ]
  },
  {
   "cell_type": "code",
   "execution_count": null,
   "metadata": {},
   "outputs": [],
   "source": [
    "# can I just run the test without saving? No because loading the main.jl is slow"
   ]
  },
  {
   "cell_type": "code",
   "execution_count": null,
   "metadata": {},
   "outputs": [],
   "source": [
    "include(\"main.jl\")"
   ]
  },
  {
   "cell_type": "code",
   "execution_count": null,
   "metadata": {},
   "outputs": [],
   "source": [
    "function test_unseen_d()\n",
    "    for ID in [\"EQ2-CH3-d=[10,15,20]-ensemble\",\"EQ2-CH3-d=[20,30,40]-ensemble\"],\n",
    "        d in [10, 15, 20, 30, 40, 50, 80, 100]\n",
    "\n",
    "        specs = []\n",
    "\n",
    "        for gtype in [:ER, :SF],\n",
    "            k in [1]\n",
    "            push!(specs, DataSpec(d=d, k=k, gtype=gtype,\n",
    "                                  noise=:Gaussian, mat=:CH3))\n",
    "        end\n",
    "        specs = Array{DataSpec}(specs)\n",
    "\n",
    "        exp_test(ID, specs, \"TEST-d=$d\")\n",
    "    end\n",
    "end"
   ]
  },
  {
   "cell_type": "code",
   "execution_count": null,
   "metadata": {
    "scrolled": true
   },
   "outputs": [],
   "source": [
    "test_unseen_d()"
   ]
  },
  {
   "cell_type": "code",
   "execution_count": null,
   "metadata": {},
   "outputs": [],
   "source": [
    "# test the individual trained models\n",
    "# d=10,15,20\n",
    "# on larger d\n",
    "function test_unseen_d_2()\n",
    "    for ID in [\"EQ2-ERSF-k1-d=10-ensemble\", \"EQ2-ERSF-k1-d=15-ensemble\", \"EQ2-ERSF-k1-d=20-ensemble\"],\n",
    "        d in [10, 15, 20, 30, 40, 50, 80, 100]\n",
    "\n",
    "        specs = []\n",
    "\n",
    "        for gtype in [:ER, :SF],\n",
    "            k in [1]\n",
    "            push!(specs, DataSpec(d=d, k=k, gtype=gtype,\n",
    "                                  noise=:Gaussian, mat=:CH3))\n",
    "        end\n",
    "        specs = Array{DataSpec}(specs)\n",
    "\n",
    "        exp_test(ID, specs, \"TEST-d=$d\")\n",
    "    end\n",
    "end"
   ]
  },
  {
   "cell_type": "code",
   "execution_count": null,
   "metadata": {
    "scrolled": true
   },
   "outputs": [],
   "source": [
    "test_unseen_d_2()"
   ]
  },
  {
   "cell_type": "markdown",
   "metadata": {},
   "source": [
    "# Test on different noise and the tables"
   ]
  },
  {
   "cell_type": "code",
   "execution_count": null,
   "metadata": {},
   "outputs": [],
   "source": [
    "function test_different_noise()\n",
    "    # FIXME OOM for d=100??\n",
    "    for d in [10,20,50,100],\n",
    "        noise in [:Gaussian, :Poisson, :Exp, :Gumbel]\n",
    "\n",
    "        ID = \"EQ2-ERSF-k1-d=$d-ensemble\"\n",
    "\n",
    "        specs = []\n",
    "        for gtype in [:ER, :SF],\n",
    "            k in [1]\n",
    "            push!(specs, DataSpec(d=d, k=k, gtype=gtype,\n",
    "                    noise=noise, mat=:CH3))\n",
    "        end\n",
    "        specs = Array{DataSpec}(specs)\n",
    "        \n",
    "        @info \"Testing on\" ID d noise\n",
    "        exp_test(ID, specs, \"TEST-d=$d-noise=$noise\")\n",
    "    end\n",
    "end"
   ]
  },
  {
   "cell_type": "code",
   "execution_count": null,
   "metadata": {},
   "outputs": [],
   "source": [
    "test_different_noise()"
   ]
  },
  {
   "cell_type": "markdown",
   "metadata": {},
   "source": [
    "# Sachs 2005 experiment"
   ]
  },
  {
   "cell_type": "markdown",
   "metadata": {},
   "source": [
    "## Load and explore the data"
   ]
  },
  {
   "cell_type": "code",
   "execution_count": null,
   "metadata": {},
   "outputs": [],
   "source": [
    "import CSV"
   ]
  },
  {
   "cell_type": "code",
   "execution_count": null,
   "metadata": {},
   "outputs": [],
   "source": [
    "df = CSV.read(\"Sachs/1.cd3cd28.csv\")"
   ]
  },
  {
   "cell_type": "code",
   "execution_count": null,
   "metadata": {},
   "outputs": [],
   "source": [
    "SachsX = convert(Matrix, df)"
   ]
  },
  {
   "cell_type": "code",
   "execution_count": null,
   "metadata": {},
   "outputs": [],
   "source": [
    "include(\"data_graph.jl\")"
   ]
  },
  {
   "cell_type": "code",
   "execution_count": null,
   "metadata": {},
   "outputs": [],
   "source": [
    "SachsG = Sachs_ground_truth()"
   ]
  },
  {
   "cell_type": "code",
   "execution_count": null,
   "metadata": {},
   "outputs": [],
   "source": [
    "myplot(SachsG)"
   ]
  },
  {
   "cell_type": "code",
   "execution_count": null,
   "metadata": {},
   "outputs": [],
   "source": [
    "medcovX = cov(SachsX) ./ median(var(SachsX, dims=1))"
   ]
  },
  {
   "cell_type": "code",
   "execution_count": null,
   "metadata": {},
   "outputs": [],
   "source": [
    "maxcovX = cov(SachsX) ./ maximum(var(SachsX, dims=1))"
   ]
  },
  {
   "cell_type": "code",
   "execution_count": null,
   "metadata": {},
   "outputs": [],
   "source": [
    "corX = cor(SachsX)"
   ]
  },
  {
   "cell_type": "code",
   "execution_count": null,
   "metadata": {},
   "outputs": [],
   "source": [
    "ch2X = getch2(SachsX)"
   ]
  },
  {
   "cell_type": "code",
   "execution_count": null,
   "metadata": {},
   "outputs": [],
   "source": [
    "include(\"exp.jl\")"
   ]
  },
  {
   "cell_type": "markdown",
   "metadata": {},
   "source": [
    "## Load a model"
   ]
  },
  {
   "cell_type": "code",
   "execution_count": null,
   "metadata": {},
   "outputs": [],
   "source": [
    "# load the trained model\n",
    "@load \"saved_models/EQ-d=20_k=1_gtype=SF_noise=Gaussian_mat=medCOV_mec=Linear/step-15000.bson\" model"
   ]
  },
  {
   "cell_type": "code",
   "execution_count": null,
   "metadata": {},
   "outputs": [],
   "source": [
    "@load \"saved_models/EQ-d=10_k=1_gtype=ER_noise=Gaussian_mat=medCOV_mec=Linear/step-15000.bson\" model"
   ]
  },
  {
   "cell_type": "code",
   "execution_count": null,
   "metadata": {},
   "outputs": [],
   "source": [
    "@load \"back/back-0907/CORCOV/EQ-d=10_k=1_gtype=SF_noise=Gaussian_mat=COR_mec=Linear/step-15000.bson\" model"
   ]
  },
  {
   "cell_type": "code",
   "execution_count": null,
   "metadata": {},
   "outputs": [],
   "source": [
    "@load \"saved_models/ensK-2020-09-08T10:58:41.247-ensemble/step-10000.bson\" model"
   ]
  },
  {
   "cell_type": "code",
   "execution_count": null,
   "metadata": {},
   "outputs": [],
   "source": [
    "# The new ensemble model\n",
    "@load \"saved_models/ensemEQ-ICLR-1-ensemble/step-159443.bson\" model"
   ]
  },
  {
   "cell_type": "code",
   "execution_count": null,
   "metadata": {},
   "outputs": [],
   "source": [
    "@load \"saved_models/ensemEQ-CH2-1,2,4-2020-10-11T11:29:01.183-ensemble/step-100000.bson\" model"
   ]
  },
  {
   "cell_type": "markdown",
   "metadata": {},
   "source": [
    "## Evaluate the model"
   ]
  },
  {
   "cell_type": "code",
   "execution_count": null,
   "metadata": {},
   "outputs": [],
   "source": [
    "out = inf_one(model, medcovX)"
   ]
  },
  {
   "cell_type": "code",
   "execution_count": null,
   "metadata": {},
   "outputs": [],
   "source": [
    "out = inf_one(model, corX)"
   ]
  },
  {
   "cell_type": "code",
   "execution_count": null,
   "metadata": {},
   "outputs": [],
   "source": [
    "out = inf_one(model, maxcovX)"
   ]
  },
  {
   "cell_type": "code",
   "execution_count": null,
   "metadata": {},
   "outputs": [],
   "source": [
    "out = inf_one(model, ch2X)"
   ]
  },
  {
   "cell_type": "code",
   "execution_count": null,
   "metadata": {},
   "outputs": [],
   "source": [
    "Wout = threshold(σ.(out), 0.3, true)"
   ]
  },
  {
   "cell_type": "code",
   "execution_count": null,
   "metadata": {},
   "outputs": [],
   "source": [
    "myplot(DiGraph(Wout), names(df))"
   ]
  },
  {
   "cell_type": "code",
   "execution_count": null,
   "metadata": {},
   "outputs": [],
   "source": [
    "# FIXME NOW !!!! the names might not match at all!!!\n",
    "myplot(SachsG, names(df))"
   ]
  },
  {
   "cell_type": "code",
   "execution_count": null,
   "metadata": {},
   "outputs": [],
   "source": [
    "# predicted edge, true edge, SHD\n",
    "predicted_edge = ne(DiGraph(Wout))\n",
    "@show predicted_edge\n",
    "correct_edge = sum(Wout[Wout .== 1] .== adjacency_matrix(SachsG)[Wout .== 1])\n",
    "@show correct_edge\n",
    "\n",
    "# metrics\n",
    "ytrue = Matrix(gen_weights(SachsG))\n",
    "sup_graph_metrics(Wout, ytrue)"
   ]
  },
  {
   "cell_type": "code",
   "execution_count": null,
   "metadata": {},
   "outputs": [],
   "source": [
    "# TODO calculate #reverse direction edges\n",
    "sum(Wout[Wout .== 1] .== adjacency_matrix(SachsG)[Wout .== 1])"
   ]
  },
  {
   "cell_type": "code",
   "execution_count": null,
   "metadata": {},
   "outputs": [],
   "source": [
    "sum(Wout'[Wout' .== 1] .== adjacency_matrix(SachsG)[Wout' .== 1])"
   ]
  },
  {
   "cell_type": "code",
   "execution_count": null,
   "metadata": {},
   "outputs": [],
   "source": [
    "# TODO implement the recursive add procedure to remove cycles\n",
    "# Or, just construct the graph, and keep removing until it is a DAG\n",
    "is_cyclic(DiGraph(Wout))"
   ]
  },
  {
   "cell_type": "code",
   "execution_count": null,
   "metadata": {},
   "outputs": [],
   "source": [
    "Wout"
   ]
  },
  {
   "cell_type": "code",
   "execution_count": null,
   "metadata": {},
   "outputs": [],
   "source": [
    "# Or just implement the procedure\n",
    "out"
   ]
  },
  {
   "cell_type": "markdown",
   "metadata": {},
   "source": [
    "## Adding non-cyclic procedure"
   ]
  },
  {
   "cell_type": "code",
   "execution_count": null,
   "metadata": {},
   "outputs": [],
   "source": [
    "Wout2 = threshold(σ.(out), 0.3, false)"
   ]
  },
  {
   "cell_type": "code",
   "execution_count": null,
   "metadata": {},
   "outputs": [],
   "source": [
    "# find the order of the index, or, sort the indexes\n",
    "sort(Wout2, dims=1)"
   ]
  },
  {
   "cell_type": "code",
   "execution_count": null,
   "metadata": {},
   "outputs": [],
   "source": [
    "edgeidx = findall((x)->x>0, Wout2)"
   ]
  },
  {
   "cell_type": "code",
   "execution_count": null,
   "metadata": {},
   "outputs": [],
   "source": [
    "sorted_idx = edgeidx[sortperm(Wout2[edgeidx], rev=true)]"
   ]
  },
  {
   "cell_type": "code",
   "execution_count": null,
   "metadata": {},
   "outputs": [],
   "source": [
    "Wout2"
   ]
  },
  {
   "cell_type": "code",
   "execution_count": null,
   "metadata": {},
   "outputs": [],
   "source": [
    "# add sorted idx\n",
    "g = MetaDiGraph(11)\n",
    "for idx in sorted_idx\n",
    "    add_edge!(g, idx[1], idx[2])\n",
    "    if is_cyclic(g)\n",
    "        rem_edge!(g, idx[1], idx[2])\n",
    "    end\n",
    "end"
   ]
  },
  {
   "cell_type": "code",
   "execution_count": null,
   "metadata": {},
   "outputs": [],
   "source": [
    "p1 = myplot(g, names(df))"
   ]
  },
  {
   "cell_type": "code",
   "execution_count": null,
   "metadata": {},
   "outputs": [],
   "source": [
    "draw(PNG(\"p1.png\"), p1)"
   ]
  },
  {
   "cell_type": "code",
   "execution_count": null,
   "metadata": {},
   "outputs": [],
   "source": [
    "p0 = myplot(SachsG, names(df))"
   ]
  },
  {
   "cell_type": "code",
   "execution_count": null,
   "metadata": {},
   "outputs": [],
   "source": [
    "draw(PNG(\"p0.png\"), p0)"
   ]
  },
  {
   "cell_type": "code",
   "execution_count": null,
   "metadata": {},
   "outputs": [],
   "source": [
    "adj1 = adjacency_matrix(g)\n",
    "adj0 = adjacency_matrix(SachsG)\n",
    "# predicted edge, true edge, SHD\n",
    "predicted_edge = ne(g)\n",
    "@show predicted_edge\n",
    "correct_edge = sum(adj1[adj1 .== 1] .== adj0[adj1 .== 1])\n",
    "@show correct_edge\n",
    "reversed_edge = sum(adj1'[adj1' .== 1] .== adj0[adj1' .== 1])\n",
    "@show reversed_edge\n",
    "\n",
    "# metrics\n",
    "ytrue = Matrix(gen_weights(SachsG))\n",
    "sup_graph_metrics(adj1, ytrue)"
   ]
  },
  {
   "cell_type": "markdown",
   "metadata": {},
   "source": [
    "## More data\n",
    "\n",
    "- [ ] goblinop's gaussian data (just for test)\n",
    "- [ ] bnlearn's continous data\n",
    "- [ ] discrete data?"
   ]
  },
  {
   "cell_type": "markdown",
   "metadata": {},
   "source": [
    "### goblinop's (??) gaussian data"
   ]
  },
  {
   "cell_type": "code",
   "execution_count": null,
   "metadata": {},
   "outputs": [],
   "source": [
    "import CSV"
   ]
  },
  {
   "cell_type": "code",
   "execution_count": null,
   "metadata": {},
   "outputs": [],
   "source": [
    "df = CSV.read(\"data-back/gaussian.dat\", delim=\" \")"
   ]
  },
  {
   "cell_type": "code",
   "execution_count": null,
   "metadata": {},
   "outputs": [],
   "source": [
    "X = convert(Matrix, df)"
   ]
  },
  {
   "cell_type": "code",
   "execution_count": null,
   "metadata": {},
   "outputs": [],
   "source": [
    "include(\"data_graph.jl\")"
   ]
  },
  {
   "cell_type": "code",
   "execution_count": null,
   "metadata": {},
   "outputs": [],
   "source": [
    "maxcovX = cov(X) ./ maximum(var(X, dims=1))"
   ]
  },
  {
   "cell_type": "code",
   "execution_count": null,
   "metadata": {},
   "outputs": [],
   "source": [
    "include(\"exp.jl\")"
   ]
  },
  {
   "cell_type": "code",
   "execution_count": null,
   "metadata": {},
   "outputs": [],
   "source": [
    "# The new ensemble model\n",
    "@load \"saved_models/ensemEQ-ICLR-1-ensemble/step-159443.bson\" model"
   ]
  },
  {
   "cell_type": "code",
   "execution_count": null,
   "metadata": {},
   "outputs": [],
   "source": [
    "out = inf_one(model, maxcovX)"
   ]
  },
  {
   "cell_type": "code",
   "execution_count": null,
   "metadata": {},
   "outputs": [],
   "source": [
    "Wout2 = threshold(σ.(out), 0.3, false)"
   ]
  },
  {
   "cell_type": "code",
   "execution_count": null,
   "metadata": {},
   "outputs": [],
   "source": [
    "# find the order of the index, or, sort the indexes\n",
    "sort(Wout2, dims=1)"
   ]
  },
  {
   "cell_type": "code",
   "execution_count": null,
   "metadata": {},
   "outputs": [],
   "source": [
    "edgeidx = findall((x)->x>0, Wout2)"
   ]
  },
  {
   "cell_type": "code",
   "execution_count": null,
   "metadata": {},
   "outputs": [],
   "source": [
    "sorted_idx = edgeidx[sortperm(Wout2[edgeidx], rev=true)]"
   ]
  },
  {
   "cell_type": "code",
   "execution_count": null,
   "metadata": {},
   "outputs": [],
   "source": [
    "Wout2"
   ]
  },
  {
   "cell_type": "code",
   "execution_count": null,
   "metadata": {},
   "outputs": [],
   "source": [
    "size(X,2)"
   ]
  },
  {
   "cell_type": "code",
   "execution_count": null,
   "metadata": {},
   "outputs": [],
   "source": [
    "# add sorted idx\n",
    "g = MetaDiGraph(size(X,2))\n",
    "for idx in sorted_idx\n",
    "    add_edge!(g, idx[1], idx[2])\n",
    "    if is_cyclic(g)\n",
    "        rem_edge!(g, idx[1], idx[2])\n",
    "    end\n",
    "end"
   ]
  },
  {
   "cell_type": "code",
   "execution_count": null,
   "metadata": {},
   "outputs": [],
   "source": [
    "bnp1 = myplot(g, [\"A\", \"B\", \"C\", \"D\", \"E\", \"F\", \"G\"])"
   ]
  },
  {
   "cell_type": "code",
   "execution_count": null,
   "metadata": {},
   "outputs": [],
   "source": [
    "function bnlearn_ground_truth()\n",
    "    greal = named_graph([:A, :B, :C, :D, :E, :F, :G])\n",
    "    named_graph_add_edge!(greal, :B, :C)\n",
    "    named_graph_add_edge!(greal, :A, :C)\n",
    "    named_graph_add_edge!(greal, :B, :D)\n",
    "    named_graph_add_edge!(greal, :D, :F)\n",
    "    named_graph_add_edge!(greal, :A, :F)\n",
    "    named_graph_add_edge!(greal, :G, :F)\n",
    "    named_graph_add_edge!(greal, :E, :F)\n",
    "    greal\n",
    "end"
   ]
  },
  {
   "cell_type": "code",
   "execution_count": null,
   "metadata": {},
   "outputs": [],
   "source": [
    "groundG = bnlearn_ground_truth()"
   ]
  },
  {
   "cell_type": "code",
   "execution_count": null,
   "metadata": {},
   "outputs": [],
   "source": [
    "bnp0 = myplot(groundG, [\"A\", \"B\", \"C\", \"D\", \"E\", \"F\", \"G\"])"
   ]
  },
  {
   "cell_type": "code",
   "execution_count": null,
   "metadata": {},
   "outputs": [],
   "source": [
    "draw(PNG(\"bnp0.png\"), bnp0)"
   ]
  },
  {
   "cell_type": "code",
   "execution_count": null,
   "metadata": {},
   "outputs": [],
   "source": [
    "draw(PNG(\"bnp1.png\"), bnp1)"
   ]
  },
  {
   "cell_type": "code",
   "execution_count": null,
   "metadata": {},
   "outputs": [],
   "source": [
    "adj1 = adjacency_matrix(g)\n",
    "adj0 = adjacency_matrix(groundG)\n",
    "# predicted edge, true edge, SHD\n",
    "predicted_edge = ne(g)\n",
    "@show predicted_edge\n",
    "correct_edge = sum(adj1[adj1 .== 1] .== adj0[adj1 .== 1])\n",
    "@show correct_edge\n",
    "reversed_edge = sum(adj1'[adj1' .== 1] .== adj0[adj1' .== 1])\n",
    "@show reversed_edge\n",
    "\n",
    "# metrics\n",
    "ytrue = Matrix(gen_weights(groundG))\n",
    "sup_graph_metrics(adj1, ytrue)"
   ]
  }
 ],
 "metadata": {
  "kernelspec": {
   "display_name": "Julia 1.6.1",
   "language": "julia",
   "name": "julia-1.6"
  },
  "language_info": {
   "file_extension": ".jl",
   "mimetype": "application/julia",
   "name": "julia",
   "version": "1.6.1"
  },
  "toc-autonumbering": true
 },
 "nbformat": 4,
 "nbformat_minor": 4
}
