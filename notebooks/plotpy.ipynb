{
 "cells": [
  {
   "cell_type": "code",
   "execution_count": null,
   "metadata": {},
   "outputs": [],
   "source": [
    "import os"
   ]
  },
  {
   "cell_type": "code",
   "execution_count": null,
   "metadata": {},
   "outputs": [],
   "source": [
    "import tensorflow as tf"
   ]
  },
  {
   "cell_type": "code",
   "execution_count": null,
   "metadata": {},
   "outputs": [],
   "source": [
    "import sys"
   ]
  },
  {
   "cell_type": "code",
   "execution_count": null,
   "metadata": {},
   "outputs": [],
   "source": [
    "import numpy as np"
   ]
  },
  {
   "cell_type": "code",
   "execution_count": null,
   "metadata": {},
   "outputs": [],
   "source": [
    "import matplotlib.pyplot as plt"
   ]
  },
  {
   "cell_type": "code",
   "execution_count": null,
   "metadata": {},
   "outputs": [],
   "source": [
    "import matplotlib"
   ]
  },
  {
   "cell_type": "code",
   "execution_count": null,
   "metadata": {},
   "outputs": [],
   "source": [
    "matplotlib.rc('font', size=15)"
   ]
  },
  {
   "cell_type": "code",
   "execution_count": null,
   "metadata": {},
   "outputs": [],
   "source": [
    "from scipy.interpolate import make_interp_spline, BSpline\n",
    "from scipy.ndimage.filters import gaussian_filter1d"
   ]
  },
  {
   "cell_type": "code",
   "execution_count": null,
   "metadata": {},
   "outputs": [],
   "source": [
    "sys.version"
   ]
  },
  {
   "cell_type": "code",
   "execution_count": null,
   "metadata": {},
   "outputs": [],
   "source": [
    "!pip --version"
   ]
  },
  {
   "cell_type": "code",
   "execution_count": null,
   "metadata": {},
   "outputs": [],
   "source": [
    "def read_tf_data(fs):\n",
    "    steps = []\n",
    "    precs = []\n",
    "    recalls = []\n",
    "    shds = []\n",
    "    losses = []\n",
    "    if type(fs) is not list:\n",
    "        fs = [fs]\n",
    "    for f in fs:\n",
    "        it = tf.compat.v1.train.summary_iterator(f)\n",
    "\n",
    "        # the first seems to be a placeholder\n",
    "        first = next(it)\n",
    "        assert first.step == 0\n",
    "        assert len(first.summary.value) == 0\n",
    "\n",
    "        for e in it:\n",
    "            v = e.summary.value[0]\n",
    "            if v.tag == 'graph/prec':\n",
    "                precs.append(v.simple_value)\n",
    "            elif v.tag == 'graph/recall':\n",
    "                recalls.append(v.simple_value)\n",
    "            elif v.tag == 'graph/v/shd':\n",
    "                shds.append(v.simple_value)\n",
    "            elif v.tag == 'loss':\n",
    "                steps.append(e.step)\n",
    "                losses.append(v.simple_value)\n",
    "            else:\n",
    "                pass\n",
    "    res = {}\n",
    "    steps = np.array(steps)\n",
    "    precs = np.array(precs)\n",
    "    recalls = np.array(recalls)\n",
    "    res['steps'] = steps\n",
    "    res['precs'] = precs\n",
    "    res['recalls'] = recalls\n",
    "    res['losses'] = np.array(losses)\n",
    "    res['shds'] = np.array(shds)\n",
    "    return res"
   ]
  },
  {
   "cell_type": "code",
   "execution_count": null,
   "metadata": {},
   "outputs": [],
   "source": [
    "type([1,2]) == list"
   ]
  },
  {
   "cell_type": "markdown",
   "metadata": {},
   "source": [
    "# compare EQ CNN FC"
   ]
  },
  {
   "cell_type": "code",
   "execution_count": null,
   "metadata": {},
   "outputs": [],
   "source": [
    "def eqcnnfc_tf_name(model, d):\n",
    "    f = 'tensorboard_logs/test-{}-ERSF-k1-d={}-ensemble'.format(model, d)\n",
    "    return sorted([os.path.join(f,x) for x in os.listdir(f)])"
   ]
  },
  {
   "cell_type": "code",
   "execution_count": null,
   "metadata": {},
   "outputs": [],
   "source": [
    "thedata = {}"
   ]
  },
  {
   "cell_type": "code",
   "execution_count": null,
   "metadata": {},
   "outputs": [],
   "source": [
    "for model in ['EQ2', 'CNN', 'FC']:\n",
    "    thedata[model] = {}\n",
    "    for d in [10, 20, 50, 100]:\n",
    "        thedata[model][d] = read_tf_data(eqcnnfc_tf_name(model, d))"
   ]
  },
  {
   "cell_type": "code",
   "execution_count": null,
   "metadata": {},
   "outputs": [],
   "source": [
    "# the numbers\n",
    "# FIXME this is just a place holder. Use the real test.\n",
    "print('ng=, precs, recalls, shd= ')\n",
    "for model in ['EQ2', 'CNN', 'FC']:\n",
    "    for d in [10, 20, 50, 100]:\n",
    "        print('{} & {} & {:.1f} & {:.1f} & {:.1f} \\\\\\\\'\n",
    "                      .format(model, d,\n",
    "                              thedata[model][d]['precs'][-10:].mean()*100,\n",
    "                             thedata[model][d]['recalls'][-10:].mean()*100,\n",
    "                             thedata[model][d]['shds'][-10:].mean()*1))"
   ]
  },
  {
   "cell_type": "markdown",
   "metadata": {},
   "source": [
    "# ERSF 1,2,4"
   ]
  },
  {
   "cell_type": "code",
   "execution_count": null,
   "metadata": {},
   "outputs": [],
   "source": []
  },
  {
   "cell_type": "code",
   "execution_count": null,
   "metadata": {},
   "outputs": [],
   "source": [
    "def ersf124_tf_name(d):\n",
    "    f = 'tensorboard_logs/test-EQ2-ERSF124-d={}-ensemble'.format(d)\n",
    "    return sorted([os.path.join(f,x) for x in os.listdir(f)])"
   ]
  },
  {
   "cell_type": "code",
   "execution_count": null,
   "metadata": {},
   "outputs": [],
   "source": [
    "thedata = {}"
   ]
  },
  {
   "cell_type": "code",
   "execution_count": null,
   "metadata": {},
   "outputs": [],
   "source": [
    "thedata[10] = read_tf_data(ersf124_tf_name(10))"
   ]
  },
  {
   "cell_type": "code",
   "execution_count": null,
   "metadata": {},
   "outputs": [],
   "source": [
    "thedata[20] = read_tf_data(ersf124_tf_name(20))"
   ]
  },
  {
   "cell_type": "code",
   "execution_count": null,
   "metadata": {},
   "outputs": [],
   "source": [
    "# the numbers\n",
    "# FIXME this is just a place holder. Use the real test.\n",
    "print('ng=, precs, recalls, shd= ')\n",
    "for d in [10,20]:\n",
    "    print('{} & {:.1f} & {:.1f} & {:.1f} \\\\\\\\'\n",
    "                  .format(d,\n",
    "                          thedata[d]['precs'][-10:].mean()*100,\n",
    "                         thedata[d]['recalls'][-10:].mean()*100,\n",
    "                         thedata[d]['shds'][-10:].mean()*1))"
   ]
  },
  {
   "cell_type": "markdown",
   "metadata": {},
   "source": [
    "# Test different number of graphs"
   ]
  },
  {
   "cell_type": "code",
   "execution_count": null,
   "metadata": {},
   "outputs": [],
   "source": [
    "def ngraph_tf_name(ng, d, which):\n",
    "    f = 'tensorboard_logs/{}-ngraph-ng={}-d={}-ensemble'.format(which, ng, d)\n",
    "    return sorted([os.path.join(f,x) for x in os.listdir(f)])"
   ]
  },
  {
   "cell_type": "code",
   "execution_count": null,
   "metadata": {},
   "outputs": [],
   "source": [
    "thedata = {}"
   ]
  },
  {
   "cell_type": "code",
   "execution_count": null,
   "metadata": {},
   "outputs": [],
   "source": [
    "for ng in (200,500,1000,2000,5000,10000):\n",
    "    thedata[ng] = {}\n",
    "    thedata[ng]['train'] = read_tf_data(ngraph_tf_name(ng, 20, 'train'))\n",
    "    thedata[ng]['test'] = read_tf_data(ngraph_tf_name(ng, 20, 'test'))"
   ]
  },
  {
   "cell_type": "code",
   "execution_count": null,
   "metadata": {},
   "outputs": [],
   "source": [
    "thedata10 = {}"
   ]
  },
  {
   "cell_type": "code",
   "execution_count": null,
   "metadata": {},
   "outputs": [],
   "source": [
    "for ng in (200,500,1000,2000,5000,10000):\n",
    "    thedata10[ng] = {}\n",
    "    thedata10[ng]['train'] = read_tf_data(ngraph_tf_name(ng, 10, 'train'))\n",
    "    thedata10[ng]['test'] = read_tf_data(ngraph_tf_name(ng, 10, 'test'))"
   ]
  },
  {
   "cell_type": "code",
   "execution_count": null,
   "metadata": {},
   "outputs": [],
   "source": [
    "def smoothed_plot(ax, x, y, label=''):\n",
    "    xnew = np.linspace(x.min(), x.max(), int(round(len(x) / 2)))\n",
    "    spl = make_interp_spline(x, y, k=3)  # type: BSpline\n",
    "    ynew = spl(xnew)\n",
    "    ax.plot(xnew, ynew, label=label)"
   ]
  },
  {
   "cell_type": "code",
   "execution_count": null,
   "metadata": {},
   "outputs": [],
   "source": [
    "def smoothed_plot(ax, x, y, label=''):\n",
    "    ax.plot(x, y, label=label)"
   ]
  },
  {
   "cell_type": "code",
   "execution_count": null,
   "metadata": {},
   "outputs": [],
   "source": [
    "def smoothed_plot(ax, x, y, label='', npoints=None):\n",
    "    if npoints:\n",
    "        idx = range(0, x.size, int(round(x.size / npoints)))\n",
    "    else:\n",
    "        idx = range(0, x.size)\n",
    "    ax.plot(x[idx], y[idx], label=label)"
   ]
  },
  {
   "cell_type": "code",
   "execution_count": null,
   "metadata": {},
   "outputs": [],
   "source": [
    "thedata[200]['train']"
   ]
  },
  {
   "cell_type": "code",
   "execution_count": null,
   "metadata": {},
   "outputs": [],
   "source": [
    "fig, axs = plt.subplots(1,2,figsize=(10,5))\n",
    "for ng in thedata:\n",
    "#     smoothed_plot(axs[0], thedata[ng]['test']['steps'], thedata[ng]['test']['precs'], label='ng={}'.format(ng), npoints=100)\n",
    "#     smoothed_plot(axs[1], thedata[ng]['steps'], thedata[ng]['recalls'], label='ng={}'.format(ng), npoints=100)\n",
    "    smoothed_plot(axs[0], thedata[ng]['train']['steps'], thedata[ng]['train']['losses'], label='ng={}'.format(ng), npoints=100)\n",
    "    smoothed_plot(axs[1], thedata[ng]['test']['steps'], thedata[ng]['test']['losses'], label='ng={}'.format(ng), npoints=100)\n",
    "\n",
    "axs[0].set_xlabel('steps')\n",
    "axs[0].set_ylabel('loss')\n",
    "axs[0].legend()\n",
    "\n",
    "axs[1].set_xlabel('steps')\n",
    "axs[1].set_ylabel('loss')\n",
    "axs[1].legend()\n",
    "\n",
    "axs[0].set_title('Training Loss')\n",
    "axs[1].set_title('Testing Loss')\n",
    "plt.savefig('results/ngraph.pdf')"
   ]
  },
  {
   "cell_type": "code",
   "execution_count": null,
   "metadata": {},
   "outputs": [],
   "source": [
    "# the numbers\n",
    "# FIXME this is just a place holder. Use the real test.\n",
    "print('ng=, precs, recalls, shd= ')\n",
    "for ng in thedata:\n",
    "    print('20 & {} & {:.1f} & {:.1f} & {:.1f} \\\\\\\\'\n",
    "                  .format(ng,\n",
    "                          thedata[ng]['test']['precs'][-10:].mean()*100,\n",
    "                         thedata[ng]['test']['recalls'][-10:].mean()*100,\n",
    "                         thedata[ng]['test']['shds'][-10:].mean()*1))"
   ]
  },
  {
   "cell_type": "code",
   "execution_count": null,
   "metadata": {},
   "outputs": [],
   "source": [
    "# the numbers\n",
    "# FIXME this is just a place holder. Use the real test.\n",
    "print('ng=, precs, recalls, shd= ')\n",
    "for ng in thedata10:\n",
    "    print('{} & 10 & {:.1f} & {:.1f} & {:.1f} &'\n",
    "                  .format(ng,\n",
    "                          thedata10[ng]['test']['precs'][-10:].mean()*100,\n",
    "                         thedata10[ng]['test']['recalls'][-10:].mean()*100,\n",
    "                         thedata10[ng]['test']['shds'][-10:].mean()*1))\n",
    "    print('   20 & {:.1f} & {:.1f} & {:.1f} \\\\\\\\'\n",
    "                  .format(\n",
    "                          thedata[ng]['test']['precs'][-10:].mean()*100,\n",
    "                         thedata[ng]['test']['recalls'][-10:].mean()*100,\n",
    "                         thedata[ng]['test']['shds'][-10:].mean()*1))"
   ]
  },
  {
   "cell_type": "markdown",
   "metadata": {},
   "source": [
    "# Ensemble on different d"
   ]
  },
  {
   "cell_type": "code",
   "execution_count": null,
   "metadata": {},
   "outputs": [],
   "source": [
    "def ensD_tf_name(model, ds):\n",
    "    f = 'tensorboard_logs/test-{}-CH3-d=[{}]-ensemble'.format(model, ','.join([str(d) for d in ds]))\n",
    "    # assume only one file in each folder\n",
    "    #     assert len(os.listdir(f)) == 1\n",
    "    # FIXME whether this is in time order?\n",
    "    return sorted([os.path.join(f,x) for x in os.listdir(f)])\n",
    "#     f = os.path.join(f, [0])\n",
    "#     return f"
   ]
  },
  {
   "cell_type": "code",
   "execution_count": null,
   "metadata": {},
   "outputs": [],
   "source": [
    "ensD_tf_name('EQ2', [10,15,20])"
   ]
  },
  {
   "cell_type": "code",
   "execution_count": null,
   "metadata": {},
   "outputs": [],
   "source": [
    "ensD_tf_name('EQ2', [20,30,40])"
   ]
  },
  {
   "cell_type": "code",
   "execution_count": null,
   "metadata": {},
   "outputs": [],
   "source": [
    "d1 = read_tf_data(ensD_tf_name('EQ2', [10,15,20]))"
   ]
  },
  {
   "cell_type": "code",
   "execution_count": null,
   "metadata": {},
   "outputs": [],
   "source": [
    "d2 = read_tf_data(ensD_tf_name('EQ2', [20,30,40]))"
   ]
  },
  {
   "cell_type": "code",
   "execution_count": null,
   "metadata": {},
   "outputs": [],
   "source": [
    "d1cnn = read_tf_data(ensD_tf_name('CNN', [10,15,20]))"
   ]
  },
  {
   "cell_type": "code",
   "execution_count": null,
   "metadata": {},
   "outputs": [],
   "source": [
    "d2cnn = read_tf_data(ensD_tf_name('CNN', [20,30,40]))"
   ]
  },
  {
   "cell_type": "code",
   "execution_count": null,
   "metadata": {},
   "outputs": [],
   "source": [
    "d2['steps'].size"
   ]
  },
  {
   "cell_type": "code",
   "execution_count": null,
   "metadata": {},
   "outputs": [],
   "source": [
    "d1['steps'].size"
   ]
  },
  {
   "cell_type": "code",
   "execution_count": null,
   "metadata": {},
   "outputs": [],
   "source": [
    "idx1 = range(1, d1['steps'].size)"
   ]
  },
  {
   "cell_type": "code",
   "execution_count": null,
   "metadata": {},
   "outputs": [],
   "source": [
    "# evenly intercept d2 just d1 size\n",
    "# TODO abstract this and apply in place of smoothing\n",
    "idx2 = range(1, d2['steps'].size, round(d2['steps'].size / d1['steps'].size))"
   ]
  },
  {
   "cell_type": "code",
   "execution_count": null,
   "metadata": {},
   "outputs": [],
   "source": [
    "d2['steps'][idx2]"
   ]
  },
  {
   "cell_type": "code",
   "execution_count": null,
   "metadata": {},
   "outputs": [],
   "source": [
    "def smoothed_plot(ax, x, y, label=''):\n",
    "    xnew = np.linspace(x.min(), x.max(), int(round(len(x) / 2)))\n",
    "    spl = make_interp_spline(x, y, k=3)  # type: BSpline\n",
    "    ynew = spl(xnew)\n",
    "    ax.plot(xnew, ynew, label=label)"
   ]
  },
  {
   "cell_type": "code",
   "execution_count": null,
   "metadata": {},
   "outputs": [],
   "source": [
    "def smoothed_plot(ax, x, y, label=''):\n",
    "    ax.plot(x, y, label=label)"
   ]
  },
  {
   "cell_type": "code",
   "execution_count": null,
   "metadata": {},
   "outputs": [],
   "source": [
    "def plot_subfig(ax, label, which, thedata, idx):\n",
    "    # smoothing\n",
    "    smoothed_plot(ax, thedata['steps'][idx], thedata[which][idx], label=label)\n",
    "#     smoothed_plot(ax, thedata['steps'], thedata[which], label='CNN-{}'.format(d))\n",
    "    ax.set_xlabel('steps')\n",
    "    ax.set_ylabel(which)\n",
    "    ax.legend()\n",
    "#     ax.set_title('{} for d={}'.format(which, d))"
   ]
  },
  {
   "cell_type": "code",
   "execution_count": null,
   "metadata": {},
   "outputs": [],
   "source": [
    "fig, axs = plt.subplots(1,2,figsize=(10,5))\n",
    "plot_subfig(axs[0], 'EQ-[10,15,20]', 'precs', d1, idx1)\n",
    "plot_subfig(axs[0], 'EQ-[20,30,40]', 'precs', d2, idx2)\n",
    "plot_subfig(axs[0], 'CNN-[10,15,20]', 'precs', d1cnn, range(3, d1cnn['steps'].size))\n",
    "plot_subfig(axs[0], 'CNN-[20,30,40]', 'precs', d2cnn, range(3, d2cnn['steps'].size))\n",
    "\n",
    "plot_subfig(axs[1], 'EQ-[10,15,20]', 'recalls', d1, idx1)\n",
    "plot_subfig(axs[1], 'EQ-[20,30,40]', 'recalls', d2, idx2)\n",
    "plot_subfig(axs[1], 'CNN-[10,15,20]', 'recalls', d1cnn, range(3, d1cnn['steps'].size))\n",
    "plot_subfig(axs[1], 'CNN-[20,30,40]', 'recalls', d2cnn, range(3, d2cnn['steps'].size))\n",
    "\n",
    "axs[0].set_title('Precision')\n",
    "axs[1].set_title('Recall')\n",
    "plt.savefig('results/ensemble-d.pdf')"
   ]
  },
  {
   "cell_type": "code",
   "execution_count": null,
   "metadata": {},
   "outputs": [],
   "source": [
    "# the numbers\n",
    "# FIXME this is just a place holder. Use the real test.\n",
    "for data in [d1, d2, d1cnn, d2cnn]:\n",
    "    print('d=, mat=, precs, recalls, shd=   {:.1f} & {:.1f} & {:.1f}'\n",
    "                  .format(\n",
    "                          data['precs'][-10:].mean()*100,\n",
    "                         data['recalls'][-10:].mean()*100,\n",
    "                         data['shds'][-10:].mean()*1))"
   ]
  },
  {
   "cell_type": "markdown",
   "metadata": {},
   "source": [
    "# ensemble on different k, and compare MAT"
   ]
  },
  {
   "cell_type": "code",
   "execution_count": null,
   "metadata": {},
   "outputs": [],
   "source": [
    "def mat_tf_name(d, mat):\n",
    "    f = 'tensorboard_logs/test-EQ-d={}-mat={}-ensemble'.format(d, mat)\n",
    "    # assume only one file in each folder\n",
    "    assert len(os.listdir(f)) == 1\n",
    "    f = os.path.join(f, os.listdir(f)[0])\n",
    "    return f"
   ]
  },
  {
   "cell_type": "code",
   "execution_count": null,
   "metadata": {},
   "outputs": [],
   "source": [
    "data = {}\n",
    "for d in [20,50]:\n",
    "    data[d] = {}\n",
    "    for mat in ['CH3', 'COV', 'COR']:\n",
    "        data[d][mat] = read_tf_data(mat_tf_name(d, mat))"
   ]
  },
  {
   "cell_type": "code",
   "execution_count": null,
   "metadata": {},
   "outputs": [],
   "source": [
    "def smoothed_plot(ax, x, y, label=''):\n",
    "    xnew = np.linspace(x.min(), x.max(), int(round(len(x) / 2)))\n",
    "    spl = make_interp_spline(x, y, k=2)  # type: BSpline\n",
    "    ynew = spl(xnew)\n",
    "    ax.plot(xnew, ynew, label=label)"
   ]
  },
  {
   "cell_type": "code",
   "execution_count": null,
   "metadata": {},
   "outputs": [],
   "source": [
    "def smoothed_plot(ax, x, y, label=''):\n",
    "    ax.plot(x, y, label=label)"
   ]
  },
  {
   "cell_type": "code",
   "execution_count": null,
   "metadata": {},
   "outputs": [],
   "source": [
    "def plot_subfig(ax, d, which, data):\n",
    "    # smoothing\n",
    "    smoothed_plot(ax, data[d]['CH3']['steps'], data[d]['CH3'][which], label='COR+norm(COV)')\n",
    "    smoothed_plot(ax, data[d]['COR']['steps'], data[d]['COR'][which], label='COR')\n",
    "    smoothed_plot(ax, data[d]['COV']['steps'], data[d]['COV'][which], label='COV')\n",
    "    ax.set_xlabel('steps')\n",
    "    ax.set_ylabel(which)\n",
    "    ax.legend()\n",
    "    ax.set_title('{} for d={}'.format(which, d))"
   ]
  },
  {
   "cell_type": "code",
   "execution_count": null,
   "metadata": {},
   "outputs": [],
   "source": [
    "fig, axs = plt.subplots(2,2,figsize=(10,10))\n",
    "plot_subfig(axs[0,0], 20, 'precs', data)\n",
    "plot_subfig(axs[0,1], 20, 'recalls', data)\n",
    "plot_subfig(axs[1,0], 50, 'precs', data)\n",
    "plot_subfig(axs[1,1], 50, 'recalls', data)\n",
    "plt.savefig('results/mat.pdf')"
   ]
  },
  {
   "cell_type": "code",
   "execution_count": null,
   "metadata": {},
   "outputs": [],
   "source": [
    "# get the values. Use the average of last 10 values\n",
    "data[20]['CH3']['precs'][-10:].mean()"
   ]
  },
  {
   "cell_type": "code",
   "execution_count": null,
   "metadata": {},
   "outputs": [],
   "source": [
    "# FIXME this is just a place holder. Use the real test.\n",
    "for d in [20,50]:\n",
    "    for mat in ['CH3', 'COR', 'COV']:\n",
    "        print('d={}, mat={}, precs, recalls, shd=   {:.1f} & {:.1f} & {:.1f}'\n",
    "              .format(d, mat, \n",
    "                      data[d][mat]['precs'][-10:].mean()*100,\n",
    "                     data[d][mat]['recalls'][-10:].mean()*100,\n",
    "                     data[d][mat]['shds'][-10:].mean()*1))"
   ]
  },
  {
   "cell_type": "markdown",
   "metadata": {},
   "source": [
    "# training process"
   ]
  },
  {
   "cell_type": "code",
   "execution_count": null,
   "metadata": {},
   "outputs": [],
   "source": [
    "os.listdir(\"tensorboard_logs\")"
   ]
  },
  {
   "cell_type": "code",
   "execution_count": null,
   "metadata": {},
   "outputs": [],
   "source": [
    "def train_process_tf_name(model, d):\n",
    "    f = 'tensorboard_logs/test-{}-ERSF-k1-d={}-ensemble'.format(model, d)\n",
    "    # assume only one file in each folder\n",
    "    assert len(os.listdir(f)) == 1\n",
    "    f = os.path.join(f, os.listdir(f)[0])\n",
    "    return f"
   ]
  },
  {
   "cell_type": "code",
   "execution_count": null,
   "metadata": {},
   "outputs": [],
   "source": [
    "fc10 = read_tf_data(train_process_tf_name('FC', 10))"
   ]
  },
  {
   "cell_type": "code",
   "execution_count": null,
   "metadata": {},
   "outputs": [],
   "source": [
    "fc10['steps']"
   ]
  },
  {
   "cell_type": "code",
   "execution_count": null,
   "metadata": {},
   "outputs": [],
   "source": [
    "len(fc10['steps'])"
   ]
  },
  {
   "cell_type": "code",
   "execution_count": null,
   "metadata": {},
   "outputs": [],
   "source": [
    "fc20 = read_tf_data(train_process_tf_name('FC', 20))\n",
    "fc50 = read_tf_data(train_process_tf_name('FC', 50))\n",
    "cnn20 = read_tf_data(train_process_tf_name('CNN', 20))\n",
    "cnn50 = read_tf_data(train_process_tf_name('CNN', 50))\n",
    "eq20 = read_tf_data(train_process_tf_name('EQ2', 20))\n",
    "eq50 = read_tf_data(train_process_tf_name('EQ2', 50))"
   ]
  },
  {
   "cell_type": "code",
   "execution_count": null,
   "metadata": {},
   "outputs": [],
   "source": [
    "# plot it\n",
    "x = np.linspace(steps.min(), steps.max(), 20)\n",
    "spl = make_interp_spline(steps, precs, k=3)  # type: BSpline\n",
    "y = spl(x)\n",
    "\n",
    "plt.plot(x, y)"
   ]
  },
  {
   "cell_type": "code",
   "execution_count": null,
   "metadata": {},
   "outputs": [],
   "source": [
    "def smoothed_plot(ax, x, y, label=''):\n",
    "    xnew = np.linspace(x.min(), x.max(), int(round(len(x) / 2)))\n",
    "    spl = make_interp_spline(x, y, k=2)  # type: BSpline\n",
    "    ynew = spl(xnew)\n",
    "    ax.plot(xnew, ynew, label=label)"
   ]
  },
  {
   "cell_type": "code",
   "execution_count": null,
   "metadata": {},
   "outputs": [],
   "source": [
    "def smoothed_plot(ax, x, y, label=''):\n",
    "    ax.plot(x, y, label=label)"
   ]
  },
  {
   "cell_type": "code",
   "execution_count": null,
   "metadata": {},
   "outputs": [],
   "source": [
    "def plot_subfig(ax, d, which, eq, fc, cnn):\n",
    "    # smoothing\n",
    "    smoothed_plot(ax, eq['steps'], eq[which], label='EQ')\n",
    "    smoothed_plot(ax, fc['steps'], fc[which], label='FC')\n",
    "    smoothed_plot(ax, cnn['steps'], cnn[which], label='CNN')\n",
    "    ax.set_xlabel('steps')\n",
    "    ax.set_ylabel(which)\n",
    "    ax.legend()\n",
    "    ax.set_title('{} for d={}'.format(which, d))"
   ]
  },
  {
   "cell_type": "code",
   "execution_count": null,
   "metadata": {},
   "outputs": [],
   "source": [
    "fig, axs = plt.subplots(2,2,figsize=(10,10))\n",
    "plot_subfig(axs[0,0], 20, 'precs', eq20, fc20, cnn20)\n",
    "plot_subfig(axs[0,1], 20, 'recalls', eq20, fc20, cnn20)\n",
    "plot_subfig(axs[1,0], 50, 'precs', eq50, fc50, cnn50)\n",
    "plot_subfig(axs[1,1], 50, 'recalls', eq50, fc50, cnn50)\n",
    "plt.savefig('results/training_process.pdf')"
   ]
  },
  {
   "cell_type": "code",
   "execution_count": null,
   "metadata": {},
   "outputs": [],
   "source": []
  }
 ],
 "metadata": {
  "kernelspec": {
   "display_name": "Python 3",
   "language": "python",
   "name": "python3"
  },
  "language_info": {
   "codemirror_mode": {
    "name": "ipython",
    "version": 3
   },
   "file_extension": ".py",
   "mimetype": "text/x-python",
   "name": "python",
   "nbconvert_exporter": "python",
   "pygments_lexer": "ipython3",
   "version": "3.8.10"
  }
 },
 "nbformat": 4,
 "nbformat_minor": 4
}
