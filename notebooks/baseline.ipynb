{
 "cells": [
  {
   "cell_type": "markdown",
   "metadata": {},
   "source": [
    "# Baselines\n",
    "\n",
    "Baseline Method Repositories:\n",
    "\n",
    "- https://github.com/xunzheng/notears\n",
    "- https://github.com/fishmoon1234/DAG-GNN\n",
    "- https://github.com/huawei-noah/trustworthyAI\n",
    "- https://github.com/kurowasan/GraN-DAG\n",
    "  - use this: https://github.com/lihebi/GraN-DAG-nodata\n",
    "  - the paper: [Gradient-Based Neural DAG Learning](https://openreview.net/forum?id=rklbKA4YDS)\n",
    "\n",
    "TODOs:\n",
    "- [ ] which uses GPU and which does not\n",
    "- [ ] use covariate matrix\n",
    "- [ ] RL-BIC hyper-parameters\n"
   ]
  },
  {
   "cell_type": "code",
   "execution_count": 1,
   "metadata": {},
   "outputs": [
    {
     "data": {
      "text/plain": [
       "3"
      ]
     },
     "execution_count": 1,
     "metadata": {},
     "output_type": "execute_result"
    }
   ],
   "source": [
    "1+2"
   ]
  },
  {
   "cell_type": "markdown",
   "metadata": {},
   "source": [
    "# Setup\n",
    "\n",
    "Python libraries:\n",
    "\n",
    "```\n",
    "pip install -r requirements.txt\n",
    "```\n",
    "\n",
    "Download some repos\n",
    "\n",
    "```\n",
    "git clone https://github.com/xunzheng/notears\n",
    "git clone https://github.com/fishmoon1234/DAG-GNN\n",
    "# This is repo is broken, too large to clone\n",
    "git clone https://github.com/kurowasan/GraN-DAG\n",
    "git clone https://github.com/huawei-noah/trustworthyAI\n",
    "```\n"
   ]
  },
  {
   "cell_type": "code",
   "execution_count": null,
   "metadata": {},
   "outputs": [
    {
     "name": "stdout",
     "output_type": "stream",
     "text": [
      "Looking in indexes: https://pypi.tuna.tsinghua.edu.cn/simple\n",
      "Collecting pandas\n",
      "  Downloading https://pypi.tuna.tsinghua.edu.cn/packages/64/0e/97fa348981b2ccebd39569200c91d587703329ea21508c30bb35110e404c/pandas-1.1.3-cp38-cp38-manylinux1_x86_64.whl (9.3 MB)\n",
      "\u001b[K     |████████████████████████████████| 9.3 MB 2.1 MB/s eta 0:00:01\n",
      "\u001b[?25hCollecting networkx\n",
      "  Downloading https://pypi.tuna.tsinghua.edu.cn/packages/9b/cd/dc52755d30ba41c60243235460961fc28022e5b6731f16c268667625baea/networkx-2.5-py3-none-any.whl (1.6 MB)\n",
      "\u001b[K     |████████████████████████████████| 1.6 MB 570 kB/s eta 0:00:01\n",
      "\u001b[?25hCollecting torch\n",
      "  Downloading https://pypi.tuna.tsinghua.edu.cn/packages/8c/5d/faf0d8ac260c7f1eda7d063001c137da5223be1c137658384d2d45dcd0d5/torch-1.6.0-cp38-cp38-manylinux1_x86_64.whl (748.8 MB)\n",
      "\u001b[K     |████████████████████████████████| 748.8 MB 57 kB/s  eta 0:00:016\n",
      "\u001b[?25hRequirement already satisfied: tqdm in /opt/conda/lib/python3.8/site-packages (from -r requirements.txt (line 4)) (4.49.0)\n",
      "Requirement already satisfied: h5py in /opt/conda/lib/python3.8/site-packages (from -r requirements.txt (line 5)) (2.10.0)\n",
      "Collecting scikit-learn\n",
      "  Downloading https://pypi.tuna.tsinghua.edu.cn/packages/7f/c1/e19f767594035028b6ab88010742300ce5fcbdfeff051fc9afffcbebf644/scikit_learn-0.23.2-cp38-cp38-manylinux1_x86_64.whl (6.8 MB)\n",
      "\u001b[K     |████████████████████████████████| 6.8 MB 1.0 MB/s eta 0:00:01\n",
      "\u001b[?25hCollecting cdt\n",
      "  Downloading https://pypi.tuna.tsinghua.edu.cn/packages/21/f6/fb4dd25e401e93231c9a2c52247532e7bd29f0a821babc60c9916d4325d8/cdt-0.5.21-py3-none-any.whl (918 kB)\n",
      "\u001b[K     |████████████████████████████████| 918 kB 996 kB/s eta 0:00:01\n",
      "\u001b[?25hCollecting matplotlib\n",
      "  Downloading https://pypi.tuna.tsinghua.edu.cn/packages/93/95/83cca4fe4e4925142542acd318cb59b188eeb7a53bc24a6aacc0834a23b9/matplotlib-3.3.2-cp38-cp38-manylinux1_x86_64.whl (11.6 MB)\n",
      "\u001b[K     |████████████████████████████████| 11.6 MB 872 kB/s eta 0:00:01\n",
      "\u001b[?25hRequirement already satisfied: python-dateutil>=2.7.3 in /opt/conda/lib/python3.8/site-packages (from pandas->-r requirements.txt (line 1)) (2.8.1)\n",
      "Requirement already satisfied: numpy>=1.15.4 in /opt/conda/lib/python3.8/site-packages (from pandas->-r requirements.txt (line 1)) (1.18.5)\n",
      "Collecting pytz>=2017.2\n",
      "  Downloading https://pypi.tuna.tsinghua.edu.cn/packages/4f/a4/879454d49688e2fad93e59d7d4efda580b783c745fd2ec2a3adf87b0808d/pytz-2020.1-py2.py3-none-any.whl (510 kB)\n",
      "\u001b[K     |████████████████████████████████| 510 kB 998 kB/s eta 0:00:01\n",
      "\u001b[?25hRequirement already satisfied: decorator>=4.3.0 in /opt/conda/lib/python3.8/site-packages (from networkx->-r requirements.txt (line 2)) (4.4.2)\n",
      "Processing /home/jovyan/.cache/pip/wheels/1b/3e/31/72653079400d50aff1c3492982a6965994629072cad3b97720/future-0.18.2-py3-none-any.whl\n",
      "Requirement already satisfied: six in /opt/conda/lib/python3.8/site-packages (from h5py->-r requirements.txt (line 5)) (1.15.0)\n",
      "Collecting joblib>=0.11\n",
      "  Downloading https://pypi.tuna.tsinghua.edu.cn/packages/fc/c9/f58220ac44a1592f79a343caba12f6837f9e0c04c196176a3d66338e1ea8/joblib-0.17.0-py3-none-any.whl (301 kB)\n",
      "\u001b[K     |████████████████████████████████| 301 kB 1.0 MB/s eta 0:00:01\n",
      "\u001b[?25hCollecting threadpoolctl>=2.0.0\n",
      "  Downloading https://pypi.tuna.tsinghua.edu.cn/packages/f7/12/ec3f2e203afa394a149911729357aa48affc59c20e2c1c8297a60f33f133/threadpoolctl-2.1.0-py3-none-any.whl (12 kB)\n",
      "Requirement already satisfied: scipy>=0.19.1 in /opt/conda/lib/python3.8/site-packages (from scikit-learn->-r requirements.txt (line 6)) (1.4.1)\n",
      "Processing /home/jovyan/.cache/pip/wheels/9f/a5/3a/d6e3c72649b00b35ba0dd7b1c51c1d5fb3b5b85087e4f47e8f/GPUtil-1.4.0-py3-none-any.whl\n",
      "Requirement already satisfied: requests in /opt/conda/lib/python3.8/site-packages (from cdt->-r requirements.txt (line 7)) (2.24.0)\n",
      "Processing /home/jovyan/.cache/pip/wheels/1e/e5/20/aee8d6841dec49905d3426bfb112345ae85d94ec80de6bbc22/skrebate-0.61-py3-none-any.whl\n",
      "Collecting statsmodels\n",
      "  Downloading https://pypi.tuna.tsinghua.edu.cn/packages/d6/97/d77cc2db06ab28f207269c2b6d3958c54cb131026f4aa92a49d76af31335/statsmodels-0.12.0-cp38-cp38-manylinux1_x86_64.whl (9.4 MB)\n",
      "\u001b[K     |████████████████████████████████| 9.4 MB 1.3 MB/s eta 0:00:01\n",
      "\u001b[?25hRequirement already satisfied: pillow>=6.2.0 in /opt/conda/lib/python3.8/site-packages (from matplotlib->-r requirements.txt (line 8)) (7.2.0)\n",
      "Requirement already satisfied: certifi>=2020.06.20 in /opt/conda/lib/python3.8/site-packages (from matplotlib->-r requirements.txt (line 8)) (2020.6.20)\n",
      "Requirement already satisfied: pyparsing!=2.0.4,!=2.1.2,!=2.1.6,>=2.0.3 in /opt/conda/lib/python3.8/site-packages (from matplotlib->-r requirements.txt (line 8)) (2.4.7)\n",
      "Collecting cycler>=0.10\n",
      "  Using cached https://pypi.tuna.tsinghua.edu.cn/packages/f7/d2/e07d3ebb2bd7af696440ce7e754c59dd546ffe1bbe732c8ab68b9c834e61/cycler-0.10.0-py2.py3-none-any.whl (6.5 kB)\n",
      "Collecting kiwisolver>=1.0.1\n",
      "  Downloading https://pypi.tuna.tsinghua.edu.cn/packages/36/ac/c8627c214954b18b197f137ee96bc99e1cc31913d80d7ad59fbab3b05945/kiwisolver-1.2.0-cp38-cp38-manylinux1_x86_64.whl (92 kB)\n",
      "\u001b[K     |████████████████████████████████| 92 kB 330 kB/s eta 0:00:011\n",
      "\u001b[?25hRequirement already satisfied: chardet<4,>=3.0.2 in /opt/conda/lib/python3.8/site-packages (from requests->cdt->-r requirements.txt (line 7)) (3.0.4)\n",
      "Requirement already satisfied: urllib3!=1.25.0,!=1.25.1,<1.26,>=1.21.1 in /opt/conda/lib/python3.8/site-packages (from requests->cdt->-r requirements.txt (line 7)) (1.25.10)\n",
      "Requirement already satisfied: idna<3,>=2.5 in /opt/conda/lib/python3.8/site-packages (from requests->cdt->-r requirements.txt (line 7)) (2.10)\n",
      "Collecting patsy>=0.5\n",
      "  Downloading https://pypi.tuna.tsinghua.edu.cn/packages/ea/0c/5f61f1a3d4385d6bf83b83ea495068857ff8dfb89e74824c6e9eb63286d8/patsy-0.5.1-py2.py3-none-any.whl (231 kB)\n",
      "\u001b[K     |████████████████████████████████| 231 kB 1.7 MB/s eta 0:00:01\n",
      "\u001b[?25hInstalling collected packages: pytz, pandas, networkx, future, torch, joblib, threadpoolctl, scikit-learn, GPUtil, skrebate, patsy, statsmodels, cdt, cycler, kiwisolver, matplotlib\n"
     ]
    }
   ],
   "source": [
    "!pip install -i https://pypi.tuna.tsinghua.edu.cn/simple -r requirements.txt"
   ]
  },
  {
   "cell_type": "markdown",
   "metadata": {},
   "source": [
    "## R packages (this is so unhumanity)\n",
    "\n",
    "\n",
    "- this will consume a lot of network traffic. Need to be careful when using proxy\n",
    "- this needs some time for compilation\n",
    "\n",
    "```\n",
    "# graph is not available in default repo\n",
    "> install.packages(\"BiocManager\")\n",
    "# dependencies for pcalg\n",
    "> BiocManager::install(\"graph\")\n",
    "> BiocManager::install(\"RBGL\")\n",
    "\n",
    "> install.packages(\"pcalg\")\n",
    "> install.packages(\"kpcalg\")\n",
    "> BiocManager::install(\"usethis\")\n",
    "> install.packages(\"devtools\")\n",
    "> library(devtools)\n",
    "> install_github(\"Diviyan-Kalainathan/RCIT\")\n",
    "> library(RCIT)\n",
    "```\n",
    "\n",
    "CAM needs to be downloaded and install from file.\n",
    "\n",
    "```\n",
    "> install.packages(\"/path/to/CAM_1.0.tar.gz\")\n",
    "```"
   ]
  },
  {
   "cell_type": "code",
   "execution_count": null,
   "metadata": {},
   "outputs": [],
   "source": [
    "!R --version"
   ]
  },
  {
   "cell_type": "code",
   "execution_count": 4,
   "metadata": {},
   "outputs": [
    {
     "name": "stderr",
     "output_type": "stream",
     "text": [
      "Detecting 1 CUDA device(s).\n"
     ]
    }
   ],
   "source": [
    "# FIXME no GPU detected\n",
    "from baseline import run_many, main, table, get_dataset_fname"
   ]
  },
  {
   "cell_type": "markdown",
   "metadata": {},
   "source": [
    "## Testing baselines individually"
   ]
  },
  {
   "cell_type": "code",
   "execution_count": null,
   "metadata": {},
   "outputs": [],
   "source": [
    "def run_baseline(alg, d, gtype):\n",
    "    run_many(alg, get_dataset_fname(d, gtype))"
   ]
  },
  {
   "cell_type": "code",
   "execution_count": null,
   "metadata": {
    "scrolled": true
   },
   "outputs": [],
   "source": [
    "run_baseline('PC', d=10, gtype='SF')"
   ]
  },
  {
   "cell_type": "code",
   "execution_count": null,
   "metadata": {},
   "outputs": [],
   "source": [
    "# OK, let's run notears ..\n",
    "run_baseline('notears', d=10, gtype='SF')"
   ]
  },
  {
   "cell_type": "code",
   "execution_count": null,
   "metadata": {
    "scrolled": true
   },
   "outputs": [],
   "source": [
    "run_baseline('GES', d=10, gtype='SF')"
   ]
  },
  {
   "cell_type": "code",
   "execution_count": null,
   "metadata": {
    "scrolled": true
   },
   "outputs": [],
   "source": [
    "run_baseline('CAM', d=10, gtype='SF')"
   ]
  },
  {
   "cell_type": "code",
   "execution_count": null,
   "metadata": {},
   "outputs": [],
   "source": [
    "run_baseline('RCC-CLF', d=10, gtype='SF')"
   ]
  },
  {
   "cell_type": "code",
   "execution_count": null,
   "metadata": {},
   "outputs": [],
   "source": [
    "run_baseline('RCC-NN', d=10, gtype='SF')"
   ]
  },
  {
   "cell_type": "code",
   "execution_count": null,
   "metadata": {},
   "outputs": [],
   "source": [
    "run_baseline('DAG-GNN', d=10, gtype='SF')"
   ]
  },
  {
   "cell_type": "code",
   "execution_count": null,
   "metadata": {},
   "outputs": [],
   "source": [
    "# RL-BIC requires tensorflow 1, so ..\n",
    "#\n",
    "# UPDATE: tensorflow 1 only supports python up to 3.7\n",
    "#\n",
    "# UPDATE I'm not reporting RL-BIC\n",
    "!pip uninstall --yes tensorflow\n",
    "!pip install tensorflow-gpu==1.15"
   ]
  },
  {
   "cell_type": "code",
   "execution_count": null,
   "metadata": {},
   "outputs": [],
   "source": [
    "# FIXME hyper-parameters\n",
    "# FIXME tensorflow 1 compatibility\n",
    "run_baseline('RL-BIC', d=10, gtype='SF')"
   ]
  },
  {
   "cell_type": "markdown",
   "metadata": {},
   "source": [
    "### Internal debug"
   ]
  },
  {
   "cell_type": "code",
   "execution_count": 125,
   "metadata": {},
   "outputs": [],
   "source": [
    "from baseline import read_hdf5_iter"
   ]
  },
  {
   "cell_type": "code",
   "execution_count": 128,
   "metadata": {},
   "outputs": [],
   "source": [
    "def get_dataset_fname(d, gtype, mat='COV'):\n",
    "    # FIXME since I'm using raw for the baselines, I should be fine using the previous results.\n",
    "    # But the previous result is for SF only. If I want to report the average of SF/ER, I need to run it again.\n",
    "    return 'data/{}-{}-1234/d={}_k=1_gtype={}_noise=Gaussian_mat={}_mec=Linear.hdf5'.format(gtype, d, d, gtype, mat)"
   ]
  },
  {
   "cell_type": "code",
   "execution_count": 129,
   "metadata": {},
   "outputs": [],
   "source": [
    "fname = get_dataset_fname(10, 'SF', 'COV')"
   ]
  },
  {
   "cell_type": "code",
   "execution_count": 130,
   "metadata": {},
   "outputs": [],
   "source": [
    "it = read_hdf5_iter(fname)"
   ]
  },
  {
   "cell_type": "code",
   "execution_count": 131,
   "metadata": {},
   "outputs": [],
   "source": [
    "x, y = next(it)"
   ]
  },
  {
   "cell_type": "code",
   "execution_count": 132,
   "metadata": {},
   "outputs": [
    {
     "data": {
      "text/plain": [
       "(1000, 10)"
      ]
     },
     "execution_count": 132,
     "metadata": {},
     "output_type": "execute_result"
    }
   ],
   "source": [
    "x.shape"
   ]
  },
  {
   "cell_type": "code",
   "execution_count": 133,
   "metadata": {},
   "outputs": [
    {
     "data": {
      "text/plain": [
       "(10, 10)"
      ]
     },
     "execution_count": 133,
     "metadata": {},
     "output_type": "execute_result"
    }
   ],
   "source": [
    "y.shape"
   ]
  },
  {
   "cell_type": "code",
   "execution_count": 136,
   "metadata": {},
   "outputs": [],
   "source": [
    "import numpy as np"
   ]
  },
  {
   "cell_type": "code",
   "execution_count": 138,
   "metadata": {},
   "outputs": [
    {
     "data": {
      "text/plain": [
       "array([[ 0.        , -0.96406505,  0.        ,  0.        ,  0.        ,\n",
       "         0.        ,  0.        ,  0.        , -1.11444373,  0.        ],\n",
       "       [ 0.        ,  0.        ,  0.        ,  0.        ,  0.        ,\n",
       "         0.        ,  0.        ,  0.        ,  0.        ,  0.        ],\n",
       "       [ 0.        ,  0.66228265,  0.        ,  0.        ,  0.        ,\n",
       "         0.        ,  0.        ,  0.        ,  0.        ,  0.        ],\n",
       "       [ 0.        ,  1.58691391,  0.        ,  0.        ,  0.        ,\n",
       "         0.        ,  0.        ,  0.        ,  0.        ,  0.        ],\n",
       "       [ 0.        ,  0.53556185,  0.        ,  0.        ,  0.        ,\n",
       "         0.        ,  0.        ,  0.        ,  0.        ,  0.        ],\n",
       "       [ 0.        ,  0.        , -1.28635334,  0.        ,  0.        ,\n",
       "         0.        ,  0.        ,  0.        ,  0.        ,  0.        ],\n",
       "       [ 0.        ,  0.        , -1.83537791,  0.        ,  0.        ,\n",
       "         0.        ,  0.        ,  0.89193591,  0.        ,  0.        ],\n",
       "       [ 0.        ,  0.        ,  0.        ,  0.        ,  0.        ,\n",
       "         0.        ,  0.        ,  0.        ,  0.        ,  0.        ],\n",
       "       [ 0.        ,  0.        ,  0.        ,  0.        ,  0.        ,\n",
       "         0.        ,  0.        ,  0.        ,  0.        ,  0.        ],\n",
       "       [ 0.        ,  0.        , -1.51491099,  0.        ,  0.        ,\n",
       "         0.        ,  0.        ,  0.        ,  0.        ,  0.        ]])"
      ]
     },
     "execution_count": 138,
     "metadata": {},
     "output_type": "execute_result"
    }
   ],
   "source": [
    "notears_linear(np.array(x), lambda1=0, loss_type='l2')"
   ]
  },
  {
   "cell_type": "markdown",
   "metadata": {},
   "source": [
    "## Run on SynTRen"
   ]
  },
  {
   "cell_type": "code",
   "execution_count": 180,
   "metadata": {},
   "outputs": [],
   "source": [
    "# load the data and true graph\n",
    "fname = \"data/syntren/hop0/nn20_nbgr0_hop0.0_bionoise0.1_expnoise0.1_corrnoise0.1_neighAdd_unnormalized_dataset.txt\""
   ]
  },
  {
   "cell_type": "code",
   "execution_count": 181,
   "metadata": {},
   "outputs": [],
   "source": [
    "import csv"
   ]
  },
  {
   "cell_type": "code",
   "execution_count": 182,
   "metadata": {},
   "outputs": [],
   "source": [
    "from pandas import pandas as pd"
   ]
  },
  {
   "cell_type": "code",
   "execution_count": 183,
   "metadata": {},
   "outputs": [],
   "source": [
    "df = pd.read_csv(fname, sep='\\t')"
   ]
  },
  {
   "cell_type": "code",
   "execution_count": 184,
   "metadata": {},
   "outputs": [
    {
     "data": {
      "text/html": [
       "<div>\n",
       "<style scoped>\n",
       "    .dataframe tbody tr th:only-of-type {\n",
       "        vertical-align: middle;\n",
       "    }\n",
       "\n",
       "    .dataframe tbody tr th {\n",
       "        vertical-align: top;\n",
       "    }\n",
       "\n",
       "    .dataframe thead th {\n",
       "        text-align: right;\n",
       "    }\n",
       "</style>\n",
       "<table border=\"1\" class=\"dataframe\">\n",
       "  <thead>\n",
       "    <tr style=\"text-align: right;\">\n",
       "      <th></th>\n",
       "      <th>0</th>\n",
       "      <th>1</th>\n",
       "      <th>2</th>\n",
       "      <th>3</th>\n",
       "      <th>4</th>\n",
       "      <th>5</th>\n",
       "      <th>6</th>\n",
       "      <th>7</th>\n",
       "      <th>8</th>\n",
       "      <th>9</th>\n",
       "      <th>10</th>\n",
       "      <th>11</th>\n",
       "      <th>12</th>\n",
       "      <th>13</th>\n",
       "      <th>14</th>\n",
       "      <th>15</th>\n",
       "      <th>16</th>\n",
       "      <th>17</th>\n",
       "      <th>18</th>\n",
       "      <th>19</th>\n",
       "    </tr>\n",
       "  </thead>\n",
       "  <tbody>\n",
       "    <tr>\n",
       "      <th>GENE</th>\n",
       "      <td>lon</td>\n",
       "      <td>rpoH</td>\n",
       "      <td>mopA</td>\n",
       "      <td>htpG</td>\n",
       "      <td>rpoE_rseABC</td>\n",
       "      <td>ibpAB</td>\n",
       "      <td>ecfABC</td>\n",
       "      <td>ecfH</td>\n",
       "      <td>fkpA</td>\n",
       "      <td>crp</td>\n",
       "      <td>araE</td>\n",
       "      <td>xprB_dsbC_recJ</td>\n",
       "      <td>lpxDA_fabZ</td>\n",
       "      <td>ppiA</td>\n",
       "      <td>dnaA</td>\n",
       "      <td>ptsHI_crr</td>\n",
       "      <td>cirA</td>\n",
       "      <td>cyaA</td>\n",
       "      <td>speC</td>\n",
       "      <td>araBAD</td>\n",
       "    </tr>\n",
       "    <tr>\n",
       "      <th>sample_0</th>\n",
       "      <td>869.193</td>\n",
       "      <td>581.365</td>\n",
       "      <td>7092.52</td>\n",
       "      <td>2753.33</td>\n",
       "      <td>613.772</td>\n",
       "      <td>81.6249</td>\n",
       "      <td>267.559</td>\n",
       "      <td>199.547</td>\n",
       "      <td>634.013</td>\n",
       "      <td>755.263</td>\n",
       "      <td>6745.67</td>\n",
       "      <td>966.302</td>\n",
       "      <td>1214.82</td>\n",
       "      <td>12865.8</td>\n",
       "      <td>2586.89</td>\n",
       "      <td>28.8892</td>\n",
       "      <td>6894.66</td>\n",
       "      <td>3.6921</td>\n",
       "      <td>13.4282</td>\n",
       "      <td>4217.66</td>\n",
       "    </tr>\n",
       "    <tr>\n",
       "      <th>sample_1</th>\n",
       "      <td>1217.07</td>\n",
       "      <td>512.075</td>\n",
       "      <td>8975.29</td>\n",
       "      <td>2663.64</td>\n",
       "      <td>1121.93</td>\n",
       "      <td>83.3743</td>\n",
       "      <td>519.12</td>\n",
       "      <td>441.486</td>\n",
       "      <td>899.715</td>\n",
       "      <td>703.368</td>\n",
       "      <td>6436.48</td>\n",
       "      <td>1916.52</td>\n",
       "      <td>1874.73</td>\n",
       "      <td>11893.7</td>\n",
       "      <td>2463.66</td>\n",
       "      <td>144.422</td>\n",
       "      <td>6758.39</td>\n",
       "      <td>17.0011</td>\n",
       "      <td>82.675</td>\n",
       "      <td>4104.22</td>\n",
       "    </tr>\n",
       "    <tr>\n",
       "      <th>sample_2</th>\n",
       "      <td>1193.33</td>\n",
       "      <td>556.867</td>\n",
       "      <td>9323.33</td>\n",
       "      <td>2581.41</td>\n",
       "      <td>1384.34</td>\n",
       "      <td>100.229</td>\n",
       "      <td>485.62</td>\n",
       "      <td>328.203</td>\n",
       "      <td>810.892</td>\n",
       "      <td>376.672</td>\n",
       "      <td>4886.84</td>\n",
       "      <td>2432.92</td>\n",
       "      <td>2016.12</td>\n",
       "      <td>7935.46</td>\n",
       "      <td>2152.66</td>\n",
       "      <td>688.547</td>\n",
       "      <td>6031.52</td>\n",
       "      <td>77.914</td>\n",
       "      <td>349.09</td>\n",
       "      <td>4007.01</td>\n",
       "    </tr>\n",
       "    <tr>\n",
       "      <th>sample_3</th>\n",
       "      <td>1555.25</td>\n",
       "      <td>1467.73</td>\n",
       "      <td>12694.9</td>\n",
       "      <td>4281.14</td>\n",
       "      <td>2894.53</td>\n",
       "      <td>125.084</td>\n",
       "      <td>825.348</td>\n",
       "      <td>611.354</td>\n",
       "      <td>1374.5</td>\n",
       "      <td>545.808</td>\n",
       "      <td>6294.86</td>\n",
       "      <td>3407.96</td>\n",
       "      <td>3523.47</td>\n",
       "      <td>12510.1</td>\n",
       "      <td>822.137</td>\n",
       "      <td>311.091</td>\n",
       "      <td>6722.33</td>\n",
       "      <td>31.7623</td>\n",
       "      <td>120.594</td>\n",
       "      <td>3869.2</td>\n",
       "    </tr>\n",
       "    <tr>\n",
       "      <th>...</th>\n",
       "      <td>...</td>\n",
       "      <td>...</td>\n",
       "      <td>...</td>\n",
       "      <td>...</td>\n",
       "      <td>...</td>\n",
       "      <td>...</td>\n",
       "      <td>...</td>\n",
       "      <td>...</td>\n",
       "      <td>...</td>\n",
       "      <td>...</td>\n",
       "      <td>...</td>\n",
       "      <td>...</td>\n",
       "      <td>...</td>\n",
       "      <td>...</td>\n",
       "      <td>...</td>\n",
       "      <td>...</td>\n",
       "      <td>...</td>\n",
       "      <td>...</td>\n",
       "      <td>...</td>\n",
       "      <td>...</td>\n",
       "    </tr>\n",
       "    <tr>\n",
       "      <th>sample_95</th>\n",
       "      <td>1192.41</td>\n",
       "      <td>980.473</td>\n",
       "      <td>11608.5</td>\n",
       "      <td>3473.55</td>\n",
       "      <td>2648.69</td>\n",
       "      <td>97.5428</td>\n",
       "      <td>786.792</td>\n",
       "      <td>494.559</td>\n",
       "      <td>1255.28</td>\n",
       "      <td>409.621</td>\n",
       "      <td>5047.14</td>\n",
       "      <td>3626.16</td>\n",
       "      <td>2396.95</td>\n",
       "      <td>9794.93</td>\n",
       "      <td>1101.59</td>\n",
       "      <td>1212.08</td>\n",
       "      <td>6040.66</td>\n",
       "      <td>91.3291</td>\n",
       "      <td>466.917</td>\n",
       "      <td>3191.88</td>\n",
       "    </tr>\n",
       "    <tr>\n",
       "      <th>sample_96</th>\n",
       "      <td>916.271</td>\n",
       "      <td>508.605</td>\n",
       "      <td>7688.76</td>\n",
       "      <td>2048.3</td>\n",
       "      <td>420.552</td>\n",
       "      <td>68.2497</td>\n",
       "      <td>204.449</td>\n",
       "      <td>169.639</td>\n",
       "      <td>443.332</td>\n",
       "      <td>719.891</td>\n",
       "      <td>6600.08</td>\n",
       "      <td>905.507</td>\n",
       "      <td>819.578</td>\n",
       "      <td>12676.6</td>\n",
       "      <td>2460.15</td>\n",
       "      <td>124.739</td>\n",
       "      <td>6742.55</td>\n",
       "      <td>11.5304</td>\n",
       "      <td>58.554</td>\n",
       "      <td>4193.35</td>\n",
       "    </tr>\n",
       "    <tr>\n",
       "      <th>sample_97</th>\n",
       "      <td>1037.19</td>\n",
       "      <td>510.918</td>\n",
       "      <td>7888.62</td>\n",
       "      <td>2746.65</td>\n",
       "      <td>1577.93</td>\n",
       "      <td>61.8733</td>\n",
       "      <td>460.193</td>\n",
       "      <td>395.727</td>\n",
       "      <td>1039.39</td>\n",
       "      <td>190.655</td>\n",
       "      <td>2765.64</td>\n",
       "      <td>2563.1</td>\n",
       "      <td>2138.1</td>\n",
       "      <td>5398.64</td>\n",
       "      <td>1604.77</td>\n",
       "      <td>2678.88</td>\n",
       "      <td>2833.51</td>\n",
       "      <td>347.852</td>\n",
       "      <td>1328.46</td>\n",
       "      <td>2598.89</td>\n",
       "    </tr>\n",
       "    <tr>\n",
       "      <th>sample_98</th>\n",
       "      <td>1536.99</td>\n",
       "      <td>791.474</td>\n",
       "      <td>7669.3</td>\n",
       "      <td>3133.04</td>\n",
       "      <td>1652.73</td>\n",
       "      <td>109.225</td>\n",
       "      <td>530.849</td>\n",
       "      <td>521.696</td>\n",
       "      <td>1037.3</td>\n",
       "      <td>681.104</td>\n",
       "      <td>6685.68</td>\n",
       "      <td>2353.63</td>\n",
       "      <td>2505.99</td>\n",
       "      <td>12593.5</td>\n",
       "      <td>1340.74</td>\n",
       "      <td>108.279</td>\n",
       "      <td>6798.98</td>\n",
       "      <td>9.03317</td>\n",
       "      <td>40.5569</td>\n",
       "      <td>4150.53</td>\n",
       "    </tr>\n",
       "    <tr>\n",
       "      <th>sample_99</th>\n",
       "      <td>994.167</td>\n",
       "      <td>479.896</td>\n",
       "      <td>7699.25</td>\n",
       "      <td>1912.8</td>\n",
       "      <td>847.501</td>\n",
       "      <td>64.0723</td>\n",
       "      <td>359.208</td>\n",
       "      <td>239.858</td>\n",
       "      <td>717.142</td>\n",
       "      <td>617.516</td>\n",
       "      <td>5532.72</td>\n",
       "      <td>1682.06</td>\n",
       "      <td>1571.4</td>\n",
       "      <td>11790.9</td>\n",
       "      <td>2291.36</td>\n",
       "      <td>810.589</td>\n",
       "      <td>5527.98</td>\n",
       "      <td>61.166</td>\n",
       "      <td>272.095</td>\n",
       "      <td>3957.36</td>\n",
       "    </tr>\n",
       "  </tbody>\n",
       "</table>\n",
       "<p>101 rows × 20 columns</p>\n",
       "</div>"
      ],
      "text/plain": [
       "                0        1        2        3            4        5        6   \\\n",
       "GENE           lon     rpoH     mopA     htpG  rpoE_rseABC    ibpAB   ecfABC   \n",
       "sample_0   869.193  581.365  7092.52  2753.33      613.772  81.6249  267.559   \n",
       "sample_1   1217.07  512.075  8975.29  2663.64      1121.93  83.3743   519.12   \n",
       "sample_2   1193.33  556.867  9323.33  2581.41      1384.34  100.229   485.62   \n",
       "sample_3   1555.25  1467.73  12694.9  4281.14      2894.53  125.084  825.348   \n",
       "...            ...      ...      ...      ...          ...      ...      ...   \n",
       "sample_95  1192.41  980.473  11608.5  3473.55      2648.69  97.5428  786.792   \n",
       "sample_96  916.271  508.605  7688.76   2048.3      420.552  68.2497  204.449   \n",
       "sample_97  1037.19  510.918  7888.62  2746.65      1577.93  61.8733  460.193   \n",
       "sample_98  1536.99  791.474   7669.3  3133.04      1652.73  109.225  530.849   \n",
       "sample_99  994.167  479.896  7699.25   1912.8      847.501  64.0723  359.208   \n",
       "\n",
       "                7        8        9        10              11          12  \\\n",
       "GENE          ecfH     fkpA      crp     araE  xprB_dsbC_recJ  lpxDA_fabZ   \n",
       "sample_0   199.547  634.013  755.263  6745.67         966.302     1214.82   \n",
       "sample_1   441.486  899.715  703.368  6436.48         1916.52     1874.73   \n",
       "sample_2   328.203  810.892  376.672  4886.84         2432.92     2016.12   \n",
       "sample_3   611.354   1374.5  545.808  6294.86         3407.96     3523.47   \n",
       "...            ...      ...      ...      ...             ...         ...   \n",
       "sample_95  494.559  1255.28  409.621  5047.14         3626.16     2396.95   \n",
       "sample_96  169.639  443.332  719.891  6600.08         905.507     819.578   \n",
       "sample_97  395.727  1039.39  190.655  2765.64          2563.1      2138.1   \n",
       "sample_98  521.696   1037.3  681.104  6685.68         2353.63     2505.99   \n",
       "sample_99  239.858  717.142  617.516  5532.72         1682.06      1571.4   \n",
       "\n",
       "                13       14         15       16       17       18       19  \n",
       "GENE          ppiA     dnaA  ptsHI_crr     cirA     cyaA     speC   araBAD  \n",
       "sample_0   12865.8  2586.89    28.8892  6894.66   3.6921  13.4282  4217.66  \n",
       "sample_1   11893.7  2463.66    144.422  6758.39  17.0011   82.675  4104.22  \n",
       "sample_2   7935.46  2152.66    688.547  6031.52   77.914   349.09  4007.01  \n",
       "sample_3   12510.1  822.137    311.091  6722.33  31.7623  120.594   3869.2  \n",
       "...            ...      ...        ...      ...      ...      ...      ...  \n",
       "sample_95  9794.93  1101.59    1212.08  6040.66  91.3291  466.917  3191.88  \n",
       "sample_96  12676.6  2460.15    124.739  6742.55  11.5304   58.554  4193.35  \n",
       "sample_97  5398.64  1604.77    2678.88  2833.51  347.852  1328.46  2598.89  \n",
       "sample_98  12593.5  1340.74    108.279  6798.98  9.03317  40.5569  4150.53  \n",
       "sample_99  11790.9  2291.36    810.589  5527.98   61.166  272.095  3957.36  \n",
       "\n",
       "[101 rows x 20 columns]"
      ]
     },
     "execution_count": 184,
     "metadata": {},
     "output_type": "execute_result"
    }
   ],
   "source": [
    "df.transpose()"
   ]
  },
  {
   "cell_type": "code",
   "execution_count": 185,
   "metadata": {},
   "outputs": [],
   "source": [
    "X = df.transpose()[1:].to_numpy()"
   ]
  },
  {
   "cell_type": "code",
   "execution_count": 186,
   "metadata": {},
   "outputs": [
    {
     "data": {
      "text/plain": [
       "(100, 20)"
      ]
     },
     "execution_count": 186,
     "metadata": {},
     "output_type": "execute_result"
    }
   ],
   "source": [
    "X.shape"
   ]
  },
  {
   "cell_type": "code",
   "execution_count": 188,
   "metadata": {},
   "outputs": [],
   "source": [
    "# load ground truth graph\n",
    "gfname = \"data/syntren/hop0/nn20_nbgr0_hop0.0_bionoise0.1_expnoise0.1_corrnoise0.1_neighAdd_network.sif\""
   ]
  },
  {
   "cell_type": "code",
   "execution_count": 189,
   "metadata": {},
   "outputs": [
    {
     "data": {
      "text/plain": [
       "NodeView(('adhE', 'nlpD_rpoS', 'narZYWV', 'narL', 'katG', 'alkA', 'frdABCD', 'fnr', 'dcuB_fumB', 'osmY', 'ansB', 'tdcABCDEFG', 'aspA', 'narGHJI', 'cyoABCDE', 'focA_pflB', 'dps', 'fdnGHI', 'nhaA', 'narK'))"
      ]
     },
     "execution_count": 189,
     "metadata": {},
     "output_type": "execute_result"
    }
   ],
   "source": [
    "g.nodes"
   ]
  },
  {
   "cell_type": "code",
   "execution_count": 190,
   "metadata": {},
   "outputs": [],
   "source": [
    "g = nx.DiGraph()\n",
    "# add all the nodes in order\n",
    "for name in df['GENE']:\n",
    "    g.add_node(name)\n",
    "with open(gfname) as fp:\n",
    "    for line in fp:\n",
    "        frm, rel, to = line.split()\n",
    "        if frm == to: continue\n",
    "        if rel == \"ac\":\n",
    "            g.add_edge(frm, to)\n",
    "        elif rel == 're':\n",
    "            g.add_edge(frm, to)\n",
    "        elif rel == 'du':\n",
    "            g.add_edge(frm, to)\n",
    "            g.add_edge(to, frm)\n",
    "        else:\n",
    "            # FIXME\n",
    "            raise Exception('Error: unsupported relation')"
   ]
  },
  {
   "cell_type": "code",
   "execution_count": 191,
   "metadata": {},
   "outputs": [
    {
     "data": {
      "text/plain": [
       "<networkx.classes.digraph.DiGraph at 0x7facc8e72790>"
      ]
     },
     "execution_count": 191,
     "metadata": {},
     "output_type": "execute_result"
    }
   ],
   "source": [
    "g"
   ]
  },
  {
   "cell_type": "code",
   "execution_count": 192,
   "metadata": {},
   "outputs": [
    {
     "data": {
      "image/png": "[encoded data removed]",
      "text/plain": [
       "<Figure size 432x288 with 1 Axes>"
      ]
     },
     "metadata": {},
     "output_type": "display_data"
    }
   ],
   "source": [
    "nx.draw_circular(g, with_labels=True, node_color=\"white\")"
   ]
  },
  {
   "cell_type": "code",
   "execution_count": 111,
   "metadata": {},
   "outputs": [
    {
     "data": {
      "text/plain": [
       "AdjacencyView({'adhE': {}, 'nlpD_rpoS': {'adhE': {}, 'narZYWV': {}, 'katG': {}, 'alkA': {}, 'osmY': {}, 'dps': {}, 'nhaA': {}}, 'narZYWV': {}, 'narL': {'adhE': {}, 'frdABCD': {}, 'dcuB_fumB': {}, 'narGHJI': {}, 'focA_pflB': {}, 'fdnGHI': {}, 'narK': {}}, 'katG': {}, 'alkA': {}, 'frdABCD': {}, 'fnr': {'frdABCD': {}, 'dcuB_fumB': {}, 'ansB': {}, 'tdcABCDEFG': {}, 'aspA': {}, 'narGHJI': {}, 'cyoABCDE': {}, 'focA_pflB': {}, 'fdnGHI': {}, 'narK': {}}, 'dcuB_fumB': {}, 'osmY': {}, 'ansB': {}, 'tdcABCDEFG': {}, 'aspA': {}, 'narGHJI': {}, 'cyoABCDE': {}, 'focA_pflB': {}, 'dps': {}, 'fdnGHI': {}, 'nhaA': {}, 'narK': {}})"
      ]
     },
     "execution_count": 111,
     "metadata": {},
     "output_type": "execute_result"
    }
   ],
   "source": [
    "g.adj"
   ]
  },
  {
   "cell_type": "code",
   "execution_count": 112,
   "metadata": {},
   "outputs": [
    {
     "data": {
      "text/plain": [
       "NodeView(('adhE', 'nlpD_rpoS', 'narZYWV', 'narL', 'katG', 'alkA', 'frdABCD', 'fnr', 'dcuB_fumB', 'osmY', 'ansB', 'tdcABCDEFG', 'aspA', 'narGHJI', 'cyoABCDE', 'focA_pflB', 'dps', 'fdnGHI', 'nhaA', 'narK'))"
      ]
     },
     "execution_count": 112,
     "metadata": {},
     "output_type": "execute_result"
    }
   ],
   "source": [
    "g.nodes"
   ]
  },
  {
   "cell_type": "code",
   "execution_count": 193,
   "metadata": {},
   "outputs": [],
   "source": [
    "Y = nx.adjacency_matrix(g).todense()"
   ]
  },
  {
   "cell_type": "code",
   "execution_count": 194,
   "metadata": {},
   "outputs": [
    {
     "data": {
      "text/plain": [
       "(100, 20)"
      ]
     },
     "execution_count": 194,
     "metadata": {},
     "output_type": "execute_result"
    }
   ],
   "source": [
    "X.shape"
   ]
  },
  {
   "cell_type": "code",
   "execution_count": 195,
   "metadata": {},
   "outputs": [
    {
     "data": {
      "text/plain": [
       "(20, 20)"
      ]
     },
     "execution_count": 195,
     "metadata": {},
     "output_type": "execute_result"
    }
   ],
   "source": [
    "Y.shape"
   ]
  },
  {
   "cell_type": "code",
   "execution_count": 196,
   "metadata": {},
   "outputs": [],
   "source": [
    "from notears.linear import notears_linear"
   ]
  },
  {
   "cell_type": "code",
   "execution_count": 197,
   "metadata": {},
   "outputs": [],
   "source": [
    "mat = notears_linear(np.array(X, dtype=np.float), lambda1=0, loss_type='l2')"
   ]
  },
  {
   "cell_type": "code",
   "execution_count": 198,
   "metadata": {},
   "outputs": [
    {
     "data": {
      "text/plain": [
       "(20, 20)"
      ]
     },
     "execution_count": 198,
     "metadata": {},
     "output_type": "execute_result"
    }
   ],
   "source": [
    "mat.shape"
   ]
  },
  {
   "cell_type": "code",
   "execution_count": 199,
   "metadata": {},
   "outputs": [],
   "source": [
    "mat = (mat != 0).astype(np.int)"
   ]
  },
  {
   "cell_type": "code",
   "execution_count": 200,
   "metadata": {},
   "outputs": [
    {
     "data": {
      "text/plain": [
       "array([[0, 0, 0, 0, 0, 0, 0, 0, 0, 0, 1, 0, 0, 0, 0, 0, 0, 0, 0, 0],\n",
       "       [0, 0, 1, 1, 1, 0, 0, 0, 0, 0, 0, 0, 0, 1, 1, 0, 1, 0, 0, 0],\n",
       "       [0, 0, 0, 0, 0, 0, 0, 0, 0, 0, 0, 0, 0, 0, 0, 0, 0, 0, 0, 0],\n",
       "       [0, 0, 1, 0, 0, 0, 0, 0, 0, 0, 0, 0, 0, 0, 0, 0, 0, 0, 0, 0],\n",
       "       [0, 0, 1, 0, 0, 0, 0, 0, 0, 0, 0, 0, 0, 1, 0, 0, 0, 0, 0, 0],\n",
       "       [1, 1, 1, 1, 1, 0, 1, 1, 1, 1, 0, 1, 1, 1, 1, 1, 1, 1, 1, 0],\n",
       "       [1, 1, 1, 0, 1, 0, 0, 0, 1, 0, 1, 1, 1, 1, 1, 1, 0, 0, 0, 1],\n",
       "       [1, 1, 1, 1, 1, 0, 1, 0, 1, 0, 0, 1, 1, 1, 0, 1, 1, 1, 0, 1],\n",
       "       [0, 0, 1, 0, 0, 0, 0, 0, 0, 0, 0, 1, 1, 0, 0, 0, 0, 0, 0, 1],\n",
       "       [0, 0, 1, 1, 1, 0, 0, 0, 0, 0, 1, 1, 0, 1, 1, 1, 1, 0, 0, 1],\n",
       "       [0, 0, 0, 0, 0, 0, 0, 0, 0, 0, 0, 0, 0, 0, 0, 0, 0, 0, 0, 0],\n",
       "       [0, 0, 1, 0, 0, 0, 0, 0, 0, 0, 0, 0, 0, 0, 0, 0, 0, 0, 0, 0],\n",
       "       [0, 0, 1, 0, 0, 0, 0, 0, 0, 0, 0, 0, 0, 0, 0, 0, 1, 0, 0, 0],\n",
       "       [0, 0, 0, 0, 0, 0, 0, 0, 0, 0, 0, 0, 0, 0, 0, 0, 0, 0, 0, 0],\n",
       "       [0, 0, 1, 0, 1, 0, 0, 0, 0, 0, 0, 0, 0, 1, 0, 0, 0, 0, 0, 0],\n",
       "       [0, 0, 1, 0, 0, 0, 0, 0, 0, 0, 0, 0, 0, 1, 0, 0, 0, 0, 0, 1],\n",
       "       [0, 0, 0, 0, 0, 0, 0, 0, 0, 0, 0, 0, 0, 0, 0, 0, 0, 0, 0, 0],\n",
       "       [1, 1, 1, 1, 0, 0, 0, 0, 0, 1, 1, 1, 0, 1, 1, 1, 1, 0, 1, 1],\n",
       "       [0, 0, 1, 0, 0, 0, 0, 0, 0, 0, 0, 1, 0, 1, 0, 1, 1, 0, 0, 1],\n",
       "       [0, 0, 0, 0, 0, 0, 0, 0, 0, 0, 0, 0, 0, 0, 0, 0, 1, 0, 0, 0]])"
      ]
     },
     "execution_count": 200,
     "metadata": {},
     "output_type": "execute_result"
    }
   ],
   "source": [
    "mat"
   ]
  },
  {
   "cell_type": "code",
   "execution_count": 201,
   "metadata": {},
   "outputs": [
    {
     "data": {
      "text/plain": [
       "matrix([[0, 0, 0, 0, 0, 0, 0, 0, 0, 0, 0, 0, 0, 0, 0, 0, 0, 0, 0, 0],\n",
       "        [1, 0, 1, 1, 0, 1, 0, 0, 0, 1, 0, 0, 0, 0, 0, 0, 0, 0, 0, 0],\n",
       "        [0, 0, 0, 0, 0, 0, 0, 0, 0, 0, 0, 0, 0, 0, 0, 0, 0, 0, 0, 0],\n",
       "        [0, 0, 0, 0, 0, 0, 0, 0, 0, 0, 0, 0, 0, 0, 0, 0, 0, 0, 0, 0],\n",
       "        [0, 1, 0, 0, 0, 0, 1, 1, 1, 0, 0, 1, 1, 0, 0, 0, 0, 0, 0, 0],\n",
       "        [0, 0, 0, 0, 0, 0, 0, 0, 0, 0, 0, 0, 0, 0, 0, 0, 0, 0, 0, 0],\n",
       "        [0, 0, 0, 0, 0, 0, 0, 0, 0, 0, 0, 0, 0, 0, 0, 0, 0, 0, 0, 0],\n",
       "        [0, 0, 0, 0, 0, 0, 0, 0, 0, 0, 0, 0, 0, 0, 0, 0, 0, 0, 0, 0],\n",
       "        [0, 0, 0, 0, 0, 0, 0, 0, 0, 0, 0, 0, 0, 0, 0, 0, 0, 0, 0, 0],\n",
       "        [0, 1, 0, 0, 0, 0, 0, 0, 0, 0, 1, 0, 0, 1, 0, 1, 1, 1, 1, 1],\n",
       "        [0, 0, 0, 0, 0, 0, 0, 0, 0, 0, 0, 0, 0, 0, 0, 0, 0, 0, 0, 0],\n",
       "        [0, 0, 0, 0, 0, 0, 0, 0, 0, 0, 0, 0, 0, 0, 0, 0, 0, 0, 0, 0],\n",
       "        [0, 0, 0, 0, 0, 0, 0, 0, 0, 0, 0, 0, 0, 0, 0, 0, 0, 0, 0, 0],\n",
       "        [0, 0, 0, 0, 0, 0, 0, 0, 0, 1, 0, 0, 0, 0, 0, 0, 0, 0, 0, 0],\n",
       "        [0, 1, 0, 0, 0, 0, 0, 0, 0, 0, 0, 0, 0, 0, 0, 0, 0, 0, 0, 0],\n",
       "        [0, 0, 0, 0, 0, 0, 0, 0, 0, 1, 0, 0, 0, 0, 0, 0, 0, 0, 0, 0],\n",
       "        [0, 0, 0, 0, 0, 0, 0, 0, 0, 0, 0, 0, 0, 0, 0, 0, 0, 0, 0, 0],\n",
       "        [0, 0, 0, 0, 0, 0, 0, 0, 0, 0, 0, 0, 0, 0, 0, 0, 0, 0, 0, 0],\n",
       "        [0, 0, 0, 0, 0, 0, 0, 0, 0, 0, 0, 0, 0, 0, 0, 0, 0, 0, 0, 0],\n",
       "        [0, 0, 0, 0, 0, 0, 0, 0, 0, 0, 0, 0, 0, 0, 0, 0, 0, 0, 0, 0]],\n",
       "       dtype=int64)"
      ]
     },
     "execution_count": 201,
     "metadata": {},
     "output_type": "execute_result"
    }
   ],
   "source": [
    "Y"
   ]
  },
  {
   "cell_type": "code",
   "execution_count": 202,
   "metadata": {},
   "outputs": [],
   "source": [
    "from baseline_common import compute_metrics"
   ]
  },
  {
   "cell_type": "code",
   "execution_count": 203,
   "metadata": {},
   "outputs": [
    {
     "data": {
      "text/plain": [
       "(0.08333333333333333, 0.36363636363636365, 102)"
      ]
     },
     "execution_count": 203,
     "metadata": {},
     "output_type": "execute_result"
    }
   ],
   "source": [
    "prec, recall, shd = compute_metrics(mat, Y.transpose())\n",
    "prec, recall, shd"
   ]
  },
  {
   "cell_type": "code",
   "execution_count": 204,
   "metadata": {},
   "outputs": [
    {
     "data": {
      "text/plain": [
       "(0.07291666666666667, 0.3181818181818182, 104)"
      ]
     },
     "execution_count": 204,
     "metadata": {},
     "output_type": "execute_result"
    }
   ],
   "source": [
    "prec, recall, shd = compute_metrics(mat, Y)\n",
    "prec, recall, shd"
   ]
  },
  {
   "cell_type": "code",
   "execution_count": null,
   "metadata": {},
   "outputs": [],
   "source": [
    "# draw the network"
   ]
  },
  {
   "cell_type": "code",
   "execution_count": 140,
   "metadata": {},
   "outputs": [
    {
     "data": {
      "text/html": [
       "<div>\n",
       "<style scoped>\n",
       "    .dataframe tbody tr th:only-of-type {\n",
       "        vertical-align: middle;\n",
       "    }\n",
       "\n",
       "    .dataframe tbody tr th {\n",
       "        vertical-align: top;\n",
       "    }\n",
       "\n",
       "    .dataframe thead th {\n",
       "        text-align: right;\n",
       "    }\n",
       "</style>\n",
       "<table border=\"1\" class=\"dataframe\">\n",
       "  <thead>\n",
       "    <tr style=\"text-align: right;\">\n",
       "      <th></th>\n",
       "      <th>0</th>\n",
       "      <th>1</th>\n",
       "      <th>2</th>\n",
       "      <th>3</th>\n",
       "      <th>4</th>\n",
       "      <th>5</th>\n",
       "      <th>6</th>\n",
       "      <th>7</th>\n",
       "      <th>8</th>\n",
       "      <th>9</th>\n",
       "    </tr>\n",
       "  </thead>\n",
       "  <tbody>\n",
       "    <tr>\n",
       "      <th>0</th>\n",
       "      <td>-1.467719</td>\n",
       "      <td>3.410803</td>\n",
       "      <td>0.301644</td>\n",
       "      <td>1.841416</td>\n",
       "      <td>-0.357911</td>\n",
       "      <td>-0.464067</td>\n",
       "      <td>-0.422286</td>\n",
       "      <td>0.717824</td>\n",
       "      <td>2.501813</td>\n",
       "      <td>0.917540</td>\n",
       "    </tr>\n",
       "    <tr>\n",
       "      <th>1</th>\n",
       "      <td>1.228571</td>\n",
       "      <td>-3.361018</td>\n",
       "      <td>-2.078161</td>\n",
       "      <td>-0.162477</td>\n",
       "      <td>-2.370808</td>\n",
       "      <td>-0.628299</td>\n",
       "      <td>1.952434</td>\n",
       "      <td>1.692733</td>\n",
       "      <td>-3.329531</td>\n",
       "      <td>-1.279338</td>\n",
       "    </tr>\n",
       "    <tr>\n",
       "      <th>2</th>\n",
       "      <td>-0.105726</td>\n",
       "      <td>-4.655333</td>\n",
       "      <td>-5.624275</td>\n",
       "      <td>-0.926133</td>\n",
       "      <td>-0.571311</td>\n",
       "      <td>1.380266</td>\n",
       "      <td>0.536243</td>\n",
       "      <td>-1.079457</td>\n",
       "      <td>-0.728723</td>\n",
       "      <td>1.806709</td>\n",
       "    </tr>\n",
       "    <tr>\n",
       "      <th>3</th>\n",
       "      <td>-0.732111</td>\n",
       "      <td>1.290430</td>\n",
       "      <td>4.100698</td>\n",
       "      <td>-1.740641</td>\n",
       "      <td>-2.556170</td>\n",
       "      <td>0.041560</td>\n",
       "      <td>-1.864843</td>\n",
       "      <td>-0.709877</td>\n",
       "      <td>1.576080</td>\n",
       "      <td>-0.876751</td>\n",
       "    </tr>\n",
       "    <tr>\n",
       "      <th>4</th>\n",
       "      <td>-0.893726</td>\n",
       "      <td>0.127030</td>\n",
       "      <td>-0.445743</td>\n",
       "      <td>0.974709</td>\n",
       "      <td>-3.664015</td>\n",
       "      <td>0.268499</td>\n",
       "      <td>-0.896767</td>\n",
       "      <td>-2.819956</td>\n",
       "      <td>1.744045</td>\n",
       "      <td>1.008054</td>\n",
       "    </tr>\n",
       "    <tr>\n",
       "      <th>...</th>\n",
       "      <td>...</td>\n",
       "      <td>...</td>\n",
       "      <td>...</td>\n",
       "      <td>...</td>\n",
       "      <td>...</td>\n",
       "      <td>...</td>\n",
       "      <td>...</td>\n",
       "      <td>...</td>\n",
       "      <td>...</td>\n",
       "      <td>...</td>\n",
       "    </tr>\n",
       "    <tr>\n",
       "      <th>995</th>\n",
       "      <td>0.168173</td>\n",
       "      <td>-1.791779</td>\n",
       "      <td>-2.842672</td>\n",
       "      <td>-0.221604</td>\n",
       "      <td>0.932999</td>\n",
       "      <td>1.513192</td>\n",
       "      <td>1.689471</td>\n",
       "      <td>3.533341</td>\n",
       "      <td>1.346443</td>\n",
       "      <td>-0.815981</td>\n",
       "    </tr>\n",
       "    <tr>\n",
       "      <th>996</th>\n",
       "      <td>-0.587997</td>\n",
       "      <td>4.885264</td>\n",
       "      <td>7.808044</td>\n",
       "      <td>-0.815227</td>\n",
       "      <td>1.187311</td>\n",
       "      <td>-1.296469</td>\n",
       "      <td>-1.501275</td>\n",
       "      <td>-0.426248</td>\n",
       "      <td>3.249485</td>\n",
       "      <td>-0.782879</td>\n",
       "    </tr>\n",
       "    <tr>\n",
       "      <th>997</th>\n",
       "      <td>-1.239039</td>\n",
       "      <td>3.125509</td>\n",
       "      <td>2.007983</td>\n",
       "      <td>-0.592581</td>\n",
       "      <td>0.334867</td>\n",
       "      <td>0.774163</td>\n",
       "      <td>-1.429323</td>\n",
       "      <td>-2.553879</td>\n",
       "      <td>1.391263</td>\n",
       "      <td>-0.576443</td>\n",
       "    </tr>\n",
       "    <tr>\n",
       "      <th>998</th>\n",
       "      <td>-0.892920</td>\n",
       "      <td>1.471275</td>\n",
       "      <td>1.764997</td>\n",
       "      <td>0.514787</td>\n",
       "      <td>-1.141836</td>\n",
       "      <td>-0.851943</td>\n",
       "      <td>-0.318201</td>\n",
       "      <td>-1.978312</td>\n",
       "      <td>0.255757</td>\n",
       "      <td>0.612336</td>\n",
       "    </tr>\n",
       "    <tr>\n",
       "      <th>999</th>\n",
       "      <td>-1.642484</td>\n",
       "      <td>1.162922</td>\n",
       "      <td>0.410187</td>\n",
       "      <td>0.125272</td>\n",
       "      <td>-1.304576</td>\n",
       "      <td>-0.554765</td>\n",
       "      <td>1.235746</td>\n",
       "      <td>-0.150289</td>\n",
       "      <td>0.812846</td>\n",
       "      <td>-0.922167</td>\n",
       "    </tr>\n",
       "  </tbody>\n",
       "</table>\n",
       "<p>1000 rows × 10 columns</p>\n",
       "</div>"
      ],
      "text/plain": [
       "            0         1         2         3         4         5         6  \\\n",
       "0   -1.467719  3.410803  0.301644  1.841416 -0.357911 -0.464067 -0.422286   \n",
       "1    1.228571 -3.361018 -2.078161 -0.162477 -2.370808 -0.628299  1.952434   \n",
       "2   -0.105726 -4.655333 -5.624275 -0.926133 -0.571311  1.380266  0.536243   \n",
       "3   -0.732111  1.290430  4.100698 -1.740641 -2.556170  0.041560 -1.864843   \n",
       "4   -0.893726  0.127030 -0.445743  0.974709 -3.664015  0.268499 -0.896767   \n",
       "..        ...       ...       ...       ...       ...       ...       ...   \n",
       "995  0.168173 -1.791779 -2.842672 -0.221604  0.932999  1.513192  1.689471   \n",
       "996 -0.587997  4.885264  7.808044 -0.815227  1.187311 -1.296469 -1.501275   \n",
       "997 -1.239039  3.125509  2.007983 -0.592581  0.334867  0.774163 -1.429323   \n",
       "998 -0.892920  1.471275  1.764997  0.514787 -1.141836 -0.851943 -0.318201   \n",
       "999 -1.642484  1.162922  0.410187  0.125272 -1.304576 -0.554765  1.235746   \n",
       "\n",
       "            7         8         9  \n",
       "0    0.717824  2.501813  0.917540  \n",
       "1    1.692733 -3.329531 -1.279338  \n",
       "2   -1.079457 -0.728723  1.806709  \n",
       "3   -0.709877  1.576080 -0.876751  \n",
       "4   -2.819956  1.744045  1.008054  \n",
       "..        ...       ...       ...  \n",
       "995  3.533341  1.346443 -0.815981  \n",
       "996 -0.426248  3.249485 -0.782879  \n",
       "997 -2.553879  1.391263 -0.576443  \n",
       "998 -1.978312  0.255757  0.612336  \n",
       "999 -0.150289  0.812846 -0.922167  \n",
       "\n",
       "[1000 rows x 10 columns]"
      ]
     },
     "execution_count": 140,
     "metadata": {},
     "output_type": "execute_result"
    }
   ],
   "source": [
    "x"
   ]
  },
  {
   "cell_type": "code",
   "execution_count": 148,
   "metadata": {},
   "outputs": [
    {
     "data": {
      "text/plain": [
       "array([[-1.46771903,  3.41080291,  0.30164368, ...,  0.71782436,\n",
       "         2.50181339,  0.91754021],\n",
       "       [ 1.2285708 , -3.36101846, -2.07816117, ...,  1.69273315,\n",
       "        -3.3295314 , -1.27933818],\n",
       "       [-0.10572589, -4.65533324, -5.62427472, ..., -1.07945679,\n",
       "        -0.7287235 ,  1.8067093 ],\n",
       "       ...,\n",
       "       [-1.2390393 ,  3.12550932,  2.00798292, ..., -2.55387905,\n",
       "         1.39126348, -0.57644252],\n",
       "       [-0.89291962,  1.47127502,  1.76499721, ..., -1.97831156,\n",
       "         0.25575685,  0.61233607],\n",
       "       [-1.64248415,  1.1629223 ,  0.41018736, ..., -0.15028858,\n",
       "         0.8128461 , -0.92216737]])"
      ]
     },
     "execution_count": 148,
     "metadata": {},
     "output_type": "execute_result"
    }
   ],
   "source": [
    "np.array(x)"
   ]
  },
  {
   "cell_type": "code",
   "execution_count": 157,
   "metadata": {},
   "outputs": [
    {
     "data": {
      "text/plain": [
       "array([[ 945.31176174, 2641.30621616, 2048.24829303, ...,  523.78411051,\n",
       "        2196.18098929,  775.88460451],\n",
       "       [4993.63936596, 9717.16947203, 3322.42401928, ...,  145.14264032,\n",
       "        4891.32405643,   52.54661569],\n",
       "       [2917.27562782, 7916.7730685 , 2659.55504659, ...,  502.77351219,\n",
       "        3853.06657636,  670.41127235],\n",
       "       ...,\n",
       "       [2712.29889502, 5787.80210523, 2343.64426728, ...,  477.90253901,\n",
       "        3330.12492166,  600.74639446],\n",
       "       [ 286.53087038,  465.64643791,  462.23619668, ...,  469.54975687,\n",
       "         388.01827218,  832.40172903],\n",
       "       [2001.21323071, 4297.98184589, 2860.32987142, ...,  388.05761894,\n",
       "        3372.99265047,  728.31222469]])"
      ]
     },
     "execution_count": 157,
     "metadata": {},
     "output_type": "execute_result"
    }
   ],
   "source": [
    "np.array(X, dtype=np.float)"
   ]
  },
  {
   "cell_type": "code",
   "execution_count": 152,
   "metadata": {},
   "outputs": [
    {
     "data": {
      "text/plain": [
       "dtype('O')"
      ]
     },
     "execution_count": 152,
     "metadata": {},
     "output_type": "execute_result"
    }
   ],
   "source": [
    "X.dtype"
   ]
  },
  {
   "cell_type": "code",
   "execution_count": null,
   "metadata": {},
   "outputs": [],
   "source": [
    "# run NOTEARS\n",
    "\n",
    "mat = (mat != 0).astype(np.int)\n",
    "# CAUTION here seems that I must do y.transpose()\n",
    "prec, recall, shd = compute_metrics(mat, y.transpose())\n",
    "print('prec:', prec, 'recall:', recall, 'shd:', shd)"
   ]
  },
  {
   "cell_type": "markdown",
   "metadata": {},
   "source": [
    "## testing networkX library"
   ]
  },
  {
   "cell_type": "code",
   "execution_count": 31,
   "metadata": {},
   "outputs": [],
   "source": [
    "import networkx as nx"
   ]
  },
  {
   "cell_type": "code",
   "execution_count": 47,
   "metadata": {},
   "outputs": [],
   "source": [
    "g = nx.DiGraph()"
   ]
  },
  {
   "cell_type": "code",
   "execution_count": 48,
   "metadata": {},
   "outputs": [
    {
     "data": {
      "text/plain": [
       "True"
      ]
     },
     "execution_count": 48,
     "metadata": {},
     "output_type": "execute_result"
    }
   ],
   "source": [
    "g.is_directed()"
   ]
  },
  {
   "cell_type": "code",
   "execution_count": 49,
   "metadata": {},
   "outputs": [],
   "source": [
    "g.add_node(\"hello\")\n",
    "g.add_node(3)"
   ]
  },
  {
   "cell_type": "code",
   "execution_count": 55,
   "metadata": {},
   "outputs": [],
   "source": [
    "g.add_edge(3, \"hello\")"
   ]
  },
  {
   "cell_type": "code",
   "execution_count": 56,
   "metadata": {},
   "outputs": [],
   "source": [
    "g.add_edge(\"hello\", 3)"
   ]
  },
  {
   "cell_type": "code",
   "execution_count": 35,
   "metadata": {},
   "outputs": [],
   "source": [
    "import matplotlib.pyplot as plt"
   ]
  },
  {
   "cell_type": "code",
   "execution_count": 70,
   "metadata": {},
   "outputs": [
    {
     "data": {
      "image/png": "[encoded data removed]",
      "text/plain": [
       "<Figure size 432x288 with 1 Axes>"
      ]
     },
     "metadata": {},
     "output_type": "display_data"
    }
   ],
   "source": [
    "nx.draw(g, pos=nx.spring_layout(g), with_labels=True)"
   ]
  },
  {
   "cell_type": "code",
   "execution_count": 88,
   "metadata": {},
   "outputs": [
    {
     "data": {
      "image/png": "[encoded data removed]",
      "text/plain": [
       "<Figure size 432x288 with 1 Axes>"
      ]
     },
     "metadata": {},
     "output_type": "display_data"
    }
   ],
   "source": [
    "pos = nx.spring_layout(g)\n",
    "nx.draw_networkx_nodes(g, pos, node_color='white', edgecolors='black')\n",
    "nx.draw_networkx_edges(g, pos, arrowsize=20)\n",
    "# for p in pos:  # raise text positions\n",
    "#     pos[p][1] += 0.1\n",
    "nx.draw_networkx_labels(g, pos, font_color='red')\n",
    "plt.show()"
   ]
  },
  {
   "cell_type": "markdown",
   "metadata": {},
   "source": [
    "## Run the daemon"
   ]
  },
  {
   "cell_type": "code",
   "execution_count": null,
   "metadata": {},
   "outputs": [],
   "source": [
    "# FIXME no GPU detected\n",
    "from baseline import run_many, main, table, get_dataset_fname"
   ]
  },
  {
   "cell_type": "code",
   "execution_count": null,
   "metadata": {},
   "outputs": [],
   "source": [
    "from baseline import get_dataset_fname_old, load_results"
   ]
  },
  {
   "cell_type": "code",
   "execution_count": null,
   "metadata": {},
   "outputs": [],
   "source": [
    "main()"
   ]
  },
  {
   "cell_type": "code",
   "execution_count": null,
   "metadata": {},
   "outputs": [],
   "source": [
    "# TODO generate table suitable for view\n",
    "# TODO save the view\n",
    "table()"
   ]
  },
  {
   "cell_type": "code",
   "execution_count": null,
   "metadata": {},
   "outputs": [],
   "source": [
    "def pdtable():\n",
    "    res = load_results()\n",
    "    # generate csv directly\n",
    "    # csv.write()\n",
    "    with open('results/method.csv', 'w') as fp:\n",
    "        writer = csv.writer(fp)\n",
    "        # header\n",
    "        writer.writerow(['model', 'prec', 'recall', 'shd', 'time'])\n",
    "        for d in [10, 20, 50, 100]:\n",
    "            # CAUTION fixed \"SF\" here\n",
    "            #\n",
    "            # FIXME reading previous results\n",
    "            name = get_dataset_fname_old(d, 'SF')\n",
    "            methods = ['PC', 'GES', \n",
    "                       # CAM is a little slow\n",
    "#                        'CAM',\n",
    "                       'RCC-CLF', 'RCC-NN',\n",
    "                       'notears', 'DAG-GNN']\n",
    "#             if d < 50:\n",
    "#                 methods += ['RL-BIC']\n",
    "            for method in methods:\n",
    "                tmp = res[name][method]\n",
    "                tmp = ['{:.1f}'.format(tmp[0] * 100),\n",
    "                       '{:.1f}'.format(tmp[1] * 100),\n",
    "                       tmp[2],\n",
    "                       '{:.2f}'.format(tmp[3])]\n",
    "                # tmp = list(map(lambda x: '{:.3f}'.format(x), tmp))\n",
    "                tmp = [method] + tmp\n",
    "                writer.writerow(tmp)\n",
    "            writer.writerow([])\n"
   ]
  },
  {
   "cell_type": "code",
   "execution_count": null,
   "metadata": {},
   "outputs": [],
   "source": [
    "result = load_results()"
   ]
  },
  {
   "cell_type": "code",
   "execution_count": null,
   "metadata": {},
   "outputs": [],
   "source": [
    "import pandas as pd"
   ]
  },
  {
   "cell_type": "code",
   "execution_count": null,
   "metadata": {},
   "outputs": [],
   "source": [
    "df = pd.DataFrame(columns=['method', 'd', 'prec', 'recall', 'shd'])"
   ]
  },
  {
   "cell_type": "code",
   "execution_count": null,
   "metadata": {},
   "outputs": [],
   "source": [
    "row1 = {'method': 'test', 'd': 5, 'prec': 0.3, 'recall': 0.23, 'shd': 23}"
   ]
  },
  {
   "cell_type": "code",
   "execution_count": null,
   "metadata": {},
   "outputs": [],
   "source": [
    "df.append(row1, ignore_index=True)"
   ]
  },
  {
   "cell_type": "code",
   "execution_count": null,
   "metadata": {},
   "outputs": [],
   "source": [
    "df"
   ]
  },
  {
   "cell_type": "code",
   "execution_count": null,
   "metadata": {},
   "outputs": [],
   "source": [
    "df = pd.DataFrame(columns=['method', 'd', 'prec', 'recall', 'shd'])\n",
    "for d in [10,20,50,100]:\n",
    "    name_sf = get_dataset_fname_old(d, 'SF')\n",
    "    name_er = get_dataset_fname_old(d, 'ER')\n",
    "    for method in ['PC', 'GES', 'RCC-CLF', 'RCC-NN', 'notears', 'DAG-GNN']:\n",
    "        tmp_sf = result[name_sf][method]\n",
    "        tmp_er = result[name_er][method]\n",
    "        df = df.append({'method': method,\n",
    "                  'd': d,\n",
    "                  'prec': '{:.1f}'.format((tmp_sf[0] + tmp_er[0]) / 2 * 100),\n",
    "                  'recall': '{:.1f}'.format((tmp_sf[1] + tmp_er[1]) / 2 * 100),\n",
    "                  'shd': '{:.2f}'.format((tmp_sf[2] + tmp_er[2]) / 2)},\n",
    "                      ignore_index=True)\n",
    "df"
   ]
  },
  {
   "cell_type": "code",
   "execution_count": null,
   "metadata": {},
   "outputs": [],
   "source": [
    "result"
   ]
  },
  {
   "cell_type": "code",
   "execution_count": null,
   "metadata": {},
   "outputs": [],
   "source": []
  },
  {
   "cell_type": "markdown",
   "metadata": {},
   "source": [
    "# Playground"
   ]
  },
  {
   "cell_type": "markdown",
   "metadata": {},
   "source": [
    "## Disabling cuda\n",
    "\n",
    "My intention is to globally set whether to use cuda or not. The code has xxxtensor.cuda(), so that I can globally turn on cuda without changing the code. The motivation is that DAG-GNN has its layer creating CPU tensors, and that would throw error when computing with CUDA tensors. I can disable .cuda() semantics to be compatible with DAG-GNN's code without modifying it.\n",
    "\n",
    "UPDATE: I still need to check `torch.cuda.is_available()` before calling `tensor.cuda()`, otherwise exception is thrown. I'm not using this, and instead disabled `.cuda()` calls by `use_cuda` variable in `baseline_daggnn.py`"
   ]
  },
  {
   "cell_type": "code",
   "execution_count": null,
   "metadata": {},
   "outputs": [],
   "source": [
    "import torch, os"
   ]
  },
  {
   "cell_type": "code",
   "execution_count": null,
   "metadata": {},
   "outputs": [],
   "source": [
    "# This must be run before any torch API calls\n",
    "os.putenv('CUDA_VISIBLE_DEVICES', '')"
   ]
  },
  {
   "cell_type": "code",
   "execution_count": null,
   "metadata": {},
   "outputs": [],
   "source": [
    "os.getenv('CUDA_VISIBLE_DEVICES')"
   ]
  },
  {
   "cell_type": "code",
   "execution_count": null,
   "metadata": {},
   "outputs": [],
   "source": [
    "torch.cuda.is_available()"
   ]
  },
  {
   "cell_type": "code",
   "execution_count": null,
   "metadata": {},
   "outputs": [],
   "source": [
    "torch.cuda.current_device()"
   ]
  },
  {
   "cell_type": "code",
   "execution_count": null,
   "metadata": {},
   "outputs": [],
   "source": [
    "torch.cuda.device(None)"
   ]
  },
  {
   "cell_type": "code",
   "execution_count": null,
   "metadata": {},
   "outputs": [],
   "source": [
    "torch.cuda.device_count()"
   ]
  },
  {
   "cell_type": "markdown",
   "metadata": {},
   "source": [
    "## Testing pygobnilp"
   ]
  },
  {
   "cell_type": "code",
   "execution_count": null,
   "metadata": {},
   "outputs": [],
   "source": [
    "!export HTTPS_PROXY=\"http://172.18.0.1:8889\""
   ]
  },
  {
   "cell_type": "code",
   "execution_count": null,
   "metadata": {},
   "outputs": [],
   "source": [
    "!pip install pygobnilp"
   ]
  },
  {
   "cell_type": "code",
   "execution_count": null,
   "metadata": {},
   "outputs": [],
   "source": [
    "from pygobnilp.gobnilp import Gobnilp\n",
    "m = Gobnilp()"
   ]
  },
  {
   "cell_type": "code",
   "execution_count": null,
   "metadata": {},
   "outputs": [],
   "source": [
    "m.learn('/home/jovyan/data/gaussian.dat',data_type='continuous',score='BGe')"
   ]
  },
  {
   "cell_type": "code",
   "execution_count": null,
   "metadata": {},
   "outputs": [],
   "source": [
    "m.learn('discrete.dat')"
   ]
  }
 ],
 "metadata": {
  "kernelspec": {
   "display_name": "Python 3",
   "language": "python",
   "name": "python3"
  },
  "language_info": {
   "codemirror_mode": {
    "name": "ipython",
    "version": 3
   },
   "file_extension": ".py",
   "mimetype": "text/x-python",
   "name": "python",
   "nbconvert_exporter": "python",
   "pygments_lexer": "ipython3",
   "version": "3.9.1"
  }
 },
 "nbformat": 4,
 "nbformat_minor": 4
}
