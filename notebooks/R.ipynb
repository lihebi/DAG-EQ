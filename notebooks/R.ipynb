{
 "cells": [
  {
   "cell_type": "code",
   "execution_count": null,
   "id": "ee69a2ce-8ed5-433c-8432-e047a1363ee5",
   "metadata": {},
   "outputs": [],
   "source": [
    "version"
   ]
  },
  {
   "cell_type": "markdown",
   "id": "67439edb-876c-4e30-95a2-33690ad0f67b",
   "metadata": {},
   "source": [
    "## R packages (this is so unhumanity)\n",
    "\n",
    "\n",
    "- this will consume a lot of network traffic. Need to be careful when using proxy\n",
    "- this needs some time for compilation\n",
    "\n",
    "```\n",
    "# graph is not available in default repo\n",
    "> install.packages(\"BiocManager\")\n",
    "# dependencies for pcalg\n",
    "> BiocManager::install(\"graph\")\n",
    "> BiocManager::install(\"RBGL\")\n",
    "\n",
    "> install.packages(\"pcalg\")\n",
    "> install.packages(\"kpcalg\")\n",
    "> BiocManager::install(\"usethis\")\n",
    "> install.packages(\"devtools\")\n",
    "> library(devtools)\n",
    "> install_github(\"Diviyan-Kalainathan/RCIT\")\n",
    "> library(RCIT)\n",
    "```\n",
    "\n",
    "CAM needs to be downloaded and install from file.\n",
    "\n",
    "```\n",
    "> install.packages(\"/path/to/CAM_1.0.tar.gz\")\n",
    "```"
   ]
  },
  {
   "cell_type": "code",
   "execution_count": null,
   "id": "614b8204-5a50-4e9f-8896-3b5177b2e8a1",
   "metadata": {},
   "outputs": [],
   "source": [
    "install.packages(\"BiocManager\")"
   ]
  },
  {
   "cell_type": "code",
   "execution_count": null,
   "id": "44850ae9-d307-495b-84c5-b8777f5bf7ce",
   "metadata": {},
   "outputs": [],
   "source": [
    "BiocManager::install(\"graph\")"
   ]
  },
  {
   "cell_type": "code",
   "execution_count": null,
   "id": "311abc83-61b6-4670-ac8c-1782cdb12652",
   "metadata": {},
   "outputs": [],
   "source": [
    "BiocManager::install(\"RBGL\")"
   ]
  },
  {
   "cell_type": "code",
   "execution_count": null,
   "id": "90caf31f-17a2-4262-8e3f-ef5e9af344b1",
   "metadata": {},
   "outputs": [],
   "source": [
    "install.packages(\"glmnet\")"
   ]
  },
  {
   "cell_type": "code",
   "execution_count": null,
   "id": "8d70efeb-de52-456e-a946-2fb6ce613659",
   "metadata": {},
   "outputs": [],
   "source": [
    "install.packages(\"mboost\")"
   ]
  },
  {
   "cell_type": "code",
   "execution_count": null,
   "id": "154f615d-9549-4c01-9ff8-a55364ab50e6",
   "metadata": {},
   "outputs": [],
   "source": [
    "# Running this inside terminal reviews ERRORS:\n",
    "# glmnet\n",
    "# mboost\n",
    "install.packages(\"https://cran.r-project.org/src/contrib/Archive/CAM/CAM_1.0.tar.gz\")"
   ]
  },
  {
   "cell_type": "code",
   "execution_count": null,
   "id": "10ec5c3b-f13e-4209-99c1-3c213a56af8d",
   "metadata": {},
   "outputs": [],
   "source": [
    "library(CAM)"
   ]
  },
  {
   "cell_type": "code",
   "execution_count": null,
   "id": "17285672-9c77-402d-b1c1-4e53668ca941",
   "metadata": {},
   "outputs": [],
   "source": [
    "install.packages(\"pcalg\")"
   ]
  },
  {
   "cell_type": "code",
   "execution_count": null,
   "id": "8a2c6d3c-ee54-45d9-a098-e431250a4dac",
   "metadata": {},
   "outputs": [],
   "source": [
    "library(pcalg)"
   ]
  },
  {
   "cell_type": "code",
   "execution_count": null,
   "id": "ca7cc064-9b68-4dc3-a861-3ebc3523333e",
   "metadata": {},
   "outputs": [],
   "source": [
    "BiocManager::install(\"callr\")"
   ]
  },
  {
   "cell_type": "code",
   "execution_count": null,
   "id": "9dbd66f1-10dd-4b4d-b0da-e2f658fc8610",
   "metadata": {},
   "outputs": [],
   "source": [
    "install.packages(\"kpcalg\")"
   ]
  },
  {
   "cell_type": "code",
   "execution_count": null,
   "id": "bd576d26-0fe1-4464-9ce3-47d040fb0432",
   "metadata": {},
   "outputs": [],
   "source": [
    "install.packages(\"usethis\")"
   ]
  },
  {
   "cell_type": "code",
   "execution_count": null,
   "id": "7bda073a-5124-4e54-8d8b-402c4ea0b1ca",
   "metadata": {},
   "outputs": [],
   "source": [
    "install.packages(\"devtools\")"
   ]
  },
  {
   "cell_type": "code",
   "execution_count": null,
   "id": "6f43f316-7e7b-4164-9fbe-530f27cd3259",
   "metadata": {},
   "outputs": [],
   "source": [
    "library(devtools)"
   ]
  },
  {
   "cell_type": "code",
   "execution_count": null,
   "id": "02914846-f7a8-4b59-af8c-c540c529f31d",
   "metadata": {},
   "outputs": [],
   "source": [
    "install_github(\"Diviyan-Kalainathan/RCIT\")"
   ]
  },
  {
   "cell_type": "code",
   "execution_count": null,
   "id": "eadbedff-2e8b-4a7f-adee-8a96316437a0",
   "metadata": {},
   "outputs": [],
   "source": [
    "library(RCIT)"
   ]
  },
  {
   "cell_type": "code",
   "execution_count": null,
   "id": "0a1812fd-16a7-4981-bf94-e7aa2f21a39d",
   "metadata": {},
   "outputs": [],
   "source": []
  }
 ],
 "metadata": {
  "kernelspec": {
   "display_name": "R",
   "language": "R",
   "name": "ir"
  },
  "language_info": {
   "codemirror_mode": "r",
   "file_extension": ".r",
   "mimetype": "text/x-r-source",
   "name": "R",
   "pygments_lexer": "r",
   "version": "4.0.3"
  }
 },
 "nbformat": 4,
 "nbformat_minor": 5
}
