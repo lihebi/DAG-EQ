{
 "cells": [
  {
   "cell_type": "code",
   "execution_count": null,
   "metadata": {},
   "outputs": [],
   "source": [
    "using GraphPlot: gplot, circular_layout"
   ]
  },
  {
   "cell_type": "code",
   "execution_count": null,
   "metadata": {},
   "outputs": [],
   "source": [
    "include(\"data_graph.jl\")"
   ]
  },
  {
   "cell_type": "code",
   "execution_count": null,
   "metadata": {},
   "outputs": [],
   "source": [
    "# Actually this works! Got it from:\n",
    "# https://discourse.julialang.org/t/re-importing-modules-with-changes-in-the-code/9192/4\n",
    "Revise.track(\"data_graph.jl\")"
   ]
  },
  {
   "cell_type": "code",
   "execution_count": null,
   "metadata": {},
   "outputs": [],
   "source": [
    "using .MyDataGraph"
   ]
  },
  {
   "cell_type": "code",
   "execution_count": null,
   "metadata": {},
   "outputs": [],
   "source": [
    "gen_graphs_hard"
   ]
  },
  {
   "cell_type": "code",
   "execution_count": null,
   "metadata": {},
   "outputs": [],
   "source": [
    "graphs = gen_graphs_hard(DataSpec(d=10, k=1, gtype=:ER,\n",
    "                                      noise=:Gaussian))[1:11]"
   ]
  },
  {
   "cell_type": "code",
   "execution_count": null,
   "metadata": {},
   "outputs": [],
   "source": [
    "g = graphs[1]"
   ]
  },
  {
   "cell_type": "code",
   "execution_count": null,
   "metadata": {},
   "outputs": [],
   "source": [
    "gplot(g, nodelabel=1:nv(g), layout=circular_layout)"
   ]
  },
  {
   "cell_type": "code",
   "execution_count": null,
   "metadata": {},
   "outputs": [],
   "source": [
    "myplot(g)"
   ]
  },
  {
   "cell_type": "markdown",
   "metadata": {},
   "source": [
    "# Seeding and deterministic graph generation\n",
    "\n",
    "- set seeding before generation of each size/type graph\n",
    "- compare if they are same, across machines\n",
    "- give it a special filename with seeds used"
   ]
  },
  {
   "cell_type": "code",
   "execution_count": null,
   "metadata": {},
   "outputs": [],
   "source": [
    "include(\"data_graph.jl\")"
   ]
  },
  {
   "cell_type": "code",
   "execution_count": null,
   "metadata": {},
   "outputs": [],
   "source": [
    "spec = DataSpec(d=10, k=1, gtype=:SF, noise=:Gaussian, mechanism=:Linear, mat=:COR)"
   ]
  },
  {
   "cell_type": "code",
   "execution_count": null,
   "metadata": {},
   "outputs": [],
   "source": [
    "ds, test_ds = load_sup_ds(spec, spec.bsize)"
   ]
  },
  {
   "cell_type": "code",
   "execution_count": null,
   "metadata": {
    "scrolled": true
   },
   "outputs": [],
   "source": [
    "x, y = next_batch!(ds)"
   ]
  },
  {
   "cell_type": "code",
   "execution_count": null,
   "metadata": {},
   "outputs": [],
   "source": [
    "@show size(x)\n",
    "@show size(y)"
   ]
  },
  {
   "cell_type": "code",
   "execution_count": null,
   "metadata": {},
   "outputs": [],
   "source": [
    "# generating graphs\n",
    "graphs = gen_graphs_hard(spec)"
   ]
  },
  {
   "cell_type": "code",
   "execution_count": null,
   "metadata": {},
   "outputs": [],
   "source": [
    "size(graphs)"
   ]
  },
  {
   "cell_type": "code",
   "execution_count": null,
   "metadata": {},
   "outputs": [],
   "source": [
    "graphs[1]"
   ]
  },
  {
   "cell_type": "code",
   "execution_count": null,
   "metadata": {},
   "outputs": [],
   "source": [
    "myplot(graphs[1])"
   ]
  },
  {
   "cell_type": "code",
   "execution_count": null,
   "metadata": {},
   "outputs": [],
   "source": [
    "# it is different for different runs\n",
    "graphs = gen_graphs_hard(spec)\n",
    "@show graphs[1]\n",
    "myplot(graphs[1])"
   ]
  },
  {
   "cell_type": "code",
   "execution_count": null,
   "metadata": {},
   "outputs": [],
   "source": [
    "# set seeding\n",
    "Random.seed!(1234)\n",
    "# it is different for different runs\n",
    "graphs = gen_graphs_hard(spec)\n",
    "@show graphs[1]\n",
    "myplot(graphs[1])"
   ]
  },
  {
   "cell_type": "markdown",
   "metadata": {},
   "source": [
    "# Generate covariance / max_varinclude(\"data_graph.jl\")"
   ]
  },
  {
   "cell_type": "code",
   "execution_count": 1,
   "metadata": {},
   "outputs": [
    {
     "name": "stderr",
     "output_type": "stream",
     "text": [
      "WARNING: redefinition of constant pango_attrs. This may fail, cause incorrect answers, or produce other errors.\n"
     ]
    },
    {
     "data": {
      "text/plain": [
       "Sachs_ground_truth (generic function with 1 method)"
      ]
     },
     "execution_count": 1,
     "metadata": {},
     "output_type": "execute_result"
    }
   ],
   "source": [
    "include(\"data_graph.jl\")"
   ]
  },
  {
   "cell_type": "code",
   "execution_count": null,
   "metadata": {},
   "outputs": [],
   "source": [
    "g = gen_ER_dag(10)"
   ]
  },
  {
   "cell_type": "code",
   "execution_count": null,
   "metadata": {},
   "outputs": [],
   "source": [
    "myplot(g)"
   ]
  },
  {
   "cell_type": "code",
   "execution_count": null,
   "metadata": {},
   "outputs": [],
   "source": [
    "W = gen_weights(g, ()->((rand() * 1.5 + 0.5) * rand([1,-1])))"
   ]
  },
  {
   "cell_type": "code",
   "execution_count": null,
   "metadata": {},
   "outputs": [],
   "source": [
    "X = gen_data2(W, :Gaussian, 1000)"
   ]
  },
  {
   "cell_type": "code",
   "execution_count": null,
   "metadata": {},
   "outputs": [],
   "source": [
    "# the variance\n",
    "cov(X)"
   ]
  },
  {
   "cell_type": "code",
   "execution_count": null,
   "metadata": {},
   "outputs": [],
   "source": [
    "cor(X)"
   ]
  },
  {
   "cell_type": "code",
   "execution_count": null,
   "metadata": {},
   "outputs": [],
   "source": [
    "# the variance?\n",
    "var(X, dims=1)"
   ]
  },
  {
   "cell_type": "code",
   "execution_count": null,
   "metadata": {},
   "outputs": [],
   "source": [
    "maximum(var(X, dims=1))"
   ]
  },
  {
   "cell_type": "code",
   "execution_count": null,
   "metadata": {},
   "outputs": [],
   "source": [
    "maximum(cov(X))"
   ]
  },
  {
   "cell_type": "code",
   "execution_count": null,
   "metadata": {},
   "outputs": [],
   "source": [
    "cov(X) ./ maximum(var(X, dims=1))"
   ]
  },
  {
   "cell_type": "code",
   "execution_count": 2,
   "metadata": {},
   "outputs": [
    {
     "data": {
      "text/plain": [
       "DataSpec(10, 1, :SF, :Gaussian, :medCOV, :Linear, 3000, 3, 128, 1234)"
      ]
     },
     "execution_count": 2,
     "metadata": {},
     "output_type": "execute_result"
    }
   ],
   "source": [
    "# test the new data generation\n",
    "spec = DataSpec(d=10, k=1, gtype=:SF,\n",
    "        noise=:Gaussian, mechanism=:Linear, mat=:medCOV)"
   ]
  },
  {
   "cell_type": "code",
   "execution_count": null,
   "metadata": {},
   "outputs": [],
   "source": [
    "# test the new data generation\n",
    "spec = DataSpec(d=10, k=1, gtype=:SF,\n",
    "        noise=:Gaussian, mechanism=:Linear, mat=:COV)"
   ]
  },
  {
   "cell_type": "code",
   "execution_count": 3,
   "metadata": {},
   "outputs": [
    {
     "name": "stderr",
     "output_type": "stream",
     "text": [
      "┌ Info: generating training ds ..\n",
      "└ @ Main /home/jovyan/DAG-EQ/src/data_graph.jl:546\n",
      "\u001b[32mGenerating..100%|███████████████████████████████████████| Time: 0:00:07\u001b[39m\n",
      "┌ Info: generating testing ds ..\n",
      "└ @ Main /home/jovyan/DAG-EQ/src/data_graph.jl:548\n",
      "\u001b[32mGenerating..100%|███████████████████████████████████████| Time: 0:00:00\u001b[39m\n",
      "\u001b[32mGenerating raw XY ..100%|███████████████████████████████| Time: 0:00:00\u001b[39m\n",
      "┌ Info: Saved to data/SF-10-1234/d=10_k=1_gtype=SF_noise=Gaussian_mat=medCOV_mec=Linear.hdf5\n",
      "└ @ Main /home/jovyan/DAG-EQ/src/data_graph.jl:565\n"
     ]
    },
    {
     "data": {
      "text/plain": [
       "(DataSetIterator:\n",
       "  batch size: 16\n",
       "  number of batches: 450\n",
       "  x data shape: (10, 10, 7200)\n",
       "  y data shape: (10, 10, 7200)\n",
       "  current index: 1, DataSetIterator:\n",
       "  batch size: 16\n",
       "  number of batches: 112\n",
       "  x data shape: (10, 10, 1803)\n",
       "  y data shape: (10, 10, 1803)\n",
       "  current index: 1)"
      ]
     },
     "execution_count": 3,
     "metadata": {},
     "output_type": "execute_result"
    }
   ],
   "source": [
    "ds, test_ds = load_sup_ds(spec, 16)"
   ]
  },
  {
   "cell_type": "code",
   "execution_count": 4,
   "metadata": {},
   "outputs": [
    {
     "data": {
      "text/plain": [
       "([0.6731275468990583 0.5438004489940268 … -0.00985664005099088 -0.012768600689311783; 0.5438004489940268 0.7723611300776725 … 0.005474927818923468 0.015305457015813772; … ; -0.00985664005099088 0.005474927818923468 … 0.3582113626434276 0.6722792728622048; -0.012768600689311783 0.015305457015813772 … 0.6722792728622048 1.5864893589050653]\n",
       "\n",
       "[3.0402464398549434 1.4310679507563246 … 0.02866433199709855 -0.02519768711144409; 1.4310679507563246 1.0117632516280912 … 0.02924242928366101 -0.003941083454628399; … ; 0.02866433199709855 0.02924242928366101 … 0.946981992304027 0.01194507351583693; -0.02519768711144409 -0.003941083454628399 … 0.01194507351583693 0.9882367483719091]\n",
       "\n",
       "[0.9146732538512723 1.0302768214129832 … -0.19563801578641668 -0.18022289805589714; 1.0302768214129832 1.2544308129518589 … -0.22136725680312436 -0.20390317628041701; … ; -0.19563801578641668 -0.22136725680312436 … 0.0946350266669533 0.0020555760782717558; -0.18022289805589714 -0.20390317628041701 … 0.0020555760782717558 0.09458587013739378]\n",
       "\n",
       "...\n",
       "\n",
       "[1.7003144590558497 1.114195300217707 … 0.8766834830838831 -1.9526681627743385; 1.114195300217707 0.9430150761463807 … 0.7361050945224235 -1.6456589855733237; … ; 0.8766834830838831 0.7361050945224235 … 0.932613386082607 -1.2780830969743582; -1.9526681627743385 -1.6456589855733237 … -1.2780830969743582 3.260286436029887]\n",
       "\n",
       "[5.522790254586061 -0.7311019567560457 … -1.1012238612083796 10.466154700508772; -0.7311019567560457 0.5766505007981672 … -0.028613197066605974 -1.3748442313584988; … ; -1.1012238612083796 -0.028613197066605974 … 0.8358819032518049 -2.081523845156751; 10.466154700508772 -1.3748442313584988 … -2.081523845156751 20.36471805511399]\n",
       "\n",
       "[0.20713339948179768 0.17897764438587868 … -0.009189820958157579 0.019265078926487975; 0.17897764438587868 0.9827739002613579 … 0.5077500694047423 -1.3174616594701158; … ; -0.009189820958157579 0.5077500694047423 … 0.6390055502984607 -1.1135074762278763; 0.019265078926487975 -1.3174616594701158 … -1.1135074762278763 3.1093478921295814], [0 1 … 0 0; 0 0 … 0 0; … ; 0 0 … 0 1; 0 0 … 0 0]\n",
       "\n",
       "[0 0 … 0 0; 1 0 … 0 0; … ; 0 0 … 0 0; 0 0 … 0 0]\n",
       "\n",
       "[0 1 … 0 0; 0 0 … 0 0; … ; 1 0 … 0 0; 1 0 … 0 0]\n",
       "\n",
       "...\n",
       "\n",
       "[0 0 … 0 0; 1 0 … 1 1; … ; 0 0 … 0 0; 0 0 … 0 0]\n",
       "\n",
       "[0 0 … 0 1; 1 0 … 0 0; … ; 0 0 … 0 0; 0 0 … 0 0]\n",
       "\n",
       "[0 1 … 0 0; 0 0 … 0 0; … ; 0 0 … 0 0; 0 0 … 0 0])"
      ]
     },
     "execution_count": 4,
     "metadata": {},
     "output_type": "execute_result"
    }
   ],
   "source": [
    "x, y = next_batch!(ds)"
   ]
  },
  {
   "cell_type": "code",
   "execution_count": 5,
   "metadata": {},
   "outputs": [
    {
     "data": {
      "text/plain": [
       "10×10×16 Array{Float64,3}:\n",
       "[:, :, 1] =\n",
       "  0.673128     0.5438       0.330339    …  -0.00985664  -0.0127686\n",
       "  0.5438       0.772361     0.264453        0.00547493   0.0153055\n",
       "  0.330339     0.264453     0.314331        0.00409963   0.01503\n",
       "  0.557808     0.436194     0.532552       -0.00521478   0.00209277\n",
       " -0.5914      -0.452115    -0.563856       -0.0199747   -0.0608362\n",
       " -0.373825    -0.299864    -0.354081    …   0.318365     0.562672\n",
       "  1.03128      0.828179     0.510035       -0.00755068  -0.00538708\n",
       "  0.00990446  -0.00204558   0.00615406     -0.221664    -0.399952\n",
       " -0.00985664   0.00547493   0.00409963      0.358211     0.672279\n",
       " -0.0127686    0.0153055    0.01503         0.672279     1.58649\n",
       "\n",
       "[:, :, 2] =\n",
       "  3.04025     1.43107     -2.05281      1.7637    …   0.0286643   -0.0251977\n",
       "  1.43107     1.01176     -0.896895     0.775066      0.0292424   -0.00394108\n",
       " -2.05281    -0.896895     7.98476     -6.41025       1.68522      0.00325484\n",
       "  1.7637      0.775066    -6.41025     10.0868       -1.29231     -0.612159\n",
       "  2.13035     0.928762    -7.45474     11.7971       -1.48093     -0.710805\n",
       "  0.0677986   0.0264877   -0.0892708    1.93081   …   0.00107622  -0.0107607\n",
       "  0.0484743   0.021999     0.848403    -0.756948      0.0334364    0.0220879\n",
       " -0.0720695  -0.0682526   -1.30507      1.00393      -0.0125127    0.0485989\n",
       "  0.0286643   0.0292424    1.68522     -1.29231       0.946982     0.0119451\n",
       " -0.0251977  -0.00394108   0.00325484  -0.612159      0.0119451    0.988237\n",
       "\n",
       "[:, :, 3] =\n",
       "  0.914673    1.03028     0.528701   -0.95485    …  -0.195638     -0.180223\n",
       "  1.03028     1.25443     0.643847   -1.07558       -0.221367     -0.203903\n",
       "  0.528701    0.643847    0.424689   -0.550932      -0.112823     -0.10475\n",
       " -0.95485    -1.07558    -0.550932    1.08533        0.202426      0.190309\n",
       "  0.0742354   0.0829424   0.0433028  -0.0795119      0.000513032   0.00873866\n",
       "  1.90121     2.31561     1.18922    -1.98335    …  -0.407168     -0.379135\n",
       " -1.65922    -2.02126    -1.03422     1.7324         0.357061      0.326976\n",
       " -1.44853    -1.63178    -0.833501    1.50932        0.314317      0.282459\n",
       " -0.195638   -0.221367   -0.112823    0.202426       0.094635      0.00205558\n",
       " -0.180223   -0.203903   -0.10475     0.190309       0.00205558    0.0945859\n",
       "\n",
       "...\n",
       "\n",
       "[:, :, 14] =\n",
       "  1.70031    1.1142    -1.61949   …   0.547577   0.876683  -1.95267\n",
       "  1.1142     0.943015  -1.35184       0.460864   0.736105  -1.64566\n",
       " -1.61949   -1.35184    2.28524      -0.641882  -1.08014    2.34944\n",
       "  1.22383    1.03091   -1.45766       0.500456   0.802658  -1.79157\n",
       " -0.799755  -0.678626   0.95527      -0.328205  -0.53411    1.1797\n",
       " -0.97269   -0.63437    0.938751  …  -0.306367  -0.510402   1.11964\n",
       " -0.959253  -0.794208   1.14719      -0.396117  -0.617902   1.36706\n",
       "  0.547577   0.460864  -0.641882      0.372421   0.358092  -0.795362\n",
       "  0.876683   0.736105  -1.08014       0.358092   0.932613  -1.27808\n",
       " -1.95267   -1.64566    2.34944      -0.795362  -1.27808    3.26029\n",
       "\n",
       "[:, :, 15] =\n",
       "  5.52279   -0.731102     2.14628     …   3.43568    -1.10122     10.4662\n",
       " -0.731102   0.576651     0.0202894       0.0333984  -0.0286132   -1.37484\n",
       "  2.14628    0.0202894    1.16412         1.87279    -0.599199     4.07559\n",
       "  0.763441   0.00228317   0.41742         0.680562   -0.226163     1.43246\n",
       "  3.25321    0.0235524    1.75538         3.45999    -0.920999     6.16299\n",
       " -0.448184   0.323134    -0.00757922  …   0.0108415  -0.00483877  -0.826462\n",
       " -0.651407  -0.0322128   -0.362024       -0.572174    0.187506    -1.24934\n",
       "  3.43568    0.0333984    1.87279         4.29121    -0.975631     6.51193\n",
       " -1.10122   -0.0286132   -0.599199       -0.975631    0.835882    -2.08152\n",
       " 10.4662    -1.37484      4.07559         6.51193    -2.08152     20.3647\n",
       "\n",
       "[:, :, 16] =\n",
       "  0.207133      0.178978     0.217395  …  -0.00918982   0.0192651\n",
       "  0.178978      0.982774     1.15416       0.50775     -1.31746\n",
       "  0.217395      1.15416      2.21096       0.606918    -1.54595\n",
       "  0.00820015   -0.78096     -0.916271     -0.661612     1.72296\n",
       " -0.0217963     1.48877      1.74437       1.26718     -3.30553\n",
       "  0.000636225   0.317196     0.36679   …   0.259514    -0.682808\n",
       "  0.0492514    -2.95185     -3.48068      -2.50764      6.55465\n",
       "  0.00637673    0.00867042   0.367824      0.00422438  -0.00413476\n",
       " -0.00918982    0.50775      0.606918      0.639006    -1.11351\n",
       "  0.0192651    -1.31746     -1.54595      -1.11351      3.10935"
      ]
     },
     "execution_count": 5,
     "metadata": {},
     "output_type": "execute_result"
    }
   ],
   "source": [
    "x"
   ]
  },
  {
   "cell_type": "markdown",
   "metadata": {},
   "source": [
    "# Sachs 2005\n",
    "\n",
    "http://www.sciencemag.org/content/suppl/2005/04/21/308.5721.523.DC1/Sachs.SOM.Datasets.zip"
   ]
  },
  {
   "cell_type": "code",
   "execution_count": null,
   "metadata": {},
   "outputs": [],
   "source": [
    "url = \"http://www.sciencemag.org/content/suppl/2005/04/21/308.5721.523.DC1/Sachs.SOM.Datasets.zip\"\n",
    "download(url, \"Sachs.zip\")"
   ]
  },
  {
   "cell_type": "code",
   "execution_count": null,
   "metadata": {},
   "outputs": [],
   "source": [
    "unzip"
   ]
  },
  {
   "cell_type": "code",
   "execution_count": null,
   "metadata": {},
   "outputs": [],
   "source": [
    "# TODO use a pre-defined name \"Sachs\"\n",
    "run(`unzip Sachs.zip`)"
   ]
  },
  {
   "cell_type": "code",
   "execution_count": null,
   "metadata": {},
   "outputs": [],
   "source": [
    "import CSV"
   ]
  },
  {
   "cell_type": "code",
   "execution_count": null,
   "metadata": {},
   "outputs": [],
   "source": [
    "# It should be 11 column\n",
    "df = CSV.read(\"Sachs/1.cd3cd28.csv\")"
   ]
  },
  {
   "cell_type": "code",
   "execution_count": null,
   "metadata": {},
   "outputs": [],
   "source": [
    "SachsX = convert(Matrix, df)"
   ]
  },
  {
   "cell_type": "code",
   "execution_count": null,
   "metadata": {},
   "outputs": [],
   "source": [
    "include(\"data_graph.jl\")"
   ]
  },
  {
   "cell_type": "code",
   "execution_count": null,
   "metadata": {},
   "outputs": [],
   "source": [
    "SachsG = Sachs_ground_truth()"
   ]
  },
  {
   "cell_type": "code",
   "execution_count": null,
   "metadata": {},
   "outputs": [],
   "source": [
    "myplot(SachsG)"
   ]
  },
  {
   "cell_type": "code",
   "execution_count": null,
   "metadata": {},
   "outputs": [],
   "source": [
    "cov(SachsX)"
   ]
  },
  {
   "cell_type": "code",
   "execution_count": null,
   "metadata": {},
   "outputs": [],
   "source": [
    "@info var(SachsX, dims=1)"
   ]
  },
  {
   "cell_type": "code",
   "execution_count": null,
   "metadata": {},
   "outputs": [],
   "source": [
    "median(var(SachsX, dims=1))"
   ]
  },
  {
   "cell_type": "code",
   "execution_count": null,
   "metadata": {},
   "outputs": [],
   "source": [
    "maximum(var(SachsX, dims=1))"
   ]
  },
  {
   "cell_type": "code",
   "execution_count": null,
   "metadata": {},
   "outputs": [],
   "source": [
    "maximum(cov(SachsX))"
   ]
  },
  {
   "cell_type": "code",
   "execution_count": null,
   "metadata": {},
   "outputs": [],
   "source": [
    "COV2 = cov(SachsX) ./ maximum(var(SachsX, dims=1))"
   ]
  },
  {
   "cell_type": "code",
   "execution_count": null,
   "metadata": {},
   "outputs": [],
   "source": [
    "COV2 = cov(SachsX) ./ median(var(SachsX, dims=1))"
   ]
  },
  {
   "cell_type": "code",
   "execution_count": null,
   "metadata": {},
   "outputs": [],
   "source": []
  }
 ],
 "metadata": {
  "kernelspec": {
   "display_name": "Julia 1.5.0",
   "language": "julia",
   "name": "julia-1.5"
  },
  "language_info": {
   "file_extension": ".jl",
   "mimetype": "application/julia",
   "name": "julia",
   "version": "1.5.0"
  }
 },
 "nbformat": 4,
 "nbformat_minor": 4
}
