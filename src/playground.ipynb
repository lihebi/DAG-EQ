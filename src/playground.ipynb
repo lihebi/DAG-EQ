{
 "cells": [
  {
   "cell_type": "markdown",
   "metadata": {},
   "source": [
    "# Base.convert to String ambiguous issue"
   ]
  },
  {
   "cell_type": "code",
   "execution_count": null,
   "metadata": {},
   "outputs": [],
   "source": [
    "using Dates"
   ]
  },
  {
   "cell_type": "code",
   "execution_count": null,
   "metadata": {},
   "outputs": [],
   "source": [
    "import Base.convert"
   ]
  },
  {
   "cell_type": "code",
   "execution_count": null,
   "metadata": {},
   "outputs": [],
   "source": [
    "Base.convert(String, date::DateTime) = \"$date\""
   ]
  },
  {
   "cell_type": "code",
   "execution_count": null,
   "metadata": {},
   "outputs": [],
   "source": [
    "convert"
   ]
  },
  {
   "cell_type": "code",
   "execution_count": null,
   "metadata": {},
   "outputs": [],
   "source": [
    "convert"
   ]
  },
  {
   "cell_type": "code",
   "execution_count": null,
   "metadata": {},
   "outputs": [],
   "source": [
    "struct MyStruct\n",
    "    a::Integer\n",
    "end"
   ]
  },
  {
   "cell_type": "code",
   "execution_count": null,
   "metadata": {},
   "outputs": [],
   "source": [
    "MyStruct(1)"
   ]
  },
  {
   "cell_type": "code",
   "execution_count": null,
   "metadata": {},
   "outputs": [],
   "source": [
    "# CAUTION this is WRONG, this is causing IJulia to restart\n",
    "Base.convert(String, x::MyStruct) = \"$x.a\""
   ]
  },
  {
   "cell_type": "code",
   "execution_count": null,
   "metadata": {},
   "outputs": [],
   "source": [
    "# I should be using ::Type{String} instead!\n",
    "Base.convert(::Type{String}, x::MyStruct) = \"$(x.a)\""
   ]
  },
  {
   "cell_type": "code",
   "execution_count": null,
   "metadata": {},
   "outputs": [],
   "source": [
    "Base.convert(String, MyStruct(1))"
   ]
  },
  {
   "cell_type": "code",
   "execution_count": null,
   "metadata": {},
   "outputs": [],
   "source": [
    "String"
   ]
  },
  {
   "cell_type": "code",
   "execution_count": null,
   "metadata": {},
   "outputs": [],
   "source": [
    "::Type{String}"
   ]
  },
  {
   "cell_type": "code",
   "execution_count": null,
   "metadata": {},
   "outputs": [],
   "source": [
    "Base.convert"
   ]
  },
  {
   "cell_type": "markdown",
   "metadata": {},
   "source": [
    "# GPU incompatibility"
   ]
  },
  {
   "cell_type": "code",
   "execution_count": null,
   "metadata": {},
   "outputs": [],
   "source": [
    "using CUDA"
   ]
  },
  {
   "cell_type": "code",
   "execution_count": null,
   "metadata": {},
   "outputs": [],
   "source": [
    "logistic(x) = 1 / (1 + exp(-x))"
   ]
  },
  {
   "cell_type": "code",
   "execution_count": null,
   "metadata": {},
   "outputs": [],
   "source": [
    "A = cu(rand(5, 10))"
   ]
  },
  {
   "cell_type": "code",
   "execution_count": null,
   "metadata": {},
   "outputs": [],
   "source": [
    "logistic.(A)"
   ]
  },
  {
   "cell_type": "markdown",
   "metadata": {},
   "source": [
    "# Clean up saved models"
   ]
  },
  {
   "cell_type": "code",
   "execution_count": null,
   "metadata": {},
   "outputs": [],
   "source": [
    "include(\"exp.jl\")"
   ]
  },
  {
   "cell_type": "code",
   "execution_count": null,
   "metadata": {},
   "outputs": [],
   "source": [
    "for dir in readdir_nohidden(\"saved_models\")\n",
    "    keep_most_recent!(joinpath(\"saved_models\", dir))\n",
    "end"
   ]
  },
  {
   "cell_type": "markdown",
   "metadata": {},
   "source": [
    "# CUDA memory limit"
   ]
  },
  {
   "cell_type": "code",
   "execution_count": null,
   "metadata": {},
   "outputs": [],
   "source": [
    "# setup GPU memory limit\n",
    "\n",
    "# For 1070\n",
    "g=5.0\n",
    "# For 2080 Ti\n",
    "# g=9.0\n",
    "\n",
    "ENV[\"JULIA_CUDA_MEMORY_LIMIT\"] = convert(Int, round(g * 1024 * 1024 * 1024))"
   ]
  },
  {
   "cell_type": "markdown",
   "metadata": {},
   "source": [
    "# Model size"
   ]
  },
  {
   "cell_type": "code",
   "execution_count": null,
   "metadata": {},
   "outputs": [],
   "source": [
    "import Printf"
   ]
  },
  {
   "cell_type": "code",
   "execution_count": null,
   "metadata": {},
   "outputs": [],
   "source": [
    "function test_size()\n",
    "    # model size\n",
    "    @info \"FC model\"\n",
    "    for d in [7, 10,15,20,25,30]\n",
    "        Printf.@printf \"%.2f\\n\" param_count(fc_model_fn(d)) / 1e6\n",
    "    end\n",
    "    @info \"FC deep model\"\n",
    "    for d in [7, 10,15,20,25,30]\n",
    "        Printf.@printf \"%.2f\\n\" param_count(deep_fc_model_fn(d)) / 1e6\n",
    "    end\n",
    "    # EQ models is independent of input size\n",
    "    @info \"EQ model\"\n",
    "    Printf.@printf \"%.2f\\n\" param_count(eq_model_fn(10)) / 1e6\n",
    "    Printf.@printf \"%.2f\\n\" param_count(deep_eq_model_fn(10)) / 1e6\n",
    "end"
   ]
  },
  {
   "cell_type": "markdown",
   "metadata": {},
   "source": [
    "# Train ensembly with different K\n",
    "\n",
    "- because K is probably the most important hyper-parameter for real data\n",
    "- [X] the data could be loaded more effectively, e.g. inside one dataset `ds`. Then the data can be completely mixed.\n",
    "\n",
    "experiments:\n",
    "- [X] try ER/SF graphs\n",
    "- [ ] try COR mat\n",
    "- [-] try normalized COV (medCOV and maxCOV)\n",
    "- [ ] try COR + VAR as input\n",
    "- [X] try similar k (1,2,3,4]: this works\n",
    "- [X] try larger batch UPDATE but 100 should be large enough"
   ]
  },
  {
   "cell_type": "code",
   "execution_count": null,
   "metadata": {},
   "outputs": [],
   "source": [
    "include(\"exp.jl\")"
   ]
  },
  {
   "cell_type": "code",
   "execution_count": null,
   "metadata": {},
   "outputs": [],
   "source": [
    "# first try to use multiple dses for training\n",
    "specs = []\n",
    "for k in [1,5,10,20]\n",
    "    push!(specs, DataSpec(d=11, k=k, gtype=:SF, noise=:Gaussian, mat=:maxCOV))\n",
    "end\n",
    "specs = Array{DataSpec}(specs)"
   ]
  },
  {
   "cell_type": "code",
   "execution_count": null,
   "metadata": {
    "scrolled": true
   },
   "outputs": [],
   "source": [
    "# train\n",
    "expID = exp_train(specs, deep_eq_model_fn, prefix=\"ensK\", train_steps=1e4)"
   ]
  },
  {
   "cell_type": "code",
   "execution_count": null,
   "metadata": {},
   "outputs": [],
   "source": [
    "expID = exp_train(specs, deep_eq_model_fn, prefix=\"ensK-$(now())\", train_steps=1e4, merge=true)"
   ]
  },
  {
   "cell_type": "code",
   "execution_count": null,
   "metadata": {},
   "outputs": [],
   "source": [
    "# or I could train with K specifically designed for Sachs-2005\n"
   ]
  },
  {
   "cell_type": "code",
   "execution_count": null,
   "metadata": {},
   "outputs": [],
   "source": [
    "# construct many dses\n",
    "ds, test_ds = spec2ds(specs)"
   ]
  },
  {
   "cell_type": "code",
   "execution_count": null,
   "metadata": {},
   "outputs": [],
   "source": [
    "# merge data\n",
    "function merge_dses(dses)\n",
    "    # merge datasets\n",
    "    # 1. merge raw_x and raw_y\n",
    "    raw_x = cat([ds.raw_x for ds in dses]..., dims=3)\n",
    "    raw_y = cat([ds.raw_y for ds in dses]..., dims=3)\n",
    "    # 2. assert batch_size\n",
    "    batch_size = dses[1].batch_size\n",
    "    # 4. construct new ds\n",
    "    DataSetIterator(raw_x, raw_y, batch_size)\n",
    "end"
   ]
  },
  {
   "cell_type": "code",
   "execution_count": null,
   "metadata": {},
   "outputs": [],
   "source": [
    "size(ds[1].raw_x)"
   ]
  },
  {
   "cell_type": "code",
   "execution_count": null,
   "metadata": {},
   "outputs": [],
   "source": [
    "ds"
   ]
  },
  {
   "cell_type": "code",
   "execution_count": null,
   "metadata": {},
   "outputs": [],
   "source": [
    "merge_dses(ds)"
   ]
  },
  {
   "cell_type": "markdown",
   "metadata": {},
   "source": [
    "# Some rather random testing"
   ]
  },
  {
   "cell_type": "code",
   "execution_count": null,
   "metadata": {},
   "outputs": [],
   "source": [
    "exp_train(DataSpec(d=10, k=1, gtype=:SF,\n",
    "        noise=:Gaussian, mechanism=:Linear, mat=:COV),\n",
    "    deep_eq_model_fn, prefix=\"test-EQ\", train_steps=1e4)"
   ]
  },
  {
   "cell_type": "code",
   "execution_count": null,
   "metadata": {},
   "outputs": [],
   "source": [
    "exp_train(DataSpec(d=10, k=1, gtype=:ER,\n",
    "        noise=:Gaussian, mechanism=:Linear, mat=:COV),\n",
    "    deep_eq_model_fn, prefix=\"test-EQ\", train_steps=1e4)"
   ]
  },
  {
   "cell_type": "code",
   "execution_count": null,
   "metadata": {},
   "outputs": [],
   "source": [
    "exp_train(DataSpec(d=20, k=1, gtype=:SF,\n",
    "        noise=:Gaussian, mechanism=:Linear, mat=:COV),\n",
    "    deep_eq_model_fn, prefix=\"test-EQ\", train_steps=1e4)"
   ]
  },
  {
   "cell_type": "code",
   "execution_count": null,
   "metadata": {},
   "outputs": [],
   "source": [
    "# Test the model\n",
    "spec = DataSpec(d=10, k=1, gtype=:SF,\n",
    "        noise=:Gaussian, mechanism=:Linear, mat=:COV)\n",
    "expID = \"EQ-$(dataspec_to_id(spec))\""
   ]
  },
  {
   "cell_type": "code",
   "execution_count": null,
   "metadata": {},
   "outputs": [],
   "source": [
    "exp_test(expID, spec, use_raw=true)"
   ]
  },
  {
   "cell_type": "code",
   "execution_count": null,
   "metadata": {},
   "outputs": [],
   "source": [
    "spec"
   ]
  },
  {
   "cell_type": "code",
   "execution_count": null,
   "metadata": {},
   "outputs": [],
   "source": [
    "function adhoc_test(expID, spec)\n",
    "    model, _ = joinpath(\"saved_models\", expID) |> load_most_recent\n",
    "    model = gpu(model)\n",
    "    ds, test_ds = spec2ds(spec)\n",
    "    metrics, t = sup_test_raw(model, test_ds, nbatch=16)\n",
    "    return metrics\n",
    "end"
   ]
  },
  {
   "cell_type": "code",
   "execution_count": null,
   "metadata": {},
   "outputs": [],
   "source": [
    "adhoc_test(expID, spec)"
   ]
  },
  {
   "cell_type": "code",
   "execution_count": null,
   "metadata": {},
   "outputs": [],
   "source": [
    "dataspec_to_id(spec)"
   ]
  },
  {
   "cell_type": "code",
   "execution_count": null,
   "metadata": {},
   "outputs": [],
   "source": [
    "_results[expID=>\"raw-$(dataspec_to_id(spec))\"]"
   ]
  },
  {
   "cell_type": "code",
   "execution_count": null,
   "metadata": {},
   "outputs": [],
   "source": []
  }
 ],
 "metadata": {
  "kernelspec": {
   "display_name": "Julia 1.5.0",
   "language": "julia",
   "name": "julia-1.5"
  },
  "language_info": {
   "file_extension": ".jl",
   "mimetype": "application/julia",
   "name": "julia",
   "version": "1.5.0"
  }
 },
 "nbformat": 4,
 "nbformat_minor": 4
}
