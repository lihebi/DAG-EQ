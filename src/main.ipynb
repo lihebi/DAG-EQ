{
 "cells": [
  {
   "cell_type": "code",
   "execution_count": null,
   "metadata": {},
   "outputs": [],
   "source": [
    "1+2"
   ]
  },
  {
   "cell_type": "markdown",
   "metadata": {},
   "source": [
    "# Model size"
   ]
  },
  {
   "cell_type": "code",
   "execution_count": null,
   "metadata": {},
   "outputs": [],
   "source": [
    "import Printf"
   ]
  },
  {
   "cell_type": "code",
   "execution_count": null,
   "metadata": {},
   "outputs": [],
   "source": [
    "function test_size()\n",
    "    # model size\n",
    "    @info \"FC model\"\n",
    "    for d in [7, 10,15,20,25,30]\n",
    "        Printf.@printf \"%.2f\\n\" param_count(fc_model_fn(d)) / 1e6\n",
    "    end\n",
    "    @info \"FC deep model\"\n",
    "    for d in [7, 10,15,20,25,30]\n",
    "        Printf.@printf \"%.2f\\n\" param_count(deep_fc_model_fn(d)) / 1e6\n",
    "    end\n",
    "    # EQ models is independent of input size\n",
    "    @info \"EQ model\"\n",
    "    Printf.@printf \"%.2f\\n\" param_count(eq_model_fn(10)) / 1e6\n",
    "    Printf.@printf \"%.2f\\n\" param_count(deep_eq_model_fn(10)) / 1e6\n",
    "end"
   ]
  },
  {
   "cell_type": "markdown",
   "metadata": {},
   "source": [
    "# Old Main"
   ]
  },
  {
   "cell_type": "code",
   "execution_count": null,
   "metadata": {},
   "outputs": [],
   "source": [
    "# setup GPU memory limit\n",
    "\n",
    "# For 1070\n",
    "g=5.0\n",
    "# For 2080 Ti\n",
    "# g=9.0\n",
    "\n",
    "ENV[\"JULIA_CUDA_MEMORY_LIMIT\"] = convert(Int, round(g * 1024 * 1024 * 1024))"
   ]
  },
  {
   "cell_type": "code",
   "execution_count": null,
   "metadata": {},
   "outputs": [],
   "source": [
    "include(\"main.jl\")"
   ]
  },
  {
   "cell_type": "code",
   "execution_count": null,
   "metadata": {},
   "outputs": [],
   "source": [
    "main_CNN_sep\n",
    "main_EQ_sep"
   ]
  },
  {
   "cell_type": "code",
   "execution_count": null,
   "metadata": {},
   "outputs": [],
   "source": [
    "main_CNN_sep()"
   ]
  },
  {
   "cell_type": "code",
   "execution_count": null,
   "metadata": {},
   "outputs": [],
   "source": [
    "main_EQ_sep()"
   ]
  },
  {
   "cell_type": "code",
   "execution_count": null,
   "metadata": {},
   "outputs": [],
   "source": [
    "main_FC()"
   ]
  },
  {
   "cell_type": "code",
   "execution_count": null,
   "metadata": {},
   "outputs": [],
   "source": [
    "main_CNN_ensemble()"
   ]
  },
  {
   "cell_type": "code",
   "execution_count": null,
   "metadata": {},
   "outputs": [],
   "source": [
    "main_EQ_ensemble()"
   ]
  },
  {
   "cell_type": "code",
   "execution_count": null,
   "metadata": {},
   "outputs": [],
   "source": [
    "main_EQ_cov()"
   ]
  },
  {
   "cell_type": "markdown",
   "metadata": {},
   "source": [
    "# New version of main\n",
    "\n",
    "- refactor the code of main1\n",
    "- use seeding\n",
    "- pre-gen graphs and splitting\n",
    "- use cloud GPU for training\n",
    "\n",
    "- [ ] I don't need correlation experiments anymore"
   ]
  },
  {
   "cell_type": "code",
   "execution_count": null,
   "metadata": {},
   "outputs": [],
   "source": [
    "include(\"main2.jl\")"
   ]
  },
  {
   "cell_type": "code",
   "execution_count": null,
   "metadata": {
    "scrolled": true
   },
   "outputs": [],
   "source": [
    "main2()"
   ]
  }
 ],
 "metadata": {
  "kernelspec": {
   "display_name": "Julia 1.5.0",
   "language": "julia",
   "name": "julia-1.5"
  },
  "language_info": {
   "file_extension": ".jl",
   "mimetype": "application/julia",
   "name": "julia",
   "version": "1.5.0"
  }
 },
 "nbformat": 4,
 "nbformat_minor": 4
}
