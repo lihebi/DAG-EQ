{
 "cells": [
  {
   "cell_type": "code",
   "execution_count": null,
   "metadata": {},
   "outputs": [],
   "source": [
    "1+2"
   ]
  },
  {
   "cell_type": "markdown",
   "metadata": {},
   "source": [
    "# Model size"
   ]
  },
  {
   "cell_type": "code",
   "execution_count": null,
   "metadata": {},
   "outputs": [],
   "source": [
    "import Printf"
   ]
  },
  {
   "cell_type": "code",
   "execution_count": null,
   "metadata": {},
   "outputs": [],
   "source": [
    "function test_size()\n",
    "    # model size\n",
    "    @info \"FC model\"\n",
    "    for d in [7, 10,15,20,25,30]\n",
    "        Printf.@printf \"%.2f\\n\" param_count(fc_model_fn(d)) / 1e6\n",
    "    end\n",
    "    @info \"FC deep model\"\n",
    "    for d in [7, 10,15,20,25,30]\n",
    "        Printf.@printf \"%.2f\\n\" param_count(deep_fc_model_fn(d)) / 1e6\n",
    "    end\n",
    "    # EQ models is independent of input size\n",
    "    @info \"EQ model\"\n",
    "    Printf.@printf \"%.2f\\n\" param_count(eq_model_fn(10)) / 1e6\n",
    "    Printf.@printf \"%.2f\\n\" param_count(deep_eq_model_fn(10)) / 1e6\n",
    "end"
   ]
  },
  {
   "cell_type": "markdown",
   "metadata": {},
   "source": [
    "# Old Main"
   ]
  },
  {
   "cell_type": "code",
   "execution_count": null,
   "metadata": {},
   "outputs": [],
   "source": [
    "# setup GPU memory limit\n",
    "\n",
    "# For 1070\n",
    "g=5.0\n",
    "# For 2080 Ti\n",
    "# g=9.0\n",
    "\n",
    "ENV[\"JULIA_CUDA_MEMORY_LIMIT\"] = convert(Int, round(g * 1024 * 1024 * 1024))"
   ]
  },
  {
   "cell_type": "code",
   "execution_count": null,
   "metadata": {},
   "outputs": [],
   "source": [
    "include(\"main.jl\")"
   ]
  },
  {
   "cell_type": "code",
   "execution_count": null,
   "metadata": {},
   "outputs": [],
   "source": [
    "main_CNN_sep\n",
    "main_EQ_sep"
   ]
  },
  {
   "cell_type": "code",
   "execution_count": null,
   "metadata": {},
   "outputs": [],
   "source": [
    "main_CNN_sep()"
   ]
  },
  {
   "cell_type": "code",
   "execution_count": null,
   "metadata": {},
   "outputs": [],
   "source": [
    "main_EQ_sep()"
   ]
  },
  {
   "cell_type": "code",
   "execution_count": null,
   "metadata": {},
   "outputs": [],
   "source": [
    "main_FC()"
   ]
  },
  {
   "cell_type": "code",
   "execution_count": null,
   "metadata": {},
   "outputs": [],
   "source": [
    "main_CNN_ensemble()"
   ]
  },
  {
   "cell_type": "code",
   "execution_count": null,
   "metadata": {},
   "outputs": [],
   "source": [
    "main_EQ_ensemble()"
   ]
  },
  {
   "cell_type": "code",
   "execution_count": null,
   "metadata": {},
   "outputs": [],
   "source": [
    "main_EQ_cov()"
   ]
  },
  {
   "cell_type": "markdown",
   "metadata": {},
   "source": [
    "# Train ensembly with different K\n",
    "\n",
    "- because K is probably the most important hyper-parameter for real data\n",
    "- [X] the data could be loaded more effectively, e.g. inside one dataset `ds`. Then the data can be completely mixed.\n",
    "\n",
    "experiments:\n",
    "- [X] try ER/SF graphs\n",
    "- [ ] try COR mat\n",
    "- [-] try normalized COV (medCOV and maxCOV)\n",
    "- [ ] try COR + VAR as input\n",
    "- [X] try similar k (1,2,3,4]: this works\n",
    "- [X] try larger batch UPDATE but 100 should be large enough"
   ]
  },
  {
   "cell_type": "code",
   "execution_count": null,
   "metadata": {},
   "outputs": [],
   "source": [
    "include(\"exp.jl\")"
   ]
  },
  {
   "cell_type": "code",
   "execution_count": null,
   "metadata": {},
   "outputs": [],
   "source": [
    "# first try to use multiple dses for training\n",
    "specs = []\n",
    "for k in [1,5,10,20]\n",
    "    push!(specs, DataSpec(d=11, k=k, gtype=:SF, noise=:Gaussian, mat=:maxCOV))\n",
    "end\n",
    "specs = Array{DataSpec}(specs)"
   ]
  },
  {
   "cell_type": "code",
   "execution_count": null,
   "metadata": {
    "scrolled": true
   },
   "outputs": [],
   "source": [
    "# train\n",
    "expID = exp_train(specs, deep_eq_model_fn, prefix=\"ensK\", train_steps=1e4)"
   ]
  },
  {
   "cell_type": "code",
   "execution_count": null,
   "metadata": {},
   "outputs": [],
   "source": [
    "expID = exp_train(specs, deep_eq_model_fn, prefix=\"ensK-$(now())\", train_steps=1e4, merge=true)"
   ]
  },
  {
   "cell_type": "code",
   "execution_count": null,
   "metadata": {},
   "outputs": [],
   "source": [
    "# or I could train with K specifically designed for Sachs-2005\n"
   ]
  },
  {
   "cell_type": "code",
   "execution_count": null,
   "metadata": {},
   "outputs": [],
   "source": [
    "# construct many dses\n",
    "ds, test_ds = spec2ds(specs)"
   ]
  },
  {
   "cell_type": "code",
   "execution_count": null,
   "metadata": {},
   "outputs": [],
   "source": [
    "# merge data\n",
    "function merge_dses(dses)\n",
    "    # merge datasets\n",
    "    # 1. merge raw_x and raw_y\n",
    "    raw_x = cat([ds.raw_x for ds in dses]..., dims=3)\n",
    "    raw_y = cat([ds.raw_y for ds in dses]..., dims=3)\n",
    "    # 2. assert batch_size\n",
    "    batch_size = dses[1].batch_size\n",
    "    # 4. construct new ds\n",
    "    DataSetIterator(raw_x, raw_y, batch_size)\n",
    "end"
   ]
  },
  {
   "cell_type": "code",
   "execution_count": null,
   "metadata": {},
   "outputs": [],
   "source": [
    "size(ds[1].raw_x)"
   ]
  },
  {
   "cell_type": "code",
   "execution_count": null,
   "metadata": {},
   "outputs": [],
   "source": [
    "ds"
   ]
  },
  {
   "cell_type": "code",
   "execution_count": null,
   "metadata": {},
   "outputs": [],
   "source": [
    "merge_dses(ds)"
   ]
  },
  {
   "cell_type": "markdown",
   "metadata": {},
   "source": [
    "# New version of main\n",
    "\n",
    "- refactor the code of main1\n",
    "- use seeding\n",
    "- pre-gen graphs and splitting\n",
    "- use cloud GPU for training\n",
    "\n",
    "- [ ] I don't need correlation experiments anymore"
   ]
  },
  {
   "cell_type": "code",
   "execution_count": null,
   "metadata": {},
   "outputs": [],
   "source": [
    "include(\"main2.jl\")"
   ]
  },
  {
   "cell_type": "code",
   "execution_count": null,
   "metadata": {
    "scrolled": true
   },
   "outputs": [],
   "source": [
    "main2()"
   ]
  },
  {
   "cell_type": "code",
   "execution_count": null,
   "metadata": {},
   "outputs": [],
   "source": [
    "main_ensemble()"
   ]
  },
  {
   "cell_type": "markdown",
   "metadata": {},
   "source": [
    "# Sachs 2005 experiment"
   ]
  },
  {
   "cell_type": "code",
   "execution_count": null,
   "metadata": {},
   "outputs": [],
   "source": [
    "import CSV"
   ]
  },
  {
   "cell_type": "code",
   "execution_count": null,
   "metadata": {},
   "outputs": [],
   "source": [
    "df = CSV.read(\"Sachs/1.cd3cd28.csv\")"
   ]
  },
  {
   "cell_type": "code",
   "execution_count": null,
   "metadata": {},
   "outputs": [],
   "source": [
    "SachsX = convert(Matrix, df)"
   ]
  },
  {
   "cell_type": "code",
   "execution_count": null,
   "metadata": {},
   "outputs": [],
   "source": [
    "include(\"data_graph.jl\")"
   ]
  },
  {
   "cell_type": "code",
   "execution_count": null,
   "metadata": {},
   "outputs": [],
   "source": [
    "SachsG = Sachs_ground_truth()"
   ]
  },
  {
   "cell_type": "code",
   "execution_count": null,
   "metadata": {},
   "outputs": [],
   "source": [
    "myplot(SachsG)"
   ]
  },
  {
   "cell_type": "code",
   "execution_count": null,
   "metadata": {},
   "outputs": [],
   "source": [
    "medcovX = cov(SachsX) ./ median(var(SachsX, dims=1))"
   ]
  },
  {
   "cell_type": "code",
   "execution_count": null,
   "metadata": {},
   "outputs": [],
   "source": [
    "maxcovX = cov(SachsX) ./ maximum(var(SachsX, dims=1))"
   ]
  },
  {
   "cell_type": "code",
   "execution_count": null,
   "metadata": {},
   "outputs": [],
   "source": [
    "corX = cor(SachsX)"
   ]
  },
  {
   "cell_type": "code",
   "execution_count": null,
   "metadata": {},
   "outputs": [],
   "source": [
    "include(\"exp.jl\")"
   ]
  },
  {
   "cell_type": "code",
   "execution_count": null,
   "metadata": {},
   "outputs": [],
   "source": [
    "# load the trained model\n",
    "@load \"saved_models/EQ-d=20_k=1_gtype=SF_noise=Gaussian_mat=medCOV_mec=Linear/step-15000.bson\" model"
   ]
  },
  {
   "cell_type": "code",
   "execution_count": null,
   "metadata": {},
   "outputs": [],
   "source": [
    "@load \"saved_models/EQ-d=10_k=1_gtype=ER_noise=Gaussian_mat=medCOV_mec=Linear/step-15000.bson\" model"
   ]
  },
  {
   "cell_type": "code",
   "execution_count": null,
   "metadata": {},
   "outputs": [],
   "source": [
    "@load \"back/back-0907/CORCOV/EQ-d=10_k=1_gtype=SF_noise=Gaussian_mat=COR_mec=Linear/step-15000.bson\" model"
   ]
  },
  {
   "cell_type": "code",
   "execution_count": null,
   "metadata": {},
   "outputs": [],
   "source": [
    "@load \"saved_models/ensK-2020-09-08T10:58:41.247-ensemble/step-10000.bson\" model"
   ]
  },
  {
   "cell_type": "code",
   "execution_count": null,
   "metadata": {},
   "outputs": [],
   "source": [
    "out = inf_one(model, medcovX)"
   ]
  },
  {
   "cell_type": "code",
   "execution_count": null,
   "metadata": {},
   "outputs": [],
   "source": [
    "out = inf_one(model, corX)"
   ]
  },
  {
   "cell_type": "code",
   "execution_count": null,
   "metadata": {},
   "outputs": [],
   "source": [
    "out = inf_one(model, maxcovX)"
   ]
  },
  {
   "cell_type": "code",
   "execution_count": null,
   "metadata": {},
   "outputs": [],
   "source": [
    "Wout = threshold(σ.(out), 0.5, true)"
   ]
  },
  {
   "cell_type": "code",
   "execution_count": null,
   "metadata": {},
   "outputs": [],
   "source": [
    "myplot(DiGraph(Wout), names(df))"
   ]
  },
  {
   "cell_type": "code",
   "execution_count": null,
   "metadata": {},
   "outputs": [],
   "source": [
    "myplot(SachsG, names(df))"
   ]
  },
  {
   "cell_type": "code",
   "execution_count": null,
   "metadata": {},
   "outputs": [],
   "source": [
    "# predicted edge, true edge, SHD\n",
    "predicted_edge = ne(DiGraph(Wout))\n",
    "@show predicted_edge\n",
    "correct_edge = sum(Wout[Wout .== 1] .== adjacency_matrix(SachsG)[Wout .== 1])\n",
    "@show correct_edge\n",
    "\n",
    "# metrics\n",
    "ytrue = Matrix(gen_weights(SachsG))\n",
    "sup_graph_metrics(Wout, ytrue)"
   ]
  },
  {
   "cell_type": "markdown",
   "metadata": {},
   "source": [
    "# Some rather random testing"
   ]
  },
  {
   "cell_type": "code",
   "execution_count": null,
   "metadata": {},
   "outputs": [],
   "source": [
    "exp_train(DataSpec(d=10, k=1, gtype=:SF,\n",
    "        noise=:Gaussian, mechanism=:Linear, mat=:COV),\n",
    "    deep_eq_model_fn, prefix=\"test-EQ\", train_steps=1e4)"
   ]
  },
  {
   "cell_type": "code",
   "execution_count": null,
   "metadata": {},
   "outputs": [],
   "source": [
    "exp_train(DataSpec(d=10, k=1, gtype=:ER,\n",
    "        noise=:Gaussian, mechanism=:Linear, mat=:COV),\n",
    "    deep_eq_model_fn, prefix=\"test-EQ\", train_steps=1e4)"
   ]
  },
  {
   "cell_type": "code",
   "execution_count": null,
   "metadata": {},
   "outputs": [],
   "source": [
    "exp_train(DataSpec(d=20, k=1, gtype=:SF,\n",
    "        noise=:Gaussian, mechanism=:Linear, mat=:COV),\n",
    "    deep_eq_model_fn, prefix=\"test-EQ\", train_steps=1e4)"
   ]
  },
  {
   "cell_type": "code",
   "execution_count": null,
   "metadata": {},
   "outputs": [],
   "source": [
    "# Test the model\n",
    "spec = DataSpec(d=10, k=1, gtype=:SF,\n",
    "        noise=:Gaussian, mechanism=:Linear, mat=:COV)\n",
    "expID = \"EQ-$(dataspec_to_id(spec))\""
   ]
  },
  {
   "cell_type": "code",
   "execution_count": null,
   "metadata": {},
   "outputs": [],
   "source": [
    "exp_test(expID, spec, use_raw=true)"
   ]
  },
  {
   "cell_type": "code",
   "execution_count": null,
   "metadata": {},
   "outputs": [],
   "source": [
    "spec"
   ]
  },
  {
   "cell_type": "code",
   "execution_count": null,
   "metadata": {},
   "outputs": [],
   "source": [
    "function adhoc_test(expID, spec)\n",
    "    model, _ = joinpath(\"saved_models\", expID) |> load_most_recent\n",
    "    model = gpu(model)\n",
    "    ds, test_ds = spec2ds(spec)\n",
    "    metrics, t = sup_test_raw(model, test_ds, nbatch=16)\n",
    "    return metrics\n",
    "end"
   ]
  },
  {
   "cell_type": "code",
   "execution_count": null,
   "metadata": {},
   "outputs": [],
   "source": [
    "adhoc_test(expID, spec)"
   ]
  },
  {
   "cell_type": "code",
   "execution_count": null,
   "metadata": {},
   "outputs": [],
   "source": [
    "dataspec_to_id(spec)"
   ]
  },
  {
   "cell_type": "code",
   "execution_count": null,
   "metadata": {},
   "outputs": [],
   "source": [
    "_results[expID=>\"raw-$(dataspec_to_id(spec))\"]"
   ]
  },
  {
   "cell_type": "code",
   "execution_count": null,
   "metadata": {},
   "outputs": [],
   "source": []
  }
 ],
 "metadata": {
  "kernelspec": {
   "display_name": "Julia 1.5.0",
   "language": "julia",
   "name": "julia-1.5"
  },
  "language_info": {
   "file_extension": ".jl",
   "mimetype": "application/julia",
   "name": "julia",
   "version": "1.5.0"
  }
 },
 "nbformat": 4,
 "nbformat_minor": 4
}
