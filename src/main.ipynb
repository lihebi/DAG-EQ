{
 "cells": [
  {
   "cell_type": "code",
   "execution_count": 1,
   "metadata": {},
   "outputs": [
    {
     "name": "stdout",
     "output_type": "stream",
     "text": [
      "Julia Version 1.5.0\n",
      "Commit 96786e22cc (2020-08-01 23:44 UTC)\n",
      "Platform Info:\n",
      "  OS: Linux (x86_64-pc-linux-gnu)\n",
      "  CPU: AMD Ryzen 5 3600 6-Core Processor\n",
      "  WORD_SIZE: 64\n",
      "  LIBM: libopenlibm\n",
      "  LLVM: libLLVM-9.0.1 (ORCJIT, znver1)\n",
      "Environment:\n",
      "  JULIA_VERSION = 1.5.0\n"
     ]
    }
   ],
   "source": [
    "versioninfo()"
   ]
  },
  {
   "cell_type": "markdown",
   "metadata": {},
   "source": [
    "# New version of main\n",
    "\n",
    "- [X] refactor the code of main1\n",
    "- [X] use seeding\n",
    "- [X] pre-gen graphs and splitting\n",
    "- [X] use cloud GPU for training\n",
    "- [X] I don't need correlation experiments anymore"
   ]
  },
  {
   "cell_type": "code",
   "execution_count": 2,
   "metadata": {},
   "outputs": [
    {
     "data": {
      "text/plain": [
       "main_ensemble_ch2 (generic function with 1 method)"
      ]
     },
     "execution_count": 2,
     "metadata": {},
     "output_type": "execute_result"
    }
   ],
   "source": [
    "include(\"main.jl\")"
   ]
  },
  {
   "cell_type": "code",
   "execution_count": null,
   "metadata": {},
   "outputs": [],
   "source": [
    "main()"
   ]
  },
  {
   "cell_type": "markdown",
   "metadata": {},
   "source": [
    "Ensemble\n",
    "\n",
    "- [ ] I actually probably want to merge the datasets with the same d.\n",
    "  This is because, I can merge the data to be more evenly distributed to fit the model.\n",
    "- [ ] I probably want to adjust batch size to speed it up"
   ]
  },
  {
   "cell_type": "code",
   "execution_count": null,
   "metadata": {},
   "outputs": [],
   "source": [
    "main_ensemble()"
   ]
  },
  {
   "cell_type": "code",
   "execution_count": null,
   "metadata": {},
   "outputs": [],
   "source": [
    "main_ensemble_ch2()"
   ]
  },
  {
   "cell_type": "code",
   "execution_count": null,
   "metadata": {},
   "outputs": [],
   "source": [
    "main_newCOV()"
   ]
  },
  {
   "cell_type": "code",
   "execution_count": null,
   "metadata": {},
   "outputs": [],
   "source": [
    "main_ensemble_new()"
   ]
  },
  {
   "cell_type": "code",
   "execution_count": null,
   "metadata": {},
   "outputs": [
    {
     "name": "stderr",
     "output_type": "stream",
     "text": [
      "┌ Info: Ensemble training ..\n",
      "└ @ Main /home/jovyan/DAG-EQ/src/main.jl:113\n",
      "┌ Info: generating training ds ..\n",
      "└ @ Main /home/jovyan/DAG-EQ/src/data_graph.jl:581\n",
      "\u001b[32mGenerating..100%|███████████████████████████████████████| Time: 0:00:07\u001b[39m\n"
     ]
    },
    {
     "name": "stdout",
     "output_type": "stream",
     "text": [
      "size(input) = (2400,)\n",
      "size(input[1]) = (10, 10, 2, 3)\n",
      "size(output) = (2400,)\n"
     ]
    },
    {
     "name": "stderr",
     "output_type": "stream",
     "text": [
      "┌ Info: generating testing ds ..\n",
      "└ @ Main /home/jovyan/DAG-EQ/src/data_graph.jl:583\n",
      "\u001b[32mGenerating..100%|███████████████████████████████████████| Time: 0:00:00\u001b[39m\n"
     ]
    },
    {
     "name": "stdout",
     "output_type": "stream",
     "text": [
      "size(input) = (601,)\n",
      "size(input[1]) = (10, 10, 2, 3)\n",
      "size(output) = (601,)\n"
     ]
    },
    {
     "name": "stderr",
     "output_type": "stream",
     "text": [
      "\u001b[32mGenerating raw XY ..100%|███████████████████████████████| Time: 0:00:00\u001b[39m\n",
      "┌ Info: Saved to data/ER-10-1234/d=10_k=1_gtype=ER_noise=Gaussian_mat=CH3_mec=Linear.hdf5\n",
      "└ @ Main /home/jovyan/DAG-EQ/src/data_graph.jl:600\n",
      "┌ Info: generating training ds ..\n",
      "└ @ Main /home/jovyan/DAG-EQ/src/data_graph.jl:581\n",
      "\u001b[32mGenerating..100%|███████████████████████████████████████| Time: 0:00:01\u001b[39m\n"
     ]
    },
    {
     "name": "stdout",
     "output_type": "stream",
     "text": [
      "size(input) = (2400,)\n",
      "size(input[1]) = (10, 10, 2, 3)\n",
      "size(output) = (2400,)\n"
     ]
    },
    {
     "name": "stderr",
     "output_type": "stream",
     "text": [
      "┌ Info: generating testing ds ..\n",
      "└ @ Main /home/jovyan/DAG-EQ/src/data_graph.jl:583\n",
      "\u001b[32mGenerating..100%|███████████████████████████████████████| Time: 0:00:00\u001b[39m\n"
     ]
    },
    {
     "name": "stdout",
     "output_type": "stream",
     "text": [
      "size(input) = (601,)\n",
      "size(input[1]) = (10, 10, 2, 3)\n",
      "size(output) = (601,)\n"
     ]
    },
    {
     "name": "stderr",
     "output_type": "stream",
     "text": [
      "┌ Info: Saved to data/SF-10-1234/d=10_k=1_gtype=SF_noise=Gaussian_mat=CH3_mec=Linear.hdf5\n",
      "└ @ Main /home/jovyan/DAG-EQ/src/data_graph.jl:600\n"
     ]
    },
    {
     "name": "stdout",
     "output_type": "stream",
     "text": [
      "(xdim, ydim) = (4, 3)\n",
      "(xdim, ydim) = (4, 3)\n",
      "size(x) = (10, 10, 2, 128)\n",
      "size(y) = (10, 10, 128)\n"
     ]
    },
    {
     "name": "stderr",
     "output_type": "stream",
     "text": [
      "┌ Info: warming up model with x ..\n",
      "└ @ Main /home/jovyan/DAG-EQ/src/exp.jl:141\n",
      "┌ Info: warming up gradient ..\n",
      "└ @ Main /home/jovyan/DAG-EQ/src/exp.jl:143\n"
     ]
    },
    {
     "name": "stdout",
     "output_type": "stream",
     "text": [
      "size(x) = (10, 10, 2, 128)\n"
     ]
    },
    {
     "name": "stderr",
     "output_type": "stream",
     "text": [
      "┌ Info: actual training ..\n",
      "└ @ Main /home/jovyan/DAG-EQ/src/exp.jl:146\n",
      "┌ Info: training ..\n",
      "└ @ Main /home/jovyan/DAG-EQ/src/exp.jl:162\n",
      "┌ Info: training for 30000 steps ..\n",
      "└ @ Main /home/jovyan/DAG-EQ/src/train.jl:222\n",
      "┌ Warning: calls to Base intrinsics might be GPU incompatible\n",
      "│   exception = (GPUCompiler.MethodSubstitutionWarning(log1p(x::Float32) in Base.Math at special/log.jl:360, log1p(x::Float32) in CUDA at /home/jovyan/.julia/packages/CUDA/dZvbp/src/device/intrinsics/math.jl:85), Base.StackTraces.StackFrame[log1p at log.jl:360, broadcast_kernel at broadcast.jl:59])\n",
      "└ @ GPUCompiler /home/jovyan/.julia/packages/GPUCompiler/GKp4B/src/irgen.jl:68\n",
      "┌ Warning: calls to Base intrinsics might be GPU incompatible\n",
      "│   exception = (GPUCompiler.MethodSubstitutionWarning(log1p(x::Float32) in Base.Math at special/log.jl:360, log1p(x::Float32) in CUDA at /home/jovyan/.julia/packages/CUDA/dZvbp/src/device/intrinsics/math.jl:85), Base.StackTraces.StackFrame[log1p at log.jl:360, broadcast_kernel at broadcast.jl:59])\n",
      "└ @ GPUCompiler /home/jovyan/.julia/packages/GPUCompiler/GKp4B/src/irgen.jl:68\n",
      "\u001b[32mTraining...100%|████████████████████████████████████████| Time: 2:33:14\u001b[39mm47\u001b[39mm\n",
      "┌ Info: Ensemble training ..\n",
      "└ @ Main /home/jovyan/DAG-EQ/src/main.jl:113\n"
     ]
    },
    {
     "name": "stdout",
     "output_type": "stream",
     "text": [
      "(xdim, ydim) = (4, 3)\n",
      "(xdim, ydim) = (4, 3)\n",
      "size(x) = (20, 20, 2, 128)\n",
      "size(y) = (20, 20, 128)\n"
     ]
    },
    {
     "name": "stderr",
     "output_type": "stream",
     "text": [
      "┌ Info: warming up model with x ..\n",
      "└ @ Main /home/jovyan/DAG-EQ/src/exp.jl:141\n",
      "┌ Info: warming up gradient ..\n",
      "└ @ Main /home/jovyan/DAG-EQ/src/exp.jl:143\n"
     ]
    },
    {
     "name": "stdout",
     "output_type": "stream",
     "text": [
      "size(x) = (20, 20, 2, 128)\n"
     ]
    },
    {
     "name": "stderr",
     "output_type": "stream",
     "text": [
      "┌ Info: actual training ..\n",
      "└ @ Main /home/jovyan/DAG-EQ/src/exp.jl:146\n",
      "┌ Info: training ..\n",
      "└ @ Main /home/jovyan/DAG-EQ/src/exp.jl:162\n",
      "┌ Info: training for 30000 steps ..\n",
      "└ @ Main /home/jovyan/DAG-EQ/src/train.jl:222\n",
      "\u001b[32mTraining...100%|████████████████████████████████████████| Time: 6:37:52\u001b[39mm:59\u001b[39m\n",
      "┌ Info: Ensemble training ..\n",
      "└ @ Main /home/jovyan/DAG-EQ/src/main.jl:113\n",
      "┌ Info: generating training ds ..\n",
      "└ @ Main /home/jovyan/DAG-EQ/src/data_graph.jl:581\n",
      "\u001b[32mGenerating..100%|███████████████████████████████████████| Time: 0:00:00\u001b[39m\n"
     ]
    },
    {
     "name": "stdout",
     "output_type": "stream",
     "text": [
      "size(input) = (800,)\n",
      "size(input[1]) = (50, 50, 2, 1)\n",
      "size(output) = (800,)\n"
     ]
    },
    {
     "name": "stderr",
     "output_type": "stream",
     "text": [
      "┌ Info: generating testing ds ..\n",
      "└ @ Main /home/jovyan/DAG-EQ/src/data_graph.jl:583\n",
      "\u001b[32mGenerating..100%|███████████████████████████████████████| Time: 0:00:00\u001b[39m\n"
     ]
    },
    {
     "name": "stdout",
     "output_type": "stream",
     "text": [
      "size(input) = (201,)\n",
      "size(input[1]) = (50, 50, 2, 1)\n",
      "size(output) = (201,)\n"
     ]
    },
    {
     "name": "stderr",
     "output_type": "stream",
     "text": [
      "\u001b[32mGenerating raw XY ..100%|███████████████████████████████| Time: 0:00:00\u001b[39m\n",
      "┌ Info: Saved to data/ER-50-1234/d=50_k=1_gtype=ER_noise=Gaussian_mat=CH3_mec=Linear.hdf5\n",
      "└ @ Main /home/jovyan/DAG-EQ/src/data_graph.jl:600\n",
      "┌ Info: generating training ds ..\n",
      "└ @ Main /home/jovyan/DAG-EQ/src/data_graph.jl:581\n",
      "\u001b[32mGenerating..100%|███████████████████████████████████████| Time: 0:00:00\u001b[39m\n"
     ]
    },
    {
     "name": "stdout",
     "output_type": "stream",
     "text": [
      "size(input) = (800,)\n",
      "size(input[1]) = (50, 50, 2, 1)\n",
      "size(output) = (800,)\n"
     ]
    },
    {
     "name": "stderr",
     "output_type": "stream",
     "text": [
      "┌ Info: generating testing ds ..\n",
      "└ @ Main /home/jovyan/DAG-EQ/src/data_graph.jl:583\n",
      "\u001b[32mGenerating..100%|███████████████████████████████████████| Time: 0:00:00\u001b[39m\n"
     ]
    },
    {
     "name": "stdout",
     "output_type": "stream",
     "text": [
      "size(input) = (201,)\n",
      "size(input[1]) = (50, 50, 2, 1)\n",
      "size(output) = (201,)\n"
     ]
    },
    {
     "name": "stderr",
     "output_type": "stream",
     "text": [
      "\u001b[32mGenerating raw XY ..100%|███████████████████████████████| Time: 0:00:00\u001b[39m\n"
     ]
    },
    {
     "name": "stdout",
     "output_type": "stream",
     "text": [
      "(xdim, ydim) = (4, 3)\n",
      "(xdim, ydim) = "
     ]
    },
    {
     "name": "stderr",
     "output_type": "stream",
     "text": [
      "┌ Info: Saved to data/SF-50-1234/d=50_k=1_gtype=SF_noise=Gaussian_mat=CH3_mec=Linear.hdf5\n",
      "└ @ Main /home/jovyan/DAG-EQ/src/data_graph.jl:600\n"
     ]
    },
    {
     "name": "stdout",
     "output_type": "stream",
     "text": [
      "(4, 3)\n",
      "size(x) = (50, 50, 2, 32)\n",
      "size(y) = (50, 50, 32)\n"
     ]
    },
    {
     "name": "stderr",
     "output_type": "stream",
     "text": [
      "┌ Info: warming up model with x ..\n",
      "└ @ Main /home/jovyan/DAG-EQ/src/exp.jl:141\n",
      "┌ Info: warming up gradient ..\n",
      "└ @ Main /home/jovyan/DAG-EQ/src/exp.jl:143\n"
     ]
    },
    {
     "name": "stdout",
     "output_type": "stream",
     "text": [
      "size(x) = (50, 50, 2, 32)\n"
     ]
    },
    {
     "name": "stderr",
     "output_type": "stream",
     "text": [
      "┌ Info: actual training ..\n",
      "└ @ Main /home/jovyan/DAG-EQ/src/exp.jl:146\n",
      "┌ Info: training ..\n",
      "└ @ Main /home/jovyan/DAG-EQ/src/exp.jl:162\n",
      "┌ Info: training for 30000 steps ..\n",
      "└ @ Main /home/jovyan/DAG-EQ/src/train.jl:222\n",
      "\u001b[32mTraining...100%|████████████████████████████████████████| Time: 9:10:56\u001b[39mm28\u001b[39mm\n",
      "┌ Info: Ensemble training ..\n",
      "└ @ Main /home/jovyan/DAG-EQ/src/main.jl:113\n",
      "┌ Info: generating training ds ..\n",
      "└ @ Main /home/jovyan/DAG-EQ/src/data_graph.jl:581\n",
      "\u001b[32mGenerating..100%|███████████████████████████████████████| Time: 0:00:02\u001b[39m\n"
     ]
    },
    {
     "name": "stdout",
     "output_type": "stream",
     "text": [
      "size(input) = (800,)\n",
      "size(input[1]) = (100, 100, 2, 1)\n",
      "size(output) = (800,)\n"
     ]
    },
    {
     "name": "stderr",
     "output_type": "stream",
     "text": [
      "┌ Info: generating testing ds ..\n",
      "└ @ Main /home/jovyan/DAG-EQ/src/data_graph.jl:583\n",
      "\u001b[32mGenerating..100%|███████████████████████████████████████| Time: 0:00:00\u001b[39m\n"
     ]
    },
    {
     "name": "stdout",
     "output_type": "stream",
     "text": [
      "size(input) = (201,)\n",
      "size(input[1]) = (100, 100, 2, 1)\n",
      "size(output) = (201,)\n"
     ]
    },
    {
     "name": "stderr",
     "output_type": "stream",
     "text": [
      "\u001b[32mGenerating raw XY ..100%|███████████████████████████████| Time: 0:00:00\u001b[39m\n",
      "┌ Info: Saved to data/ER-100-1234/d=100_k=1_gtype=ER_noise=Gaussian_mat=CH3_mec=Linear.hdf5\n",
      "└ @ Main /home/jovyan/DAG-EQ/src/data_graph.jl:600\n",
      "┌ Info: generating training ds ..\n",
      "└ @ Main /home/jovyan/DAG-EQ/src/data_graph.jl:581\n",
      "\u001b[32mGenerating..100%|███████████████████████████████████████| Time: 0:00:02\u001b[39m\n"
     ]
    },
    {
     "name": "stdout",
     "output_type": "stream",
     "text": [
      "size(input) = (800,)\n",
      "size(input[1]) = (100, 100, 2, 1)\n",
      "size(output) = (800,)\n"
     ]
    },
    {
     "name": "stderr",
     "output_type": "stream",
     "text": [
      "┌ Info: generating testing ds ..\n",
      "└ @ Main /home/jovyan/DAG-EQ/src/data_graph.jl:583\n",
      "\u001b[32mGenerating..100%|███████████████████████████████████████| Time: 0:00:00\u001b[39m\n"
     ]
    },
    {
     "name": "stdout",
     "output_type": "stream",
     "text": [
      "size(input) = (201,)\n",
      "size(input[1]) = (100, 100, 2, 1)\n",
      "size(output) = (201,)\n"
     ]
    },
    {
     "name": "stderr",
     "output_type": "stream",
     "text": [
      "\u001b[32mGenerating raw XY ..100%|███████████████████████████████| Time: 0:00:00\u001b[39m\n"
     ]
    },
    {
     "name": "stdout",
     "output_type": "stream",
     "text": [
      "(xdim, ydim) = (4, 3)\n",
      "(xdim, ydim) = "
     ]
    },
    {
     "name": "stderr",
     "output_type": "stream",
     "text": [
      "┌ Info: Saved to data/SF-100-1234/d=100_k=1_gtype=SF_noise=Gaussian_mat=CH3_mec=Linear.hdf5\n",
      "└ @ Main /home/jovyan/DAG-EQ/src/data_graph.jl:600\n"
     ]
    },
    {
     "name": "stdout",
     "output_type": "stream",
     "text": [
      "(4, 3)\n",
      "size(x) = (100, 100, 2, 16)\n",
      "size(y) = (100, 100, 16)\n"
     ]
    },
    {
     "name": "stderr",
     "output_type": "stream",
     "text": [
      "┌ Info: warming up model with x ..\n",
      "└ @ Main /home/jovyan/DAG-EQ/src/exp.jl:141\n",
      "┌ Info: warming up gradient ..\n",
      "└ @ Main /home/jovyan/DAG-EQ/src/exp.jl:143\n"
     ]
    },
    {
     "name": "stdout",
     "output_type": "stream",
     "text": [
      "size(x) = (100, 100, 2, 16)\n"
     ]
    },
    {
     "name": "stderr",
     "output_type": "stream",
     "text": [
      "┌ Info: actual training ..\n",
      "└ @ Main /home/jovyan/DAG-EQ/src/exp.jl:146\n",
      "┌ Info: training ..\n",
      "└ @ Main /home/jovyan/DAG-EQ/src/exp.jl:162\n",
      "┌ Info: training for 30000 steps ..\n",
      "└ @ Main /home/jovyan/DAG-EQ/src/train.jl:222\n",
      "\u001b[32mTraining... 15%|██████                                  |  ETA: 2 days, 8:27:46\u001b[39mm"
     ]
    }
   ],
   "source": [
    "main_ch3()"
   ]
  },
  {
   "cell_type": "markdown",
   "metadata": {},
   "source": [
    "# Debug weird problem at Nayuki"
   ]
  },
  {
   "cell_type": "code",
   "execution_count": null,
   "metadata": {},
   "outputs": [],
   "source": [
    "spec = DataSpec(d=50, k=1, gtype=:SF,\n",
    "                    noise=:Gaussian, mat=:COV)"
   ]
  },
  {
   "cell_type": "code",
   "execution_count": null,
   "metadata": {},
   "outputs": [],
   "source": [
    "d = 50\n",
    "k = 1\n",
    "specs = []\n",
    "for gtype in [:ER, :SF],\n",
    "    k in [1]\n",
    "    push!(specs, DataSpec(d=d, k=k, gtype=gtype,\n",
    "            noise=:Gaussian, mat=:COV))\n",
    "end\n",
    "specs = Array{DataSpec}(specs)"
   ]
  },
  {
   "cell_type": "code",
   "execution_count": null,
   "metadata": {},
   "outputs": [],
   "source": [
    "ds, test_ds = spec2ds(spec)"
   ]
  },
  {
   "cell_type": "code",
   "execution_count": null,
   "metadata": {},
   "outputs": [],
   "source": [
    "specs[1].bsize"
   ]
  },
  {
   "cell_type": "code",
   "execution_count": null,
   "metadata": {},
   "outputs": [],
   "source": [
    "merge_dses"
   ]
  },
  {
   "cell_type": "code",
   "execution_count": null,
   "metadata": {},
   "outputs": [],
   "source": [
    "ds, test_ds = spec2ds(specs, merge=true)"
   ]
  },
  {
   "cell_type": "code",
   "execution_count": null,
   "metadata": {},
   "outputs": [],
   "source": [
    "x, y = next_batch!(test_ds) |> gpu;"
   ]
  },
  {
   "cell_type": "code",
   "execution_count": null,
   "metadata": {},
   "outputs": [],
   "source": [
    "size(x)"
   ]
  },
  {
   "cell_type": "code",
   "execution_count": null,
   "metadata": {},
   "outputs": [],
   "source": [
    "model = deep_eq_model_fn() |> gpu;"
   ]
  },
  {
   "cell_type": "code",
   "execution_count": null,
   "metadata": {
    "scrolled": true
   },
   "outputs": [],
   "source": [
    "model(x)"
   ]
  },
  {
   "cell_type": "code",
   "execution_count": null,
   "metadata": {},
   "outputs": [],
   "source": [
    "gradient(()->sum(model(x)), Flux.params(model))"
   ]
  },
  {
   "cell_type": "code",
   "execution_count": null,
   "metadata": {},
   "outputs": [],
   "source": []
  },
  {
   "cell_type": "markdown",
   "metadata": {},
   "source": [
    "# Debug eq2_model"
   ]
  },
  {
   "cell_type": "code",
   "execution_count": null,
   "metadata": {},
   "outputs": [],
   "source": [
    "# 1. load the data\n",
    "spec = DataSpec(d=10, k=1, gtype=:SF,\n",
    "        noise=:Gaussian, mechanism=:Linear, mat=:CH3)\n",
    "ds, test_ds = spec2ds(spec)\n",
    "x, y = next_batch!(test_ds) |> gpu"
   ]
  },
  {
   "cell_type": "code",
   "execution_count": null,
   "metadata": {},
   "outputs": [],
   "source": [
    "\n",
    "# 2. load the model\n",
    "model = eq2_model_fn() |> gpu"
   ]
  },
  {
   "cell_type": "code",
   "execution_count": null,
   "metadata": {},
   "outputs": [],
   "source": [
    "# 3. apply the model on data\n",
    "model(x)\n",
    "# 4. calculate the gradient"
   ]
  },
  {
   "cell_type": "code",
   "execution_count": null,
   "metadata": {},
   "outputs": [],
   "source": [
    "cpu(model)(cpu(x))"
   ]
  },
  {
   "cell_type": "code",
   "execution_count": null,
   "metadata": {},
   "outputs": [],
   "source": [
    "size(x)"
   ]
  },
  {
   "cell_type": "code",
   "execution_count": null,
   "metadata": {},
   "outputs": [],
   "source": [
    "cpux = cpu(x)"
   ]
  },
  {
   "cell_type": "code",
   "execution_count": null,
   "metadata": {},
   "outputs": [],
   "source": [
    "model[1](cpux)"
   ]
  },
  {
   "cell_type": "markdown",
   "metadata": {},
   "source": [
    "# Sachs 2005 experiment"
   ]
  },
  {
   "cell_type": "markdown",
   "metadata": {},
   "source": [
    "## Load and explore the data"
   ]
  },
  {
   "cell_type": "code",
   "execution_count": null,
   "metadata": {},
   "outputs": [],
   "source": [
    "import CSV"
   ]
  },
  {
   "cell_type": "code",
   "execution_count": null,
   "metadata": {},
   "outputs": [],
   "source": [
    "df = CSV.read(\"Sachs/1.cd3cd28.csv\")"
   ]
  },
  {
   "cell_type": "code",
   "execution_count": null,
   "metadata": {},
   "outputs": [],
   "source": [
    "SachsX = convert(Matrix, df)"
   ]
  },
  {
   "cell_type": "code",
   "execution_count": null,
   "metadata": {},
   "outputs": [],
   "source": [
    "include(\"data_graph.jl\")"
   ]
  },
  {
   "cell_type": "code",
   "execution_count": null,
   "metadata": {},
   "outputs": [],
   "source": [
    "SachsG = Sachs_ground_truth()"
   ]
  },
  {
   "cell_type": "code",
   "execution_count": null,
   "metadata": {},
   "outputs": [],
   "source": [
    "myplot(SachsG)"
   ]
  },
  {
   "cell_type": "code",
   "execution_count": null,
   "metadata": {},
   "outputs": [],
   "source": [
    "medcovX = cov(SachsX) ./ median(var(SachsX, dims=1))"
   ]
  },
  {
   "cell_type": "code",
   "execution_count": null,
   "metadata": {},
   "outputs": [],
   "source": [
    "maxcovX = cov(SachsX) ./ maximum(var(SachsX, dims=1))"
   ]
  },
  {
   "cell_type": "code",
   "execution_count": null,
   "metadata": {},
   "outputs": [],
   "source": [
    "corX = cor(SachsX)"
   ]
  },
  {
   "cell_type": "code",
   "execution_count": null,
   "metadata": {},
   "outputs": [],
   "source": [
    "ch2X = getch2(SachsX)"
   ]
  },
  {
   "cell_type": "code",
   "execution_count": null,
   "metadata": {},
   "outputs": [],
   "source": [
    "include(\"exp.jl\")"
   ]
  },
  {
   "cell_type": "markdown",
   "metadata": {},
   "source": [
    "## Load a model"
   ]
  },
  {
   "cell_type": "code",
   "execution_count": null,
   "metadata": {},
   "outputs": [],
   "source": [
    "# load the trained model\n",
    "@load \"saved_models/EQ-d=20_k=1_gtype=SF_noise=Gaussian_mat=medCOV_mec=Linear/step-15000.bson\" model"
   ]
  },
  {
   "cell_type": "code",
   "execution_count": null,
   "metadata": {},
   "outputs": [],
   "source": [
    "@load \"saved_models/EQ-d=10_k=1_gtype=ER_noise=Gaussian_mat=medCOV_mec=Linear/step-15000.bson\" model"
   ]
  },
  {
   "cell_type": "code",
   "execution_count": null,
   "metadata": {},
   "outputs": [],
   "source": [
    "@load \"back/back-0907/CORCOV/EQ-d=10_k=1_gtype=SF_noise=Gaussian_mat=COR_mec=Linear/step-15000.bson\" model"
   ]
  },
  {
   "cell_type": "code",
   "execution_count": null,
   "metadata": {},
   "outputs": [],
   "source": [
    "@load \"saved_models/ensK-2020-09-08T10:58:41.247-ensemble/step-10000.bson\" model"
   ]
  },
  {
   "cell_type": "code",
   "execution_count": null,
   "metadata": {},
   "outputs": [],
   "source": [
    "# The new ensemble model\n",
    "@load \"saved_models/ensemEQ-ICLR-1-ensemble/step-159443.bson\" model"
   ]
  },
  {
   "cell_type": "code",
   "execution_count": null,
   "metadata": {},
   "outputs": [],
   "source": [
    "@load \"saved_models/ensemEQ-CH2-1,2,4-2020-10-11T11:29:01.183-ensemble/step-100000.bson\" model"
   ]
  },
  {
   "cell_type": "markdown",
   "metadata": {},
   "source": [
    "## Evaluate the model"
   ]
  },
  {
   "cell_type": "code",
   "execution_count": null,
   "metadata": {},
   "outputs": [],
   "source": [
    "out = inf_one(model, medcovX)"
   ]
  },
  {
   "cell_type": "code",
   "execution_count": null,
   "metadata": {},
   "outputs": [],
   "source": [
    "out = inf_one(model, corX)"
   ]
  },
  {
   "cell_type": "code",
   "execution_count": null,
   "metadata": {},
   "outputs": [],
   "source": [
    "out = inf_one(model, maxcovX)"
   ]
  },
  {
   "cell_type": "code",
   "execution_count": null,
   "metadata": {},
   "outputs": [],
   "source": [
    "out = inf_one(model, ch2X)"
   ]
  },
  {
   "cell_type": "code",
   "execution_count": null,
   "metadata": {},
   "outputs": [],
   "source": [
    "Wout = threshold(σ.(out), 0.3, true)"
   ]
  },
  {
   "cell_type": "code",
   "execution_count": null,
   "metadata": {},
   "outputs": [],
   "source": [
    "myplot(DiGraph(Wout), names(df))"
   ]
  },
  {
   "cell_type": "code",
   "execution_count": null,
   "metadata": {},
   "outputs": [],
   "source": [
    "# FIXME NOW !!!! the names might not match at all!!!\n",
    "myplot(SachsG, names(df))"
   ]
  },
  {
   "cell_type": "code",
   "execution_count": null,
   "metadata": {},
   "outputs": [],
   "source": [
    "# predicted edge, true edge, SHD\n",
    "predicted_edge = ne(DiGraph(Wout))\n",
    "@show predicted_edge\n",
    "correct_edge = sum(Wout[Wout .== 1] .== adjacency_matrix(SachsG)[Wout .== 1])\n",
    "@show correct_edge\n",
    "\n",
    "# metrics\n",
    "ytrue = Matrix(gen_weights(SachsG))\n",
    "sup_graph_metrics(Wout, ytrue)"
   ]
  },
  {
   "cell_type": "code",
   "execution_count": null,
   "metadata": {},
   "outputs": [],
   "source": [
    "# TODO calculate #reverse direction edges\n",
    "sum(Wout[Wout .== 1] .== adjacency_matrix(SachsG)[Wout .== 1])"
   ]
  },
  {
   "cell_type": "code",
   "execution_count": null,
   "metadata": {},
   "outputs": [],
   "source": [
    "sum(Wout'[Wout' .== 1] .== adjacency_matrix(SachsG)[Wout' .== 1])"
   ]
  },
  {
   "cell_type": "code",
   "execution_count": null,
   "metadata": {},
   "outputs": [],
   "source": [
    "# TODO implement the recursive add procedure to remove cycles\n",
    "# Or, just construct the graph, and keep removing until it is a DAG\n",
    "is_cyclic(DiGraph(Wout))"
   ]
  },
  {
   "cell_type": "code",
   "execution_count": null,
   "metadata": {},
   "outputs": [],
   "source": [
    "Wout"
   ]
  },
  {
   "cell_type": "code",
   "execution_count": null,
   "metadata": {},
   "outputs": [],
   "source": [
    "# Or just implement the procedure\n",
    "out"
   ]
  },
  {
   "cell_type": "markdown",
   "metadata": {},
   "source": [
    "## Adding non-cyclic procedure"
   ]
  },
  {
   "cell_type": "code",
   "execution_count": null,
   "metadata": {},
   "outputs": [],
   "source": [
    "Wout2 = threshold(σ.(out), 0.3, false)"
   ]
  },
  {
   "cell_type": "code",
   "execution_count": null,
   "metadata": {},
   "outputs": [],
   "source": [
    "# find the order of the index, or, sort the indexes\n",
    "sort(Wout2, dims=1)"
   ]
  },
  {
   "cell_type": "code",
   "execution_count": null,
   "metadata": {},
   "outputs": [],
   "source": [
    "edgeidx = findall((x)->x>0, Wout2)"
   ]
  },
  {
   "cell_type": "code",
   "execution_count": null,
   "metadata": {},
   "outputs": [],
   "source": [
    "sorted_idx = edgeidx[sortperm(Wout2[edgeidx], rev=true)]"
   ]
  },
  {
   "cell_type": "code",
   "execution_count": null,
   "metadata": {},
   "outputs": [],
   "source": [
    "Wout2"
   ]
  },
  {
   "cell_type": "code",
   "execution_count": null,
   "metadata": {},
   "outputs": [],
   "source": [
    "# add sorted idx\n",
    "g = MetaDiGraph(11)\n",
    "for idx in sorted_idx\n",
    "    add_edge!(g, idx[1], idx[2])\n",
    "    if is_cyclic(g)\n",
    "        rem_edge!(g, idx[1], idx[2])\n",
    "    end\n",
    "end"
   ]
  },
  {
   "cell_type": "code",
   "execution_count": null,
   "metadata": {},
   "outputs": [],
   "source": [
    "p1 = myplot(g, names(df))"
   ]
  },
  {
   "cell_type": "code",
   "execution_count": null,
   "metadata": {},
   "outputs": [],
   "source": [
    "draw(PNG(\"p1.png\"), p1)"
   ]
  },
  {
   "cell_type": "code",
   "execution_count": null,
   "metadata": {},
   "outputs": [],
   "source": [
    "p0 = myplot(SachsG, names(df))"
   ]
  },
  {
   "cell_type": "code",
   "execution_count": null,
   "metadata": {},
   "outputs": [],
   "source": [
    "draw(PNG(\"p0.png\"), p0)"
   ]
  },
  {
   "cell_type": "code",
   "execution_count": null,
   "metadata": {},
   "outputs": [],
   "source": [
    "adj1 = adjacency_matrix(g)\n",
    "adj0 = adjacency_matrix(SachsG)\n",
    "# predicted edge, true edge, SHD\n",
    "predicted_edge = ne(g)\n",
    "@show predicted_edge\n",
    "correct_edge = sum(adj1[adj1 .== 1] .== adj0[adj1 .== 1])\n",
    "@show correct_edge\n",
    "reversed_edge = sum(adj1'[adj1' .== 1] .== adj0[adj1' .== 1])\n",
    "@show reversed_edge\n",
    "\n",
    "# metrics\n",
    "ytrue = Matrix(gen_weights(SachsG))\n",
    "sup_graph_metrics(adj1, ytrue)"
   ]
  },
  {
   "cell_type": "markdown",
   "metadata": {},
   "source": [
    "## More data\n",
    "\n",
    "- [ ] goblinop's gaussian data (just for test)\n",
    "- [ ] bnlearn's continous data\n",
    "- [ ] discrete data?"
   ]
  },
  {
   "cell_type": "markdown",
   "metadata": {},
   "source": [
    "### goblinop's (??) gaussian data"
   ]
  },
  {
   "cell_type": "code",
   "execution_count": null,
   "metadata": {},
   "outputs": [],
   "source": [
    "import CSV"
   ]
  },
  {
   "cell_type": "code",
   "execution_count": null,
   "metadata": {},
   "outputs": [],
   "source": [
    "df = CSV.read(\"data-back/gaussian.dat\", delim=\" \")"
   ]
  },
  {
   "cell_type": "code",
   "execution_count": null,
   "metadata": {},
   "outputs": [],
   "source": [
    "X = convert(Matrix, df)"
   ]
  },
  {
   "cell_type": "code",
   "execution_count": null,
   "metadata": {},
   "outputs": [],
   "source": [
    "include(\"data_graph.jl\")"
   ]
  },
  {
   "cell_type": "code",
   "execution_count": null,
   "metadata": {},
   "outputs": [],
   "source": [
    "maxcovX = cov(X) ./ maximum(var(X, dims=1))"
   ]
  },
  {
   "cell_type": "code",
   "execution_count": null,
   "metadata": {},
   "outputs": [],
   "source": [
    "include(\"exp.jl\")"
   ]
  },
  {
   "cell_type": "code",
   "execution_count": null,
   "metadata": {},
   "outputs": [],
   "source": [
    "# The new ensemble model\n",
    "@load \"saved_models/ensemEQ-ICLR-1-ensemble/step-159443.bson\" model"
   ]
  },
  {
   "cell_type": "code",
   "execution_count": null,
   "metadata": {},
   "outputs": [],
   "source": [
    "out = inf_one(model, maxcovX)"
   ]
  },
  {
   "cell_type": "code",
   "execution_count": null,
   "metadata": {},
   "outputs": [],
   "source": [
    "Wout2 = threshold(σ.(out), 0.3, false)"
   ]
  },
  {
   "cell_type": "code",
   "execution_count": null,
   "metadata": {},
   "outputs": [],
   "source": [
    "# find the order of the index, or, sort the indexes\n",
    "sort(Wout2, dims=1)"
   ]
  },
  {
   "cell_type": "code",
   "execution_count": null,
   "metadata": {},
   "outputs": [],
   "source": [
    "edgeidx = findall((x)->x>0, Wout2)"
   ]
  },
  {
   "cell_type": "code",
   "execution_count": null,
   "metadata": {},
   "outputs": [],
   "source": [
    "sorted_idx = edgeidx[sortperm(Wout2[edgeidx], rev=true)]"
   ]
  },
  {
   "cell_type": "code",
   "execution_count": null,
   "metadata": {},
   "outputs": [],
   "source": [
    "Wout2"
   ]
  },
  {
   "cell_type": "code",
   "execution_count": null,
   "metadata": {},
   "outputs": [],
   "source": [
    "size(X,2)"
   ]
  },
  {
   "cell_type": "code",
   "execution_count": null,
   "metadata": {},
   "outputs": [],
   "source": [
    "# add sorted idx\n",
    "g = MetaDiGraph(size(X,2))\n",
    "for idx in sorted_idx\n",
    "    add_edge!(g, idx[1], idx[2])\n",
    "    if is_cyclic(g)\n",
    "        rem_edge!(g, idx[1], idx[2])\n",
    "    end\n",
    "end"
   ]
  },
  {
   "cell_type": "code",
   "execution_count": null,
   "metadata": {},
   "outputs": [],
   "source": [
    "bnp1 = myplot(g, [\"A\", \"B\", \"C\", \"D\", \"E\", \"F\", \"G\"])"
   ]
  },
  {
   "cell_type": "code",
   "execution_count": null,
   "metadata": {},
   "outputs": [],
   "source": [
    "function bnlearn_ground_truth()\n",
    "    greal = named_graph([:A, :B, :C, :D, :E, :F, :G])\n",
    "    named_graph_add_edge!(greal, :B, :C)\n",
    "    named_graph_add_edge!(greal, :A, :C)\n",
    "    named_graph_add_edge!(greal, :B, :D)\n",
    "    named_graph_add_edge!(greal, :D, :F)\n",
    "    named_graph_add_edge!(greal, :A, :F)\n",
    "    named_graph_add_edge!(greal, :G, :F)\n",
    "    named_graph_add_edge!(greal, :E, :F)\n",
    "    greal\n",
    "end"
   ]
  },
  {
   "cell_type": "code",
   "execution_count": null,
   "metadata": {},
   "outputs": [],
   "source": [
    "groundG = bnlearn_ground_truth()"
   ]
  },
  {
   "cell_type": "code",
   "execution_count": null,
   "metadata": {},
   "outputs": [],
   "source": [
    "bnp0 = myplot(groundG, [\"A\", \"B\", \"C\", \"D\", \"E\", \"F\", \"G\"])"
   ]
  },
  {
   "cell_type": "code",
   "execution_count": null,
   "metadata": {},
   "outputs": [],
   "source": [
    "draw(PNG(\"bnp0.png\"), bnp0)"
   ]
  },
  {
   "cell_type": "code",
   "execution_count": null,
   "metadata": {},
   "outputs": [],
   "source": [
    "draw(PNG(\"bnp1.png\"), bnp1)"
   ]
  },
  {
   "cell_type": "code",
   "execution_count": null,
   "metadata": {},
   "outputs": [],
   "source": [
    "adj1 = adjacency_matrix(g)\n",
    "adj0 = adjacency_matrix(groundG)\n",
    "# predicted edge, true edge, SHD\n",
    "predicted_edge = ne(g)\n",
    "@show predicted_edge\n",
    "correct_edge = sum(adj1[adj1 .== 1] .== adj0[adj1 .== 1])\n",
    "@show correct_edge\n",
    "reversed_edge = sum(adj1'[adj1' .== 1] .== adj0[adj1' .== 1])\n",
    "@show reversed_edge\n",
    "\n",
    "# metrics\n",
    "ytrue = Matrix(gen_weights(groundG))\n",
    "sup_graph_metrics(adj1, ytrue)"
   ]
  }
 ],
 "metadata": {
  "kernelspec": {
   "display_name": "Julia 1.5.0",
   "language": "julia",
   "name": "julia-1.5"
  },
  "language_info": {
   "file_extension": ".jl",
   "mimetype": "application/julia",
   "name": "julia",
   "version": "1.5.0"
  }
 },
 "nbformat": 4,
 "nbformat_minor": 4
}
