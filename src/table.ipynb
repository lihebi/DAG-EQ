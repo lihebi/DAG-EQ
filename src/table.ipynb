{
 "cells": [
  {
   "cell_type": "code",
   "execution_count": 1,
   "metadata": {},
   "outputs": [
    {
     "name": "stderr",
     "output_type": "stream",
     "text": [
      "┌ Info: Precompiling CSV [336ed68f-0bac-5ca0-87d4-7b16caf5d00b]\n",
      "└ @ Base loading.jl:1278\n"
     ]
    },
    {
     "data": {
      "text/plain": [
       "test (generic function with 1 method)"
      ]
     },
     "execution_count": 1,
     "metadata": {},
     "output_type": "execute_result"
    }
   ],
   "source": [
    "include(\"table.jl\")"
   ]
  },
  {
   "cell_type": "markdown",
   "metadata": {},
   "source": [
    "# ENV"
   ]
  },
  {
   "cell_type": "code",
   "execution_count": 2,
   "metadata": {},
   "outputs": [
    {
     "data": {
      "text/plain": [
       "200"
      ]
     },
     "execution_count": 2,
     "metadata": {},
     "output_type": "execute_result"
    }
   ],
   "source": [
    "ENV[\"COLUMNS\"] = 200"
   ]
  },
  {
   "cell_type": "markdown",
   "metadata": {},
   "source": [
    "# Load the results"
   ]
  },
  {
   "cell_type": "code",
   "execution_count": 3,
   "metadata": {},
   "outputs": [
    {
     "data": {
      "text/plain": [
       "Dict{Pair{String,String},Tuple{Float64,Float64,Float64,Float64,Dates.DateTime}} with 207 entries:\n",
       "  \"FC-d=20_k=1_gtype=ER_noise=Gaussian_mat=maxCOV_mec=Linear\"=>\"d=20_k=4_gtype=ER_noise=Gaussian_mat=maxCOV_mec=Lin… => (0.107998, 0.0637958, 28.5688, 0.003722, DateTime(\"2020-09-26T12:30:59.635\"))\n",
       "  \"EQ-d=10_k=1_gtype=SF_noise=Gaussian_mat=COR_mec=Linear\"=>\"d=10_k=1_gtype=SF_noise=Gaussian_mat=COR_mec=Linear\"    => (0.918978, 0.917155, 1.47363, 0.0671133, DateTime(\"2020-09-06T08:55:54.62\"))\n",
       "  \"EQ-d=20_k=1_gtype=SF_noise=Gaussian_mat=maxCOV_mec=Linear\"=>\"d=20_k=2_gtype=SF_noise=Gaussian_mat=maxCOV_mec=Lin… => (0.75096, 0.648335, 10.7695, 0.19642, DateTime(\"2020-09-26T12:31:08.709\"))\n",
       "  \"ensemEQ-ICLR-1-ensemble\"=>\"d=20_k=1_gtype=SF_noise=Gaussian_mat=maxCOV_mec=Linear\"                                => (0.977987, 0.949938, 1.35791, 0.207788, DateTime(\"2020-09-27T15:18:10.06\"))\n",
       "  \"EQ-d=10_k=1_gtype=ER_noise=Gaussian_mat=maxCOV_mec=Linear\"=>\"d=10_k=4_gtype=ER_noise=Gaussian_mat=maxCOV_mec=Lin… => (0.60692, 0.593683, 7.48682, 0.0611013, DateTime(\"2020-09-26T12:29:21.296\"))\n",
       "  \"EQ-d=50_k=1_gtype=ER_noise=Gaussian_mat=maxCOV_mec=Linear\"=>\"d=50_k=1_gtype=ER_noise=Poisson_mat=maxCOV_mec=Line… => (0.75131, 0.662134, 27.582, 0.225503, DateTime(\"2020-09-26T12:32:13.26\"))\n",
       "  \"EQ-d=20_k=1_gtype=SF_noise=Gaussian_mat=maxCOV_mec=Linear\"=>\"d=20_k=1_gtype=SF_noise=Gumbel_mat=maxCOV_mec=Linea… => (0.906424, 0.87703, 4.05762, 0.203199, DateTime(\"2020-09-26T12:31:49.661\"))\n",
       "  \"FC-d=100_k=1_gtype=ER_noise=Gaussian_mat=maxCOV_mec=Linear\"=>\"d=100_k=1_gtype=ER_noise=Exp_mat=maxCOV_mec=Linear\" => (0.0104094, 0.0702414, 757.27, 0.0068322, DateTime(\"2020-09-26T12:34:50.537\"))\n",
       "  \"CNN-d=20_k=1_gtype=ER_noise=Gaussian_mat=maxCOV_mec=Linear\"=>\"d=20_k=1_gtype=SF_noise=Gaussian_mat=maxCOV_mec=Li… => (0.515575, 0.304302, 18.6514, 0.00746325, DateTime(\"2020-09-26T12:31:01.778\"))\n",
       "  \"CNN-d=10_k=1_gtype=SF_noise=Gaussian_mat=maxCOV_mec=Linear\"=>\"d=10_k=2_gtype=SF_noise=Gaussian_mat=maxCOV_mec=Li… => (0.733292, 0.70931, 4.93896, 0.00179675, DateTime(\"2020-09-26T12:30:08.037\"))\n",
       "  \"FC-d=10_k=1_gtype=SF_noise=Gaussian_mat=maxCOV_mec=Linear\"=>\"d=10_k=1_gtype=SF_noise=Exp_mat=maxCOV_mec=Linear\"   => (0.530075, 0.4662, 8.5249, 0.000902131, DateTime(\"2020-09-26T12:30:07.801\"))\n",
       "  \"FC-d=10_k=1_gtype=ER_noise=Gaussian_mat=maxCOV_mec=Linear\"=>\"d=10_k=2_gtype=ER_noise=Gaussian_mat=maxCOV_mec=Lin… => (0.302543, 0.257424, 12.6543, 0.0799163, DateTime(\"2020-09-26T12:29:39.742\"))\n",
       "  \"FC-d=100_k=1_gtype=ER_noise=Gaussian_mat=maxCOV_mec=Linear\"=>\"d=100_k=1_gtype=ER_noise=Gumbel_mat=maxCOV_mec=Lin… => (0.010258, 0.0531958, 612.613, 0.0210645, DateTime(\"2020-09-26T12:34:51.187\"))\n",
       "  \"CNN-d=20_k=1_gtype=SF_noise=Gaussian_mat=COV_mec=Linear\"=>\"d=20_k=1_gtype=SF_noise=Gaussian_mat=COV_mec=Linear\"   => (0.785591, 0.636256, 10.2114, 0.00570451, DateTime(\"2020-09-06T08:58:53.798\"))\n",
       "  \"FC-d=10_k=1_gtype=SF_noise=Gaussian_mat=maxCOV_mec=Linear\"=>\"d=10_k=1_gtype=SF_noise=Poisson_mat=maxCOV_mec=Line… => (0.532688, 0.469781, 8.48242, 0.00203919, DateTime(\"2020-09-26T12:30:07.743\"))\n",
       "  \"FC-d=50_k=1_gtype=ER_noise=Gaussian_mat=maxCOV_mec=Linear\"=>\"d=50_k=1_gtype=SF_noise=Gaussian_mat=maxCOV_mec=Lin… => (0.0270541, 0.0170201, 78.1738, 0.00310306, DateTime(\"2020-09-26T12:32:30.805\"))\n",
       "  \"CNN-d=20_k=1_gtype=ER_noise=Gaussian_mat=COR_mec=Linear\"=>\"d=20_k=1_gtype=ER_noise=Gaussian_mat=COR_mec=Linear\"   => (0.525814, 0.292568, 18.9443, 0.00512624, DateTime(\"2020-09-06T09:17:47.293\"))\n",
       "  \"ensemEQ-ICLR-1-ensemble\"=>\"d=10_k=1_gtype=ER_noise=Gaussian_mat=maxCOV_mec=Linear\"                                => (0.937016, 0.863732, 1.84082, 1.48326, DateTime(\"2020-09-27T15:17:59.895\"))\n",
       "  \"EQ-d=20_k=1_gtype=SF_noise=Gaussian_mat=medCOV_mec=Linear\"=>\"d=20_k=1_gtype=SF_noise=Gaussian_mat=medCOV_mec=Lin… => (0.920663, 0.842748, 4.36768, 0.189942, DateTime(\"2020-09-06T19:32:26.418\"))\n",
       "  \"CNN-d=10_k=1_gtype=ER_noise=Gaussian_mat=medCOV_mec=Linear\"=>\"d=10_k=1_gtype=ER_noise=Gaussian_mat=medCOV_mec=Li… => (0.648903, 0.550746, 7.07568, 0.00149144, DateTime(\"2020-09-06T15:05:01.096\"))\n",
       "  \"EQ-d=10_k=1_gtype=SF_noise=Gaussian_mat=maxCOV_mec=Linear\"=>\"d=10_k=1_gtype=ER_noise=Gaussian_mat=maxCOV_mec=Lin… => (0.88423, 0.706821, 3.65234, 0.0649524, DateTime(\"2020-09-26T12:30:07.287\"))\n",
       "  \"CNN-d=20_k=1_gtype=SF_noise=Gaussian_mat=maxCOV_mec=Linear\"=>\"d=20_k=1_gtype=SF_noise=Poisson_mat=maxCOV_mec=Lin… => (0.754798, 0.676372, 10.3257, 0.0055283, DateTime(\"2020-09-26T12:31:54.722\"))\n",
       "  \"FC-d=10_k=1_gtype=ER_noise=Gaussian_mat=maxCOV_mec=Linear\"=>\"d=10_k=1_gtype=ER_noise=Poisson_mat=maxCOV_mec=Line… => (0.306397, 0.263987, 12.6274, 0.000907809, DateTime(\"2020-09-26T12:29:39.879\"))\n",
       "  \"FC-d=50_k=1_gtype=ER_noise=Gaussian_mat=maxCOV_mec=Linear\"=>\"d=50_k=1_gtype=ER_noise=Poisson_mat=maxCOV_mec=Line… => (0.0251696, 0.0161343, 79.6562, 0.00301006, DateTime(\"2020-09-26T12:32:30.407\"))\n",
       "  \"FC-d=20_k=1_gtype=SF_noise=Gaussian_mat=medCOV_mec=Linear\"=>\"d=20_k=1_gtype=SF_noise=Gaussian_mat=medCOV_mec=Lin… => (0.297007, 0.183851, 23.7773, 0.00238894, DateTime(\"2020-09-06T19:39:30.134\"))\n",
       "  ⋮                                                                                                                  => ⋮"
      ]
     },
     "execution_count": 3,
     "metadata": {},
     "output_type": "execute_result"
    }
   ],
   "source": [
    "results = load_results()"
   ]
  },
  {
   "cell_type": "code",
   "execution_count": 84,
   "metadata": {},
   "outputs": [
    {
     "data": {
      "text/html": [
       "<table class=\"data-frame\"><thead><tr><th></th><th>model</th><th>train_d</th><th>train_k</th><th>train_gtype</th><th>train_noise</th><th>train_mat</th><th>train_mec</th><th>test_d</th><th>test_k</th><th>test_gtype</th><th>test_noise</th><th>test_mat</th><th>test_mec</th><th>raw</th><th>prec</th><th>recall</th><th>shd</th><th>time</th></tr><tr><th></th><th>String</th><th>Int64⍰</th><th>Int64⍰</th><th>String⍰</th><th>String⍰</th><th>String⍰</th><th>String⍰</th><th>Int64</th><th>Int64</th><th>String</th><th>String</th><th>String</th><th>String⍰</th><th>Bool</th><th>Float32</th><th>Float32</th><th>Float32</th><th>Float32</th></tr></thead><tbody><p>207 rows × 18 columns</p><tr><th>1</th><td>FC</td><td>20</td><td>1</td><td>ER</td><td>Gaussian</td><td>maxCOV</td><td>Linear</td><td>20</td><td>4</td><td>ER</td><td>Gaussian</td><td>maxCOV</td><td>Linear</td><td>0</td><td>10.8</td><td>6.4</td><td>28.6</td><td>0.0</td></tr><tr><th>2</th><td>EQ</td><td>10</td><td>1</td><td>SF</td><td>Gaussian</td><td>COR</td><td>Linear</td><td>10</td><td>1</td><td>SF</td><td>Gaussian</td><td>COR</td><td>Linear</td><td>0</td><td>91.9</td><td>91.7</td><td>1.5</td><td>0.1</td></tr><tr><th>3</th><td>EQ</td><td>20</td><td>1</td><td>SF</td><td>Gaussian</td><td>maxCOV</td><td>Linear</td><td>20</td><td>2</td><td>SF</td><td>Gaussian</td><td>maxCOV</td><td>Linear</td><td>0</td><td>75.1</td><td>64.8</td><td>10.8</td><td>0.2</td></tr><tr><th>4</th><td>ensemEQ-ICLR-1-ensemble</td><td>missing</td><td>missing</td><td>missing</td><td>missing</td><td>missing</td><td>missing</td><td>20</td><td>1</td><td>SF</td><td>Gaussian</td><td>maxCOV</td><td>Linear</td><td>0</td><td>97.8</td><td>95.0</td><td>1.4</td><td>0.2</td></tr><tr><th>5</th><td>EQ</td><td>10</td><td>1</td><td>ER</td><td>Gaussian</td><td>maxCOV</td><td>Linear</td><td>10</td><td>4</td><td>ER</td><td>Gaussian</td><td>maxCOV</td><td>Linear</td><td>0</td><td>60.7</td><td>59.4</td><td>7.5</td><td>0.1</td></tr><tr><th>6</th><td>EQ</td><td>50</td><td>1</td><td>ER</td><td>Gaussian</td><td>maxCOV</td><td>Linear</td><td>50</td><td>1</td><td>ER</td><td>Poisson</td><td>maxCOV</td><td>Linear</td><td>0</td><td>75.1</td><td>66.2</td><td>27.6</td><td>0.2</td></tr><tr><th>7</th><td>EQ</td><td>20</td><td>1</td><td>SF</td><td>Gaussian</td><td>maxCOV</td><td>Linear</td><td>20</td><td>1</td><td>SF</td><td>Gumbel</td><td>maxCOV</td><td>Linear</td><td>0</td><td>90.6</td><td>87.7</td><td>4.1</td><td>0.2</td></tr><tr><th>8</th><td>FC</td><td>100</td><td>1</td><td>ER</td><td>Gaussian</td><td>maxCOV</td><td>Linear</td><td>100</td><td>1</td><td>ER</td><td>Exp</td><td>maxCOV</td><td>Linear</td><td>0</td><td>1.0</td><td>7.0</td><td>757.3</td><td>0.0</td></tr><tr><th>9</th><td>CNN</td><td>20</td><td>1</td><td>ER</td><td>Gaussian</td><td>maxCOV</td><td>Linear</td><td>20</td><td>1</td><td>SF</td><td>Gaussian</td><td>maxCOV</td><td>Linear</td><td>0</td><td>51.6</td><td>30.4</td><td>18.7</td><td>0.0</td></tr><tr><th>10</th><td>CNN</td><td>10</td><td>1</td><td>SF</td><td>Gaussian</td><td>maxCOV</td><td>Linear</td><td>10</td><td>2</td><td>SF</td><td>Gaussian</td><td>maxCOV</td><td>Linear</td><td>0</td><td>73.3</td><td>70.9</td><td>4.9</td><td>0.0</td></tr><tr><th>11</th><td>FC</td><td>10</td><td>1</td><td>SF</td><td>Gaussian</td><td>maxCOV</td><td>Linear</td><td>10</td><td>1</td><td>SF</td><td>Exp</td><td>maxCOV</td><td>Linear</td><td>0</td><td>53.0</td><td>46.6</td><td>8.5</td><td>0.0</td></tr><tr><th>12</th><td>FC</td><td>10</td><td>1</td><td>ER</td><td>Gaussian</td><td>maxCOV</td><td>Linear</td><td>10</td><td>2</td><td>ER</td><td>Gaussian</td><td>maxCOV</td><td>Linear</td><td>0</td><td>30.3</td><td>25.7</td><td>12.7</td><td>0.1</td></tr><tr><th>13</th><td>FC</td><td>100</td><td>1</td><td>ER</td><td>Gaussian</td><td>maxCOV</td><td>Linear</td><td>100</td><td>1</td><td>ER</td><td>Gumbel</td><td>maxCOV</td><td>Linear</td><td>0</td><td>1.0</td><td>5.3</td><td>612.6</td><td>0.0</td></tr><tr><th>14</th><td>CNN</td><td>20</td><td>1</td><td>SF</td><td>Gaussian</td><td>COV</td><td>Linear</td><td>20</td><td>1</td><td>SF</td><td>Gaussian</td><td>COV</td><td>Linear</td><td>0</td><td>78.6</td><td>63.6</td><td>10.2</td><td>0.0</td></tr><tr><th>15</th><td>FC</td><td>10</td><td>1</td><td>SF</td><td>Gaussian</td><td>maxCOV</td><td>Linear</td><td>10</td><td>1</td><td>SF</td><td>Poisson</td><td>maxCOV</td><td>Linear</td><td>0</td><td>53.3</td><td>47.0</td><td>8.5</td><td>0.0</td></tr><tr><th>16</th><td>FC</td><td>50</td><td>1</td><td>ER</td><td>Gaussian</td><td>maxCOV</td><td>Linear</td><td>50</td><td>1</td><td>SF</td><td>Gaussian</td><td>maxCOV</td><td>Linear</td><td>0</td><td>2.7</td><td>1.7</td><td>78.2</td><td>0.0</td></tr><tr><th>17</th><td>CNN</td><td>20</td><td>1</td><td>ER</td><td>Gaussian</td><td>COR</td><td>Linear</td><td>20</td><td>1</td><td>ER</td><td>Gaussian</td><td>COR</td><td>Linear</td><td>0</td><td>52.6</td><td>29.3</td><td>18.9</td><td>0.0</td></tr><tr><th>18</th><td>ensemEQ-ICLR-1-ensemble</td><td>missing</td><td>missing</td><td>missing</td><td>missing</td><td>missing</td><td>missing</td><td>10</td><td>1</td><td>ER</td><td>Gaussian</td><td>maxCOV</td><td>Linear</td><td>0</td><td>93.7</td><td>86.4</td><td>1.8</td><td>1.5</td></tr><tr><th>19</th><td>EQ</td><td>20</td><td>1</td><td>SF</td><td>Gaussian</td><td>medCOV</td><td>Linear</td><td>20</td><td>1</td><td>SF</td><td>Gaussian</td><td>medCOV</td><td>Linear</td><td>0</td><td>92.1</td><td>84.3</td><td>4.4</td><td>0.2</td></tr><tr><th>20</th><td>CNN</td><td>10</td><td>1</td><td>ER</td><td>Gaussian</td><td>medCOV</td><td>Linear</td><td>10</td><td>1</td><td>ER</td><td>Gaussian</td><td>medCOV</td><td>Linear</td><td>0</td><td>64.9</td><td>55.1</td><td>7.1</td><td>0.0</td></tr><tr><th>21</th><td>EQ</td><td>10</td><td>1</td><td>SF</td><td>Gaussian</td><td>maxCOV</td><td>Linear</td><td>10</td><td>1</td><td>ER</td><td>Gaussian</td><td>maxCOV</td><td>Linear</td><td>0</td><td>88.4</td><td>70.7</td><td>3.7</td><td>0.1</td></tr><tr><th>22</th><td>CNN</td><td>20</td><td>1</td><td>SF</td><td>Gaussian</td><td>maxCOV</td><td>Linear</td><td>20</td><td>1</td><td>SF</td><td>Poisson</td><td>maxCOV</td><td>Linear</td><td>0</td><td>75.5</td><td>67.6</td><td>10.3</td><td>0.0</td></tr><tr><th>23</th><td>FC</td><td>10</td><td>1</td><td>ER</td><td>Gaussian</td><td>maxCOV</td><td>Linear</td><td>10</td><td>1</td><td>ER</td><td>Poisson</td><td>maxCOV</td><td>Linear</td><td>0</td><td>30.6</td><td>26.4</td><td>12.6</td><td>0.0</td></tr><tr><th>24</th><td>FC</td><td>50</td><td>1</td><td>ER</td><td>Gaussian</td><td>maxCOV</td><td>Linear</td><td>50</td><td>1</td><td>ER</td><td>Poisson</td><td>maxCOV</td><td>Linear</td><td>0</td><td>2.5</td><td>1.6</td><td>79.7</td><td>0.0</td></tr><tr><th>25</th><td>FC</td><td>20</td><td>1</td><td>SF</td><td>Gaussian</td><td>medCOV</td><td>Linear</td><td>20</td><td>1</td><td>SF</td><td>Gaussian</td><td>medCOV</td><td>Linear</td><td>0</td><td>29.7</td><td>18.4</td><td>23.8</td><td>0.0</td></tr><tr><th>26</th><td>FC</td><td>20</td><td>1</td><td>SF</td><td>Gaussian</td><td>maxCOV</td><td>Linear</td><td>20</td><td>1</td><td>SF</td><td>Gumbel</td><td>maxCOV</td><td>Linear</td><td>0</td><td>27.2</td><td>21.0</td><td>25.7</td><td>0.0</td></tr><tr><th>27</th><td>CNN</td><td>50</td><td>1</td><td>ER</td><td>Gaussian</td><td>maxCOV</td><td>Linear</td><td>50</td><td>4</td><td>ER</td><td>Gaussian</td><td>maxCOV</td><td>Linear</td><td>0</td><td>17.1</td><td>1.2</td><td>51.9</td><td>0.0</td></tr><tr><th>28</th><td>CNN</td><td>100</td><td>1</td><td>SF</td><td>Gaussian</td><td>maxCOV</td><td>Linear</td><td>100</td><td>1</td><td>SF</td><td>Poisson</td><td>maxCOV</td><td>Linear</td><td>0</td><td>52.6</td><td>16.8</td><td>97.5</td><td>0.0</td></tr><tr><th>29</th><td>FC</td><td>100</td><td>1</td><td>SF</td><td>Gaussian</td><td>maxCOV</td><td>Linear</td><td>100</td><td>1</td><td>SF</td><td>Poisson</td><td>maxCOV</td><td>Linear</td><td>0</td><td>5.8</td><td>3.8</td><td>157.9</td><td>0.0</td></tr><tr><th>30</th><td>CNN</td><td>10</td><td>1</td><td>ER</td><td>Gaussian</td><td>maxCOV</td><td>Linear</td><td>10</td><td>1</td><td>SF</td><td>Gaussian</td><td>maxCOV</td><td>Linear</td><td>0</td><td>55.3</td><td>53.4</td><td>8.1</td><td>0.0</td></tr><tr><th>&vellip;</th><td>&vellip;</td><td>&vellip;</td><td>&vellip;</td><td>&vellip;</td><td>&vellip;</td><td>&vellip;</td><td>&vellip;</td><td>&vellip;</td><td>&vellip;</td><td>&vellip;</td><td>&vellip;</td><td>&vellip;</td><td>&vellip;</td><td>&vellip;</td><td>&vellip;</td><td>&vellip;</td><td>&vellip;</td><td>&vellip;</td></tr></tbody></table>"
      ],
      "text/latex": [
       "\\begin{tabular}{r|cccccccccccccccccc}\n",
       "\t& model & train\\_d & train\\_k & train\\_gtype & train\\_noise & train\\_mat & train\\_mec & test\\_d & test\\_k & test\\_gtype & test\\_noise & test\\_mat & test\\_mec & raw & prec & recall & shd & time\\\\\n",
       "\t\\hline\n",
       "\t& String & Int64⍰ & Int64⍰ & String⍰ & String⍰ & String⍰ & String⍰ & Int64 & Int64 & String & String & String & String⍰ & Bool & Float32 & Float32 & Float32 & Float32\\\\\n",
       "\t\\hline\n",
       "\t1 & FC & 20 & 1 & ER & Gaussian & maxCOV & Linear & 20 & 4 & ER & Gaussian & maxCOV & Linear & 0 & 10.8 & 6.4 & 28.6 & 0.0 \\\\\n",
       "\t2 & EQ & 10 & 1 & SF & Gaussian & COR & Linear & 10 & 1 & SF & Gaussian & COR & Linear & 0 & 91.9 & 91.7 & 1.5 & 0.1 \\\\\n",
       "\t3 & EQ & 20 & 1 & SF & Gaussian & maxCOV & Linear & 20 & 2 & SF & Gaussian & maxCOV & Linear & 0 & 75.1 & 64.8 & 10.8 & 0.2 \\\\\n",
       "\t4 & ensemEQ-ICLR-1-ensemble &  &  &  &  &  &  & 20 & 1 & SF & Gaussian & maxCOV & Linear & 0 & 97.8 & 95.0 & 1.4 & 0.2 \\\\\n",
       "\t5 & EQ & 10 & 1 & ER & Gaussian & maxCOV & Linear & 10 & 4 & ER & Gaussian & maxCOV & Linear & 0 & 60.7 & 59.4 & 7.5 & 0.1 \\\\\n",
       "\t6 & EQ & 50 & 1 & ER & Gaussian & maxCOV & Linear & 50 & 1 & ER & Poisson & maxCOV & Linear & 0 & 75.1 & 66.2 & 27.6 & 0.2 \\\\\n",
       "\t7 & EQ & 20 & 1 & SF & Gaussian & maxCOV & Linear & 20 & 1 & SF & Gumbel & maxCOV & Linear & 0 & 90.6 & 87.7 & 4.1 & 0.2 \\\\\n",
       "\t8 & FC & 100 & 1 & ER & Gaussian & maxCOV & Linear & 100 & 1 & ER & Exp & maxCOV & Linear & 0 & 1.0 & 7.0 & 757.3 & 0.0 \\\\\n",
       "\t9 & CNN & 20 & 1 & ER & Gaussian & maxCOV & Linear & 20 & 1 & SF & Gaussian & maxCOV & Linear & 0 & 51.6 & 30.4 & 18.7 & 0.0 \\\\\n",
       "\t10 & CNN & 10 & 1 & SF & Gaussian & maxCOV & Linear & 10 & 2 & SF & Gaussian & maxCOV & Linear & 0 & 73.3 & 70.9 & 4.9 & 0.0 \\\\\n",
       "\t11 & FC & 10 & 1 & SF & Gaussian & maxCOV & Linear & 10 & 1 & SF & Exp & maxCOV & Linear & 0 & 53.0 & 46.6 & 8.5 & 0.0 \\\\\n",
       "\t12 & FC & 10 & 1 & ER & Gaussian & maxCOV & Linear & 10 & 2 & ER & Gaussian & maxCOV & Linear & 0 & 30.3 & 25.7 & 12.7 & 0.1 \\\\\n",
       "\t13 & FC & 100 & 1 & ER & Gaussian & maxCOV & Linear & 100 & 1 & ER & Gumbel & maxCOV & Linear & 0 & 1.0 & 5.3 & 612.6 & 0.0 \\\\\n",
       "\t14 & CNN & 20 & 1 & SF & Gaussian & COV & Linear & 20 & 1 & SF & Gaussian & COV & Linear & 0 & 78.6 & 63.6 & 10.2 & 0.0 \\\\\n",
       "\t15 & FC & 10 & 1 & SF & Gaussian & maxCOV & Linear & 10 & 1 & SF & Poisson & maxCOV & Linear & 0 & 53.3 & 47.0 & 8.5 & 0.0 \\\\\n",
       "\t16 & FC & 50 & 1 & ER & Gaussian & maxCOV & Linear & 50 & 1 & SF & Gaussian & maxCOV & Linear & 0 & 2.7 & 1.7 & 78.2 & 0.0 \\\\\n",
       "\t17 & CNN & 20 & 1 & ER & Gaussian & COR & Linear & 20 & 1 & ER & Gaussian & COR & Linear & 0 & 52.6 & 29.3 & 18.9 & 0.0 \\\\\n",
       "\t18 & ensemEQ-ICLR-1-ensemble &  &  &  &  &  &  & 10 & 1 & ER & Gaussian & maxCOV & Linear & 0 & 93.7 & 86.4 & 1.8 & 1.5 \\\\\n",
       "\t19 & EQ & 20 & 1 & SF & Gaussian & medCOV & Linear & 20 & 1 & SF & Gaussian & medCOV & Linear & 0 & 92.1 & 84.3 & 4.4 & 0.2 \\\\\n",
       "\t20 & CNN & 10 & 1 & ER & Gaussian & medCOV & Linear & 10 & 1 & ER & Gaussian & medCOV & Linear & 0 & 64.9 & 55.1 & 7.1 & 0.0 \\\\\n",
       "\t21 & EQ & 10 & 1 & SF & Gaussian & maxCOV & Linear & 10 & 1 & ER & Gaussian & maxCOV & Linear & 0 & 88.4 & 70.7 & 3.7 & 0.1 \\\\\n",
       "\t22 & CNN & 20 & 1 & SF & Gaussian & maxCOV & Linear & 20 & 1 & SF & Poisson & maxCOV & Linear & 0 & 75.5 & 67.6 & 10.3 & 0.0 \\\\\n",
       "\t23 & FC & 10 & 1 & ER & Gaussian & maxCOV & Linear & 10 & 1 & ER & Poisson & maxCOV & Linear & 0 & 30.6 & 26.4 & 12.6 & 0.0 \\\\\n",
       "\t24 & FC & 50 & 1 & ER & Gaussian & maxCOV & Linear & 50 & 1 & ER & Poisson & maxCOV & Linear & 0 & 2.5 & 1.6 & 79.7 & 0.0 \\\\\n",
       "\t25 & FC & 20 & 1 & SF & Gaussian & medCOV & Linear & 20 & 1 & SF & Gaussian & medCOV & Linear & 0 & 29.7 & 18.4 & 23.8 & 0.0 \\\\\n",
       "\t26 & FC & 20 & 1 & SF & Gaussian & maxCOV & Linear & 20 & 1 & SF & Gumbel & maxCOV & Linear & 0 & 27.2 & 21.0 & 25.7 & 0.0 \\\\\n",
       "\t27 & CNN & 50 & 1 & ER & Gaussian & maxCOV & Linear & 50 & 4 & ER & Gaussian & maxCOV & Linear & 0 & 17.1 & 1.2 & 51.9 & 0.0 \\\\\n",
       "\t28 & CNN & 100 & 1 & SF & Gaussian & maxCOV & Linear & 100 & 1 & SF & Poisson & maxCOV & Linear & 0 & 52.6 & 16.8 & 97.5 & 0.0 \\\\\n",
       "\t29 & FC & 100 & 1 & SF & Gaussian & maxCOV & Linear & 100 & 1 & SF & Poisson & maxCOV & Linear & 0 & 5.8 & 3.8 & 157.9 & 0.0 \\\\\n",
       "\t30 & CNN & 10 & 1 & ER & Gaussian & maxCOV & Linear & 10 & 1 & SF & Gaussian & maxCOV & Linear & 0 & 55.3 & 53.4 & 8.1 & 0.0 \\\\\n",
       "\t$\\dots$ & $\\dots$ & $\\dots$ & $\\dots$ & $\\dots$ & $\\dots$ & $\\dots$ & $\\dots$ & $\\dots$ & $\\dots$ & $\\dots$ & $\\dots$ & $\\dots$ & $\\dots$ & $\\dots$ & $\\dots$ & $\\dots$ & $\\dots$ & $\\dots$ \\\\\n",
       "\\end{tabular}\n"
      ],
      "text/plain": [
       "207×18 DataFrame. Omitted printing of 2 columns\n",
       "│ Row │ model                   │ train_d │ train_k │ train_gtype │ train_noise │ train_mat │ train_mec │ test_d │ test_k │ test_gtype │ test_noise │ test_mat │ test_mec │ raw  │ prec    │ recall  │\n",
       "│     │ \u001b[90mString\u001b[39m                  │ \u001b[90mInt64⍰\u001b[39m  │ \u001b[90mInt64⍰\u001b[39m  │ \u001b[90mString⍰\u001b[39m     │ \u001b[90mString⍰\u001b[39m     │ \u001b[90mString⍰\u001b[39m   │ \u001b[90mString⍰\u001b[39m   │ \u001b[90mInt64\u001b[39m  │ \u001b[90mInt64\u001b[39m  │ \u001b[90mString\u001b[39m     │ \u001b[90mString\u001b[39m     │ \u001b[90mString\u001b[39m   │ \u001b[90mString⍰\u001b[39m  │ \u001b[90mBool\u001b[39m │ \u001b[90mFloat32\u001b[39m │ \u001b[90mFloat32\u001b[39m │\n",
       "├─────┼─────────────────────────┼─────────┼─────────┼─────────────┼─────────────┼───────────┼───────────┼────────┼────────┼────────────┼────────────┼──────────┼──────────┼──────┼─────────┼─────────┤\n",
       "│ 1   │ FC                      │ 20      │ 1       │ ER          │ Gaussian    │ maxCOV    │ Linear    │ 20     │ 4      │ ER         │ Gaussian   │ maxCOV   │ Linear   │ 0    │ 10.8    │ 6.4     │\n",
       "│ 2   │ EQ                      │ 10      │ 1       │ SF          │ Gaussian    │ COR       │ Linear    │ 10     │ 1      │ SF         │ Gaussian   │ COR      │ Linear   │ 0    │ 91.9    │ 91.7    │\n",
       "│ 3   │ EQ                      │ 20      │ 1       │ SF          │ Gaussian    │ maxCOV    │ Linear    │ 20     │ 2      │ SF         │ Gaussian   │ maxCOV   │ Linear   │ 0    │ 75.1    │ 64.8    │\n",
       "│ 4   │ ensemEQ-ICLR-1-ensemble │ \u001b[90mmissing\u001b[39m │ \u001b[90mmissing\u001b[39m │ \u001b[90mmissing\u001b[39m     │ \u001b[90mmissing\u001b[39m     │ \u001b[90mmissing\u001b[39m   │ \u001b[90mmissing\u001b[39m   │ 20     │ 1      │ SF         │ Gaussian   │ maxCOV   │ Linear   │ 0    │ 97.8    │ 95.0    │\n",
       "│ 5   │ EQ                      │ 10      │ 1       │ ER          │ Gaussian    │ maxCOV    │ Linear    │ 10     │ 4      │ ER         │ Gaussian   │ maxCOV   │ Linear   │ 0    │ 60.7    │ 59.4    │\n",
       "│ 6   │ EQ                      │ 50      │ 1       │ ER          │ Gaussian    │ maxCOV    │ Linear    │ 50     │ 1      │ ER         │ Poisson    │ maxCOV   │ Linear   │ 0    │ 75.1    │ 66.2    │\n",
       "│ 7   │ EQ                      │ 20      │ 1       │ SF          │ Gaussian    │ maxCOV    │ Linear    │ 20     │ 1      │ SF         │ Gumbel     │ maxCOV   │ Linear   │ 0    │ 90.6    │ 87.7    │\n",
       "│ 8   │ FC                      │ 100     │ 1       │ ER          │ Gaussian    │ maxCOV    │ Linear    │ 100    │ 1      │ ER         │ Exp        │ maxCOV   │ Linear   │ 0    │ 1.0     │ 7.0     │\n",
       "│ 9   │ CNN                     │ 20      │ 1       │ ER          │ Gaussian    │ maxCOV    │ Linear    │ 20     │ 1      │ SF         │ Gaussian   │ maxCOV   │ Linear   │ 0    │ 51.6    │ 30.4    │\n",
       "│ 10  │ CNN                     │ 10      │ 1       │ SF          │ Gaussian    │ maxCOV    │ Linear    │ 10     │ 2      │ SF         │ Gaussian   │ maxCOV   │ Linear   │ 0    │ 73.3    │ 70.9    │\n",
       "⋮\n",
       "│ 197 │ EQ                      │ 10      │ 1       │ SF          │ Gaussian    │ maxCOV    │ Linear    │ 10     │ 1      │ SF         │ Poisson    │ maxCOV   │ Linear   │ 0    │ 97.3    │ 96.5    │\n",
       "│ 198 │ FC                      │ 20      │ 1       │ ER          │ Gaussian    │ maxCOV    │ Linear    │ 20     │ 2      │ ER         │ Gaussian   │ maxCOV   │ Linear   │ 0    │ 11.0    │ 7.8     │\n",
       "│ 199 │ CNN                     │ 10      │ 1       │ ER          │ Gaussian    │ COR       │ Linear    │ 10     │ 1      │ ER         │ Gaussian   │ COR      │ Linear   │ 0    │ 49.0    │ 39.9    │\n",
       "│ 200 │ FC                      │ 50      │ 1       │ SF          │ Gaussian    │ maxCOV    │ Linear    │ 50     │ 1      │ SF         │ Gaussian   │ maxCOV   │ Linear   │ 0    │ 9.8     │ 6.7     │\n",
       "│ 201 │ EQ                      │ 20      │ 1       │ SF          │ Gaussian    │ COV       │ Linear    │ 20     │ 1      │ SF         │ Gaussian   │ COV      │ Linear   │ 0    │ 93.3    │ 93.3    │\n",
       "│ 202 │ FC                      │ 10      │ 1       │ ER          │ Gaussian    │ maxCOV    │ Linear    │ 10     │ 1      │ ER         │ Exp        │ maxCOV   │ Linear   │ 0    │ 31.1    │ 26.8    │\n",
       "│ 203 │ CNN                     │ 20      │ 1       │ SF          │ Gaussian    │ maxCOV    │ Linear    │ 20     │ 1      │ SF         │ Exp        │ maxCOV   │ Linear   │ 0    │ 75.3    │ 67.9    │\n",
       "│ 204 │ FC                      │ 10      │ 1       │ SF          │ Gaussian    │ maxCOV    │ Linear    │ 10     │ 1      │ ER         │ Gaussian   │ maxCOV   │ Linear   │ 0    │ 27.3    │ 22.5    │\n",
       "│ 205 │ FC                      │ 10      │ 1       │ ER          │ Gaussian    │ maxCOV    │ Linear    │ 10     │ 1      │ SF         │ Gaussian   │ maxCOV   │ Linear   │ 0    │ 28.8    │ 25.6    │\n",
       "│ 206 │ EQ                      │ 10      │ 1       │ ER          │ Gaussian    │ maxCOV    │ Linear    │ 10     │ 1      │ ER         │ Exp        │ maxCOV   │ Linear   │ 0    │ 92.1    │ 83.4    │\n",
       "│ 207 │ FC                      │ 10      │ 1       │ SF          │ Gaussian    │ maxCOV    │ Linear    │ 10     │ 1      │ SF         │ Gaussian   │ maxCOV   │ Linear   │ 0    │ 53.5    │ 47.3    │"
      ]
     },
     "execution_count": 84,
     "metadata": {},
     "output_type": "execute_result"
    }
   ],
   "source": [
    "df = results2df(results)"
   ]
  },
  {
   "cell_type": "code",
   "execution_count": null,
   "metadata": {},
   "outputs": [],
   "source": [
    "sort(df[(df.model .== \"EQ\") .& (df.train_mat .== \"maxCOV\"),:], [:train_d, :train_gtype, :train_mat])"
   ]
  },
  {
   "cell_type": "code",
   "execution_count": null,
   "metadata": {},
   "outputs": [],
   "source": [
    "sort(df[(df.model .== \"EQ\") .& (df.train_mat .== \"COR\"),:], [:train_d, :train_gtype, :train_mat])"
   ]
  },
  {
   "cell_type": "code",
   "execution_count": null,
   "metadata": {},
   "outputs": [],
   "source": [
    "sort(df[(df.model .== \"CNN\") .& (df.train_mat .== \"maxCOV\"),:], [:train_d, :train_gtype, :train_mat])"
   ]
  },
  {
   "cell_type": "markdown",
   "metadata": {},
   "source": [
    "# Test dataframe selection\n",
    "\n",
    "And exploring the data"
   ]
  },
  {
   "cell_type": "code",
   "execution_count": null,
   "metadata": {},
   "outputs": [],
   "source": [
    "df[1:4,[\"model\",\"train_d\"]]"
   ]
  },
  {
   "cell_type": "code",
   "execution_count": null,
   "metadata": {},
   "outputs": [],
   "source": [
    "# sum(df.raw)\n",
    "\n",
    "# I don't need train_k, because all of them are 1s\n",
    "df = df[!, Not(All(:train_k, :train_noise))]\n",
    "\n",
    "unique(df.train_mat)\n",
    "unique(df.model)"
   ]
  },
  {
   "cell_type": "markdown",
   "metadata": {},
   "source": [
    "# Pre-defined tables"
   ]
  },
  {
   "cell_type": "code",
   "execution_count": null,
   "metadata": {},
   "outputs": [],
   "source": [
    "table_cmp_baseline(df)"
   ]
  },
  {
   "cell_type": "code",
   "execution_count": null,
   "metadata": {},
   "outputs": [],
   "source": [
    "table_ER24(df)"
   ]
  },
  {
   "cell_type": "code",
   "execution_count": null,
   "metadata": {},
   "outputs": [],
   "source": [
    "table_raw(df)"
   ]
  },
  {
   "cell_type": "code",
   "execution_count": null,
   "metadata": {},
   "outputs": [],
   "source": [
    "table_transfer_k(df)"
   ]
  },
  {
   "cell_type": "code",
   "execution_count": null,
   "metadata": {},
   "outputs": [],
   "source": [
    "table_transfer_noise(df)"
   ]
  },
  {
   "cell_type": "code",
   "execution_count": null,
   "metadata": {},
   "outputs": [],
   "source": [
    "table_transfer_gtype(df)"
   ]
  },
  {
   "cell_type": "code",
   "execution_count": null,
   "metadata": {},
   "outputs": [],
   "source": [
    "table_ensemble(df)"
   ]
  },
  {
   "cell_type": "markdown",
   "metadata": {},
   "source": [
    "# Developing the tables"
   ]
  },
  {
   "cell_type": "markdown",
   "metadata": {},
   "source": [
    "## Table 1: compare EQ/CNN/FC with the literature\n",
    "\n",
    "- [ ] TODO literature in baseline.py\n",
    "- [ ] TODO I want to probably generate the final layout to use in the paper.\n",
    "\n",
    "I need:\n",
    "- add sep lines\n",
    "- break into \"two columns\"\n",
    "\n",
    "Possibly through:\n",
    "- I need to generate nice output here\n",
    "- generate latex code to copy&paste into paper"
   ]
  },
  {
   "cell_type": "code",
   "execution_count": 104,
   "metadata": {},
   "outputs": [
    {
     "data": {
      "text/html": [
       "<table class=\"data-frame\"><thead><tr><th></th><th>model</th><th>train_d</th><th>prec</th><th>recall</th><th>shd</th></tr><tr><th></th><th>String</th><th>Int64⍰</th><th>Float32</th><th>Float32</th><th>Float32</th></tr></thead><tbody><p>24 rows × 5 columns</p><tr><th>1</th><td>CNN</td><td>10</td><td>83.0</td><td>81.5</td><td>3.2</td></tr><tr><th>2</th><td>CNN</td><td>10</td><td>61.7</td><td>55.2</td><td>7.5</td></tr><tr><th>3</th><td>EQ</td><td>10</td><td>96.5</td><td>95.4</td><td>0.7</td></tr><tr><th>4</th><td>EQ</td><td>10</td><td>91.0</td><td>83.4</td><td>2.4</td></tr><tr><th>5</th><td>FC</td><td>10</td><td>30.8</td><td>26.4</td><td>12.6</td></tr><tr><th>6</th><td>FC</td><td>10</td><td>53.5</td><td>47.3</td><td>8.4</td></tr><tr><th>7</th><td>CNN</td><td>20</td><td>75.1</td><td>68.0</td><td>10.4</td></tr><tr><th>8</th><td>CNN</td><td>20</td><td>59.7</td><td>35.0</td><td>17.3</td></tr><tr><th>9</th><td>EQ</td><td>20</td><td>90.2</td><td>82.8</td><td>5.0</td></tr><tr><th>10</th><td>EQ</td><td>20</td><td>87.3</td><td>74.0</td><td>7.2</td></tr><tr><th>11</th><td>FC</td><td>20</td><td>27.2</td><td>21.2</td><td>25.7</td></tr><tr><th>12</th><td>FC</td><td>20</td><td>11.3</td><td>9.0</td><td>31.6</td></tr><tr><th>13</th><td>CNN</td><td>50</td><td>42.7</td><td>25.6</td><td>53.3</td></tr><tr><th>14</th><td>CNN</td><td>50</td><td>20.0</td><td>5.2</td><td>57.2</td></tr><tr><th>15</th><td>EQ</td><td>50</td><td>77.7</td><td>44.4</td><td>33.5</td></tr><tr><th>16</th><td>EQ</td><td>50</td><td>73.6</td><td>64.3</td><td>29.1</td></tr><tr><th>17</th><td>FC</td><td>50</td><td>2.5</td><td>1.7</td><td>80.6</td></tr><tr><th>18</th><td>FC</td><td>50</td><td>9.8</td><td>6.7</td><td>76.0</td></tr><tr><th>19</th><td>CNN</td><td>100</td><td>34.9</td><td>3.9</td><td>103.0</td></tr><tr><th>20</th><td>CNN</td><td>100</td><td>52.7</td><td>17.7</td><td>97.3</td></tr><tr><th>21</th><td>EQ</td><td>100</td><td>67.9</td><td>42.1</td><td>77.1</td></tr><tr><th>22</th><td>EQ</td><td>100</td><td>75.6</td><td>59.0</td><td>59.8</td></tr><tr><th>23</th><td>FC</td><td>100</td><td>6.0</td><td>3.9</td><td>155.5</td></tr><tr><th>24</th><td>FC</td><td>100</td><td>1.0</td><td>6.2</td><td>680.9</td></tr></tbody></table>"
      ],
      "text/latex": [
       "\\begin{tabular}{r|ccccc}\n",
       "\t& model & train\\_d & prec & recall & shd\\\\\n",
       "\t\\hline\n",
       "\t& String & Int64⍰ & Float32 & Float32 & Float32\\\\\n",
       "\t\\hline\n",
       "\t1 & CNN & 10 & 83.0 & 81.5 & 3.2 \\\\\n",
       "\t2 & CNN & 10 & 61.7 & 55.2 & 7.5 \\\\\n",
       "\t3 & EQ & 10 & 96.5 & 95.4 & 0.7 \\\\\n",
       "\t4 & EQ & 10 & 91.0 & 83.4 & 2.4 \\\\\n",
       "\t5 & FC & 10 & 30.8 & 26.4 & 12.6 \\\\\n",
       "\t6 & FC & 10 & 53.5 & 47.3 & 8.4 \\\\\n",
       "\t7 & CNN & 20 & 75.1 & 68.0 & 10.4 \\\\\n",
       "\t8 & CNN & 20 & 59.7 & 35.0 & 17.3 \\\\\n",
       "\t9 & EQ & 20 & 90.2 & 82.8 & 5.0 \\\\\n",
       "\t10 & EQ & 20 & 87.3 & 74.0 & 7.2 \\\\\n",
       "\t11 & FC & 20 & 27.2 & 21.2 & 25.7 \\\\\n",
       "\t12 & FC & 20 & 11.3 & 9.0 & 31.6 \\\\\n",
       "\t13 & CNN & 50 & 42.7 & 25.6 & 53.3 \\\\\n",
       "\t14 & CNN & 50 & 20.0 & 5.2 & 57.2 \\\\\n",
       "\t15 & EQ & 50 & 77.7 & 44.4 & 33.5 \\\\\n",
       "\t16 & EQ & 50 & 73.6 & 64.3 & 29.1 \\\\\n",
       "\t17 & FC & 50 & 2.5 & 1.7 & 80.6 \\\\\n",
       "\t18 & FC & 50 & 9.8 & 6.7 & 76.0 \\\\\n",
       "\t19 & CNN & 100 & 34.9 & 3.9 & 103.0 \\\\\n",
       "\t20 & CNN & 100 & 52.7 & 17.7 & 97.3 \\\\\n",
       "\t21 & EQ & 100 & 67.9 & 42.1 & 77.1 \\\\\n",
       "\t22 & EQ & 100 & 75.6 & 59.0 & 59.8 \\\\\n",
       "\t23 & FC & 100 & 6.0 & 3.9 & 155.5 \\\\\n",
       "\t24 & FC & 100 & 1.0 & 6.2 & 680.9 \\\\\n",
       "\\end{tabular}\n"
      ],
      "text/plain": [
       "24×5 DataFrame\n",
       "│ Row │ model  │ train_d │ prec    │ recall  │ shd     │\n",
       "│     │ \u001b[90mString\u001b[39m │ \u001b[90mInt64⍰\u001b[39m  │ \u001b[90mFloat32\u001b[39m │ \u001b[90mFloat32\u001b[39m │ \u001b[90mFloat32\u001b[39m │\n",
       "├─────┼────────┼─────────┼─────────┼─────────┼─────────┤\n",
       "│ 1   │ CNN    │ 10      │ 83.0    │ 81.5    │ 3.2     │\n",
       "│ 2   │ CNN    │ 10      │ 61.7    │ 55.2    │ 7.5     │\n",
       "│ 3   │ EQ     │ 10      │ 96.5    │ 95.4    │ 0.7     │\n",
       "│ 4   │ EQ     │ 10      │ 91.0    │ 83.4    │ 2.4     │\n",
       "│ 5   │ FC     │ 10      │ 30.8    │ 26.4    │ 12.6    │\n",
       "│ 6   │ FC     │ 10      │ 53.5    │ 47.3    │ 8.4     │\n",
       "│ 7   │ CNN    │ 20      │ 75.1    │ 68.0    │ 10.4    │\n",
       "│ 8   │ CNN    │ 20      │ 59.7    │ 35.0    │ 17.3    │\n",
       "│ 9   │ EQ     │ 20      │ 90.2    │ 82.8    │ 5.0     │\n",
       "│ 10  │ EQ     │ 20      │ 87.3    │ 74.0    │ 7.2     │\n",
       "⋮\n",
       "│ 14  │ CNN    │ 50      │ 20.0    │ 5.2     │ 57.2    │\n",
       "│ 15  │ EQ     │ 50      │ 77.7    │ 44.4    │ 33.5    │\n",
       "│ 16  │ EQ     │ 50      │ 73.6    │ 64.3    │ 29.1    │\n",
       "│ 17  │ FC     │ 50      │ 2.5     │ 1.7     │ 80.6    │\n",
       "│ 18  │ FC     │ 50      │ 9.8     │ 6.7     │ 76.0    │\n",
       "│ 19  │ CNN    │ 100     │ 34.9    │ 3.9     │ 103.0   │\n",
       "│ 20  │ CNN    │ 100     │ 52.7    │ 17.7    │ 97.3    │\n",
       "│ 21  │ EQ     │ 100     │ 67.9    │ 42.1    │ 77.1    │\n",
       "│ 22  │ EQ     │ 100     │ 75.6    │ 59.0    │ 59.8    │\n",
       "│ 23  │ FC     │ 100     │ 6.0     │ 3.9     │ 155.5   │\n",
       "│ 24  │ FC     │ 100     │ 1.0     │ 6.2     │ 680.9   │"
      ]
     },
     "execution_count": 104,
     "metadata": {},
     "output_type": "execute_result"
    }
   ],
   "source": [
    "function table_cmp_literature(df)\n",
    "    # comparison of EQ with FC and CNN (and random) baselines\n",
    "    # only show d=10,15,20, SF and ER graphs, k=1\n",
    "    sel0 = (df.train_mat .== \"maxCOV\")\n",
    "    sel1 = in.(df.model, Ref([\"FC\", \"EQ\", \"CNN\"]))\n",
    "    sel2 = in.(df.train_d, Ref([10, 20, 50, 100]))\n",
    "    selector = (sel0 .& sel1 .& sel2\n",
    "                .& (df.train_gtype .== df.test_gtype)\n",
    "                .& in.(df.train_gtype, Ref([\"SF\", \"ER\"]))\n",
    "                .& (df.test_noise .== \"Gaussian\")\n",
    "                .& (df.train_mec .== \"Linear\")\n",
    "                .& (df.test_mec .== \"Linear\")\n",
    "#                 .& (df.train_mat .== \"COR\")\n",
    "#                 .& (df.test_mat .== \"COR\")\n",
    "                .& (df.test_k .== 1))\n",
    "\n",
    "    sort(df[selector,\n",
    "            All(:model, :train_d, :prec, :recall, :shd)],\n",
    "         [:train_d, :model])\n",
    "end\n",
    "\n",
    "df1 = table_cmp_literature(df)"
   ]
  },
  {
   "cell_type": "code",
   "execution_count": 108,
   "metadata": {},
   "outputs": [
    {
     "data": {
      "text/html": [
       "<table class=\"data-frame\"><thead><tr><th></th><th>model</th><th>train_d</th><th>prec</th><th>recall</th><th>shd</th></tr><tr><th></th><th>String</th><th>Int64⍰</th><th>Float32</th><th>Float32</th><th>Float32</th></tr></thead><tbody><p>12 rows × 5 columns</p><tr><th>1</th><td>CNN</td><td>10</td><td>72.35</td><td>68.35</td><td>5.35</td></tr><tr><th>2</th><td>EQ</td><td>10</td><td>93.75</td><td>89.4</td><td>1.55</td></tr><tr><th>3</th><td>FC</td><td>10</td><td>42.15</td><td>36.85</td><td>10.5</td></tr><tr><th>4</th><td>CNN</td><td>20</td><td>67.4</td><td>51.5</td><td>13.85</td></tr><tr><th>5</th><td>EQ</td><td>20</td><td>88.75</td><td>78.4</td><td>6.1</td></tr><tr><th>6</th><td>FC</td><td>20</td><td>19.25</td><td>15.1</td><td>28.65</td></tr><tr><th>7</th><td>CNN</td><td>50</td><td>31.35</td><td>15.4</td><td>55.25</td></tr><tr><th>8</th><td>EQ</td><td>50</td><td>75.65</td><td>54.35</td><td>31.3</td></tr><tr><th>9</th><td>FC</td><td>50</td><td>6.15</td><td>4.2</td><td>78.3</td></tr><tr><th>10</th><td>CNN</td><td>100</td><td>43.8</td><td>10.8</td><td>100.15</td></tr><tr><th>11</th><td>EQ</td><td>100</td><td>71.75</td><td>50.55</td><td>68.45</td></tr><tr><th>12</th><td>FC</td><td>100</td><td>3.5</td><td>5.05</td><td>418.2</td></tr></tbody></table>"
      ],
      "text/latex": [
       "\\begin{tabular}{r|ccccc}\n",
       "\t& model & train\\_d & prec & recall & shd\\\\\n",
       "\t\\hline\n",
       "\t& String & Int64⍰ & Float32 & Float32 & Float32\\\\\n",
       "\t\\hline\n",
       "\t1 & CNN & 10 & 72.35 & 68.35 & 5.35 \\\\\n",
       "\t2 & EQ & 10 & 93.75 & 89.4 & 1.55 \\\\\n",
       "\t3 & FC & 10 & 42.15 & 36.85 & 10.5 \\\\\n",
       "\t4 & CNN & 20 & 67.4 & 51.5 & 13.85 \\\\\n",
       "\t5 & EQ & 20 & 88.75 & 78.4 & 6.1 \\\\\n",
       "\t6 & FC & 20 & 19.25 & 15.1 & 28.65 \\\\\n",
       "\t7 & CNN & 50 & 31.35 & 15.4 & 55.25 \\\\\n",
       "\t8 & EQ & 50 & 75.65 & 54.35 & 31.3 \\\\\n",
       "\t9 & FC & 50 & 6.15 & 4.2 & 78.3 \\\\\n",
       "\t10 & CNN & 100 & 43.8 & 10.8 & 100.15 \\\\\n",
       "\t11 & EQ & 100 & 71.75 & 50.55 & 68.45 \\\\\n",
       "\t12 & FC & 100 & 3.5 & 5.05 & 418.2 \\\\\n",
       "\\end{tabular}\n"
      ],
      "text/plain": [
       "12×5 DataFrame\n",
       "│ Row │ model  │ train_d │ prec    │ recall  │ shd     │\n",
       "│     │ \u001b[90mString\u001b[39m │ \u001b[90mInt64⍰\u001b[39m  │ \u001b[90mFloat32\u001b[39m │ \u001b[90mFloat32\u001b[39m │ \u001b[90mFloat32\u001b[39m │\n",
       "├─────┼────────┼─────────┼─────────┼─────────┼─────────┤\n",
       "│ 1   │ CNN    │ 10      │ 72.35   │ 68.35   │ 5.35    │\n",
       "│ 2   │ EQ     │ 10      │ 93.75   │ 89.4    │ 1.55    │\n",
       "│ 3   │ FC     │ 10      │ 42.15   │ 36.85   │ 10.5    │\n",
       "│ 4   │ CNN    │ 20      │ 67.4    │ 51.5    │ 13.85   │\n",
       "│ 5   │ EQ     │ 20      │ 88.75   │ 78.4    │ 6.1     │\n",
       "│ 6   │ FC     │ 20      │ 19.25   │ 15.1    │ 28.65   │\n",
       "│ 7   │ CNN    │ 50      │ 31.35   │ 15.4    │ 55.25   │\n",
       "│ 8   │ EQ     │ 50      │ 75.65   │ 54.35   │ 31.3    │\n",
       "│ 9   │ FC     │ 50      │ 6.15    │ 4.2     │ 78.3    │\n",
       "│ 10  │ CNN    │ 100     │ 43.8    │ 10.8    │ 100.15  │\n",
       "│ 11  │ EQ     │ 100     │ 71.75   │ 50.55   │ 68.45   │\n",
       "│ 12  │ FC     │ 100     │ 3.5     │ 5.05    │ 418.2   │"
      ]
     },
     "execution_count": 108,
     "metadata": {},
     "output_type": "execute_result"
    }
   ],
   "source": [
    "# add ER and SF and report average results\n",
    "#\n",
    "# for every 2 column, add together and compute average\n",
    "newdf = copy(df1)\n",
    "for i in 1:Int(size(newdf,1) / 2)\n",
    "    idx1 = i*2-1\n",
    "    idx2 = i*2\n",
    "    d1 = convert(Array, newdf[idx1,[:prec, :recall, :shd]])\n",
    "    d2 = convert(Array, newdf[idx2,[:prec, :recall, :shd]])\n",
    "    newdata = (d1 .+ d2) ./ 2\n",
    "    newdf[idx1,[:prec, :recall, :shd]] .= newdata\n",
    "end\n",
    "newdf = newdf[1:2:size(newdf,1),:]"
   ]
  },
  {
   "cell_type": "code",
   "execution_count": 118,
   "metadata": {},
   "outputs": [
    {
     "data": {
      "text/latex": [
       "\\begin{tabular}{r|ccccc}\n",
       "\t& model & train\\_d & prec & recall & shd\\\\\n",
       "\t\\hline\n",
       "\t& String & Int64⍰ & Float32 & Float32 & Float32\\\\\n",
       "\t\\hline\n",
       "\t1 & CNN & 10 & 72.35 & 68.35 & 5.35 \\\\\n",
       "\t2 & EQ & 10 & 93.75 & 89.4 & 1.55 \\\\\n",
       "\t3 & FC & 10 & 42.15 & 36.85 & 10.5 \\\\\n",
       "\t4 & CNN & 20 & 67.4 & 51.5 & 13.85 \\\\\n",
       "\t5 & EQ & 20 & 88.75 & 78.4 & 6.1 \\\\\n",
       "\t6 & FC & 20 & 19.25 & 15.1 & 28.65 \\\\\n",
       "\t7 & CNN & 50 & 31.35 & 15.4 & 55.25 \\\\\n",
       "\t8 & EQ & 50 & 75.65 & 54.35 & 31.3 \\\\\n",
       "\t9 & FC & 50 & 6.15 & 4.2 & 78.3 \\\\\n",
       "\t10 & CNN & 100 & 43.8 & 10.8 & 100.15 \\\\\n",
       "\t11 & EQ & 100 & 71.75 & 50.55 & 68.45 \\\\\n",
       "\t12 & FC & 100 & 3.5 & 5.05 & 418.2 \\\\\n",
       "\\end{tabular}\n"
      ]
     },
     "metadata": {},
     "output_type": "display_data"
    }
   ],
   "source": [
    "display(MIME(\"text/latex\"), newdf)"
   ]
  },
  {
   "cell_type": "code",
   "execution_count": 119,
   "metadata": {},
   "outputs": [
    {
     "name": "stderr",
     "output_type": "stream",
     "text": [
      "┌ Info: Precompiling Latexify [23fbe1c1-3f47-55db-b15f-69d7ec21a316]\n",
      "└ @ Base loading.jl:1278\n"
     ]
    }
   ],
   "source": [
    "using Latexify"
   ]
  },
  {
   "cell_type": "code",
   "execution_count": 120,
   "metadata": {},
   "outputs": [
    {
     "data": {
      "text/latex": [
       "\\begin{tabular}{ccccc}\n",
       "model & train_d & prec & recall & shd\\\\\n",
       "CNN & 10 & 72.35 & 68.35 & 5.35\\\\\n",
       "EQ & 10 & 93.75 & 89.4 & 1.5500001\\\\\n",
       "FC & 10 & 42.15 & 36.85 & 10.5\\\\\n",
       "CNN & 20 & 67.4 & 51.5 & 13.849999\\\\\n",
       "EQ & 20 & 88.75 & 78.4 & 6.1\\\\\n",
       "FC & 20 & 19.25 & 15.1 & 28.650002\\\\\n",
       "CNN & 50 & 31.35 & 15.4 & 55.25\\\\\n",
       "EQ & 50 & 75.649994 & 54.350002 & 31.3\\\\\n",
       "FC & 50 & 6.15 & 4.2 & 78.3\\\\\n",
       "CNN & 100 & 43.800003 & 10.8 & 100.15\\\\\n",
       "EQ & 100 & 71.75 & 50.55 & 68.45\\\\\n",
       "FC & 100 & 3.5 & 5.05 & 418.2\\\\\n",
       "\\end{tabular}\n"
      ],
      "text/plain": [
       "L\"\\begin{tabular}{ccccc}\n",
       "model & train_d & prec & recall & shd\\\\\n",
       "CNN & 10 & 72.35 & 68.35 & 5.35\\\\\n",
       "EQ & 10 & 93.75 & 89.4 & 1.5500001\\\\\n",
       "FC & 10 & 42.15 & 36.85 & 10.5\\\\\n",
       "CNN & 20 & 67.4 & 51.5 & 13.849999\\\\\n",
       "EQ & 20 & 88.75 & 78.4 & 6.1\\\\\n",
       "FC & 20 & 19.25 & 15.1 & 28.650002\\\\\n",
       "CNN & 50 & 31.35 & 15.4 & 55.25\\\\\n",
       "EQ & 50 & 75.649994 & 54.350002 & 31.3\\\\\n",
       "FC & 50 & 6.15 & 4.2 & 78.3\\\\\n",
       "CNN & 100 & 43.800003 & 10.8 & 100.15\\\\\n",
       "EQ & 100 & 71.75 & 50.55 & 68.45\\\\\n",
       "FC & 100 & 3.5 & 5.05 & 418.2\\\\\n",
       "\\end{tabular}\n",
       "\""
      ]
     },
     "execution_count": 120,
     "metadata": {},
     "output_type": "execute_result"
    }
   ],
   "source": [
    "latexify(newdf; env=:table, latex=false)"
   ]
  },
  {
   "cell_type": "markdown",
   "metadata": {},
   "source": [
    "## Table 2: tranfer experiments\n",
    "\n",
    "- [ ] different noise model\n",
    "- [ ] different causal strength `k`\n",
    "- [ ] different types of graph\n",
    "- [ ] transfer to very large graphs (d=200,300,400), and compare to GES\n",
    "- [ ] ensemble d=10,15,20, and test on d=10,15,20,30,50,80"
   ]
  },
  {
   "cell_type": "code",
   "execution_count": null,
   "metadata": {},
   "outputs": [],
   "source": [
    "function table_transfer_noise(df)\n",
    "    # - train on Gaussian, test on Exp, Gumbel\n",
    "    selector = ((df.model .== \"EQ\")\n",
    "        .& (df.train_mat .== \"maxCOV\")\n",
    "                .& in.(df.train_gtype, Ref([\"SF\", \"ER\"]))\n",
    "                .& (df.train_gtype .== df.test_gtype)\n",
    "                .& (df.test_k .== 1)\n",
    "                .& (df.train_mec .== \"Linear\")\n",
    "                .& (df.test_mec .== \"Linear\"))\n",
    "    sort(df[selector,\n",
    "            Not(All(\n",
    "                    # CAUTION I need to show this to tell that the training and\n",
    "                    # testing noise are different :train_noise,\n",
    "                    :test_d, :test_k,\n",
    "                    :train_mec, :test_mec,\n",
    "                    :test_gtype,\n",
    "                    :train_mat, :test_mat))],\n",
    "         [:train_gtype, :model, :train_d, :test_noise])\n",
    "end\n",
    "table_transfer_noise(df)"
   ]
  },
  {
   "cell_type": "code",
   "execution_count": null,
   "metadata": {},
   "outputs": [],
   "source": [
    "function table_transfer_gtype(df)\n",
    "    # - train on ER, test on SF\n",
    "    selector = ((df.model .== \"EQ\")\n",
    "                # TODO ER2 ER4 SF2 SF4\n",
    "                .& in.(df.train_gtype, Ref([\"ER\", \"SF\"]))\n",
    "        # TODO this is not in the new experiments\n",
    "                .& (df.train_gtype .!= df.test_gtype)\n",
    "#                 .& (df.test_noise .== \"Gaussian\")\n",
    "                .& (df.test_k .== 1)\n",
    "                .& (df.train_mec .== \"Linear\")\n",
    "                .& (df.test_mec .== \"Linear\")\n",
    "                .& (df.train_mat .== \"maxCOV\"))\n",
    "    sort(df[selector,\n",
    "            Not(All(\n",
    "                    :test_d, :test_k,\n",
    "                    :train_mec, :test_mec, :test_noise,\n",
    "                    :train_mat, :test_mat))],\n",
    "         [:train_gtype, :model, :test_gtype, :train_d])\n",
    "end\n",
    "table_transfer_gtype(df)"
   ]
  },
  {
   "cell_type": "code",
   "execution_count": null,
   "metadata": {},
   "outputs": [],
   "source": [
    "\n",
    "function table_transfer_k(df)\n",
    "    # - train on k=1, test on k=1,2,4\n",
    "    selector = ((df.model .== \"EQ\")\n",
    "                .& (df.test_noise .== \"Gaussian\")\n",
    "                .& (df.train_mec .== \"Linear\")\n",
    "                .& (df.test_mec .== \"Linear\")\n",
    "                .& (df.train_mat .== \"maxCOV\"))\n",
    "    sort(df[selector,\n",
    "            Not(All(:train_k, :train_noise,\n",
    "                    :test_d,\n",
    "                    :train_mec, :test_mec, :test_noise,\n",
    "                    :train_mat, :test_mat))],\n",
    "         [:train_gtype, :model, :test_gtype, :train_d, :test_k])\n",
    "end\n",
    "table_transfer_k(df)"
   ]
  },
  {
   "cell_type": "markdown",
   "metadata": {},
   "source": [
    "## Ensemble Table\n",
    "\n",
    "Training specs:\n",
    "- d=10,20\n",
    "- k=1,4,10,20\n",
    "- gtype=SF,ER\n",
    "\n",
    "Testing specs:\n",
    "- d=10,20\n",
    "- Sachs-2005"
   ]
  },
  {
   "cell_type": "code",
   "execution_count": null,
   "metadata": {},
   "outputs": [],
   "source": [
    "function table_ensemble(df)\n",
    "    selector = (in.(df.model, Ref([\"deep-EQ-ER-ensemble\",\n",
    "                                   \"deep-EQ-SF-ensemble\"]))\n",
    "                .& (df.test_k .== 1)\n",
    "                .& (df.test_mec .== \"Linear\")\n",
    "                .& (df.test_mat .== \"COR\"))\n",
    "    sort(df[selector,\n",
    "            Not(All(:train_k, :train_noise,\n",
    "                    :test_k,\n",
    "                    r\"train_\",\n",
    "                    :train_mec, :test_mec, :test_noise,\n",
    "                    :train_mat, :test_mat))],\n",
    "         [:model, :test_gtype, :test_d])\n",
    "end\n",
    "table_ensemble(df)"
   ]
  },
  {
   "cell_type": "markdown",
   "metadata": {},
   "source": [
    "# Testing displaysize"
   ]
  },
  {
   "cell_type": "code",
   "execution_count": null,
   "metadata": {},
   "outputs": [],
   "source": [
    "displaysize()"
   ]
  },
  {
   "cell_type": "code",
   "execution_count": null,
   "metadata": {},
   "outputs": [],
   "source": [
    "# show all of df\n",
    "show(df[1:3,:], allcols=true)"
   ]
  },
  {
   "cell_type": "code",
   "execution_count": null,
   "metadata": {},
   "outputs": [],
   "source": [
    "IOContext(stdout, :displaysize=>(30,100)) |> displaysize"
   ]
  }
 ],
 "metadata": {
  "kernelspec": {
   "display_name": "Julia 1.5.0",
   "language": "julia",
   "name": "julia-1.5"
  },
  "language_info": {
   "file_extension": ".jl",
   "mimetype": "application/julia",
   "name": "julia",
   "version": "1.5.0"
  }
 },
 "nbformat": 4,
 "nbformat_minor": 4
}
