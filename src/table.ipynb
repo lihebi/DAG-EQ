{
 "cells": [
  {
   "cell_type": "code",
   "execution_count": null,
   "metadata": {},
   "outputs": [],
   "source": [
    "include(\"table.jl\")"
   ]
  },
  {
   "cell_type": "code",
   "execution_count": null,
   "metadata": {},
   "outputs": [],
   "source": [
    "results = load_results()"
   ]
  },
  {
   "cell_type": "code",
   "execution_count": null,
   "metadata": {},
   "outputs": [],
   "source": [
    "ENV[\"COLUMNS\"] = 200"
   ]
  },
  {
   "cell_type": "code",
   "execution_count": null,
   "metadata": {},
   "outputs": [],
   "source": [
    "df = results2df(results)"
   ]
  },
  {
   "cell_type": "code",
   "execution_count": null,
   "metadata": {},
   "outputs": [],
   "source": [
    "sort(df[(df.model .== \"EQ\") .& (df.train_mat .== \"maxCOV\"),:], [:train_d, :train_gtype, :train_mat])"
   ]
  },
  {
   "cell_type": "code",
   "execution_count": null,
   "metadata": {},
   "outputs": [],
   "source": [
    "sort(df[(df.model .== \"EQ\") .& (df.train_mat .== \"COR\"),:], [:train_d, :train_gtype, :train_mat])"
   ]
  },
  {
   "cell_type": "code",
   "execution_count": null,
   "metadata": {},
   "outputs": [],
   "source": [
    "sort(df[(df.model .== \"CNN\") .& (df.train_mat .== \"maxCOV\"),:], [:train_d, :train_gtype, :train_mat])"
   ]
  },
  {
   "cell_type": "markdown",
   "metadata": {},
   "source": [
    "# Test dataframe selection\n",
    "\n",
    "And exploring the data"
   ]
  },
  {
   "cell_type": "code",
   "execution_count": null,
   "metadata": {},
   "outputs": [],
   "source": [
    "df[1:4,[\"model\",\"train_d\"]]"
   ]
  },
  {
   "cell_type": "code",
   "execution_count": null,
   "metadata": {},
   "outputs": [],
   "source": [
    "# sum(df.raw)\n",
    "\n",
    "# I don't need train_k, because all of them are 1s\n",
    "df = df[!, Not(All(:train_k, :train_noise))]\n",
    "\n",
    "unique(df.train_mat)\n",
    "unique(df.model)"
   ]
  },
  {
   "cell_type": "code",
   "execution_count": null,
   "metadata": {},
   "outputs": [],
   "source": [
    "function select_sep_df(df, model)\n",
    "    sort(df[df.model .== model,\n",
    "                    # test_d is same as train_d\n",
    "                    Not(All(:train_k, :train_noise, :test_d))],\n",
    "                 [:train_mec, :train_gtype, :test_gtype, :train_d, :test_k])\n",
    "end\n",
    "\n",
    "function select_ensemble_df(df, model)\n",
    "    subdf = sort(df[df.model .== model, Not(All(:train_k, :train_noise, r\"train_\"))],\n",
    "                 [:test_gtype, :test_d, :test_k])\n",
    "    show(subdf, allrows=true)\n",
    "    nothing\n",
    "end"
   ]
  },
  {
   "cell_type": "code",
   "execution_count": null,
   "metadata": {},
   "outputs": [],
   "source": [
    "# 1. all the models in separate mode\n",
    "select_sep_df(df, \"FC\")"
   ]
  },
  {
   "cell_type": "code",
   "execution_count": null,
   "metadata": {},
   "outputs": [],
   "source": [
    "select_sep_df(df, \"EQ\")"
   ]
  },
  {
   "cell_type": "markdown",
   "metadata": {},
   "source": [
    "# Pre-defined tables"
   ]
  },
  {
   "cell_type": "code",
   "execution_count": null,
   "metadata": {},
   "outputs": [],
   "source": [
    "table_cmp_baseline(df)"
   ]
  },
  {
   "cell_type": "code",
   "execution_count": null,
   "metadata": {},
   "outputs": [],
   "source": [
    "table_ER24(df)"
   ]
  },
  {
   "cell_type": "code",
   "execution_count": null,
   "metadata": {},
   "outputs": [],
   "source": [
    "table_raw(df)"
   ]
  },
  {
   "cell_type": "code",
   "execution_count": null,
   "metadata": {},
   "outputs": [],
   "source": [
    "table_transfer_k(df)"
   ]
  },
  {
   "cell_type": "code",
   "execution_count": null,
   "metadata": {},
   "outputs": [],
   "source": [
    "table_transfer_noise(df)"
   ]
  },
  {
   "cell_type": "code",
   "execution_count": null,
   "metadata": {},
   "outputs": [],
   "source": [
    "table_transfer_gtype(df)"
   ]
  },
  {
   "cell_type": "code",
   "execution_count": null,
   "metadata": {},
   "outputs": [],
   "source": [
    "table_ensemble(df)"
   ]
  },
  {
   "cell_type": "markdown",
   "metadata": {},
   "source": [
    "# Developing the tables"
   ]
  },
  {
   "cell_type": "markdown",
   "metadata": {},
   "source": [
    "## Table 1: compare EQ/CNN/FC with the literature\n",
    "\n",
    "- [ ] TODO literature in baseline.py\n",
    "- [ ] TODO I want to probably generate the final layout to use in the paper.\n",
    "\n",
    "I need:\n",
    "- add sep lines\n",
    "- break into \"two columns\"\n",
    "\n",
    "Possibly through:\n",
    "- I need to generate nice output here\n",
    "- generate latex code to copy&paste into paper"
   ]
  },
  {
   "cell_type": "code",
   "execution_count": null,
   "metadata": {},
   "outputs": [],
   "source": [
    "function table_cmp_literature(df)\n",
    "    # comparison of EQ with FC and CNN (and random) baselines\n",
    "    # only show d=10,15,20, SF and ER graphs, k=1\n",
    "    sel0 = (df.train_mat .== \"maxCOV\")\n",
    "    sel1 = in.(df.model, Ref([\"FC\", \"EQ\", \"CNN\"]))\n",
    "    sel2 = in.(df.train_d, Ref([10, 20, 50, 100]))\n",
    "    selector = (sel0 .& sel1 .& sel2\n",
    "                .& (df.train_gtype .== df.test_gtype)\n",
    "                .& in.(df.train_gtype, Ref([\"SF\", \"ER\"]))\n",
    "                .& (df.test_noise .== \"Gaussian\")\n",
    "                .& (df.train_mec .== \"Linear\")\n",
    "                .& (df.test_mec .== \"Linear\")\n",
    "#                 .& (df.train_mat .== \"COR\")\n",
    "#                 .& (df.test_mat .== \"COR\")\n",
    "                .& (df.test_k .== 1))\n",
    "\n",
    "    sort(df[selector,\n",
    "            All(:model, :train_d, :prec, :recall, :shd)],\n",
    "         [:train_d, :model])\n",
    "end\n",
    "\n",
    "table_cmp_literature(df)"
   ]
  },
  {
   "cell_type": "markdown",
   "metadata": {},
   "source": [
    "## Table 2: tranfer experiments\n",
    "\n",
    "- [ ] different noise model\n",
    "- [ ] different causal strength `k`\n",
    "- [ ] different types of graph\n",
    "- [ ] transfer to very large graphs (d=200,300,400), and compare to GES\n",
    "- [ ] ensemble d=10,15,20, and test on d=10,15,20,30,50,80"
   ]
  },
  {
   "cell_type": "code",
   "execution_count": null,
   "metadata": {},
   "outputs": [],
   "source": [
    "# FIXME no train_k recorded in the new experimetns.\n",
    "# FIXME all test_k is 1\n",
    "df[:train_k]"
   ]
  },
  {
   "cell_type": "code",
   "execution_count": null,
   "metadata": {},
   "outputs": [],
   "source": [
    "function table_transfer_noise(df)\n",
    "    # - train on Gaussian, test on Exp, Gumbel\n",
    "    selector = ((df.model .== \"EQ\")\n",
    "        .& (df.train_mat .== \"maxCOV\")\n",
    "                .& in.(df.train_gtype, Ref([\"SF\", \"ER\"]))\n",
    "                .& (df.train_gtype .== df.test_gtype)\n",
    "                .& (df.test_k .== 1)\n",
    "                .& (df.train_mec .== \"Linear\")\n",
    "                .& (df.test_mec .== \"Linear\"))\n",
    "    sort(df[selector,\n",
    "            Not(All(\n",
    "                    # CAUTION I need to show this to tell that the training and\n",
    "                    # testing noise are different :train_noise,\n",
    "                    :test_d, :test_k,\n",
    "                    :train_mec, :test_mec,\n",
    "                    :test_gtype,\n",
    "                    :train_mat, :test_mat))],\n",
    "         [:train_gtype, :model, :train_d, :test_noise])\n",
    "end\n",
    "table_transfer_noise(df)"
   ]
  },
  {
   "cell_type": "code",
   "execution_count": null,
   "metadata": {},
   "outputs": [],
   "source": [
    "function table_transfer_gtype(df)\n",
    "    # - train on ER, test on SF\n",
    "    selector = ((df.model .== \"EQ\")\n",
    "                # TODO ER2 ER4 SF2 SF4\n",
    "                .& in.(df.train_gtype, Ref([\"ER\", \"SF\"]))\n",
    "        # TODO this is not in the new experiments\n",
    "                .& (df.train_gtype .!= df.test_gtype)\n",
    "#                 .& (df.test_noise .== \"Gaussian\")\n",
    "                .& (df.test_k .== 1)\n",
    "                .& (df.train_mec .== \"Linear\")\n",
    "                .& (df.test_mec .== \"Linear\")\n",
    "                .& (df.train_mat .== \"maxCOV\"))\n",
    "    sort(df[selector,\n",
    "            Not(All(\n",
    "                    :test_d, :test_k,\n",
    "                    :train_mec, :test_mec, :test_noise,\n",
    "                    :train_mat, :test_mat))],\n",
    "         [:train_gtype, :model, :test_gtype, :train_d])\n",
    "end\n",
    "table_transfer_gtype(df)"
   ]
  },
  {
   "cell_type": "code",
   "execution_count": null,
   "metadata": {},
   "outputs": [],
   "source": [
    "\n",
    "function table_transfer_k(df)\n",
    "    # - train on k=1, test on k=1,2,4\n",
    "    selector = ((df.model .== \"deep-EQ\")\n",
    "                .& (df.test_noise .== \"Gaussian\")\n",
    "                .& (df.train_gtype .== \"SF\")\n",
    "                .& (df.test_gtype .== \"SF\")\n",
    "                .& (df.train_mec .== \"Linear\")\n",
    "                .& (df.test_mec .== \"Linear\")\n",
    "                .& (df.train_mat .== \"COR\")\n",
    "                .& (df.test_mat .== \"COR\"))\n",
    "    sort(df[selector,\n",
    "            Not(All(:train_k, :train_noise,\n",
    "                    :test_d,\n",
    "                    :train_mec, :test_mec, :test_noise,\n",
    "                    :train_mat, :test_mat))],\n",
    "         [:train_gtype, :model, :test_gtype, :train_d, :test_k])\n",
    "end\n",
    "table_transfer_k(df)"
   ]
  },
  {
   "cell_type": "code",
   "execution_count": null,
   "metadata": {},
   "outputs": [],
   "source": [
    "function table_ensemble(df)\n",
    "    selector = (in.(df.model, Ref([\"deep-EQ-ER-ensemble\",\n",
    "                                   \"deep-EQ-SF-ensemble\"]))\n",
    "                .& (df.test_k .== 1)\n",
    "                .& (df.test_mec .== \"Linear\")\n",
    "                .& (df.test_mat .== \"COR\"))\n",
    "    sort(df[selector,\n",
    "            Not(All(:train_k, :train_noise,\n",
    "                    :test_k,\n",
    "                    r\"train_\",\n",
    "                    :train_mec, :test_mec, :test_noise,\n",
    "                    :train_mat, :test_mat))],\n",
    "         [:model, :test_gtype, :test_d])\n",
    "end\n",
    "table_ensemble(df)"
   ]
  },
  {
   "cell_type": "markdown",
   "metadata": {},
   "source": [
    "# Testing displaysize"
   ]
  },
  {
   "cell_type": "code",
   "execution_count": null,
   "metadata": {},
   "outputs": [],
   "source": [
    "displaysize()"
   ]
  },
  {
   "cell_type": "code",
   "execution_count": null,
   "metadata": {},
   "outputs": [],
   "source": [
    "# show all of df\n",
    "show(df[1:3,:], allcols=true)"
   ]
  },
  {
   "cell_type": "code",
   "execution_count": null,
   "metadata": {},
   "outputs": [],
   "source": [
    "IOContext(stdout, :displaysize=>(30,100)) |> displaysize"
   ]
  },
  {
   "cell_type": "code",
   "execution_count": null,
   "metadata": {},
   "outputs": [],
   "source": []
  }
 ],
 "metadata": {
  "kernelspec": {
   "display_name": "Julia 1.5.0",
   "language": "julia",
   "name": "julia-1.5"
  },
  "language_info": {
   "file_extension": ".jl",
   "mimetype": "application/julia",
   "name": "julia",
   "version": "1.5.0"
  }
 },
 "nbformat": 4,
 "nbformat_minor": 4
}
