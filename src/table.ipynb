{
 "cells": [
  {
   "cell_type": "code",
   "execution_count": 43,
   "metadata": {},
   "outputs": [
    {
     "data": {
      "text/plain": [
       "test (generic function with 1 method)"
      ]
     },
     "execution_count": 43,
     "metadata": {},
     "output_type": "execute_result"
    }
   ],
   "source": [
    "include(\"table.jl\")"
   ]
  },
  {
   "cell_type": "code",
   "execution_count": 4,
   "metadata": {},
   "outputs": [
    {
     "data": {
      "text/plain": [
       "Dict{Pair{String,String},Tuple{Float64,Float64,Float64,Float64,Dates.DateTime}} with 5 entries:\n",
       "  \"deep-EQ-d=10_k=1_gtype=… => (0.924901, 0.903212, 1.53125, 0.338883, DateTime…\n",
       "  \"flat-CNN-d=20_k=1_gtype… => (0.413285, 0.281718, 21.8228, 0.00534093, DateTi…\n",
       "  \"flat-CNN-d=10_k=1_gtype… => (0.431463, 0.312313, 10.4639, 0.00157763, DateTi…\n",
       "  \"flat-CNN-d=10_k=1_gtype… => (0.802241, 0.786567, 3.66699, 0.00159219, DateTi…\n",
       "  \"flat-CNN-d=20_k=1_gtype… => (0.774712, 0.759611, 8.76562, 0.00534856, DateTi…"
      ]
     },
     "execution_count": 4,
     "metadata": {},
     "output_type": "execute_result"
    }
   ],
   "source": [
    "results = load_results()"
   ]
  },
  {
   "cell_type": "code",
   "execution_count": 11,
   "metadata": {},
   "outputs": [
    {
     "data": {
      "text/plain": [
       "(15, 1, \"ER\", \"Gaussian\", \"COR\", \"Linear\", true)"
      ]
     },
     "execution_count": 11,
     "metadata": {},
     "output_type": "execute_result"
    }
   ],
   "source": [
    "parse_spec_string(\"d=15_k=1_gtype=ER_noise=Gaussian_mat=COR_raw\")"
   ]
  },
  {
   "cell_type": "code",
   "execution_count": 13,
   "metadata": {},
   "outputs": [
    {
     "data": {
      "text/html": [
       "<table class=\"data-frame\"><thead><tr><th></th><th>model</th><th>train_d</th><th>train_k</th><th>train_gtype</th><th>train_noise</th><th>train_mat</th><th>train_mec</th><th>test_d</th></tr><tr><th></th><th>String</th><th>Int64?</th><th>Int64?</th><th>String?</th><th>String?</th><th>String?</th><th>String?</th><th>Int64</th></tr></thead><tbody><p>5 rows × 18 columns (omitted printing of 10 columns)</p><tr><th>1</th><td>deep-EQ</td><td>10</td><td>1</td><td>SF</td><td>Gaussian</td><td>COR</td><td>Linear</td><td>10</td></tr><tr><th>2</th><td>flat-CNN</td><td>20</td><td>1</td><td>SF</td><td>Gaussian</td><td>COR</td><td>Linear</td><td>20</td></tr><tr><th>3</th><td>flat-CNN</td><td>10</td><td>1</td><td>SF</td><td>Gaussian</td><td>COR</td><td>Linear</td><td>10</td></tr><tr><th>4</th><td>flat-CNN</td><td>10</td><td>1</td><td>SF</td><td>Gaussian</td><td>COR</td><td>Linear</td><td>10</td></tr><tr><th>5</th><td>flat-CNN</td><td>20</td><td>1</td><td>SF</td><td>Gaussian</td><td>COR</td><td>Linear</td><td>20</td></tr></tbody></table>"
      ],
      "text/latex": [
       "\\begin{tabular}{r|ccccccccc}\n",
       "\t& model & train\\_d & train\\_k & train\\_gtype & train\\_noise & train\\_mat & train\\_mec & test\\_d & \\\\\n",
       "\t\\hline\n",
       "\t& String & Int64? & Int64? & String? & String? & String? & String? & Int64 & \\\\\n",
       "\t\\hline\n",
       "\t1 & deep-EQ & 10 & 1 & SF & Gaussian & COR & Linear & 10 & $\\dots$ \\\\\n",
       "\t2 & flat-CNN & 20 & 1 & SF & Gaussian & COR & Linear & 20 & $\\dots$ \\\\\n",
       "\t3 & flat-CNN & 10 & 1 & SF & Gaussian & COR & Linear & 10 & $\\dots$ \\\\\n",
       "\t4 & flat-CNN & 10 & 1 & SF & Gaussian & COR & Linear & 10 & $\\dots$ \\\\\n",
       "\t5 & flat-CNN & 20 & 1 & SF & Gaussian & COR & Linear & 20 & $\\dots$ \\\\\n",
       "\\end{tabular}\n"
      ],
      "text/plain": [
       "5×18 DataFrame. Omitted printing of 12 columns\n",
       "│ Row │ model    │ train_d │ train_k │ train_gtype │ train_noise │ train_mat │\n",
       "│     │ \u001b[90mString\u001b[39m   │ \u001b[90mInt64?\u001b[39m  │ \u001b[90mInt64?\u001b[39m  │ \u001b[90mString?\u001b[39m     │ \u001b[90mString?\u001b[39m     │ \u001b[90mString?\u001b[39m   │\n",
       "├─────┼──────────┼─────────┼─────────┼─────────────┼─────────────┼───────────┤\n",
       "│ 1   │ deep-EQ  │ 10      │ 1       │ SF          │ Gaussian    │ COR       │\n",
       "│ 2   │ flat-CNN │ 20      │ 1       │ SF          │ Gaussian    │ COR       │\n",
       "│ 3   │ flat-CNN │ 10      │ 1       │ SF          │ Gaussian    │ COR       │\n",
       "│ 4   │ flat-CNN │ 10      │ 1       │ SF          │ Gaussian    │ COR       │\n",
       "│ 5   │ flat-CNN │ 20      │ 1       │ SF          │ Gaussian    │ COR       │"
      ]
     },
     "execution_count": 13,
     "metadata": {},
     "output_type": "execute_result"
    }
   ],
   "source": [
    "df = results2df(results)"
   ]
  },
  {
   "cell_type": "code",
   "execution_count": 41,
   "metadata": {},
   "outputs": [
    {
     "name": "stdout",
     "output_type": "stream",
     "text": [
      "3×18 DataFrame\n",
      "│ Row │ model    │ train_d │ train_k │ train_gtype │ train_noise │ train_mat │\n",
      "│     │ \u001b[90mString\u001b[39m   │ \u001b[90mInt64?\u001b[39m  │ \u001b[90mInt64?\u001b[39m  │ \u001b[90mString?\u001b[39m     │ \u001b[90mString?\u001b[39m     │ \u001b[90mString?\u001b[39m   │\n",
      "├─────┼──────────┼─────────┼─────────┼─────────────┼─────────────┼───────────┤\n",
      "│ 1   │ deep-EQ  │ 10      │ 1       │ SF          │ Gaussian    │ COR       │\n",
      "│ 2   │ flat-CNN │ 20      │ 1       │ SF          │ Gaussian    │ COR       │\n",
      "│ 3   │ flat-CNN │ 10      │ 1       │ SF          │ Gaussian    │ COR       │\n",
      "\n",
      "│ Row │ train_mec │ test_d │ test_k │ test_gtype │ test_noise │ test_mat │\n",
      "│     │ \u001b[90mString?\u001b[39m   │ \u001b[90mInt64\u001b[39m  │ \u001b[90mInt64\u001b[39m  │ \u001b[90mString\u001b[39m     │ \u001b[90mString\u001b[39m     │ \u001b[90mString\u001b[39m   │\n",
      "├─────┼───────────┼────────┼────────┼────────────┼────────────┼──────────┤\n",
      "│ 1   │ Linear    │ 10     │ 1      │ SF         │ Gaussian   │ COR      │\n",
      "│ 2   │ Linear    │ 20     │ 1      │ ER         │ Gaussian   │ COR      │\n",
      "│ 3   │ Linear    │ 10     │ 1      │ ER         │ Gaussian   │ COR      │\n",
      "\n",
      "│ Row │ test_mec │ raw  │ prec    │ recall  │ shd     │ time    │\n",
      "│     │ \u001b[90mString?\u001b[39m  │ \u001b[90mBool\u001b[39m │ \u001b[90mFloat32\u001b[39m │ \u001b[90mFloat32\u001b[39m │ \u001b[90mFloat32\u001b[39m │ \u001b[90mFloat32\u001b[39m │\n",
      "├─────┼──────────┼──────┼─────────┼─────────┼─────────┼─────────┤\n",
      "│ 1   │ Linear   │ 0    │ 92.5    │ 90.3    │ 1.5     │ 0.3     │\n",
      "│ 2   │ Linear   │ 0    │ 41.3    │ 28.2    │ 21.8    │ 0.0     │\n",
      "│ 3   │ Linear   │ 0    │ 43.1    │ 31.2    │ 10.5    │ 0.0     │"
     ]
    }
   ],
   "source": [
    "# show all of df\n",
    "show(df[1:3,:], allcols=true)"
   ]
  },
  {
   "cell_type": "code",
   "execution_count": 37,
   "metadata": {},
   "outputs": [
    {
     "data": {
      "text/html": [
       "<table class=\"data-frame\"><thead><tr><th></th><th>model</th><th>train_d</th></tr><tr><th></th><th>String</th><th>Int64?</th></tr></thead><tbody><p>4 rows × 2 columns</p><tr><th>1</th><td>deep-EQ</td><td>10</td></tr><tr><th>2</th><td>flat-CNN</td><td>20</td></tr><tr><th>3</th><td>flat-CNN</td><td>10</td></tr><tr><th>4</th><td>flat-CNN</td><td>10</td></tr></tbody></table>"
      ],
      "text/latex": [
       "\\begin{tabular}{r|cc}\n",
       "\t& model & train\\_d\\\\\n",
       "\t\\hline\n",
       "\t& String & Int64?\\\\\n",
       "\t\\hline\n",
       "\t1 & deep-EQ & 10 \\\\\n",
       "\t2 & flat-CNN & 20 \\\\\n",
       "\t3 & flat-CNN & 10 \\\\\n",
       "\t4 & flat-CNN & 10 \\\\\n",
       "\\end{tabular}\n"
      ],
      "text/plain": [
       "4×2 DataFrame\n",
       "│ Row │ model    │ train_d │\n",
       "│     │ \u001b[90mString\u001b[39m   │ \u001b[90mInt64?\u001b[39m  │\n",
       "├─────┼──────────┼─────────┤\n",
       "│ 1   │ deep-EQ  │ 10      │\n",
       "│ 2   │ flat-CNN │ 20      │\n",
       "│ 3   │ flat-CNN │ 10      │\n",
       "│ 4   │ flat-CNN │ 10      │"
      ]
     },
     "execution_count": 37,
     "metadata": {},
     "output_type": "execute_result"
    }
   ],
   "source": [
    "df[1:4,[\"model\",\"train_d\"]]"
   ]
  },
  {
   "cell_type": "code",
   "execution_count": null,
   "metadata": {},
   "outputs": [],
   "source": [
    "# sum(df.raw)\n",
    "\n",
    "# I don't need train_k, because all of them are 1s\n",
    "df = df[!, Not(All(:train_k, :train_noise))]\n",
    "\n",
    "unique(df.train_mat)\n",
    "unique(df.model)"
   ]
  },
  {
   "cell_type": "code",
   "execution_count": 28,
   "metadata": {},
   "outputs": [
    {
     "data": {
      "text/plain": [
       "select_sep_df (generic function with 1 method)"
      ]
     },
     "execution_count": 28,
     "metadata": {},
     "output_type": "execute_result"
    }
   ],
   "source": [
    "function select_sep_df(df, model)\n",
    "    sort(df[df.model .== model,\n",
    "                    # test_d is same as train_d\n",
    "                    Not(All(:train_k, :train_noise, :test_d))],\n",
    "                 [:train_mec, :train_gtype, :test_gtype, :train_d, :test_k])\n",
    "end\n",
    "\n",
    "function select_ensemble_df(df, model)\n",
    "    subdf = sort(df[df.model .== model, Not(All(:train_k, :train_noise, r\"train_\"))],\n",
    "                 [:test_gtype, :test_d, :test_k])\n",
    "    show(subdf, allrows=true)\n",
    "    nothing\n",
    "end"
   ]
  },
  {
   "cell_type": "code",
   "execution_count": null,
   "metadata": {},
   "outputs": [],
   "source": [
    "# 1. all the models in separate mode\n",
    "select_sep_df(df, \"deep-FC\")"
   ]
  },
  {
   "cell_type": "code",
   "execution_count": 30,
   "metadata": {},
   "outputs": [
    {
     "data": {
      "text/html": [
       "<table class=\"data-frame\"><thead><tr><th></th><th>model</th><th>train_d</th><th>train_gtype</th><th>train_mat</th><th>train_mec</th><th>test_k</th><th>test_gtype</th><th>test_noise</th></tr><tr><th></th><th>String</th><th>Int64?</th><th>String?</th><th>String?</th><th>String?</th><th>Int64</th><th>String</th><th>String</th></tr></thead><tbody><p>1 rows × 15 columns (omitted printing of 7 columns)</p><tr><th>1</th><td>deep-EQ</td><td>10</td><td>SF</td><td>COR</td><td>Linear</td><td>1</td><td>SF</td><td>Gaussian</td></tr></tbody></table>"
      ],
      "text/latex": [
       "\\begin{tabular}{r|ccccccccc}\n",
       "\t& model & train\\_d & train\\_gtype & train\\_mat & train\\_mec & test\\_k & test\\_gtype & test\\_noise & \\\\\n",
       "\t\\hline\n",
       "\t& String & Int64? & String? & String? & String? & Int64 & String & String & \\\\\n",
       "\t\\hline\n",
       "\t1 & deep-EQ & 10 & SF & COR & Linear & 1 & SF & Gaussian & $\\dots$ \\\\\n",
       "\\end{tabular}\n"
      ],
      "text/plain": [
       "1×15 DataFrame. Omitted printing of 9 columns\n",
       "│ Row │ model   │ train_d │ train_gtype │ train_mat │ train_mec │ test_k │\n",
       "│     │ \u001b[90mString\u001b[39m  │ \u001b[90mInt64?\u001b[39m  │ \u001b[90mString?\u001b[39m     │ \u001b[90mString?\u001b[39m   │ \u001b[90mString?\u001b[39m   │ \u001b[90mInt64\u001b[39m  │\n",
       "├─────┼─────────┼─────────┼─────────────┼───────────┼───────────┼────────┤\n",
       "│ 1   │ deep-EQ │ 10      │ SF          │ COR       │ Linear    │ 1      │"
      ]
     },
     "execution_count": 30,
     "metadata": {},
     "output_type": "execute_result"
    }
   ],
   "source": [
    "select_sep_df(df, \"deep-EQ\")"
   ]
  },
  {
   "cell_type": "code",
   "execution_count": 44,
   "metadata": {},
   "outputs": [
    {
     "data": {
      "text/html": [
       "<table class=\"data-frame\"><thead><tr><th></th><th>model</th><th>train_d</th><th>prec</th><th>recall</th><th>shd</th></tr><tr><th></th><th>String</th><th>Int64?</th><th>Float32</th><th>Float32</th><th>Float32</th></tr></thead><tbody><p>3 rows × 5 columns</p><tr><th>1</th><td>deep-EQ</td><td>10</td><td>92.5</td><td>90.3</td><td>1.5</td></tr><tr><th>2</th><td>flat-CNN</td><td>10</td><td>80.2</td><td>78.7</td><td>3.7</td></tr><tr><th>3</th><td>flat-CNN</td><td>20</td><td>77.5</td><td>76.0</td><td>8.8</td></tr></tbody></table>"
      ],
      "text/latex": [
       "\\begin{tabular}{r|ccccc}\n",
       "\t& model & train\\_d & prec & recall & shd\\\\\n",
       "\t\\hline\n",
       "\t& String & Int64? & Float32 & Float32 & Float32\\\\\n",
       "\t\\hline\n",
       "\t1 & deep-EQ & 10 & 92.5 & 90.3 & 1.5 \\\\\n",
       "\t2 & flat-CNN & 10 & 80.2 & 78.7 & 3.7 \\\\\n",
       "\t3 & flat-CNN & 20 & 77.5 & 76.0 & 8.8 \\\\\n",
       "\\end{tabular}\n"
      ],
      "text/plain": [
       "3×5 DataFrame\n",
       "│ Row │ model    │ train_d │ prec    │ recall  │ shd     │\n",
       "│     │ \u001b[90mString\u001b[39m   │ \u001b[90mInt64?\u001b[39m  │ \u001b[90mFloat32\u001b[39m │ \u001b[90mFloat32\u001b[39m │ \u001b[90mFloat32\u001b[39m │\n",
       "├─────┼──────────┼─────────┼─────────┼─────────┼─────────┤\n",
       "│ 1   │ deep-EQ  │ 10      │ 92.5    │ 90.3    │ 1.5     │\n",
       "│ 2   │ flat-CNN │ 10      │ 80.2    │ 78.7    │ 3.7     │\n",
       "│ 3   │ flat-CNN │ 20      │ 77.5    │ 76.0    │ 8.8     │"
      ]
     },
     "execution_count": 44,
     "metadata": {},
     "output_type": "execute_result"
    }
   ],
   "source": [
    "table_cmp_baseline(df)"
   ]
  },
  {
   "cell_type": "code",
   "execution_count": 45,
   "metadata": {},
   "outputs": [
    {
     "data": {
      "text/html": [
       "<table class=\"data-frame\"><thead><tr><th></th><th>model</th><th>train_d</th><th>train_gtype</th><th>test_gtype</th><th>raw</th><th>prec</th><th>recall</th><th>shd</th><th>time</th></tr><tr><th></th><th>String</th><th>Int64?</th><th>String?</th><th>String</th><th>Bool</th><th>Float32</th><th>Float32</th><th>Float32</th><th>Float32</th></tr></thead><tbody><p>1 rows × 9 columns</p><tr><th>1</th><td>deep-EQ</td><td>10</td><td>SF</td><td>SF</td><td>0</td><td>92.5</td><td>90.3</td><td>1.5</td><td>0.3</td></tr></tbody></table>"
      ],
      "text/latex": [
       "\\begin{tabular}{r|ccccccccc}\n",
       "\t& model & train\\_d & train\\_gtype & test\\_gtype & raw & prec & recall & shd & time\\\\\n",
       "\t\\hline\n",
       "\t& String & Int64? & String? & String & Bool & Float32 & Float32 & Float32 & Float32\\\\\n",
       "\t\\hline\n",
       "\t1 & deep-EQ & 10 & SF & SF & 0 & 92.5 & 90.3 & 1.5 & 0.3 \\\\\n",
       "\\end{tabular}\n"
      ],
      "text/plain": [
       "1×9 DataFrame. Omitted printing of 3 columns\n",
       "│ Row │ model   │ train_d │ train_gtype │ test_gtype │ raw  │ prec    │\n",
       "│     │ \u001b[90mString\u001b[39m  │ \u001b[90mInt64?\u001b[39m  │ \u001b[90mString?\u001b[39m     │ \u001b[90mString\u001b[39m     │ \u001b[90mBool\u001b[39m │ \u001b[90mFloat32\u001b[39m │\n",
       "├─────┼─────────┼─────────┼─────────────┼────────────┼──────┼─────────┤\n",
       "│ 1   │ deep-EQ │ 10      │ SF          │ SF         │ 0    │ 92.5    │"
      ]
     },
     "execution_count": 45,
     "metadata": {},
     "output_type": "execute_result"
    }
   ],
   "source": [
    "table_ER24(df)"
   ]
  },
  {
   "cell_type": "code",
   "execution_count": 46,
   "metadata": {},
   "outputs": [
    {
     "data": {
      "text/html": [
       "<table class=\"data-frame\"><thead><tr><th></th><th>model</th><th>train_d</th><th>prec</th><th>recall</th><th>shd</th><th>time</th><th>test_d</th></tr><tr><th></th><th>String</th><th>Int64?</th><th>Float32</th><th>Float32</th><th>Float32</th><th>Float32</th><th>Int64</th></tr></thead><tbody><p>5 rows × 7 columns</p><tr><th>1</th><td>deep-EQ</td><td>10</td><td>92.5</td><td>90.3</td><td>1.5</td><td>0.3</td><td>10</td></tr><tr><th>2</th><td>flat-CNN</td><td>10</td><td>43.1</td><td>31.2</td><td>10.5</td><td>0.0</td><td>10</td></tr><tr><th>3</th><td>flat-CNN</td><td>10</td><td>80.2</td><td>78.7</td><td>3.7</td><td>0.0</td><td>10</td></tr><tr><th>4</th><td>flat-CNN</td><td>20</td><td>41.3</td><td>28.2</td><td>21.8</td><td>0.0</td><td>20</td></tr><tr><th>5</th><td>flat-CNN</td><td>20</td><td>77.5</td><td>76.0</td><td>8.8</td><td>0.0</td><td>20</td></tr></tbody></table>"
      ],
      "text/latex": [
       "\\begin{tabular}{r|ccccccc}\n",
       "\t& model & train\\_d & prec & recall & shd & time & test\\_d\\\\\n",
       "\t\\hline\n",
       "\t& String & Int64? & Float32 & Float32 & Float32 & Float32 & Int64\\\\\n",
       "\t\\hline\n",
       "\t1 & deep-EQ & 10 & 92.5 & 90.3 & 1.5 & 0.3 & 10 \\\\\n",
       "\t2 & flat-CNN & 10 & 43.1 & 31.2 & 10.5 & 0.0 & 10 \\\\\n",
       "\t3 & flat-CNN & 10 & 80.2 & 78.7 & 3.7 & 0.0 & 10 \\\\\n",
       "\t4 & flat-CNN & 20 & 41.3 & 28.2 & 21.8 & 0.0 & 20 \\\\\n",
       "\t5 & flat-CNN & 20 & 77.5 & 76.0 & 8.8 & 0.0 & 20 \\\\\n",
       "\\end{tabular}\n"
      ],
      "text/plain": [
       "5×7 DataFrame\n",
       "│ Row │ model    │ train_d │ prec    │ recall  │ shd     │ time    │ test_d │\n",
       "│     │ \u001b[90mString\u001b[39m   │ \u001b[90mInt64?\u001b[39m  │ \u001b[90mFloat32\u001b[39m │ \u001b[90mFloat32\u001b[39m │ \u001b[90mFloat32\u001b[39m │ \u001b[90mFloat32\u001b[39m │ \u001b[90mInt64\u001b[39m  │\n",
       "├─────┼──────────┼─────────┼─────────┼─────────┼─────────┼─────────┼────────┤\n",
       "│ 1   │ deep-EQ  │ 10      │ 92.5    │ 90.3    │ 1.5     │ 0.3     │ 10     │\n",
       "│ 2   │ flat-CNN │ 10      │ 43.1    │ 31.2    │ 10.5    │ 0.0     │ 10     │\n",
       "│ 3   │ flat-CNN │ 10      │ 80.2    │ 78.7    │ 3.7     │ 0.0     │ 10     │\n",
       "│ 4   │ flat-CNN │ 20      │ 41.3    │ 28.2    │ 21.8    │ 0.0     │ 20     │\n",
       "│ 5   │ flat-CNN │ 20      │ 77.5    │ 76.0    │ 8.8     │ 0.0     │ 20     │"
      ]
     },
     "execution_count": 46,
     "metadata": {},
     "output_type": "execute_result"
    }
   ],
   "source": [
    "table_raw(df)"
   ]
  },
  {
   "cell_type": "code",
   "execution_count": 47,
   "metadata": {},
   "outputs": [
    {
     "data": {
      "text/html": [
       "<table class=\"data-frame\"><thead><tr><th></th><th>model</th><th>train_d</th><th>train_gtype</th><th>test_k</th><th>test_gtype</th><th>raw</th><th>prec</th><th>recall</th><th>shd</th></tr><tr><th></th><th>String</th><th>Int64?</th><th>String?</th><th>Int64</th><th>String</th><th>Bool</th><th>Float32</th><th>Float32</th><th>Float32</th></tr></thead><tbody><p>1 rows × 10 columns (omitted printing of 1 columns)</p><tr><th>1</th><td>deep-EQ</td><td>10</td><td>SF</td><td>1</td><td>SF</td><td>0</td><td>92.5</td><td>90.3</td><td>1.5</td></tr></tbody></table>"
      ],
      "text/latex": [
       "\\begin{tabular}{r|cccccccccc}\n",
       "\t& model & train\\_d & train\\_gtype & test\\_k & test\\_gtype & raw & prec & recall & shd & \\\\\n",
       "\t\\hline\n",
       "\t& String & Int64? & String? & Int64 & String & Bool & Float32 & Float32 & Float32 & \\\\\n",
       "\t\\hline\n",
       "\t1 & deep-EQ & 10 & SF & 1 & SF & 0 & 92.5 & 90.3 & 1.5 & $\\dots$ \\\\\n",
       "\\end{tabular}\n"
      ],
      "text/plain": [
       "1×10 DataFrame. Omitted printing of 3 columns\n",
       "│ Row │ model   │ train_d │ train_gtype │ test_k │ test_gtype │ raw  │ prec    │\n",
       "│     │ \u001b[90mString\u001b[39m  │ \u001b[90mInt64?\u001b[39m  │ \u001b[90mString?\u001b[39m     │ \u001b[90mInt64\u001b[39m  │ \u001b[90mString\u001b[39m     │ \u001b[90mBool\u001b[39m │ \u001b[90mFloat32\u001b[39m │\n",
       "├─────┼─────────┼─────────┼─────────────┼────────┼────────────┼──────┼─────────┤\n",
       "│ 1   │ deep-EQ │ 10      │ SF          │ 1      │ SF         │ 0    │ 92.5    │"
      ]
     },
     "execution_count": 47,
     "metadata": {},
     "output_type": "execute_result"
    }
   ],
   "source": [
    "table_transfer_k(df)"
   ]
  },
  {
   "cell_type": "code",
   "execution_count": 48,
   "metadata": {},
   "outputs": [
    {
     "data": {
      "text/html": [
       "<table class=\"data-frame\"><thead><tr><th></th><th>model</th><th>train_d</th><th>train_gtype</th><th>train_noise</th><th>test_noise</th><th>raw</th><th>prec</th><th>recall</th></tr><tr><th></th><th>String</th><th>Int64?</th><th>String?</th><th>String?</th><th>String</th><th>Bool</th><th>Float32</th><th>Float32</th></tr></thead><tbody><p>1 rows × 10 columns (omitted printing of 2 columns)</p><tr><th>1</th><td>deep-EQ</td><td>10</td><td>SF</td><td>Gaussian</td><td>Gaussian</td><td>0</td><td>92.5</td><td>90.3</td></tr></tbody></table>"
      ],
      "text/latex": [
       "\\begin{tabular}{r|ccccccccc}\n",
       "\t& model & train\\_d & train\\_gtype & train\\_noise & test\\_noise & raw & prec & recall & \\\\\n",
       "\t\\hline\n",
       "\t& String & Int64? & String? & String? & String & Bool & Float32 & Float32 & \\\\\n",
       "\t\\hline\n",
       "\t1 & deep-EQ & 10 & SF & Gaussian & Gaussian & 0 & 92.5 & 90.3 & $\\dots$ \\\\\n",
       "\\end{tabular}\n"
      ],
      "text/plain": [
       "1×10 DataFrame. Omitted printing of 4 columns\n",
       "│ Row │ model   │ train_d │ train_gtype │ train_noise │ test_noise │ raw  │\n",
       "│     │ \u001b[90mString\u001b[39m  │ \u001b[90mInt64?\u001b[39m  │ \u001b[90mString?\u001b[39m     │ \u001b[90mString?\u001b[39m     │ \u001b[90mString\u001b[39m     │ \u001b[90mBool\u001b[39m │\n",
       "├─────┼─────────┼─────────┼─────────────┼─────────────┼────────────┼──────┤\n",
       "│ 1   │ deep-EQ │ 10      │ SF          │ Gaussian    │ Gaussian   │ 0    │"
      ]
     },
     "execution_count": 48,
     "metadata": {},
     "output_type": "execute_result"
    }
   ],
   "source": [
    "table_transfer_noise(df)"
   ]
  },
  {
   "cell_type": "code",
   "execution_count": 49,
   "metadata": {},
   "outputs": [
    {
     "data": {
      "text/html": [
       "<table class=\"data-frame\"><thead><tr><th></th><th>model</th><th>train_d</th><th>train_gtype</th><th>test_gtype</th><th>raw</th><th>prec</th><th>recall</th><th>shd</th><th>time</th></tr><tr><th></th><th>String</th><th>Int64?</th><th>String?</th><th>String</th><th>Bool</th><th>Float32</th><th>Float32</th><th>Float32</th><th>Float32</th></tr></thead><tbody><p>0 rows × 9 columns</p></tbody></table>"
      ],
      "text/latex": [
       "\\begin{tabular}{r|ccccccccc}\n",
       "\t& model & train\\_d & train\\_gtype & test\\_gtype & raw & prec & recall & shd & time\\\\\n",
       "\t\\hline\n",
       "\t& String & Int64? & String? & String & Bool & Float32 & Float32 & Float32 & Float32\\\\\n",
       "\t\\hline\n",
       "\\end{tabular}\n"
      ],
      "text/plain": [
       "0×9 DataFrame\n"
      ]
     },
     "execution_count": 49,
     "metadata": {},
     "output_type": "execute_result"
    }
   ],
   "source": [
    "table_transfer_gtype(df)"
   ]
  },
  {
   "cell_type": "code",
   "execution_count": 50,
   "metadata": {},
   "outputs": [
    {
     "data": {
      "text/html": [
       "<table class=\"data-frame\"><thead><tr><th></th><th>model</th><th>test_d</th><th>test_gtype</th><th>raw</th><th>prec</th><th>recall</th><th>shd</th><th>time</th></tr><tr><th></th><th>String</th><th>Int64</th><th>String</th><th>Bool</th><th>Float32</th><th>Float32</th><th>Float32</th><th>Float32</th></tr></thead><tbody><p>0 rows × 8 columns</p></tbody></table>"
      ],
      "text/latex": [
       "\\begin{tabular}{r|cccccccc}\n",
       "\t& model & test\\_d & test\\_gtype & raw & prec & recall & shd & time\\\\\n",
       "\t\\hline\n",
       "\t& String & Int64 & String & Bool & Float32 & Float32 & Float32 & Float32\\\\\n",
       "\t\\hline\n",
       "\\end{tabular}\n"
      ],
      "text/plain": [
       "0×8 DataFrame\n"
      ]
     },
     "execution_count": 50,
     "metadata": {},
     "output_type": "execute_result"
    }
   ],
   "source": [
    "table_ensemble(df)"
   ]
  },
  {
   "cell_type": "code",
   "execution_count": null,
   "metadata": {},
   "outputs": [],
   "source": []
  }
 ],
 "metadata": {
  "kernelspec": {
   "display_name": "Julia 1.5.0",
   "language": "julia",
   "name": "julia-1.5"
  },
  "language_info": {
   "file_extension": ".jl",
   "mimetype": "application/julia",
   "name": "julia",
   "version": "1.5.0"
  }
 },
 "nbformat": 4,
 "nbformat_minor": 4
}
