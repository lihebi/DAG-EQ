{
 "cells": [
  {
   "cell_type": "code",
   "execution_count": 1,
   "metadata": {},
   "outputs": [
    {
     "data": {
      "text/plain": [
       "3"
      ]
     },
     "execution_count": 1,
     "metadata": {},
     "output_type": "execute_result"
    }
   ],
   "source": [
    "1+2"
   ]
  },
  {
   "cell_type": "markdown",
   "metadata": {},
   "source": [
    "# Setup the environment\n",
    "- Set up proxy\n",
    "- Install (instantiate) the packages\n",
    "- Build (precompile) the packages"
   ]
  },
  {
   "cell_type": "code",
   "execution_count": null,
   "metadata": {},
   "outputs": [],
   "source": [
    "ENV[\"JULIA_PKG_SERVER\"]"
   ]
  },
  {
   "cell_type": "code",
   "execution_count": null,
   "metadata": {},
   "outputs": [],
   "source": [
    "ENV[\"JULIA_PKG_SERVER\"] = \"https://mirrors.tuna.tsinghua.edu.cn/julia\""
   ]
  },
  {
   "cell_type": "code",
   "execution_count": null,
   "metadata": {},
   "outputs": [],
   "source": [
    "versioninfo()"
   ]
  },
  {
   "cell_type": "code",
   "execution_count": null,
   "metadata": {},
   "outputs": [],
   "source": [
    "ENV[\"PATH\"]"
   ]
  },
  {
   "cell_type": "code",
   "execution_count": null,
   "metadata": {},
   "outputs": [],
   "source": [
    "ENV[\"http_proxy\"]"
   ]
  },
  {
   "cell_type": "code",
   "execution_count": 2,
   "metadata": {},
   "outputs": [
    {
     "data": {
      "text/plain": [
       "\"http://172.18.0.1:8889\""
      ]
     },
     "execution_count": 2,
     "metadata": {},
     "output_type": "execute_result"
    }
   ],
   "source": [
    "# set proxy, neoproxy\n",
    "ENV[\"http_proxy\"] = \"http://172.18.0.1:8889\"\n",
    "ENV[\"https_proxy\"] = \"http://172.18.0.1:8889\""
   ]
  },
  {
   "cell_type": "code",
   "execution_count": null,
   "metadata": {},
   "outputs": [],
   "source": [
    "# set proxy, clash\n",
    "ENV[\"http_proxy\"] = \"http://172.18.0.1:2340\"\n",
    "ENV[\"https_proxy\"] = \"http://172.18.0.1:2340\""
   ]
  },
  {
   "cell_type": "code",
   "execution_count": 3,
   "metadata": {},
   "outputs": [],
   "source": [
    "import Pkg"
   ]
  },
  {
   "cell_type": "code",
   "execution_count": null,
   "metadata": {},
   "outputs": [],
   "source": [
    "Pkg.status()"
   ]
  },
  {
   "cell_type": "code",
   "execution_count": null,
   "metadata": {},
   "outputs": [],
   "source": [
    "Pkg.update()"
   ]
  },
  {
   "cell_type": "code",
   "execution_count": null,
   "metadata": {},
   "outputs": [],
   "source": [
    "Pkg.instantiate(verbose=true)"
   ]
  },
  {
   "cell_type": "code",
   "execution_count": 4,
   "metadata": {},
   "outputs": [
    {
     "name": "stderr",
     "output_type": "stream",
     "text": [
      "\u001b[32m\u001b[1m   Building\u001b[22m\u001b[39m FFTW ────────→ `~/.julia/packages/FFTW/DMUbN/deps/build.log`\n",
      "\u001b[32m\u001b[1m   Building\u001b[22m\u001b[39m SLEEFPirates → `~/.julia/packages/SLEEFPirates/jGsib/deps/build.log`\n",
      "\u001b[32m\u001b[1m   Building\u001b[22m\u001b[39m TimeZones ───→ `~/.julia/packages/TimeZones/tx0tt/deps/build.log`\n",
      "[ Info: Installing 2020a tzdata region data\n",
      "[ Info: Converting tz source files into TimeZone data\n",
      "[ Info: Successfully built TimeZones\n",
      "\u001b[32m\u001b[1m   Building\u001b[22m\u001b[39m Conda ───────→ `~/.julia/packages/Conda/3rPhK/deps/build.log`\n",
      "\u001b[32m\u001b[1m   Building\u001b[22m\u001b[39m PyCall ──────→ `~/.julia/packages/PyCall/BcTLp/deps/build.log`\n",
      "[ Info: PyCall is using /opt/conda/bin/python3 (Python 3.8.5) at /opt/conda/bin/python3, libpython = /opt/conda/lib/libpython3.8.so.1.0\n",
      "[ Info: /home/jovyan/.julia/packages/PyCall/BcTLp/deps/deps.jl has not changed\n",
      "[ Info: /home/jovyan/.julia/prefs/PyCall has not changed\n",
      "\u001b[32m\u001b[1m   Building\u001b[22m\u001b[39m HDF5 ────────→ `~/.julia/packages/HDF5/T1b9x/deps/build.log`\n",
      "\u001b[32m\u001b[1m   Building\u001b[22m\u001b[39m IJulia ──────→ `~/.julia/packages/IJulia/rWZ9e/deps/build.log`\n",
      "[ Info: Installing Julia kernelspec in /home/jovyan/.local/share/jupyter/kernels/julia-1.5\n",
      "\u001b[32m\u001b[1m   Building\u001b[22m\u001b[39m GR ──────────→ `~/.julia/packages/GR/BwGt2/deps/build.log`\n",
      "[ Info: Downloading pre-compiled GR 0.52.0 Ubuntu binary\n",
      "┌ Warning: Assignment to `grdir` in soft scope is ambiguous because a global variable by the same name exists: `grdir` will be treated as a new local. Disambiguate by using `local grdir` to suppress this warning or `global grdir` to assign to the existing global variable.\n",
      "└ @ ~/.julia/packages/GR/BwGt2/deps/build.jl:192\n"
     ]
    }
   ],
   "source": [
    "Pkg.build(verbose=true)"
   ]
  },
  {
   "cell_type": "code",
   "execution_count": 5,
   "metadata": {},
   "outputs": [
    {
     "name": "stderr",
     "output_type": "stream",
     "text": [
      "\u001b[32m\u001b[1mPrecompiling\u001b[22m\u001b[39m project...\n",
      "┌ Info: Precompiling HDF5 [f67ccb44-e63f-5c2f-98bd-6dc0ccc4ba2f]\n",
      "└ @ Base loading.jl:1278\n"
     ]
    }
   ],
   "source": [
    "Pkg.precompile()"
   ]
  },
  {
   "cell_type": "code",
   "execution_count": null,
   "metadata": {},
   "outputs": [],
   "source": [
    "Pkg.add(\"Plots\")"
   ]
  },
  {
   "cell_type": "code",
   "execution_count": null,
   "metadata": {},
   "outputs": [],
   "source": [
    "Pkg.build(\"GR\", verbose=true)"
   ]
  },
  {
   "cell_type": "code",
   "execution_count": null,
   "metadata": {},
   "outputs": [],
   "source": [
    "Pkg.add(\"XLSX\")"
   ]
  },
  {
   "cell_type": "code",
   "execution_count": null,
   "metadata": {
    "scrolled": true
   },
   "outputs": [],
   "source": [
    "# verify CUDNN is available\n",
    "# import CuArrays\n",
    "import CUDA"
   ]
  },
  {
   "cell_type": "code",
   "execution_count": null,
   "metadata": {},
   "outputs": [],
   "source": [
    "include(\"main.jl\")"
   ]
  },
  {
   "cell_type": "markdown",
   "metadata": {},
   "source": [
    "# Ad-hoc package management"
   ]
  },
  {
   "cell_type": "code",
   "execution_count": null,
   "metadata": {},
   "outputs": [],
   "source": [
    "Pkg.add(\"IterTools\")"
   ]
  },
  {
   "cell_type": "code",
   "execution_count": null,
   "metadata": {},
   "outputs": [],
   "source": [
    "Pkg.add(\"RData\")"
   ]
  },
  {
   "cell_type": "code",
   "execution_count": null,
   "metadata": {},
   "outputs": [],
   "source": [
    "Pkg.rm(\"CodecBzip2\")"
   ]
  },
  {
   "cell_type": "code",
   "execution_count": null,
   "metadata": {},
   "outputs": [],
   "source": [
    "Pkg.add(\"Latexify\")"
   ]
  },
  {
   "cell_type": "markdown",
   "metadata": {},
   "source": [
    "# CUDA"
   ]
  },
  {
   "cell_type": "code",
   "execution_count": null,
   "metadata": {},
   "outputs": [],
   "source": [
    "CUDA.version()"
   ]
  },
  {
   "cell_type": "code",
   "execution_count": null,
   "metadata": {},
   "outputs": [],
   "source": [
    "CUDA.has_cuda()"
   ]
  },
  {
   "cell_type": "code",
   "execution_count": null,
   "metadata": {},
   "outputs": [],
   "source": [
    "CUDA.has_cutensor()"
   ]
  },
  {
   "cell_type": "code",
   "execution_count": null,
   "metadata": {},
   "outputs": [],
   "source": [
    "CUDA.functional()"
   ]
  },
  {
   "cell_type": "code",
   "execution_count": null,
   "metadata": {},
   "outputs": [],
   "source": [
    "CUDA.CUTENSOR.version()"
   ]
  },
  {
   "cell_type": "code",
   "execution_count": null,
   "metadata": {},
   "outputs": [],
   "source": []
  }
 ],
 "metadata": {
  "kernelspec": {
   "display_name": "Julia 1.5.0",
   "language": "julia",
   "name": "julia-1.5"
  },
  "language_info": {
   "file_extension": ".jl",
   "mimetype": "application/julia",
   "name": "julia",
   "version": "1.5.0"
  }
 },
 "nbformat": 4,
 "nbformat_minor": 4
}
