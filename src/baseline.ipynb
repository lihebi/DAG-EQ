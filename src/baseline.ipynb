{
 "cells": [
  {
   "cell_type": "markdown",
   "metadata": {},
   "source": [
    "# Baselines\n",
    "\n",
    "TODOs:\n",
    "- [ ] which uses GPU and which does not\n",
    "- [ ] use covariate matrix\n",
    "- [ ] RL-BIC hyper-parameters"
   ]
  },
  {
   "cell_type": "markdown",
   "metadata": {},
   "source": [
    "# Setup\n",
    "\n",
    "Python libraries:\n",
    "\n",
    "```\n",
    "pip install -r requirements.txt\n",
    "```\n",
    "\n",
    "Download some repos\n",
    "\n",
    "```\n",
    "git clone https://github.com/xunzheng/notears\n",
    "git clone https://github.com/fishmoon1234/DAG-GNN\n",
    "# This is repo is broken, too large to clone\n",
    "git clone https://github.com/kurowasan/GraN-DAG\n",
    "git clone https://github.com/huawei-noah/trustworthyAI\n",
    "```\n",
    "\n",
    "\n",
    "\n",
    "## R packages (this is so unhumanity)\n",
    "This also needs R and some R packages:\n",
    "\n",
    "```\n",
    "sudo apt install r-base\n",
    "# NO! this will install 3.4.3. Use conda\n",
    "conda install r-base=3.6.3\n",
    "```\n",
    "\n",
    "Probably setup IRKernel:\n",
    "\n",
    "```\n",
    "R\n",
    "> install.packages('IRkernel')\n",
    "> IRkernel::installspec()\n",
    "```\n",
    "\n",
    "- this will consume a lot of network traffic. Need to be careful when using proxy\n",
    "- this needs some time for compilation\n",
    "\n",
    "```\n",
    "# graph is not available in default repo\n",
    "> install.packages(\"BiocManager\")\n",
    "# dependencies for pcalg\n",
    "> BiocManager::install(\"graph\")\n",
    "> BiocManager::install(\"RBGL\")\n",
    "\n",
    "> install.packages(\"pcalg\")\n",
    "> install.packages(\"kpcalg\")\n",
    "> BiocManager::install(\"usethis\")\n",
    "> install.packages(\"devtools\")\n",
    "> library(devtools)\n",
    "> install_github(\"Diviyan-Kalainathan/RCIT\")\n",
    "> library(RCIT)\n",
    "```\n",
    "\n",
    "CAM needs to be downloaded and install from file.\n",
    "\n",
    "```\n",
    "> install.packages(\"/path/to/CAM_1.0.tar.gz\")\n",
    "```"
   ]
  },
  {
   "cell_type": "code",
   "execution_count": null,
   "metadata": {},
   "outputs": [],
   "source": [
    "import sys"
   ]
  },
  {
   "cell_type": "code",
   "execution_count": null,
   "metadata": {},
   "outputs": [],
   "source": [
    "# Add to sys.path\n",
    "sys.path.append(\"/home/jovyan/notears\")\n",
    "sys.path.append(\"/home/jovyan/DAG-GNN/src\")\n",
    "sys.path.append(\"/home/jovyan/trustworthyAI/Causal_Structure_Learning/Causal_Discovery_RL/src/\")"
   ]
  },
  {
   "cell_type": "code",
   "execution_count": null,
   "metadata": {},
   "outputs": [],
   "source": [
    "sys.path"
   ]
  },
  {
   "cell_type": "code",
   "execution_count": null,
   "metadata": {},
   "outputs": [],
   "source": [
    "# FIXME no GPU detected\n",
    "from baseline import run_many"
   ]
  },
  {
   "cell_type": "code",
   "execution_count": null,
   "metadata": {},
   "outputs": [],
   "source": [
    "# get dataset file name\n",
    "def get_dataset_fname(d, gtype):\n",
    "    return 'data/{}-{}-1234/d={}_k=1_gtype={}_noise=Gaussian_mat=COV_mec=Linear.hdf5'.format(gtype, d, d, gtype)"
   ]
  },
  {
   "cell_type": "code",
   "execution_count": null,
   "metadata": {},
   "outputs": [],
   "source": [
    "def run_baseline(alg, d, gtype):\n",
    "    run_many(alg, get_dataset_fname(d, gtype))"
   ]
  },
  {
   "cell_type": "code",
   "execution_count": null,
   "metadata": {
    "scrolled": true
   },
   "outputs": [],
   "source": [
    "run_baseline('PC', d=10, gtype='SF')"
   ]
  },
  {
   "cell_type": "code",
   "execution_count": null,
   "metadata": {},
   "outputs": [],
   "source": [
    "# OK, let's run notears ..\n",
    "run_baseline('notears', d=10, gtype='SF')"
   ]
  },
  {
   "cell_type": "code",
   "execution_count": null,
   "metadata": {
    "scrolled": true
   },
   "outputs": [],
   "source": [
    "run_baseline('GES', d=10, gtype='SF')"
   ]
  },
  {
   "cell_type": "code",
   "execution_count": null,
   "metadata": {
    "scrolled": true
   },
   "outputs": [],
   "source": [
    "run_baseline('CAM', d=10, gtype='SF')"
   ]
  },
  {
   "cell_type": "code",
   "execution_count": null,
   "metadata": {},
   "outputs": [],
   "source": [
    "run_baseline('RCC-CLF', d=10, gtype='SF')"
   ]
  },
  {
   "cell_type": "code",
   "execution_count": null,
   "metadata": {},
   "outputs": [],
   "source": [
    "run_baseline('RCC-NN', d=10, gtype='SF')"
   ]
  },
  {
   "cell_type": "code",
   "execution_count": null,
   "metadata": {},
   "outputs": [],
   "source": [
    "# FIXME not downloaded\n",
    "run_baseline('DAG-GNN', d=10, gtype='SF')"
   ]
  },
  {
   "cell_type": "code",
   "execution_count": null,
   "metadata": {},
   "outputs": [],
   "source": [
    "# FIXME hyper-parameters\n",
    "# FIXME tensorflow 1 compatibility\n",
    "run_baseline('RL-BIC', d=10, gtype='SF')"
   ]
  }
 ],
 "metadata": {
  "kernelspec": {
   "display_name": "Python 3",
   "language": "python",
   "name": "python3"
  },
  "language_info": {
   "codemirror_mode": {
    "name": "ipython",
    "version": 3
   },
   "file_extension": ".py",
   "mimetype": "text/x-python",
   "name": "python",
   "nbconvert_exporter": "python",
   "pygments_lexer": "ipython3",
   "version": "3.8.5"
  }
 },
 "nbformat": 4,
 "nbformat_minor": 4
}
