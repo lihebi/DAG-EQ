{
 "cells": [
  {
   "cell_type": "code",
   "execution_count": 1,
   "metadata": {},
   "outputs": [],
   "source": [
    "import CSV"
   ]
  },
  {
   "cell_type": "code",
   "execution_count": 26,
   "metadata": {},
   "outputs": [],
   "source": [
    "using Latexify"
   ]
  },
  {
   "cell_type": "code",
   "execution_count": 2,
   "metadata": {},
   "outputs": [],
   "source": [
    "using DataFrames: DataFrame"
   ]
  },
  {
   "cell_type": "code",
   "execution_count": 4,
   "metadata": {},
   "outputs": [
    {
     "data": {
      "text/plain": [
       "200"
      ]
     },
     "execution_count": 4,
     "metadata": {},
     "output_type": "execute_result"
    }
   ],
   "source": [
    "ENV[\"COLUMNS\"] = 200"
   ]
  },
  {
   "cell_type": "markdown",
   "metadata": {},
   "source": [
    "# Read the data"
   ]
  },
  {
   "cell_type": "code",
   "execution_count": 62,
   "metadata": {},
   "outputs": [],
   "source": [
    "# get the numbers\n",
    "df = CSV.read(\"result.csv\", DataFrame);"
   ]
  },
  {
   "cell_type": "code",
   "execution_count": 63,
   "metadata": {},
   "outputs": [],
   "source": [
    "df.prec = df.prec .* 100 .|> x->round(x, digits=1);"
   ]
  },
  {
   "cell_type": "code",
   "execution_count": 64,
   "metadata": {},
   "outputs": [],
   "source": [
    "df.recall = df.recall .* 100 .|> x->round(x, digits=1);"
   ]
  },
  {
   "cell_type": "code",
   "execution_count": 65,
   "metadata": {},
   "outputs": [],
   "source": [
    "df.shd = df.shd .|> x->round(x, digits=1);"
   ]
  },
  {
   "cell_type": "code",
   "execution_count": 66,
   "metadata": {},
   "outputs": [
    {
     "data": {
      "text/html": [
       "<table class=\"data-frame\"><thead><tr><th></th><th>expID</th><th>testID</th><th>prec</th><th>recall</th><th>shd</th><th>time</th><th>date</th></tr><tr><th></th><th>String</th><th>String</th><th>Float64</th><th>Float64</th><th>Float64</th><th>Float64</th><th>DateTim…</th></tr></thead><tbody><p>58 rows × 7 columns</p><tr><th>1</th><td>EQ2-CH3-d=[10,15,20]-ensemble</td><td>TEST-d=100</td><td>51.2</td><td>68.9</td><td>96.0</td><td>0.756428</td><td>2021-01-18T19:05:04.719</td></tr><tr><th>2</th><td>EQ2-ERSF124-d=10-ensemble</td><td>TEST-types=(:ER, :SF)</td><td>96.6</td><td>96.5</td><td>0.6</td><td>0.129525</td><td>2021-01-18T19:35:04.017</td></tr><tr><th>3</th><td>EQ2-ERSF-k1-d=10-ensemble</td><td>TEST-d=10-noise=Poisson</td><td>97.3</td><td>93.2</td><td>0.9</td><td>1.39035</td><td>2021-01-09T19:40:43.926</td></tr><tr><th>4</th><td>EQ2-ERSF-k1-d=10-ensemble</td><td>TEST-d=100</td><td>20.3</td><td>23.5</td><td>168.0</td><td>0.810716</td><td>2021-01-19T19:39:49.475</td></tr><tr><th>5</th><td>EQ2-CH3-d=[20,30,40]-ensemble</td><td>TEST-d=20</td><td>94.4</td><td>89.0</td><td>3.1</td><td>0.0646795</td><td>2021-01-19T15:52:29.252</td></tr><tr><th>6</th><td>EQ2-ERSF-k1-d=20-ensemble</td><td>TEST-d=20</td><td>97.1</td><td>88.7</td><td>2.7</td><td>0.0660293</td><td>2021-01-19T19:40:48.979</td></tr><tr><th>7</th><td>EQ2-ERSF-k1-d=10-ensemble</td><td>TEST-d=10</td><td>97.6</td><td>93.5</td><td>0.8</td><td>1.34985</td><td>2021-01-19T19:38:54.667</td></tr><tr><th>8</th><td>EQ2-ERSF-k1-d=10-ensemble</td><td>TEST-d=40</td><td>33.0</td><td>49.3</td><td>59.2</td><td>0.455788</td><td>2021-01-19T19:39:11.992</td></tr><tr><th>9</th><td>EQ2-CH3-d=[20,30,40]-ensemble</td><td>TEST-d=30</td><td>94.0</td><td>88.5</td><td>5.0</td><td>0.124051</td><td>2021-01-19T15:55:00.486</td></tr><tr><th>10</th><td>EQ2-CH3-d=[10,15,20]-ensemble</td><td>TEST-d=15</td><td>96.2</td><td>91.7</td><td>1.7</td><td>0.259876</td><td>2021-01-19T15:52:23.442</td></tr><tr><th>11</th><td>EQ2-ERSF-k1-d=10-ensemble</td><td>TEST-d=10-noise=Gaussian</td><td>97.5</td><td>93.5</td><td>0.8</td><td>0.0262903</td><td>2021-01-09T19:44:11.262</td></tr><tr><th>12</th><td>EQ2-ERSF-k1-d=20-ensemble</td><td>TEST-d=10</td><td>94.2</td><td>33.7</td><td>6.3</td><td>0.0165759</td><td>2021-01-19T19:40:45.725</td></tr><tr><th>13</th><td>EQ2-ERSF-k1-d=20-ensemble</td><td>TEST-d=50</td><td>56.9</td><td>83.3</td><td>39.4</td><td>0.179815</td><td>2021-01-19T19:41:03.302</td></tr><tr><th>14</th><td>EQ2-ERSF-k1-d=20-ensemble</td><td>TEST-d=15</td><td>99.0</td><td>75.6</td><td>3.6</td><td>0.109873</td><td>2021-01-19T19:40:47.659</td></tr><tr><th>15</th><td>EQ2-ERSF-k1-d=50-ensemble</td><td>TEST-d=50-noise=Gaussian</td><td>91.0</td><td>84.5</td><td>11.7</td><td>1.49433</td><td>2021-01-09T19:44:38.33</td></tr><tr><th>16</th><td>EQ2-ERSF-k1-d=15-ensemble</td><td>TEST-d=15</td><td>96.2</td><td>91.4</td><td>1.7</td><td>0.100927</td><td>2021-01-19T19:39:51.925</td></tr><tr><th>17</th><td>EQ2-ERSF-k1-d=20-ensemble</td><td>TEST-d=100</td><td>38.9</td><td>66.4</td><td>137.1</td><td>0.801481</td><td>2021-01-19T19:41:36.176</td></tr><tr><th>18</th><td>EQ2-ERSF-k1-d=15-ensemble</td><td>TEST-d=100</td><td>18.3</td><td>46.0</td><td>258.0</td><td>0.780763</td><td>2021-01-19T19:40:45.356</td></tr><tr><th>19</th><td>EQ2-ERSF-k1-d=20-ensemble</td><td>TEST-d=20-noise=Gumbel</td><td>97.0</td><td>88.7</td><td>2.7</td><td>0.0963716</td><td>2021-01-09T19:41:49.023</td></tr><tr><th>20</th><td>EQ2-CH3-d=[10,15,20]-ensemble</td><td>TEST-d=40</td><td>83.9</td><td>86.5</td><td>11.8</td><td>0.513936</td><td>2021-01-19T15:54:58.254</td></tr><tr><th>21</th><td>EQ2-ERSF-k1-d=20-ensemble</td><td>TEST-d=40</td><td>65.6</td><td>87.3</td><td>22.9</td><td>0.459659</td><td>2021-01-19T19:40:59.963</td></tr><tr><th>22</th><td>EQ2-ERSF-k1-d=15-ensemble</td><td>TEST-d=10</td><td>98.0</td><td>69.1</td><td>3.0</td><td>0.0184122</td><td>2021-01-19T19:39:49.963</td></tr><tr><th>23</th><td>EQ2-ERSF-k1-d=15-ensemble</td><td>TEST-d=80</td><td>21.6</td><td>50.7</td><td>185.3</td><td>1.26244</td><td>2021-01-19T19:40:31.555</td></tr><tr><th>24</th><td>EQ2-CH3-d=[20,30,40]-ensemble</td><td>TEST-d=40</td><td>93.0</td><td>87.3</td><td>7.6</td><td>0.492969</td><td>2021-01-19T15:55:09</td></tr><tr><th>25</th><td>EQ2-CH3-d=[20,30,40]-ensemble</td><td>TEST-d=50</td><td>90.1</td><td>86.5</td><td>11.3</td><td>0.191626</td><td>2021-01-18T19:03:37.776</td></tr><tr><th>26</th><td>EQ2-CH3-d=[20,30,40]-ensemble</td><td>TEST-d=100</td><td>68.0</td><td>78.6</td><td>57.9</td><td>0.707866</td><td>2021-01-18T19:05:16.75</td></tr><tr><th>27</th><td>EQ2-CH3-d=[10,15,20]-ensemble</td><td>TEST-d=20</td><td>95.6</td><td>91.0</td><td>2.5</td><td>0.0540746</td><td>2021-01-19T15:52:24.794</td></tr><tr><th>28</th><td>EQ2-CH3-d=[20,30,40]-ensemble</td><td>TEST-d=15</td><td>94.3</td><td>90.5</td><td>2.1</td><td>0.0377656</td><td>2021-01-19T15:52:27.711</td></tr><tr><th>29</th><td>EQ2-CH3-d=[20,30,40]-ensemble</td><td>TEST-d=10</td><td>88.8</td><td>91.3</td><td>1.9</td><td>0.1253</td><td>2021-01-19T15:52:26.949</td></tr><tr><th>30</th><td>EQ2-ERSF-k1-d=15-ensemble</td><td>TEST-d=30</td><td>59.9</td><td>84.6</td><td>21.1</td><td>0.174039</td><td>2021-01-19T19:39:56.87</td></tr><tr><th>&vellip;</th><td>&vellip;</td><td>&vellip;</td><td>&vellip;</td><td>&vellip;</td><td>&vellip;</td><td>&vellip;</td><td>&vellip;</td></tr></tbody></table>"
      ],
      "text/latex": [
       "\\begin{tabular}{r|ccccccc}\n",
       "\t& expID & testID & prec & recall & shd & time & date\\\\\n",
       "\t\\hline\n",
       "\t& String & String & Float64 & Float64 & Float64 & Float64 & DateTim…\\\\\n",
       "\t\\hline\n",
       "\t1 & EQ2-CH3-d=[10,15,20]-ensemble & TEST-d=100 & 51.2 & 68.9 & 96.0 & 0.756428 & 2021-01-18T19:05:04.719 \\\\\n",
       "\t2 & EQ2-ERSF124-d=10-ensemble & TEST-types=(:ER, :SF) & 96.6 & 96.5 & 0.6 & 0.129525 & 2021-01-18T19:35:04.017 \\\\\n",
       "\t3 & EQ2-ERSF-k1-d=10-ensemble & TEST-d=10-noise=Poisson & 97.3 & 93.2 & 0.9 & 1.39035 & 2021-01-09T19:40:43.926 \\\\\n",
       "\t4 & EQ2-ERSF-k1-d=10-ensemble & TEST-d=100 & 20.3 & 23.5 & 168.0 & 0.810716 & 2021-01-19T19:39:49.475 \\\\\n",
       "\t5 & EQ2-CH3-d=[20,30,40]-ensemble & TEST-d=20 & 94.4 & 89.0 & 3.1 & 0.0646795 & 2021-01-19T15:52:29.252 \\\\\n",
       "\t6 & EQ2-ERSF-k1-d=20-ensemble & TEST-d=20 & 97.1 & 88.7 & 2.7 & 0.0660293 & 2021-01-19T19:40:48.979 \\\\\n",
       "\t7 & EQ2-ERSF-k1-d=10-ensemble & TEST-d=10 & 97.6 & 93.5 & 0.8 & 1.34985 & 2021-01-19T19:38:54.667 \\\\\n",
       "\t8 & EQ2-ERSF-k1-d=10-ensemble & TEST-d=40 & 33.0 & 49.3 & 59.2 & 0.455788 & 2021-01-19T19:39:11.992 \\\\\n",
       "\t9 & EQ2-CH3-d=[20,30,40]-ensemble & TEST-d=30 & 94.0 & 88.5 & 5.0 & 0.124051 & 2021-01-19T15:55:00.486 \\\\\n",
       "\t10 & EQ2-CH3-d=[10,15,20]-ensemble & TEST-d=15 & 96.2 & 91.7 & 1.7 & 0.259876 & 2021-01-19T15:52:23.442 \\\\\n",
       "\t11 & EQ2-ERSF-k1-d=10-ensemble & TEST-d=10-noise=Gaussian & 97.5 & 93.5 & 0.8 & 0.0262903 & 2021-01-09T19:44:11.262 \\\\\n",
       "\t12 & EQ2-ERSF-k1-d=20-ensemble & TEST-d=10 & 94.2 & 33.7 & 6.3 & 0.0165759 & 2021-01-19T19:40:45.725 \\\\\n",
       "\t13 & EQ2-ERSF-k1-d=20-ensemble & TEST-d=50 & 56.9 & 83.3 & 39.4 & 0.179815 & 2021-01-19T19:41:03.302 \\\\\n",
       "\t14 & EQ2-ERSF-k1-d=20-ensemble & TEST-d=15 & 99.0 & 75.6 & 3.6 & 0.109873 & 2021-01-19T19:40:47.659 \\\\\n",
       "\t15 & EQ2-ERSF-k1-d=50-ensemble & TEST-d=50-noise=Gaussian & 91.0 & 84.5 & 11.7 & 1.49433 & 2021-01-09T19:44:38.33 \\\\\n",
       "\t16 & EQ2-ERSF-k1-d=15-ensemble & TEST-d=15 & 96.2 & 91.4 & 1.7 & 0.100927 & 2021-01-19T19:39:51.925 \\\\\n",
       "\t17 & EQ2-ERSF-k1-d=20-ensemble & TEST-d=100 & 38.9 & 66.4 & 137.1 & 0.801481 & 2021-01-19T19:41:36.176 \\\\\n",
       "\t18 & EQ2-ERSF-k1-d=15-ensemble & TEST-d=100 & 18.3 & 46.0 & 258.0 & 0.780763 & 2021-01-19T19:40:45.356 \\\\\n",
       "\t19 & EQ2-ERSF-k1-d=20-ensemble & TEST-d=20-noise=Gumbel & 97.0 & 88.7 & 2.7 & 0.0963716 & 2021-01-09T19:41:49.023 \\\\\n",
       "\t20 & EQ2-CH3-d=[10,15,20]-ensemble & TEST-d=40 & 83.9 & 86.5 & 11.8 & 0.513936 & 2021-01-19T15:54:58.254 \\\\\n",
       "\t21 & EQ2-ERSF-k1-d=20-ensemble & TEST-d=40 & 65.6 & 87.3 & 22.9 & 0.459659 & 2021-01-19T19:40:59.963 \\\\\n",
       "\t22 & EQ2-ERSF-k1-d=15-ensemble & TEST-d=10 & 98.0 & 69.1 & 3.0 & 0.0184122 & 2021-01-19T19:39:49.963 \\\\\n",
       "\t23 & EQ2-ERSF-k1-d=15-ensemble & TEST-d=80 & 21.6 & 50.7 & 185.3 & 1.26244 & 2021-01-19T19:40:31.555 \\\\\n",
       "\t24 & EQ2-CH3-d=[20,30,40]-ensemble & TEST-d=40 & 93.0 & 87.3 & 7.6 & 0.492969 & 2021-01-19T15:55:09 \\\\\n",
       "\t25 & EQ2-CH3-d=[20,30,40]-ensemble & TEST-d=50 & 90.1 & 86.5 & 11.3 & 0.191626 & 2021-01-18T19:03:37.776 \\\\\n",
       "\t26 & EQ2-CH3-d=[20,30,40]-ensemble & TEST-d=100 & 68.0 & 78.6 & 57.9 & 0.707866 & 2021-01-18T19:05:16.75 \\\\\n",
       "\t27 & EQ2-CH3-d=[10,15,20]-ensemble & TEST-d=20 & 95.6 & 91.0 & 2.5 & 0.0540746 & 2021-01-19T15:52:24.794 \\\\\n",
       "\t28 & EQ2-CH3-d=[20,30,40]-ensemble & TEST-d=15 & 94.3 & 90.5 & 2.1 & 0.0377656 & 2021-01-19T15:52:27.711 \\\\\n",
       "\t29 & EQ2-CH3-d=[20,30,40]-ensemble & TEST-d=10 & 88.8 & 91.3 & 1.9 & 0.1253 & 2021-01-19T15:52:26.949 \\\\\n",
       "\t30 & EQ2-ERSF-k1-d=15-ensemble & TEST-d=30 & 59.9 & 84.6 & 21.1 & 0.174039 & 2021-01-19T19:39:56.87 \\\\\n",
       "\t$\\dots$ & $\\dots$ & $\\dots$ & $\\dots$ & $\\dots$ & $\\dots$ & $\\dots$ & $\\dots$ \\\\\n",
       "\\end{tabular}\n"
      ],
      "text/plain": [
       "\u001b[1m58×7 DataFrame\u001b[0m\n",
       "\u001b[1m Row \u001b[0m│\u001b[1m expID                         \u001b[0m\u001b[1m testID                   \u001b[0m\u001b[1m prec    \u001b[0m\u001b[1m recall  \u001b[0m\u001b[1m shd     \u001b[0m\u001b[1m time      \u001b[0m\u001b[1m date                    \u001b[0m\n",
       "\u001b[1m     \u001b[0m│\u001b[90m String                        \u001b[0m\u001b[90m String                   \u001b[0m\u001b[90m Float64 \u001b[0m\u001b[90m Float64 \u001b[0m\u001b[90m Float64 \u001b[0m\u001b[90m Float64   \u001b[0m\u001b[90m DateTime…               \u001b[0m\n",
       "─────┼────────────────────────────────────────────────────────────────────────────────────────────────────────────────────────\n",
       "   1 │ EQ2-CH3-d=[10,15,20]-ensemble  TEST-d=100                   51.2     68.9     96.0  0.756428   2021-01-18T19:05:04.719\n",
       "   2 │ EQ2-ERSF124-d=10-ensemble      TEST-types=(:ER, :SF)        96.6     96.5      0.6  0.129525   2021-01-18T19:35:04.017\n",
       "   3 │ EQ2-ERSF-k1-d=10-ensemble      TEST-d=10-noise=Poisson      97.3     93.2      0.9  1.39035    2021-01-09T19:40:43.926\n",
       "   4 │ EQ2-ERSF-k1-d=10-ensemble      TEST-d=100                   20.3     23.5    168.0  0.810716   2021-01-19T19:39:49.475\n",
       "   5 │ EQ2-CH3-d=[20,30,40]-ensemble  TEST-d=20                    94.4     89.0      3.1  0.0646795  2021-01-19T15:52:29.252\n",
       "   6 │ EQ2-ERSF-k1-d=20-ensemble      TEST-d=20                    97.1     88.7      2.7  0.0660293  2021-01-19T19:40:48.979\n",
       "   7 │ EQ2-ERSF-k1-d=10-ensemble      TEST-d=10                    97.6     93.5      0.8  1.34985    2021-01-19T19:38:54.667\n",
       "   8 │ EQ2-ERSF-k1-d=10-ensemble      TEST-d=40                    33.0     49.3     59.2  0.455788   2021-01-19T19:39:11.992\n",
       "   9 │ EQ2-CH3-d=[20,30,40]-ensemble  TEST-d=30                    94.0     88.5      5.0  0.124051   2021-01-19T15:55:00.486\n",
       "  10 │ EQ2-CH3-d=[10,15,20]-ensemble  TEST-d=15                    96.2     91.7      1.7  0.259876   2021-01-19T15:52:23.442\n",
       "  11 │ EQ2-ERSF-k1-d=10-ensemble      TEST-d=10-noise=Gaussian     97.5     93.5      0.8  0.0262903  2021-01-09T19:44:11.262\n",
       "  ⋮  │               ⋮                           ⋮                 ⋮        ⋮        ⋮         ⋮                 ⋮\n",
       "  49 │ EQ2-ERSF-k1-d=50-ensemble      TEST-d=50-noise=Exp          91.1     84.4     11.7  1.46738    2021-01-09T19:42:47.684\n",
       "  50 │ EQ2-ERSF124-d=10-ensemble      TEST-types=(:ER4, :SF4)      76.0     83.1     12.0  0.0855896  2021-01-18T19:35:07.707\n",
       "  51 │ EQ2-ERSF-k1-d=20-ensemble      TEST-d=80                    43.3     72.4     97.0  1.16747    2021-01-19T19:41:22.606\n",
       "  52 │ EQ2-CH3-d=[10,15,20]-ensemble  TEST-d=50                    76.6     83.9     20.5  2.77249    2021-01-18T18:35:17.753\n",
       "  53 │ EQ2-ERSF-k1-d=10-ensemble      TEST-d=15                    81.3     91.9      4.2  0.229656   2021-01-19T19:38:59.368\n",
       "  54 │ EQ2-ERSF-k1-d=10-ensemble      TEST-d=50                    28.0     39.9     80.2  0.18474    2021-01-19T19:39:15.575\n",
       "  55 │ EQ2-ERSF-k1-d=50-ensemble      TEST-d=50-noise=Gumbel       91.3     84.0     11.8  1.45608    2021-01-09T19:43:17.526\n",
       "  56 │ EQ2-CH3-d=[10,15,20]-ensemble  TEST-d=10                    96.7     93.7      0.9  0.0220671  2021-01-19T15:52:04.156\n",
       "  57 │ EQ2-ERSF-k1-d=10-ensemble      TEST-d=20                    63.4     85.2     12.3  0.0632361  2021-01-19T19:39:00.941\n",
       "  58 │ EQ2-ERSF-k1-d=20-ensemble      TEST-d=20-noise=Poisson      96.9     88.4      2.8  0.180049   2021-01-09T19:41:18.954\n",
       "\u001b[31m                                                                                                               37 rows omitted\u001b[0m"
      ]
     },
     "execution_count": 66,
     "metadata": {},
     "output_type": "execute_result"
    }
   ],
   "source": [
    "df"
   ]
  },
  {
   "cell_type": "markdown",
   "metadata": {},
   "source": [
    "# ERSF individual"
   ]
  },
  {
   "cell_type": "code",
   "execution_count": 47,
   "metadata": {},
   "outputs": [
    {
     "data": {
      "text/html": [
       "<table class=\"data-frame\"><thead><tr><th></th><th>testID</th><th>prec</th><th>recall</th><th>shd</th></tr><tr><th></th><th>String</th><th>Float64</th><th>Float64</th><th>Float64</th></tr></thead><tbody><p>3 rows × 4 columns</p><tr><th>1</th><td>TEST-types=(:ER, :SF)</td><td>96.6</td><td>96.5</td><td>0.6</td></tr><tr><th>2</th><td>TEST-types=(:ER2, :SF2)</td><td>79.5</td><td>81.0</td><td>6.7</td></tr><tr><th>3</th><td>TEST-types=(:ER4, :SF4)</td><td>76.0</td><td>83.1</td><td>12.0</td></tr></tbody></table>"
      ],
      "text/latex": [
       "\\begin{tabular}{r|cccc}\n",
       "\t& testID & prec & recall & shd\\\\\n",
       "\t\\hline\n",
       "\t& String & Float64 & Float64 & Float64\\\\\n",
       "\t\\hline\n",
       "\t1 & TEST-types=(:ER, :SF) & 96.6 & 96.5 & 0.6 \\\\\n",
       "\t2 & TEST-types=(:ER2, :SF2) & 79.5 & 81.0 & 6.7 \\\\\n",
       "\t3 & TEST-types=(:ER4, :SF4) & 76.0 & 83.1 & 12.0 \\\\\n",
       "\\end{tabular}\n"
      ],
      "text/plain": [
       "\u001b[1m3×4 DataFrame\u001b[0m\n",
       "\u001b[1m Row \u001b[0m│\u001b[1m testID                  \u001b[0m\u001b[1m prec    \u001b[0m\u001b[1m recall  \u001b[0m\u001b[1m shd     \u001b[0m\n",
       "\u001b[1m     \u001b[0m│\u001b[90m String                  \u001b[0m\u001b[90m Float64 \u001b[0m\u001b[90m Float64 \u001b[0m\u001b[90m Float64 \u001b[0m\n",
       "─────┼────────────────────────────────────────────────────\n",
       "   1 │ TEST-types=(:ER, :SF)       96.6     96.5      0.6\n",
       "   2 │ TEST-types=(:ER2, :SF2)     79.5     81.0      6.7\n",
       "   3 │ TEST-types=(:ER4, :SF4)     76.0     83.1     12.0"
      ]
     },
     "execution_count": 47,
     "metadata": {},
     "output_type": "execute_result"
    }
   ],
   "source": [
    "df0 = df[df.expID .== \"EQ2-ERSF124-d=10-ensemble\",[:testID, :prec, :recall, :shd]]"
   ]
  },
  {
   "cell_type": "code",
   "execution_count": 39,
   "metadata": {},
   "outputs": [
    {
     "data": {
      "text/latex": [
       "\\begin{tabular}{cccc}\n",
       "testID & prec & recall & shd\\\\\n",
       "TEST-types=(:ER, :SF) & 96.6 & 96.5 & 0.6\\\\\n",
       "TEST-types=(:ER2, :SF2) & 79.5 & 81.0 & 6.7\\\\\n",
       "TEST-types=(:ER4, :SF4) & 76.0 & 83.1 & 12.0\\\\\n",
       "\\end{tabular}\n"
      ],
      "text/plain": [
       "L\"\\begin{tabular}{cccc}\n",
       "testID & prec & recall & shd\\\\\n",
       "TEST-types=(:ER, :SF) & 96.6 & 96.5 & 0.6\\\\\n",
       "TEST-types=(:ER2, :SF2) & 79.5 & 81.0 & 6.7\\\\\n",
       "TEST-types=(:ER4, :SF4) & 76.0 & 83.1 & 12.0\\\\\n",
       "\\end{tabular}\n",
       "\""
      ]
     },
     "execution_count": 39,
     "metadata": {},
     "output_type": "execute_result"
    }
   ],
   "source": [
    "latexify(df0; env=:table, latex=false)"
   ]
  },
  {
   "cell_type": "code",
   "execution_count": 40,
   "metadata": {},
   "outputs": [
    {
     "data": {
      "text/html": [
       "<table class=\"data-frame\"><thead><tr><th></th><th>testID</th><th>prec</th><th>recall</th><th>shd</th></tr><tr><th></th><th>String</th><th>Float64</th><th>Float64</th><th>Float64</th></tr></thead><tbody><p>3 rows × 4 columns</p><tr><th>1</th><td>TEST-types=(:ER4, :SF4)</td><td>72.7</td><td>35.1</td><td>53.1</td></tr><tr><th>2</th><td>TEST-types=(:ER, :SF)</td><td>97.3</td><td>91.7</td><td>2.1</td></tr><tr><th>3</th><td>TEST-types=(:ER2, :SF2)</td><td>85.9</td><td>58.2</td><td>19.0</td></tr></tbody></table>"
      ],
      "text/latex": [
       "\\begin{tabular}{r|cccc}\n",
       "\t& testID & prec & recall & shd\\\\\n",
       "\t\\hline\n",
       "\t& String & Float64 & Float64 & Float64\\\\\n",
       "\t\\hline\n",
       "\t1 & TEST-types=(:ER4, :SF4) & 72.7 & 35.1 & 53.1 \\\\\n",
       "\t2 & TEST-types=(:ER, :SF) & 97.3 & 91.7 & 2.1 \\\\\n",
       "\t3 & TEST-types=(:ER2, :SF2) & 85.9 & 58.2 & 19.0 \\\\\n",
       "\\end{tabular}\n"
      ],
      "text/plain": [
       "\u001b[1m3×4 DataFrame\u001b[0m\n",
       "\u001b[1m Row \u001b[0m│\u001b[1m testID                  \u001b[0m\u001b[1m prec    \u001b[0m\u001b[1m recall  \u001b[0m\u001b[1m shd     \u001b[0m\n",
       "\u001b[1m     \u001b[0m│\u001b[90m String                  \u001b[0m\u001b[90m Float64 \u001b[0m\u001b[90m Float64 \u001b[0m\u001b[90m Float64 \u001b[0m\n",
       "─────┼────────────────────────────────────────────────────\n",
       "   1 │ TEST-types=(:ER4, :SF4)     72.7     35.1     53.1\n",
       "   2 │ TEST-types=(:ER, :SF)       97.3     91.7      2.1\n",
       "   3 │ TEST-types=(:ER2, :SF2)     85.9     58.2     19.0"
      ]
     },
     "execution_count": 40,
     "metadata": {},
     "output_type": "execute_result"
    }
   ],
   "source": [
    "df0 = df[df.expID .== \"EQ2-ERSF124-d=20-ensemble\",[:testID, :prec, :recall, :shd]]"
   ]
  },
  {
   "cell_type": "code",
   "execution_count": 41,
   "metadata": {},
   "outputs": [
    {
     "data": {
      "text/latex": [
       "\\begin{tabular}{cccc}\n",
       "testID & prec & recall & shd\\\\\n",
       "TEST-types=(:ER4, :SF4) & 72.7 & 35.1 & 53.1\\\\\n",
       "TEST-types=(:ER, :SF) & 97.3 & 91.7 & 2.1\\\\\n",
       "TEST-types=(:ER2, :SF2) & 85.9 & 58.2 & 19.0\\\\\n",
       "\\end{tabular}\n"
      ],
      "text/plain": [
       "L\"\\begin{tabular}{cccc}\n",
       "testID & prec & recall & shd\\\\\n",
       "TEST-types=(:ER4, :SF4) & 72.7 & 35.1 & 53.1\\\\\n",
       "TEST-types=(:ER, :SF) & 97.3 & 91.7 & 2.1\\\\\n",
       "TEST-types=(:ER2, :SF2) & 85.9 & 58.2 & 19.0\\\\\n",
       "\\end{tabular}\n",
       "\""
      ]
     },
     "execution_count": 41,
     "metadata": {},
     "output_type": "execute_result"
    }
   ],
   "source": [
    "latexify(df0; env=:table, latex=false)"
   ]
  },
  {
   "cell_type": "markdown",
   "metadata": {},
   "source": [
    "# Test the ensemble model on unseen d"
   ]
  },
  {
   "cell_type": "code",
   "execution_count": 57,
   "metadata": {},
   "outputs": [
    {
     "data": {
      "text/html": [
       "<table class=\"data-frame\"><thead><tr><th></th><th>testID</th><th>prec</th><th>recall</th><th>shd</th></tr><tr><th></th><th>String</th><th>Float64</th><th>Float64</th><th>Float64</th></tr></thead><tbody><p>8 rows × 4 columns</p><tr><th>1</th><td>TEST-d=100</td><td>51.2</td><td>68.9</td><td>96.0</td></tr><tr><th>2</th><td>TEST-d=30</td><td>91.2</td><td>88.6</td><td>5.8</td></tr><tr><th>3</th><td>TEST-d=40</td><td>83.9</td><td>86.5</td><td>11.8</td></tr><tr><th>4</th><td>TEST-d=80</td><td>59.1</td><td>75.4</td><td>60.8</td></tr><tr><th>5</th><td>TEST-d=15</td><td>96.2</td><td>91.7</td><td>1.7</td></tr><tr><th>6</th><td>TEST-d=50</td><td>76.6</td><td>83.9</td><td>20.5</td></tr><tr><th>7</th><td>TEST-d=20</td><td>95.6</td><td>91.0</td><td>2.5</td></tr><tr><th>8</th><td>TEST-d=10</td><td>96.7</td><td>93.7</td><td>0.9</td></tr></tbody></table>"
      ],
      "text/latex": [
       "\\begin{tabular}{r|cccc}\n",
       "\t& testID & prec & recall & shd\\\\\n",
       "\t\\hline\n",
       "\t& String & Float64 & Float64 & Float64\\\\\n",
       "\t\\hline\n",
       "\t1 & TEST-d=100 & 51.2 & 68.9 & 96.0 \\\\\n",
       "\t2 & TEST-d=30 & 91.2 & 88.6 & 5.8 \\\\\n",
       "\t3 & TEST-d=40 & 83.9 & 86.5 & 11.8 \\\\\n",
       "\t4 & TEST-d=80 & 59.1 & 75.4 & 60.8 \\\\\n",
       "\t5 & TEST-d=15 & 96.2 & 91.7 & 1.7 \\\\\n",
       "\t6 & TEST-d=50 & 76.6 & 83.9 & 20.5 \\\\\n",
       "\t7 & TEST-d=20 & 95.6 & 91.0 & 2.5 \\\\\n",
       "\t8 & TEST-d=10 & 96.7 & 93.7 & 0.9 \\\\\n",
       "\\end{tabular}\n"
      ],
      "text/plain": [
       "\u001b[1m8×4 DataFrame\u001b[0m\n",
       "\u001b[1m Row \u001b[0m│\u001b[1m testID     \u001b[0m\u001b[1m prec    \u001b[0m\u001b[1m recall  \u001b[0m\u001b[1m shd     \u001b[0m\n",
       "\u001b[1m     \u001b[0m│\u001b[90m String     \u001b[0m\u001b[90m Float64 \u001b[0m\u001b[90m Float64 \u001b[0m\u001b[90m Float64 \u001b[0m\n",
       "─────┼───────────────────────────────────────\n",
       "   1 │ TEST-d=100     51.2     68.9     96.0\n",
       "   2 │ TEST-d=30      91.2     88.6      5.8\n",
       "   3 │ TEST-d=40      83.9     86.5     11.8\n",
       "   4 │ TEST-d=80      59.1     75.4     60.8\n",
       "   5 │ TEST-d=15      96.2     91.7      1.7\n",
       "   6 │ TEST-d=50      76.6     83.9     20.5\n",
       "   7 │ TEST-d=20      95.6     91.0      2.5\n",
       "   8 │ TEST-d=10      96.7     93.7      0.9"
      ]
     },
     "execution_count": 57,
     "metadata": {},
     "output_type": "execute_result"
    }
   ],
   "source": [
    "df0 = df[df.expID .== \"EQ2-CH3-d=[10,15,20]-ensemble\",[:testID, :prec, :recall, :shd]]"
   ]
  },
  {
   "cell_type": "code",
   "execution_count": 58,
   "metadata": {},
   "outputs": [
    {
     "data": {
      "text/latex": [
       "\\begin{tabular}{cccc}\n",
       "testID & prec & recall & shd\\\\\n",
       "TEST-d=100 & 51.2 & 68.9 & 96.0\\\\\n",
       "TEST-d=30 & 91.2 & 88.6 & 5.8\\\\\n",
       "TEST-d=40 & 83.9 & 86.5 & 11.8\\\\\n",
       "TEST-d=80 & 59.1 & 75.4 & 60.8\\\\\n",
       "TEST-d=15 & 96.2 & 91.7 & 1.7\\\\\n",
       "TEST-d=50 & 76.6 & 83.9 & 20.5\\\\\n",
       "TEST-d=20 & 95.6 & 91.0 & 2.5\\\\\n",
       "TEST-d=10 & 96.7 & 93.7 & 0.9\\\\\n",
       "\\end{tabular}\n"
      ],
      "text/plain": [
       "L\"\\begin{tabular}{cccc}\n",
       "testID & prec & recall & shd\\\\\n",
       "TEST-d=100 & 51.2 & 68.9 & 96.0\\\\\n",
       "TEST-d=30 & 91.2 & 88.6 & 5.8\\\\\n",
       "TEST-d=40 & 83.9 & 86.5 & 11.8\\\\\n",
       "TEST-d=80 & 59.1 & 75.4 & 60.8\\\\\n",
       "TEST-d=15 & 96.2 & 91.7 & 1.7\\\\\n",
       "TEST-d=50 & 76.6 & 83.9 & 20.5\\\\\n",
       "TEST-d=20 & 95.6 & 91.0 & 2.5\\\\\n",
       "TEST-d=10 & 96.7 & 93.7 & 0.9\\\\\n",
       "\\end{tabular}\n",
       "\""
      ]
     },
     "execution_count": 58,
     "metadata": {},
     "output_type": "execute_result"
    }
   ],
   "source": [
    "latexify(df0; env=:table, latex=false)"
   ]
  },
  {
   "cell_type": "code",
   "execution_count": 59,
   "metadata": {},
   "outputs": [
    {
     "data": {
      "text/html": [
       "<table class=\"data-frame\"><thead><tr><th></th><th>testID</th><th>prec</th><th>recall</th><th>shd</th></tr><tr><th></th><th>String</th><th>Float64</th><th>Float64</th><th>Float64</th></tr></thead><tbody><p>8 rows × 4 columns</p><tr><th>1</th><td>TEST-d=20</td><td>94.4</td><td>89.0</td><td>3.1</td></tr><tr><th>2</th><td>TEST-d=30</td><td>94.0</td><td>88.5</td><td>5.0</td></tr><tr><th>3</th><td>TEST-d=50</td><td>90.1</td><td>86.5</td><td>11.3</td></tr><tr><th>4</th><td>TEST-d=100</td><td>68.0</td><td>78.6</td><td>57.9</td></tr><tr><th>5</th><td>TEST-d=40</td><td>93.0</td><td>87.3</td><td>7.6</td></tr><tr><th>6</th><td>TEST-d=15</td><td>94.3</td><td>90.5</td><td>2.1</td></tr><tr><th>7</th><td>TEST-d=80</td><td>76.7</td><td>81.7</td><td>34.2</td></tr><tr><th>8</th><td>TEST-d=10</td><td>88.8</td><td>91.3</td><td>1.9</td></tr></tbody></table>"
      ],
      "text/latex": [
       "\\begin{tabular}{r|cccc}\n",
       "\t& testID & prec & recall & shd\\\\\n",
       "\t\\hline\n",
       "\t& String & Float64 & Float64 & Float64\\\\\n",
       "\t\\hline\n",
       "\t1 & TEST-d=20 & 94.4 & 89.0 & 3.1 \\\\\n",
       "\t2 & TEST-d=30 & 94.0 & 88.5 & 5.0 \\\\\n",
       "\t3 & TEST-d=50 & 90.1 & 86.5 & 11.3 \\\\\n",
       "\t4 & TEST-d=100 & 68.0 & 78.6 & 57.9 \\\\\n",
       "\t5 & TEST-d=40 & 93.0 & 87.3 & 7.6 \\\\\n",
       "\t6 & TEST-d=15 & 94.3 & 90.5 & 2.1 \\\\\n",
       "\t7 & TEST-d=80 & 76.7 & 81.7 & 34.2 \\\\\n",
       "\t8 & TEST-d=10 & 88.8 & 91.3 & 1.9 \\\\\n",
       "\\end{tabular}\n"
      ],
      "text/plain": [
       "\u001b[1m8×4 DataFrame\u001b[0m\n",
       "\u001b[1m Row \u001b[0m│\u001b[1m testID     \u001b[0m\u001b[1m prec    \u001b[0m\u001b[1m recall  \u001b[0m\u001b[1m shd     \u001b[0m\n",
       "\u001b[1m     \u001b[0m│\u001b[90m String     \u001b[0m\u001b[90m Float64 \u001b[0m\u001b[90m Float64 \u001b[0m\u001b[90m Float64 \u001b[0m\n",
       "─────┼───────────────────────────────────────\n",
       "   1 │ TEST-d=20      94.4     89.0      3.1\n",
       "   2 │ TEST-d=30      94.0     88.5      5.0\n",
       "   3 │ TEST-d=50      90.1     86.5     11.3\n",
       "   4 │ TEST-d=100     68.0     78.6     57.9\n",
       "   5 │ TEST-d=40      93.0     87.3      7.6\n",
       "   6 │ TEST-d=15      94.3     90.5      2.1\n",
       "   7 │ TEST-d=80      76.7     81.7     34.2\n",
       "   8 │ TEST-d=10      88.8     91.3      1.9"
      ]
     },
     "execution_count": 59,
     "metadata": {},
     "output_type": "execute_result"
    }
   ],
   "source": [
    "df0 = df[df.expID .== \"EQ2-CH3-d=[20,30,40]-ensemble\",[:testID, :prec, :recall, :shd]]"
   ]
  },
  {
   "cell_type": "code",
   "execution_count": 60,
   "metadata": {},
   "outputs": [
    {
     "data": {
      "text/latex": [
       "\\begin{tabular}{cccc}\n",
       "testID & prec & recall & shd\\\\\n",
       "TEST-d=20 & 94.4 & 89.0 & 3.1\\\\\n",
       "TEST-d=30 & 94.0 & 88.5 & 5.0\\\\\n",
       "TEST-d=50 & 90.1 & 86.5 & 11.3\\\\\n",
       "TEST-d=100 & 68.0 & 78.6 & 57.9\\\\\n",
       "TEST-d=40 & 93.0 & 87.3 & 7.6\\\\\n",
       "TEST-d=15 & 94.3 & 90.5 & 2.1\\\\\n",
       "TEST-d=80 & 76.7 & 81.7 & 34.2\\\\\n",
       "TEST-d=10 & 88.8 & 91.3 & 1.9\\\\\n",
       "\\end{tabular}\n"
      ],
      "text/plain": [
       "L\"\\begin{tabular}{cccc}\n",
       "testID & prec & recall & shd\\\\\n",
       "TEST-d=20 & 94.4 & 89.0 & 3.1\\\\\n",
       "TEST-d=30 & 94.0 & 88.5 & 5.0\\\\\n",
       "TEST-d=50 & 90.1 & 86.5 & 11.3\\\\\n",
       "TEST-d=100 & 68.0 & 78.6 & 57.9\\\\\n",
       "TEST-d=40 & 93.0 & 87.3 & 7.6\\\\\n",
       "TEST-d=15 & 94.3 & 90.5 & 2.1\\\\\n",
       "TEST-d=80 & 76.7 & 81.7 & 34.2\\\\\n",
       "TEST-d=10 & 88.8 & 91.3 & 1.9\\\\\n",
       "\\end{tabular}\n",
       "\""
      ]
     },
     "execution_count": 60,
     "metadata": {},
     "output_type": "execute_result"
    }
   ],
   "source": [
    "latexify(df0; env=:table, latex=false)"
   ]
  },
  {
   "cell_type": "code",
   "execution_count": 69,
   "metadata": {},
   "outputs": [
    {
     "data": {
      "text/html": [
       "<table class=\"data-frame\"><thead><tr><th></th><th>testID</th><th>prec</th><th>recall</th><th>shd</th></tr><tr><th></th><th>String</th><th>Float64</th><th>Float64</th><th>Float64</th></tr></thead><tbody><p>12 rows × 4 columns</p><tr><th>1</th><td>TEST-d=20</td><td>97.1</td><td>88.7</td><td>2.7</td></tr><tr><th>2</th><td>TEST-d=10</td><td>94.2</td><td>33.7</td><td>6.3</td></tr><tr><th>3</th><td>TEST-d=50</td><td>56.9</td><td>83.3</td><td>39.4</td></tr><tr><th>4</th><td>TEST-d=15</td><td>99.0</td><td>75.6</td><td>3.6</td></tr><tr><th>5</th><td>TEST-d=100</td><td>38.9</td><td>66.4</td><td>137.1</td></tr><tr><th>6</th><td>TEST-d=20-noise=Gumbel</td><td>97.0</td><td>88.7</td><td>2.7</td></tr><tr><th>7</th><td>TEST-d=40</td><td>65.6</td><td>87.3</td><td>22.9</td></tr><tr><th>8</th><td>TEST-d=20-noise=Gaussian</td><td>96.9</td><td>88.5</td><td>2.8</td></tr><tr><th>9</th><td>TEST-d=30</td><td>79.2</td><td>89.7</td><td>9.9</td></tr><tr><th>10</th><td>TEST-d=20-noise=Exp</td><td>96.8</td><td>88.2</td><td>2.8</td></tr><tr><th>11</th><td>TEST-d=80</td><td>43.3</td><td>72.4</td><td>97.0</td></tr><tr><th>12</th><td>TEST-d=20-noise=Poisson</td><td>96.9</td><td>88.4</td><td>2.8</td></tr></tbody></table>"
      ],
      "text/latex": [
       "\\begin{tabular}{r|cccc}\n",
       "\t& testID & prec & recall & shd\\\\\n",
       "\t\\hline\n",
       "\t& String & Float64 & Float64 & Float64\\\\\n",
       "\t\\hline\n",
       "\t1 & TEST-d=20 & 97.1 & 88.7 & 2.7 \\\\\n",
       "\t2 & TEST-d=10 & 94.2 & 33.7 & 6.3 \\\\\n",
       "\t3 & TEST-d=50 & 56.9 & 83.3 & 39.4 \\\\\n",
       "\t4 & TEST-d=15 & 99.0 & 75.6 & 3.6 \\\\\n",
       "\t5 & TEST-d=100 & 38.9 & 66.4 & 137.1 \\\\\n",
       "\t6 & TEST-d=20-noise=Gumbel & 97.0 & 88.7 & 2.7 \\\\\n",
       "\t7 & TEST-d=40 & 65.6 & 87.3 & 22.9 \\\\\n",
       "\t8 & TEST-d=20-noise=Gaussian & 96.9 & 88.5 & 2.8 \\\\\n",
       "\t9 & TEST-d=30 & 79.2 & 89.7 & 9.9 \\\\\n",
       "\t10 & TEST-d=20-noise=Exp & 96.8 & 88.2 & 2.8 \\\\\n",
       "\t11 & TEST-d=80 & 43.3 & 72.4 & 97.0 \\\\\n",
       "\t12 & TEST-d=20-noise=Poisson & 96.9 & 88.4 & 2.8 \\\\\n",
       "\\end{tabular}\n"
      ],
      "text/plain": [
       "\u001b[1m12×4 DataFrame\u001b[0m\n",
       "\u001b[1m Row \u001b[0m│\u001b[1m testID                   \u001b[0m\u001b[1m prec    \u001b[0m\u001b[1m recall  \u001b[0m\u001b[1m shd     \u001b[0m\n",
       "\u001b[1m     \u001b[0m│\u001b[90m String                   \u001b[0m\u001b[90m Float64 \u001b[0m\u001b[90m Float64 \u001b[0m\u001b[90m Float64 \u001b[0m\n",
       "─────┼─────────────────────────────────────────────────────\n",
       "   1 │ TEST-d=20                    97.1     88.7      2.7\n",
       "   2 │ TEST-d=10                    94.2     33.7      6.3\n",
       "   3 │ TEST-d=50                    56.9     83.3     39.4\n",
       "   4 │ TEST-d=15                    99.0     75.6      3.6\n",
       "   5 │ TEST-d=100                   38.9     66.4    137.1\n",
       "   6 │ TEST-d=20-noise=Gumbel       97.0     88.7      2.7\n",
       "   7 │ TEST-d=40                    65.6     87.3     22.9\n",
       "   8 │ TEST-d=20-noise=Gaussian     96.9     88.5      2.8\n",
       "   9 │ TEST-d=30                    79.2     89.7      9.9\n",
       "  10 │ TEST-d=20-noise=Exp          96.8     88.2      2.8\n",
       "  11 │ TEST-d=80                    43.3     72.4     97.0\n",
       "  12 │ TEST-d=20-noise=Poisson      96.9     88.4      2.8"
      ]
     },
     "execution_count": 69,
     "metadata": {},
     "output_type": "execute_result"
    }
   ],
   "source": [
    "df0 = df[df.expID .== \"EQ2-ERSF-k1-d=20-ensemble\",[:testID, :prec, :recall, :shd]]"
   ]
  },
  {
   "cell_type": "code",
   "execution_count": 70,
   "metadata": {},
   "outputs": [
    {
     "data": {
      "text/latex": [
       "\\begin{tabular}{cccc}\n",
       "testID & prec & recall & shd\\\\\n",
       "TEST-d=20 & 97.1 & 88.7 & 2.7\\\\\n",
       "TEST-d=10 & 94.2 & 33.7 & 6.3\\\\\n",
       "TEST-d=50 & 56.9 & 83.3 & 39.4\\\\\n",
       "TEST-d=15 & 99.0 & 75.6 & 3.6\\\\\n",
       "TEST-d=100 & 38.9 & 66.4 & 137.1\\\\\n",
       "TEST-d=20-noise=Gumbel & 97.0 & 88.7 & 2.7\\\\\n",
       "TEST-d=40 & 65.6 & 87.3 & 22.9\\\\\n",
       "TEST-d=20-noise=Gaussian & 96.9 & 88.5 & 2.8\\\\\n",
       "TEST-d=30 & 79.2 & 89.7 & 9.9\\\\\n",
       "TEST-d=20-noise=Exp & 96.8 & 88.2 & 2.8\\\\\n",
       "TEST-d=80 & 43.3 & 72.4 & 97.0\\\\\n",
       "TEST-d=20-noise=Poisson & 96.9 & 88.4 & 2.8\\\\\n",
       "\\end{tabular}\n"
      ],
      "text/plain": [
       "L\"\\begin{tabular}{cccc}\n",
       "testID & prec & recall & shd\\\\\n",
       "TEST-d=20 & 97.1 & 88.7 & 2.7\\\\\n",
       "TEST-d=10 & 94.2 & 33.7 & 6.3\\\\\n",
       "TEST-d=50 & 56.9 & 83.3 & 39.4\\\\\n",
       "TEST-d=15 & 99.0 & 75.6 & 3.6\\\\\n",
       "TEST-d=100 & 38.9 & 66.4 & 137.1\\\\\n",
       "TEST-d=20-noise=Gumbel & 97.0 & 88.7 & 2.7\\\\\n",
       "TEST-d=40 & 65.6 & 87.3 & 22.9\\\\\n",
       "TEST-d=20-noise=Gaussian & 96.9 & 88.5 & 2.8\\\\\n",
       "TEST-d=30 & 79.2 & 89.7 & 9.9\\\\\n",
       "TEST-d=20-noise=Exp & 96.8 & 88.2 & 2.8\\\\\n",
       "TEST-d=80 & 43.3 & 72.4 & 97.0\\\\\n",
       "TEST-d=20-noise=Poisson & 96.9 & 88.4 & 2.8\\\\\n",
       "\\end{tabular}\n",
       "\""
      ]
     },
     "execution_count": 70,
     "metadata": {},
     "output_type": "execute_result"
    }
   ],
   "source": [
    "latexify(df0; env=:table, latex=false)"
   ]
  },
  {
   "cell_type": "markdown",
   "metadata": {},
   "source": [
    "# Test on different noise and the tables"
   ]
  },
  {
   "cell_type": "code",
   "execution_count": null,
   "metadata": {},
   "outputs": [],
   "source": [
    "function get_d(s)\n",
    "    # re = r\"d=(\\d+)_k=(\\d+)_gtype=(.*)_noise=(.*)_mat=([^_]*)(_mec=MLP)?(_raw)?\"\n",
    "    re = r\".*d=(\\d+)-ensemble\"\n",
    "    m = match(re, s)\n",
    "    if isnothing(m) @show s end\n",
    "    d = parse(Int, m.captures[1])\n",
    "    return d\n",
    "end"
   ]
  },
  {
   "cell_type": "code",
   "execution_count": null,
   "metadata": {},
   "outputs": [],
   "source": [
    "function get_noise(s)\n",
    "    # re = r\"d=(\\d+)_k=(\\d+)_gtype=(.*)_noise=(.*)_mat=([^_]*)(_mec=MLP)?(_raw)?\"\n",
    "    re = r\".*noise=(.*)\"\n",
    "    m = match(re, s)\n",
    "    if isnothing(m) @show s end\n",
    "    return m.captures[1]\n",
    "end"
   ]
  },
  {
   "cell_type": "code",
   "execution_count": null,
   "metadata": {},
   "outputs": [],
   "source": [
    "# transform this into a new DataFrame\n",
    "df.d = (df[!,\"expID\"] .|> get_d)"
   ]
  },
  {
   "cell_type": "code",
   "execution_count": null,
   "metadata": {},
   "outputs": [],
   "source": [
    "df.test_noise = (df[!,:testID] .|> get_noise)"
   ]
  },
  {
   "cell_type": "code",
   "execution_count": null,
   "metadata": {},
   "outputs": [],
   "source": [
    "[:gaussian for i in 1:size(df)[1]]"
   ]
  },
  {
   "cell_type": "code",
   "execution_count": null,
   "metadata": {},
   "outputs": [],
   "source": [
    "df.train_noise = [\"Gaussian\" for i in 1:size(df)[1]]"
   ]
  },
  {
   "cell_type": "code",
   "execution_count": null,
   "metadata": {},
   "outputs": [],
   "source": [
    "newdf = sort(df[!,All(:d, :train_noise, :test_noise, :prec, :recall, :shd)], [:d, :test_noise])"
   ]
  },
  {
   "cell_type": "code",
   "execution_count": null,
   "metadata": {},
   "outputs": [],
   "source": [
    "latexify(newdf; env=:table, latex=false)"
   ]
  }
 ],
 "metadata": {
  "kernelspec": {
   "display_name": "Julia 1.5.3",
   "language": "julia",
   "name": "julia-1.5"
  },
  "language_info": {
   "file_extension": ".jl",
   "mimetype": "application/julia",
   "name": "julia",
   "version": "1.5.3"
  }
 },
 "nbformat": 4,
 "nbformat_minor": 4
}
