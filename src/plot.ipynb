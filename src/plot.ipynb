{
 "cells": [
  {
   "cell_type": "code",
   "execution_count": null,
   "metadata": {},
   "outputs": [],
   "source": [
    "import os"
   ]
  },
  {
   "cell_type": "code",
   "execution_count": null,
   "metadata": {},
   "outputs": [],
   "source": [
    "import tensorflow as tf"
   ]
  },
  {
   "cell_type": "code",
   "execution_count": null,
   "metadata": {},
   "outputs": [],
   "source": [
    "import sys"
   ]
  },
  {
   "cell_type": "code",
   "execution_count": null,
   "metadata": {},
   "outputs": [],
   "source": [
    "import numpy as np"
   ]
  },
  {
   "cell_type": "code",
   "execution_count": null,
   "metadata": {},
   "outputs": [],
   "source": [
    "import matplotlib.pyplot as plt"
   ]
  },
  {
   "cell_type": "code",
   "execution_count": null,
   "metadata": {},
   "outputs": [],
   "source": [
    "from scipy.interpolate import make_interp_spline, BSpline\n",
    "from scipy.ndimage.filters import gaussian_filter1d"
   ]
  },
  {
   "cell_type": "code",
   "execution_count": null,
   "metadata": {},
   "outputs": [],
   "source": [
    "sys.version"
   ]
  },
  {
   "cell_type": "code",
   "execution_count": null,
   "metadata": {},
   "outputs": [],
   "source": [
    "!pip --version"
   ]
  },
  {
   "cell_type": "markdown",
   "metadata": {},
   "source": [
    "# test"
   ]
  },
  {
   "cell_type": "code",
   "execution_count": null,
   "metadata": {},
   "outputs": [],
   "source": [
    "os.listdir(\"tensorboard_logs\")"
   ]
  },
  {
   "cell_type": "code",
   "execution_count": null,
   "metadata": {},
   "outputs": [],
   "source": [
    "def read_tf_data(model, d):\n",
    "    f = 'tensorboard_logs/test-{}-ERSF-k1-d={}-ensemble'.format(model, d)\n",
    "    # assume only one file in each folder\n",
    "    assert len(os.listdir(f)) == 1\n",
    "    f = os.path.join(f, os.listdir(f)[0])\n",
    "    it = tf.compat.v1.train.summary_iterator(f)\n",
    "    \n",
    "    # the first seems to be a placeholder\n",
    "    first = next(it)\n",
    "    assert first.step == 0\n",
    "    assert len(first.summary.value) == 0\n",
    "\n",
    "    steps = []\n",
    "    precs = []\n",
    "    recalls = []\n",
    "    \n",
    "    for e in it:\n",
    "        v = e.summary.value[0]\n",
    "        if v.tag == 'graph/prec':\n",
    "            steps.append(e.step)\n",
    "            precs.append(v.simple_value)\n",
    "        elif v.tag == 'graph/recall':\n",
    "            recalls.append(v.simple_value)\n",
    "        else:\n",
    "            pass\n",
    "    res = {}\n",
    "    steps = np.array(steps)\n",
    "    precs = np.array(precs)\n",
    "    recalls = np.array(recalls)\n",
    "    res['steps'] = steps\n",
    "    res['precs'] = precs\n",
    "    res['recalls'] = recalls\n",
    "    return res"
   ]
  },
  {
   "cell_type": "code",
   "execution_count": null,
   "metadata": {},
   "outputs": [],
   "source": [
    "fc10 = read_tf_data('FC', 10)"
   ]
  },
  {
   "cell_type": "code",
   "execution_count": null,
   "metadata": {},
   "outputs": [],
   "source": [
    "fc10['steps']"
   ]
  },
  {
   "cell_type": "code",
   "execution_count": null,
   "metadata": {},
   "outputs": [],
   "source": [
    "fc20 = read_tf_data('FC', 20)\n",
    "fc50 = read_tf_data('FC', 50)\n",
    "cnn20 = read_tf_data('CNN', 20)\n",
    "cnn50 = read_tf_data('CNN', 50)\n",
    "eq20 = read_tf_data('EQ2', 20)\n",
    "eq50 = read_tf_data('EQ2', 50)"
   ]
  },
  {
   "cell_type": "code",
   "execution_count": null,
   "metadata": {},
   "outputs": [],
   "source": [
    "# plot it\n",
    "x = np.linspace(steps.min(), steps.max(), 20)\n",
    "spl = make_interp_spline(steps, precs, k=3)  # type: BSpline\n",
    "y = spl(x)\n",
    "\n",
    "plt.plot(x, y)"
   ]
  },
  {
   "cell_type": "code",
   "execution_count": null,
   "metadata": {},
   "outputs": [],
   "source": [
    "def smoothed_plot(ax, x, y, label=''):\n",
    "    xnew = np.linspace(x.min(), x.max(), 100)\n",
    "    spl = make_interp_spline(x, y, k=3)  # type: BSpline\n",
    "    ynew = spl(xnew)\n",
    "    ax.plot(xnew, ynew, label=label)"
   ]
  },
  {
   "cell_type": "code",
   "execution_count": null,
   "metadata": {},
   "outputs": [],
   "source": [
    "def smoothed_plot(ax, x, y, label=''):\n",
    "    ax.plot(x, y, label=label)"
   ]
  },
  {
   "cell_type": "code",
   "execution_count": null,
   "metadata": {},
   "outputs": [],
   "source": [
    "def plot_subfig(ax, d, which, eq, fc, cnn):\n",
    "    # smoothing\n",
    "    smoothed_plot(ax, eq['steps'], eq[which], label='EQ')\n",
    "    smoothed_plot(ax, fc['steps'], fc[which], label='FC')\n",
    "    smoothed_plot(ax, cnn['steps'], cnn[which], label='CNN')\n",
    "    ax.set_xlabel('steps')\n",
    "    ax.set_ylabel(which)\n",
    "    ax.legend()\n",
    "    ax.set_title('{} for d={}'.format(which, d))"
   ]
  },
  {
   "cell_type": "code",
   "execution_count": null,
   "metadata": {},
   "outputs": [],
   "source": [
    "fig, axs = plt.subplots(2,2,figsize=(10,10))\n",
    "plot_subfig(axs[0,0], 20, 'precs', eq20, fc20, cnn20)\n",
    "plot_subfig(axs[0,1], 20, 'recalls', eq20, fc20, cnn20)\n",
    "plot_subfig(axs[1,0], 50, 'precs', eq50, fc50, cnn50)\n",
    "plot_subfig(axs[1,1], 50, 'recalls', eq50, fc50, cnn50)\n",
    "plt.savefig('a.pdf')"
   ]
  },
  {
   "cell_type": "code",
   "execution_count": null,
   "metadata": {},
   "outputs": [],
   "source": []
  }
 ],
 "metadata": {
  "kernelspec": {
   "display_name": "Python 3",
   "language": "python",
   "name": "python3"
  },
  "language_info": {
   "codemirror_mode": {
    "name": "ipython",
    "version": 3
   },
   "file_extension": ".py",
   "mimetype": "text/x-python",
   "name": "python",
   "nbconvert_exporter": "python",
   "pygments_lexer": "ipython3",
   "version": "3.9.1"
  }
 },
 "nbformat": 4,
 "nbformat_minor": 4
}
